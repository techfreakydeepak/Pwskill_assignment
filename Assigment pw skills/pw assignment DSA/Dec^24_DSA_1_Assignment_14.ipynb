{
 "cells": [
  {
   "cell_type": "code",
   "execution_count": 2,
   "id": "b72df102-7066-4e5d-971e-d6ac76139aa8",
   "metadata": {},
   "outputs": [
    {
     "data": {
      "text/plain": [
       "'Dec^24_DSA_1_Assignment_14'"
      ]
     },
     "execution_count": 2,
     "metadata": {},
     "output_type": "execute_result"
    }
   ],
   "source": [
    "'''Dec^24_DSA_1_Assignment_14'''"
   ]
  },
  {
   "cell_type": "code",
   "execution_count": 20,
   "id": "1ccda311-a643-4cf3-a9c2-934ca3324f51",
   "metadata": {},
   "outputs": [
    {
     "name": "stdout",
     "output_type": "stream",
     "text": [
      "1->2->3->4->5->None\n",
      "5->4->3->2->1->"
     ]
    }
   ],
   "source": [
    "'''Problem 1: Reverse a singly linked list.\n",
    "Input: 1 -> 2 -> 3 -> 4 -> 5\n",
    "Output: 5 -> 4 -> 3 -> 2 -> 1'''\n",
    "#Ceate the linked list first\n",
    "class Node:\n",
    "    def __init__(self,data=None,next=None):\n",
    "        self.data = data\n",
    "        self.next = next\n",
    "    def setData(self,data):\n",
    "        self.data=data\n",
    "    def getData(self):\n",
    "        return self.data\n",
    "    def setNext(self,next):\n",
    "        self.next=next\n",
    "    def getNext(self):\n",
    "        return self.next\n",
    "#Create a linked list>>Collection of link Nodes\n",
    "head=Node(1)\n",
    "node2=Node(2)\n",
    "node3=Node(3)\n",
    "node4=Node(4)\n",
    "node5=Node(5)\n",
    "#Create the linkage\n",
    "head.setNext(node2)\n",
    "node2.setNext(node3)\n",
    "node3.setNext(node4)\n",
    "node4.setNext(node5)\n",
    "\n",
    "#Traverse through the linked list\n",
    "def traverse(head):\n",
    "    temp=head\n",
    "    while(temp):\n",
    "        print(temp.getData(),end=\"->\")\n",
    "        temp=temp.getNext()\n",
    "#Reverse the Linked_List: (1->2->3->4->5->)\n",
    "def reverse_linked_list(head):\n",
    "    current = head\n",
    "    previous = None\n",
    "\n",
    "    while current is not None:\n",
    "        next_node = current.next\n",
    "        current.next = previous\n",
    "        previous = current\n",
    "        current = next_node\n",
    "\n",
    "    head = previous\n",
    "    return head\n",
    "print(traverse(head))\n",
    "#Reverse the linked list\n",
    "reversed_head = reverse_linked_list(head)\n",
    "#Traverse through the reversed linked list\n",
    "traverse(reversed_head)"
   ]
  },
  {
   "cell_type": "code",
   "execution_count": 13,
   "id": "029af87d-a321-4db1-8d6e-52b76ec5bda6",
   "metadata": {},
   "outputs": [
    {
     "name": "stdout",
     "output_type": "stream",
     "text": [
      "1->2->3->4->5->6->None\n"
     ]
    }
   ],
   "source": [
    "'''\n",
    "Problem 2: Merge two sorted linked lists into one sorted linked list.\n",
    "Input: List 1: 1 -> 3 -> 5, List 2: 2 -> 4 -> 6\n",
    "Output: 1 -> 2 -> 3 -> 4 -> 5 -> 6\n",
    "'''\n",
    "class Node:\n",
    "    def __init__(self,data=None,next=None):\n",
    "        self.data=data\n",
    "        self.next=next\n",
    "def merged_lists(head1,head2):\n",
    "    dummy=Node()\n",
    "    tail=dummy\n",
    "    while head1 and head2:\n",
    "        if head1.data<=head2.data:\n",
    "            tail.next=head1\n",
    "            head1=head1.next\n",
    "        else:\n",
    "            tail.next=head2\n",
    "            head2=head2.next\n",
    "        tail=tail.next\n",
    "    if head1:\n",
    "        tail.next=head1\n",
    "    else:\n",
    "        tail.next=head2\n",
    "    return dummy.next\n",
    "head1=Node(1)\n",
    "head1.next=Node(3)\n",
    "head1.next.next=Node(5)\n",
    "\n",
    "head2=Node(2)\n",
    "head2.next=Node(4)\n",
    "head2.next.next=Node(6)\n",
    "merged_head=merged_lists(head1,head2)\n",
    "#Traverse through the merged list:\n",
    "temp=merged_head\n",
    "while temp:\n",
    "    print(temp.data,end=\"->\")\n",
    "    temp=temp.next\n",
    "print(\"None\")"
   ]
  },
  {
   "cell_type": "code",
   "execution_count": 22,
   "id": "2d795b06-f2e9-4ba8-b382-985d57993b25",
   "metadata": {},
   "outputs": [
    {
     "name": "stdout",
     "output_type": "stream",
     "text": [
      "1->2->3->4->5->None\n",
      "1->2->3->5->"
     ]
    }
   ],
   "source": [
    "'''Problem 3: Remove the nth node from the end of a linked list.\n",
    "Input: 1 -> 2 -> 3 -> 4 -> 5, n = 2\n",
    "Output: 1 -> 2 -> 3 -> 5'''\n",
    "class Node:\n",
    "    def __init__(self,data=None,next=None):\n",
    "        self.data=data\n",
    "        self.next=next\n",
    "def RemoveNthFromEnd(head,n):\n",
    "    dummy=Node(0)\n",
    "    dummy.next=head\n",
    "    fast=slow=dummy\n",
    "    \n",
    "    for i in range(n):\n",
    "        fast=fast.next\n",
    "        \n",
    "    while fast.next:\n",
    "        fast=fast.next\n",
    "        slow=slow.next\n",
    "        \n",
    "    slow.next=slow.next.next\n",
    "    return dummy.next\n",
    "head=Node(1)\n",
    "node2=Node(2)\n",
    "node3=Node(3)\n",
    "node4=Node(4)\n",
    "node5=Node(5)\n",
    "\n",
    "head.next=node2\n",
    "node2.next=node3\n",
    "node3.next=node4\n",
    "node4.next=node5\n",
    "#Traverse through the LL\n",
    "def traverse(head):\n",
    "    temp=head\n",
    "    while temp:\n",
    "        print(temp.data,end=\"->\")\n",
    "        temp=temp.next\n",
    "print(traverse(head))\n",
    "traverse(RemoveNthFromEnd(head,2))"
   ]
  },
  {
   "cell_type": "code",
   "execution_count": 1,
   "id": "fd81ecb6-00c4-4485-b78e-b64faa8cfd3f",
   "metadata": {},
   "outputs": [
    {
     "name": "stdout",
     "output_type": "stream",
     "text": [
      "1->2->3->4->LL1 None\n",
      "9->8->3->4->LL2 None\n",
      "Node with value: 3, is Common or intersecting Node\n"
     ]
    }
   ],
   "source": [
    "'''Problem 4: Find the intersection point of two linked lists.\n",
    "Input: List 1: 1 -> 2 -> 3 -> 4, List 2: 9 -> 8 -> 3 -> 4\n",
    "Output: Node with value 3'''\n",
    "\n",
    "class Node:\n",
    "    def __init__(self,data=None,next=None):\n",
    "        self.data=data\n",
    "        self.next=next\n",
    "def FindIntersectingNode(head1,head2):\n",
    "    if not head1 or not head2:\n",
    "        return None\n",
    "    #Find the length\n",
    "    curr1,curr2=head1,head2\n",
    "    len1,len2=0,0\n",
    "    while curr1:\n",
    "        len1+=1\n",
    "        curr1=curr1.next\n",
    "    while curr2:\n",
    "        len2+=1\n",
    "        curr2=curr2.next\n",
    "    #adjusting the head of longerLL\n",
    "    while len1>len2:\n",
    "        head1=head1.next\n",
    "        len1-=1\n",
    "    while len1<len2:\n",
    "        head2=head2.next\n",
    "        len2-=1\n",
    "    #move both pointer untill they meet at intersection\n",
    "    while head1!=head2:\n",
    "        head1=head1.next\n",
    "        head2=head2.next\n",
    "    return head1\n",
    "#If wants to know the link or view\n",
    "def traverse(head):\n",
    "    temp=head\n",
    "    while temp:\n",
    "        print(temp.data,end=\"->\")\n",
    "        temp=temp.next\n",
    "#creating the collection of Nodes for LL1\n",
    "head1=Node(1)\n",
    "node2=Node(2)\n",
    "node3=Node(3)\n",
    "node4=Node(4)\n",
    "#Creating the collection of Nodes for LL2\n",
    "head2=Node(9)\n",
    "node_2=Node(8)\n",
    "#Creating the linkage for LL1\n",
    "head1.next=node2\n",
    "node2.next=node3\n",
    "node3.next=node4\n",
    "#Creating the linkage for LL2\n",
    "head2.next=node_2\n",
    "node_2.next=node3\n",
    "\n",
    "#Traverse the both LL\n",
    "print(\"LL1\",traverse(head1))\n",
    "print(\"LL2\",traverse(head2))\n",
    "#Driver code\n",
    "Intersected_node=FindIntersectingNode(head1,head2)\n",
    "print(f\"Node with value: {Intersected_node.data}, is Common or intersecting Node\")"
   ]
  },
  {
   "cell_type": "code",
   "execution_count": 13,
   "id": "14220885-6a96-4f5e-b6f1-12a307e98289",
   "metadata": {},
   "outputs": [
    {
     "name": "stdout",
     "output_type": "stream",
     "text": [
      "1->1->2->3->3->None\n",
      "1->2->3->"
     ]
    }
   ],
   "source": [
    "'''Problem 5: Remove duplicates from a sorted linked list.\n",
    "Input: 1 -> 1 -> 2 -> 3 -> 3\n",
    "Output: 1 -> 2 -> 3'''\n",
    "class Node:\n",
    "    def __init__(self,data=None,next=None):\n",
    "        self.data=data\n",
    "        self.next=next\n",
    "def RemoveDup(head):\n",
    "    if not head:\n",
    "        return head\n",
    "    #initialise the current\n",
    "    current=head\n",
    "    #Check if there is any other element in the LL\n",
    "    while current.next:\n",
    "        if current.data==current.next.data:\n",
    "            current.next=current.next.next\n",
    "        else:\n",
    "            current=current.next\n",
    "\n",
    "    return head\n",
    "#Traverse the linked list\n",
    "def traverse(head):\n",
    "    temp=head\n",
    "    while temp:\n",
    "        print(temp.data,end=\"->\")\n",
    "        temp=temp.next\n",
    "\n",
    "#Create the collection of node or LL\n",
    "head=Node(1)\n",
    "node2=Node(1)\n",
    "node3=Node(2)\n",
    "node4=Node(3)\n",
    "node5=Node(3)\n",
    "#Creating the linkage:\n",
    "head.next=node2\n",
    "node2.next=node3\n",
    "node3.next=node4\n",
    "node4.next=node5\n",
    "\n",
    "#Traverse the LL\n",
    "print(traverse(head))\n",
    "#remove the duplicate\n",
    "removed_head=RemoveDup(head)\n",
    "traverse(removed_head)"
   ]
  },
  {
   "cell_type": "code",
   "execution_count": 20,
   "id": "a60271a9-bedd-431e-b88c-59cf1456776f",
   "metadata": {},
   "outputs": [
    {
     "name": "stdout",
     "output_type": "stream",
     "text": [
      "7 -> 0 -> 8 -> None\n"
     ]
    }
   ],
   "source": [
    "'''Problem 6: Add two numbers represented by linked lists (where each node contains a single digit).\n",
    "Input: List 1: 2 -> 4 -> 3, List 2: 5 -> 6 -> 4 (represents 342 + 465)\n",
    "Output: 7 -> 0 -> 8 (represents 807)'''\n",
    "class Node:\n",
    "    def __init__(self, data=None, next=None):\n",
    "        self.data = data\n",
    "        self.next = next\n",
    "\n",
    "def addTwoNumbers(head1, head2):\n",
    "    dummy = Node()\n",
    "    current = dummy\n",
    "    carry = 0\n",
    "    \n",
    "    while head1 or head2 or carry:\n",
    "        sum = carry\n",
    "        \n",
    "        if head1:\n",
    "            sum += head1.data\n",
    "            head1 = head1.next\n",
    "        \n",
    "        if head2:\n",
    "            sum += head2.data\n",
    "            head2 = head2.next\n",
    "        \n",
    "        carry = sum // 10\n",
    "        current.next = Node(sum % 10)\n",
    "        current = current.next\n",
    "    \n",
    "    return dummy.next\n",
    "\n",
    "# Creating the first linked list\n",
    "head1 = Node(2)\n",
    "node2 = Node(4)\n",
    "node3 = Node(3)\n",
    "head1.next = node2\n",
    "node2.next = node3\n",
    "\n",
    "# Creating the second linked list\n",
    "head2 = Node(5)\n",
    "node4 = Node(6)\n",
    "node5 = Node(4)\n",
    "head2.next = node4\n",
    "node4.next = node5\n",
    "\n",
    "# Calling the addTwoNumbers function\n",
    "result = addTwoNumbers(head1, head2)\n",
    "\n",
    "# Printing the sum as a linked list\n",
    "current = result\n",
    "while current:\n",
    "    print(current.data, end=\" -> \")\n",
    "    current = current.next\n",
    "print(\"None\")"
   ]
  },
  {
   "cell_type": "code",
   "execution_count": 6,
   "id": "5e71eabc-c5d0-440a-bef0-bfbf110ef914",
   "metadata": {},
   "outputs": [
    {
     "name": "stdout",
     "output_type": "stream",
     "text": [
      "1->2->3->4->None\n",
      "2->1->4->3->None\n"
     ]
    }
   ],
   "source": [
    "'''\n",
    "Problem 7: Swap nodes in pairs in a linked list.\n",
    "Input: 1 -> 2 -> 3 -> 4\n",
    "Output: 2 -> 1 -> 4 -> 3\n",
    "'''\n",
    "class Node:\n",
    "    def __init__(self, data=0, next=None):\n",
    "        self.data = data\n",
    "        self.next = next\n",
    "\n",
    "def SwapPairs(head):\n",
    "    dummy=Node(0)\n",
    "    dummy.next=head\n",
    "    current=dummy\n",
    "    \n",
    "    #check is there atleast two element after dummy\n",
    "    while current.next and current.next.next:\n",
    "        first=current.next\n",
    "        second=current.next.next\n",
    "        \n",
    "        #swappin the pairs\n",
    "        first.next=second.next\n",
    "        second.next=first\n",
    "        current.next=second\n",
    "        \n",
    "        current=current.next.next\n",
    "    return dummy.next\n",
    "def travers(head):\n",
    "    temp=head\n",
    "    while temp:\n",
    "        print(temp.data,end=\"->\")\n",
    "        temp=temp.next\n",
    "\n",
    "#Create the collection of nodes\n",
    "head=Node(1)\n",
    "node2=Node(2)\n",
    "node3=Node(3)\n",
    "node4=Node(4)\n",
    "#Create linkage\n",
    "head.next=node2\n",
    "node2.next=node3\n",
    "node3.next=node4\n",
    "print(travers(head))\n",
    "Swaped_head=SwapPairs(head)\n",
    "print(travers(Swaped_head))"
   ]
  },
  {
   "cell_type": "code",
   "execution_count": 11,
   "id": "40690d10-968c-43b7-babe-ce06f4478e69",
   "metadata": {},
   "outputs": [
    {
     "name": "stdout",
     "output_type": "stream",
     "text": [
      "1->2->3->4->5->None\n",
      "3->2->1->4->5->None\n"
     ]
    }
   ],
   "source": [
    "'''Problem 8: Reverse nodes in a linked list in groups of k.\n",
    "Input: 1 -> 2 -> 3 -> 4 -> 5, k = 3\n",
    "Output: 3 -> 2 -> 1 -> 4 -> 5'''\n",
    "class Node:\n",
    "    def __init__(self, data=0, next=None):\n",
    "        self.data = data\n",
    "        self.next = next\n",
    "\n",
    "def reverseKGroup(head, k):\n",
    "    if not head or k == 1:\n",
    "        return head\n",
    "    \n",
    "    dummy = Node(0)\n",
    "    dummy.next = head\n",
    "    prev = dummy\n",
    "    curr = head\n",
    "    count = 0\n",
    "    \n",
    "    while curr:\n",
    "        count += 1\n",
    "        if count % k == 0:\n",
    "            prev = reverse(prev, curr.next)\n",
    "            curr = prev.next\n",
    "        else:\n",
    "            curr = curr.next\n",
    "    \n",
    "    return dummy.next\n",
    "\n",
    "def reverse(prev, next):\n",
    "    last = prev.next\n",
    "    curr = last.next\n",
    "    \n",
    "    while curr != next:\n",
    "        last.next = curr.next\n",
    "        curr.next = prev.next\n",
    "        prev.next = curr\n",
    "        curr = last.next\n",
    "    \n",
    "    return last\n",
    "def travers(head):\n",
    "    temp=head\n",
    "    while temp:\n",
    "        print(temp.data,end=\"->\")\n",
    "        temp=temp.next\n",
    "\n",
    "#Collection of nodes:\n",
    "head = Node(1)\n",
    "node2= Node(2)\n",
    "node3 = Node(3)\n",
    "node4 = Node(4)\n",
    "node5 = Node(5)\n",
    "#Linkage\n",
    "head.next=node2\n",
    "node2.next=node3\n",
    "node3.next=node4\n",
    "node4.next=node5\n",
    "#Traverse the Original LL\n",
    "print(travers(head))\n",
    "\n",
    "#Driver code\n",
    "k = 3\n",
    "reversed_head = reverseKGroup(head, k)\n",
    "#Printing the reversed linked list\n",
    "print(travers(reversed_head))"
   ]
  },
  {
   "cell_type": "code",
   "execution_count": 12,
   "id": "9844ecef-18d6-43af-86cd-2922b485eb9f",
   "metadata": {},
   "outputs": [
    {
     "name": "stdout",
     "output_type": "stream",
     "text": [
      "1->2->2->1->None\n"
     ]
    },
    {
     "data": {
      "text/plain": [
       "True"
      ]
     },
     "execution_count": 12,
     "metadata": {},
     "output_type": "execute_result"
    }
   ],
   "source": [
    "'''Problem 9: Determine if a linked list is a palindrome.\n",
    "Input: 1 -> 2 -> 2 -> 1\n",
    "Output: True'''\n",
    "class Node:\n",
    "    def __init__(self, data=0, next=None):\n",
    "        self.data = data\n",
    "        self.next = next\n",
    "\n",
    "def isPalindrome(head):\n",
    "    # Store the values of each node in a list\n",
    "    values = []\n",
    "    current = head\n",
    "    while current:\n",
    "        values.append(current.data)\n",
    "        current = current.next\n",
    "    \n",
    "    # Use two pointers to compare values\n",
    "    left = 0\n",
    "    right = len(values) - 1\n",
    "    while left < right:\n",
    "        if values[left] != values[right]:\n",
    "            return False\n",
    "        left += 1\n",
    "        right -= 1\n",
    "    \n",
    "    return True\n",
    "def travers(head):\n",
    "    temp=head\n",
    "    while temp:\n",
    "        print(temp.data,end=\"->\")\n",
    "        temp=temp.next\n",
    "#Collection of nodes:\n",
    "head = Node(1)\n",
    "node2= Node(2)\n",
    "node3 = Node(2)\n",
    "node4 = Node(1)\n",
    "#Linkage\n",
    "head.next=node2\n",
    "node2.next=node3\n",
    "node3.next=node4\n",
    "print(travers(head))\n",
    "isPalindrome(head)"
   ]
  },
  {
   "cell_type": "code",
   "execution_count": 21,
   "id": "0ed90d32-f91e-40b0-98be-d4be9a3f96cd",
   "metadata": {},
   "outputs": [
    {
     "name": "stdout",
     "output_type": "stream",
     "text": [
      "1->2->3->4->5->None\n",
      "4->5->1->2->3->None\n"
     ]
    }
   ],
   "source": [
    "'''Problem 10: Rotate a linked list to the right by k places.\n",
    "Input: 1 -> 2 -> 3 -> 4 -> 5, k = 2\n",
    "Output: 4 -> 5 -> 1 -> 2 -> 3'''\n",
    "class Node:\n",
    "    def __init__(self, data=None, next=None):\n",
    "        self.data = data\n",
    "        self.next = next\n",
    "\n",
    "def rotateRight(head, k):\n",
    "    if not head or not head.next or k == 0:\n",
    "        return head\n",
    "    \n",
    "    # Find the length of the linked list\n",
    "    length = 1\n",
    "    tail = head\n",
    "    while tail.next:\n",
    "        tail = tail.next\n",
    "        length += 1\n",
    "    \n",
    "    # Calculate the actual rotation index\n",
    "    rotation_index = k % length\n",
    "    if rotation_index == 0:\n",
    "        return head\n",
    "    \n",
    "    # Find the node before the new tail\n",
    "    new_tail_index = length - rotation_index - 1\n",
    "    new_tail = head\n",
    "    for _ in range(new_tail_index):\n",
    "        new_tail = new_tail.next\n",
    "    \n",
    "    # Perform the rotation\n",
    "    new_head = new_tail.next\n",
    "    new_tail.next = None\n",
    "    tail.next = head\n",
    "    \n",
    "    return new_head\n",
    "def travers(head):\n",
    "    temp=head\n",
    "    while temp:\n",
    "        print(temp.data,end=\"->\")\n",
    "        temp=temp.next\n",
    "#Nodes and linkage together\n",
    "head = Node(1)\n",
    "head.next = Node(2)\n",
    "head.next.next = Node(3)\n",
    "head.next.next.next = Node(4)\n",
    "head.next.next.next.next = Node(5)\n",
    "#Check the input LL\n",
    "print(travers(head))\n",
    "#Driver code:\n",
    "k = 2\n",
    "rotated_head = rotateRight(head, k)\n",
    "print(travers(rotated_head))"
   ]
  },
  {
   "cell_type": "code",
   "execution_count": 19,
   "id": "191dcc9f-9455-472d-9d5e-1a9bf44c610b",
   "metadata": {},
   "outputs": [
    {
     "name": "stdout",
     "output_type": "stream",
     "text": [
      "1->2->3->4->5->6->7->8->9->10->11->12->13->"
     ]
    }
   ],
   "source": [
    "'''Problem 11: Flatten a multilevel doubly linked list.\n",
    "Input: 1 <-> 2 <-> 3 <-> 7 <-> 8 <-> 11 -> 12, 4 <-> 5 -> 9 -> 10, 6 -> 13\n",
    "Output: 1 <-> 2 <-> 3 <-> 4 <-> 5 <-> 6 <-> 7 <-> 8 <-> 9 <-> 10 <-> 11 <-> 12 <-> 13'''\n",
    "class Node:\n",
    "    def __init__(self, data):\n",
    "        self.data = data\n",
    "        self.prev = None\n",
    "        self.next = None\n",
    "        self.child = None\n",
    "\n",
    "def flatten_list(head):\n",
    "    if not head:\n",
    "        return None\n",
    "    \n",
    "    curr = head\n",
    "    while curr:\n",
    "        if curr.child:\n",
    "            next_node = curr.next\n",
    "            child = curr.child\n",
    "            curr.next = child\n",
    "            child.prev = curr\n",
    "            curr.child = None\n",
    "            \n",
    "            while child.next:\n",
    "                child = child.next\n",
    "            child.next = next_node\n",
    "            \n",
    "            if next_node:\n",
    "                next_node.prev = child\n",
    "        curr = curr.next\n",
    "    \n",
    "    return head\n",
    "# Print the flattened list\n",
    "def traverse(head):\n",
    "    temp = head\n",
    "    while temp:\n",
    "        print(temp.data, end=\"->\")\n",
    "        temp = temp.next\n",
    "\n",
    "# Create the nodes\n",
    "head = Node(1)\n",
    "node2 = Node(2)\n",
    "node3 = Node(3)\n",
    "node4 = Node(4)\n",
    "node5 = Node(5)\n",
    "node6 = Node(6)\n",
    "node7 = Node(7)\n",
    "node8 = Node(8)\n",
    "node9 = Node(9)\n",
    "node10 = Node(10)\n",
    "node11 = Node(11)\n",
    "node12 = Node(12)\n",
    "node13 = Node(13)\n",
    "\n",
    "# Connect the nodes\n",
    "head.next = node2\n",
    "node2.prev = head\n",
    "node2.next = node3\n",
    "node3.prev = node2\n",
    "node3.next = node4\n",
    "node4.prev = node3\n",
    "node4.next = node5\n",
    "node5.prev = node4\n",
    "node5.next = node6\n",
    "node6.prev = node5\n",
    "node6.next = node7\n",
    "node7.prev = node6\n",
    "node7.next = node8\n",
    "node8.prev = node7\n",
    "node8.next = node9\n",
    "node9.prev = node8\n",
    "node9.next = node10\n",
    "node10.prev = node9\n",
    "node10.next = node11\n",
    "node11.prev = node10\n",
    "node11.next = node12\n",
    "node12.prev = node11\n",
    "node12.next = node13\n",
    "node13.prev = node12\n",
    "# Flatten the list\n",
    "flatten_head = flatten_list(head)\n",
    "traverse(flatten_head)"
   ]
  },
  {
   "cell_type": "code",
   "execution_count": 36,
   "id": "6d007bd1-9444-43db-916c-22936c8a224d",
   "metadata": {},
   "outputs": [
    {
     "name": "stdout",
     "output_type": "stream",
     "text": [
      "1->2->3->4->5->None\n",
      "1->3->5->2->4->"
     ]
    }
   ],
   "source": [
    "'''Problem 12: Rearrange a linked list such that all even positioned nodes are placed at the end.\n",
    "Input: 1 -> 2 -> 3 -> 4 -> 5\n",
    "Output: 1 -> 3 -> 5 -> 2 -> 4'''\n",
    "class Node:\n",
    "    def __init__(self, data):\n",
    "        self.data = data\n",
    "        self.next = None\n",
    "\n",
    "def rearrange_list(head):\n",
    "    if not head or not head.next:\n",
    "        return head\n",
    "    \n",
    "    odd_head = head\n",
    "    even_head = head.next\n",
    "    \n",
    "    odd_ptr = odd_head\n",
    "    even_ptr = even_head\n",
    "    \n",
    "    while even_ptr and even_ptr.next:\n",
    "        odd_ptr.next = even_ptr.next\n",
    "        odd_ptr = odd_ptr.next\n",
    "        \n",
    "        even_ptr.next = odd_ptr.next\n",
    "        even_ptr = even_ptr.next\n",
    "    \n",
    "    odd_ptr.next = even_head\n",
    "    \n",
    "    return odd_head\n",
    "def traverse(head):\n",
    "    temp = head\n",
    "    while temp:\n",
    "        print(temp.data, end=\"->\")\n",
    "        temp = temp.next\n",
    "\n",
    "# Create the nodes\n",
    "head = Node(1)\n",
    "node2 = Node(2)\n",
    "node3 = Node(3)\n",
    "node4 = Node(4)\n",
    "node5 = Node(5)\n",
    "\n",
    "# Connect the nodes\n",
    "head.next = node2\n",
    "node2.next = node3\n",
    "node3.next = node4\n",
    "node4.next = node5\n",
    "print(traverse(head))\n",
    "# Rearrange the list\n",
    "rearranged_head = rearrange_list(head)\n",
    "# Print the rearranged list\n",
    "traverse(rearranged_head)"
   ]
  },
  {
   "cell_type": "code",
   "execution_count": 48,
   "id": "c67d7819-fbbc-473b-97f8-a8ac45fabe67",
   "metadata": {},
   "outputs": [
    {
     "name": "stdout",
     "output_type": "stream",
     "text": [
      "1 -> 2 -> 3 -> None\n",
      "1 -> 2 -> 4 -> None\n"
     ]
    }
   ],
   "source": [
    "'''Problem 13: Given a non-negative number represented as a linked list, add one to it.\n",
    "Input: 1 -> 2 -> 3 (represents the number 123)\n",
    "Output: 1 -> 2 -> 4 (represents the number 124)'''\n",
    "class Node:\n",
    "    def __init__(self, data=0, next=None):\n",
    "        self.data=data\n",
    "        self.next=next\n",
    "\n",
    "def add_One(head):\n",
    "    # Step 1: Reverse the linked list\n",
    "    def reverseLinkedList(node):\n",
    "        prev = None\n",
    "        while node:\n",
    "            temp = node.next\n",
    "            node.next = prev\n",
    "            prev = node\n",
    "            node = temp\n",
    "        return prev\n",
    "\n",
    "    reversed_head = reverseLinkedList(head)\n",
    "\n",
    "    #Step 2: Traverse the reversed linked list and add one\n",
    "    current = reversed_head\n",
    "    carry = 1\n",
    "    while current and carry:\n",
    "        current.data += carry\n",
    "        carry = current.data // 10\n",
    "        current.data %= 10\n",
    "        if carry and not current.next:\n",
    "            current.next =Node(0)\n",
    "        current = current.next\n",
    "\n",
    "    # Step 3: Reverse the linked list again\n",
    "    result = reverseLinkedList(reversed_head)\n",
    "\n",
    "    return result\n",
    "def traverse(head):\n",
    "    temp=head\n",
    "    while temp:\n",
    "        print(temp.data, end=\" -> \")\n",
    "        temp=temp.next\n",
    "\n",
    "# Example usage:\n",
    "# Input: 1 -> 2 -> 3\n",
    "# Output: 1 -> 2 -> 4\n",
    "head = Node(1, Node(2, Node(3)))\n",
    "print(traverse(head))\n",
    "\n",
    "result = add_One(head)\n",
    "# Print the result\n",
    "print(traverse(result))"
   ]
  },
  {
   "cell_type": "code",
   "execution_count": 6,
   "id": "cb60285d-5d66-4253-8943-aeb737f53b45",
   "metadata": {},
   "outputs": [
    {
     "name": "stdout",
     "output_type": "stream",
     "text": [
      "2\n"
     ]
    }
   ],
   "source": [
    "'''Problem 14: Given a sorted array and a target value, return the index if the target is found. If not, return the\n",
    "index where it would be inserted.\n",
    "Input: nums = [1, 3, 5, 6], target = 5\n",
    "Output: 2'''\n",
    "def SearchInsert(arr,target):\n",
    "    left=0\n",
    "    right=len(arr)-1\n",
    "    while left<=right:\n",
    "        mid=left+(right-left)//2\n",
    "        if arr[mid]==target:\n",
    "            return mid\n",
    "        elif arr[mid]<target:\n",
    "            left+=1\n",
    "        else:\n",
    "            right-=1\n",
    "    return left\n",
    "arr=[1,3,5,6]\n",
    "target=5\n",
    "result=SearchInsert(arr,target)\n",
    "print(result)"
   ]
  },
  {
   "cell_type": "code",
   "execution_count": 15,
   "id": "ad451537-6196-4253-935a-953b0438398d",
   "metadata": {},
   "outputs": [
    {
     "name": "stdout",
     "output_type": "stream",
     "text": [
      "Output: 0\n"
     ]
    }
   ],
   "source": [
    "'''Problem 15: Find the minimum element in a rotated sorted array.\n",
    "Input: [4, 5, 6, 7, 0, 1, 2]\n",
    "Output: 0'''\n",
    "def findMin(arr):\n",
    "    left=0\n",
    "    right=len(arr)-1\n",
    "    \n",
    "    while left<right:\n",
    "        mid=left+(right-left)//2\n",
    "        \n",
    "        if arr[mid]>arr[right]:\n",
    "            left=mid+1\n",
    "        else:\n",
    "            right=mid\n",
    "    return arr[left]\n",
    "arr = [4, 5, 6, 7, 0, 1, 2]\n",
    "result=findMin(arr)\n",
    "print(\"Output:\",result)"
   ]
  },
  {
   "cell_type": "code",
   "execution_count": 22,
   "id": "94aa355b-6eac-4bfe-8c9c-f20259f6913d",
   "metadata": {},
   "outputs": [
    {
     "name": "stdout",
     "output_type": "stream",
     "text": [
      "Output: 4\n"
     ]
    }
   ],
   "source": [
    "'''Problem 16: Search for a target value in a rotated sorted array.\n",
    "Input: nums = [4, 5, 6, 7, 0, 1, 2], target = 0\n",
    "Output: 4'''\n",
    "def search(arr, target):\n",
    "    left = 0\n",
    "    right = len(arr)-1\n",
    "    \n",
    "    while left<=right:\n",
    "        mid=(left + right)//2\n",
    "        \n",
    "        if arr[mid]==target:\n",
    "            return mid\n",
    "        \n",
    "        if arr[left] <= arr[mid]:\n",
    "            if arr[left] <= target <= arr[mid]:\n",
    "                right = mid - 1\n",
    "            else:\n",
    "                left = mid + 1\n",
    "        else:\n",
    "            if arr[mid] <= target <= arr[right]:\n",
    "                left = mid + 1\n",
    "            else:\n",
    "                right = mid - 1\n",
    "    \n",
    "    return -1\n",
    "\n",
    "arr = [4, 5, 6, 7, 0, 1, 2]\n",
    "target = 0\n",
    "result = search(arr, target)\n",
    "print(\"Output:\",result)"
   ]
  },
  {
   "cell_type": "code",
   "execution_count": 20,
   "id": "50320d65-c6d1-47d0-818c-3b47683cbe04",
   "metadata": {},
   "outputs": [
    {
     "name": "stdout",
     "output_type": "stream",
     "text": [
      "Output: 2 (index of peak element)\n"
     ]
    }
   ],
   "source": [
    "'''Problem 17: Find the peak element in an array. A peak element is greater than its neighbors.\n",
    "Input: nums = [1, 2, 3, 1]\n",
    "Output: 2 (index of peak element)'''\n",
    "def peak_index(arr):\n",
    "    left=0\n",
    "    right=len(arr)-1\n",
    "    \n",
    "    while left<right: \n",
    "        mid=left+(right-left)//2 \n",
    "        \n",
    "        if arr[mid]<arr[mid+1]:\n",
    "            left=mid\n",
    "        else:\n",
    "            right=mid+1\n",
    "    return left\n",
    "nums = [1, 2, 3, 1]\n",
    "peak_index = find_peak(nums)\n",
    "print(\"Output:\",peak_index,\"(index of peak element)\")\n"
   ]
  },
  {
   "cell_type": "code",
   "execution_count": 2,
   "id": "4554b876-ee3d-41e0-a179-2b168e9c4bee",
   "metadata": {},
   "outputs": [
    {
     "name": "stdout",
     "output_type": "stream",
     "text": [
      "Count of Negative numbers: 8\n"
     ]
    }
   ],
   "source": [
    "'''Problem 18: Given a m x n matrix where each row and column is sorted in ascending order, count the number\n",
    "of negative numbers.\n",
    "Input: grid = [[4, 3, 2, -1], [3, 2, 1, -1], [1, 1, -1, -2], [-1, -1, -2, -3]]\n",
    "Output: 8'''\n",
    "def CountNegative(grid):\n",
    "    count=0\n",
    "    for row in grid:\n",
    "        for num in row:\n",
    "            if num<0:\n",
    "                count+=1\n",
    "    return count\n",
    "grid = [[4, 3, 2, -1], [3, 2, 1, -1], [1, 1, -1, -2], [-1, -1, -2, -3]]\n",
    "Output=CountNegative(grid)\n",
    "print(\"Count of Negative numbers:\",Output)"
   ]
  },
  {
   "cell_type": "code",
   "execution_count": 18,
   "id": "d4e24ff0-884f-4e17-ace5-2e6f512567de",
   "metadata": {},
   "outputs": [
    {
     "name": "stdout",
     "output_type": "stream",
     "text": [
      "Output: True\n"
     ]
    }
   ],
   "source": [
    "'''Problem 19: Given a 2D matrix sorted in ascending order in each row, and the first integer of each row is\n",
    "greater than the last integer of the previous row, determine if a target value is present in the matrix.\n",
    "Input: matrix = [[1, 3, 5, 7], [10, 11, 16, 20], [23, 30, 34, 60]], target = 3\n",
    "Output: True'''\n",
    "def FindTarget(matrix,target):\n",
    "    for rows in matrix:\n",
    "        for i in rows:\n",
    "            if i==target:\n",
    "                return True\n",
    "    return False\n",
    "matrix=[[1, 3, 5, 7], [10, 11, 16, 20], [23, 30, 34, 60]]\n",
    "target = 7\n",
    "result=FindTarget(matrix,target)\n",
    "print(\"Output:\",result)"
   ]
  },
  {
   "cell_type": "code",
   "execution_count": 20,
   "id": "5e8102fa-f219-4f63-ae74-7064257d27cc",
   "metadata": {},
   "outputs": [
    {
     "data": {
      "text/plain": [
       "2.0"
      ]
     },
     "execution_count": 20,
     "metadata": {},
     "output_type": "execute_result"
    }
   ],
   "source": [
    "'''Problem 20: Find Median in Two Sorted Arrays\n",
    "Problem: Given two sorted arrays, find the median of the combined sorted array.\n",
    "Input: nums1 = [1, 3], nums2 = [2]\n",
    "Output: 2.0'''\n",
    "#Using Python Library\n",
    "import numpy as np\n",
    "num1=[1,3]\n",
    "num2=[2]\n",
    "combined_nums=num1+num2\n",
    "np.median(combined_nums)"
   ]
  },
  {
   "cell_type": "code",
   "execution_count": 25,
   "id": "b4bc775b-06fc-45d7-bb32-4055fcfdfacb",
   "metadata": {},
   "outputs": [
    {
     "name": "stdout",
     "output_type": "stream",
     "text": [
      "Median: 2.0\n"
     ]
    }
   ],
   "source": [
    "#Mathematical definition\n",
    "num1,num2=[1,3],[2]\n",
    "joint_arr=sorted(num1+num2)\n",
    "m=len(joint_arr)//2\n",
    "if len(joint_arr)%2==0:\n",
    "    median=float((joint_arr[m+1]+joint_arr[m])/2)\n",
    "else:\n",
    "    median=float(joint_arr[m])\n",
    "print(\"Median:\",median)"
   ]
  },
  {
   "cell_type": "code",
   "execution_count": 21,
   "id": "31fe4937-c631-4c89-aae8-5bd167dd664a",
   "metadata": {},
   "outputs": [
    {
     "name": "stdout",
     "output_type": "stream",
     "text": [
      "Output: c\n"
     ]
    }
   ],
   "source": [
    "\"\"\"\n",
    "Problem 21: Given a sorted character array and a target letter, find the smallest letter in the array that is\n",
    "greater than the target.\n",
    "Input: letters = ['c', 'f', 'j'], target = 'a'\n",
    "Output: 'c'\n",
    "\"\"\"\n",
    "def findSmallest_Letter(letters,target):\n",
    "    for letter in letters:\n",
    "            if letter>target:\n",
    "                return letter\n",
    "    return letters[0]\n",
    "letters=['c', 'f', 'j']\n",
    "target=\"a\"\n",
    "Output=findSmallest_Letter(letters,target)\n",
    "print(\"Output:\",Output)"
   ]
  },
  {
   "cell_type": "code",
   "execution_count": 22,
   "id": "ea973002-b07a-4715-ab6d-2064d7b4bf90",
   "metadata": {},
   "outputs": [
    {
     "name": "stdout",
     "output_type": "stream",
     "text": [
      "[0, 0, 1, 1, 2, 2]\n"
     ]
    }
   ],
   "source": [
    "'''Problem 22: Given an array with n objects colored red, white, or blue, sort them in-place so that objects of\n",
    "the same color are adjacent, with the colors in the order red, white, and blue.\n",
    "Input: nums = [2, 0, 2, 1, 1, 0]\n",
    "Output: [0, 0, 1, 1, 2, 2]\n",
    "'''\n",
    "def sortColors(nums):\n",
    "    low = 0\n",
    "    mid = 0\n",
    "    high = len(nums) - 1\n",
    "\n",
    "    while mid <= high:\n",
    "        if nums[mid] == 0:\n",
    "            nums[low], nums[mid] = nums[mid], nums[low]\n",
    "            low += 1\n",
    "            mid += 1\n",
    "        elif nums[mid] == 1:\n",
    "            mid += 1\n",
    "        else:\n",
    "            nums[mid], nums[high] = nums[high], nums[mid]\n",
    "            high -= 1\n",
    "\n",
    "nums = [2, 0, 2, 1, 1, 0]\n",
    "sortColors(nums)\n",
    "print(nums)"
   ]
  },
  {
   "cell_type": "code",
   "execution_count": 26,
   "id": "ec9bf8ff-b11e-4956-8ec6-657869dab63a",
   "metadata": {},
   "outputs": [
    {
     "name": "stdout",
     "output_type": "stream",
     "text": [
      "5\n"
     ]
    }
   ],
   "source": [
    "'''Problem 23: Find the kth largest element in an unsorted array.\n",
    "Input: nums = [3, 2, 1, 5, 6, 4], k = 2\n",
    "Output: 5\n",
    "'''\n",
    "def find_kth_largest(nums, k):\n",
    "    nums.sort(reverse=True)\n",
    "    return nums[k-1]\n",
    "\n",
    "# Example usage\n",
    "nums = [3, 2, 1, 5, 6, 4]\n",
    "k = 2\n",
    "result = find_kth_largest(nums, k)\n",
    "print(result)"
   ]
  },
  {
   "cell_type": "code",
   "execution_count": 27,
   "id": "4e586be2-cb5f-4667-96bd-18cd3190ce8a",
   "metadata": {},
   "outputs": [
    {
     "name": "stdout",
     "output_type": "stream",
     "text": [
      "[3, 5, 1, 6, 2, 4]\n"
     ]
    }
   ],
   "source": [
    "'''Problem 24: Given an unsorted array, reorder it in-place such that nums[0] <= nums[1] >= nums[2] <=\n",
    "nums[3]...\n",
    "Input: nums = [3, 5, 2, 1, 6, 4]\n",
    "Output: [3, 5, 1, 6, 2, 4]'''\n",
    "def reorder_array(nums):\n",
    "    for i in range(1, len(nums), 2):\n",
    "        if nums[i] < nums[i-1]:\n",
    "            nums[i], nums[i-1] = nums[i-1], nums[i]\n",
    "        if i+1 < len(nums) and nums[i] < nums[i+1]:\n",
    "            nums[i], nums[i+1] = nums[i+1], nums[i]\n",
    "    return nums\n",
    "\n",
    "# Example usage\n",
    "nums = [3, 5, 2, 1, 6, 4]\n",
    "result = reorder_array(nums)\n",
    "print(result)"
   ]
  },
  {
   "cell_type": "code",
   "execution_count": 36,
   "id": "88faeba1-79c8-493d-8088-1258de4750bc",
   "metadata": {},
   "outputs": [
    {
     "name": "stdout",
     "output_type": "stream",
     "text": [
      "Sum of the array: 15\n"
     ]
    }
   ],
   "source": [
    "'''Problem 25: Given an array of integers, calculate the sum of all its elements.\n",
    "Input: [1, 2, 3, 4, 5]\n",
    "Output: 15\n",
    "'''\n",
    "def find_Sum(arr):\n",
    "    if len(arr)==0:\n",
    "        return 0\n",
    "    else:\n",
    "        return arr[0]+find_Sum(arr[1:])\n",
    "arr=[1, 2, 3, 4, 5]\n",
    "print(\"Sum of the array:\",find_Sum(arr))"
   ]
  },
  {
   "cell_type": "code",
   "execution_count": 44,
   "id": "e9b9150a-fd9c-42a8-8df9-868f1cca6f4f",
   "metadata": {},
   "outputs": [
    {
     "name": "stdout",
     "output_type": "stream",
     "text": [
      "Maximum element: 9\n"
     ]
    }
   ],
   "source": [
    "'''Problem 26: Find the maximum element in an array of integers.\n",
    "Input: [3, 7, 2, 9, 4, 1]\n",
    "Output: 9'''\n",
    "def MaxFind(arr):\n",
    "    max_element=arr[0]\n",
    "    for num in arr:\n",
    "        if num>max_element:\n",
    "            max_element=num\n",
    "    return max_element\n",
    "arr=[3, 7, 2, 9, 4, 1]\n",
    "print(\"Maximum element:\",MaxFind(arr))"
   ]
  },
  {
   "cell_type": "code",
   "execution_count": 52,
   "id": "65f6e2ea-8f70-478d-b7d7-dcb5c853d35c",
   "metadata": {},
   "outputs": [
    {
     "name": "stdout",
     "output_type": "stream",
     "text": [
      "Target is at index: 2\n"
     ]
    }
   ],
   "source": [
    "'''Problem 27: Implement linear search to find the index of a target element in an array.\n",
    "Input: [5, 3, 8, 2, 7, 4], target = 8\n",
    "Output: 2'''\n",
    "def Search(arr,target):\n",
    "    for num in range(len(arr)):\n",
    "        if target == arr[num]:\n",
    "            print(\"Target is at index:\",num)\n",
    "            return\n",
    "    return -1\n",
    "target=8\n",
    "arr=[5, 3, 8, 2, 7, 4]\n",
    "Search(arr,target)"
   ]
  },
  {
   "cell_type": "code",
   "execution_count": 54,
   "id": "9193bf78-15e5-43f6-8527-d899c0c6fff0",
   "metadata": {},
   "outputs": [
    {
     "name": "stdin",
     "output_type": "stream",
     "text": [
      "Enter the number: 5\n"
     ]
    },
    {
     "name": "stdout",
     "output_type": "stream",
     "text": [
      "Factorial of a given number is: 120\n"
     ]
    }
   ],
   "source": [
    "'''Problem 28 Calculate the factorial of a given number.\n",
    "Input: 5\n",
    "Output: 120 (as 5! = 5 * 4 * 3 * 2 * 1 = 120)\n",
    "'''\n",
    "def fact(n):\n",
    "    if n<=1:\n",
    "        return n\n",
    "    else:\n",
    "        return n*fact(n-1)\n",
    "n=int(input(\"Enter the number:\"))\n",
    "print(\"Factorial of a given number is:\",fact(n))      "
   ]
  },
  {
   "cell_type": "code",
   "execution_count": 55,
   "id": "50e152ec-9097-4c15-ae3b-3267f4bdb30b",
   "metadata": {},
   "outputs": [
    {
     "name": "stdin",
     "output_type": "stream",
     "text": [
      "Enter the value for n: 7\n"
     ]
    },
    {
     "data": {
      "text/plain": [
       "True"
      ]
     },
     "execution_count": 55,
     "metadata": {},
     "output_type": "execute_result"
    }
   ],
   "source": [
    "'''Problem 29: Check if a given number is a prime number.\n",
    "Input: 7\n",
    "Output: True\n",
    "'''\n",
    "def check_primes(n):\n",
    "    if n<=1:\n",
    "        return False\n",
    "    for i in range(2,int(n**0.5)+1):\n",
    "        if n%i==0:\n",
    "            return False\n",
    "    return True\n",
    "n=int(input(\"Enter the value for n:\"))\n",
    "check_primes(n)      "
   ]
  },
  {
   "cell_type": "code",
   "execution_count": 61,
   "id": "aec6bab2-f700-4c57-8885-b2189eaf4d2c",
   "metadata": {},
   "outputs": [
    {
     "name": "stdout",
     "output_type": "stream",
     "text": [
      "[0, 1, 1, 2, 3, 5, 8, 13]\n"
     ]
    }
   ],
   "source": [
    "'''Problem 30: Generate the Fibonacci series up to a given number n.\n",
    "Input: 8\n",
    "Output: [0, 1, 1, 2, 3, 5, 8, 13]'''\n",
    "def generate_fibonacci(n):\n",
    "    fibonacci_series = [0, 1]\n",
    "    while len(fibonacci_series) < n:\n",
    "        next_number = fibonacci_series[-1] + fibonacci_series[-2]\n",
    "        fibonacci_series.append(next_number)\n",
    "    return fibonacci_series\n",
    "\n",
    "# Example usage\n",
    "n = 8\n",
    "fibonacci_result = generate_fibonacci(n)\n",
    "print(fibonacci_result)"
   ]
  },
  {
   "cell_type": "code",
   "execution_count": 65,
   "id": "88d948c3-cb6c-4ca4-a11b-9647bd288fea",
   "metadata": {},
   "outputs": [
    {
     "name": "stdout",
     "output_type": "stream",
     "text": [
      "Output: 81\n"
     ]
    }
   ],
   "source": [
    "'''Problem 31: Calculate the power of a number using recursion.\n",
    "Input: base = 3, exponent = 4\n",
    "Output: 81 (as 3^4 = 3 * 3 * 3 * 3 = 81)\n",
    "'''\n",
    "def powerfind(n,p):\n",
    "    if n!=0 and p==0:\n",
    "        return 1\n",
    "    else:\n",
    "        return n*powerfind(n,p-1)\n",
    "print(\"Output:\",powerfind(3,4))"
   ]
  },
  {
   "cell_type": "code",
   "execution_count": 81,
   "id": "83ddea45-0406-4936-aa97-8a4224e3092d",
   "metadata": {},
   "outputs": [
    {
     "name": "stdout",
     "output_type": "stream",
     "text": [
      "Output: olleh\n"
     ]
    }
   ],
   "source": [
    "'''Problem 32: Reverse a given string.\n",
    "Input: \"hello\"\n",
    "Output: \"olleh\"\n",
    "'''\n",
    "def reverse(string):\n",
    "    L=list(string) #As strings are immutable, convert to list\n",
    "    left=0\n",
    "    right=len(L)-1\n",
    "    while left<=right:\n",
    "        L[left],L[right]=L[right],L[left]\n",
    "        left+=1\n",
    "        right-=1\n",
    "    reversed_str = \"\".join(L)\n",
    "    return reversed_str\n",
    "string=\"hello\" #Input\n",
    "print(\"Output:\",reverse(string)) #Output"
   ]
  },
  {
   "cell_type": "code",
   "execution_count": null,
   "id": "385208ca-1c6a-4386-97d8-9e46623f62a2",
   "metadata": {},
   "outputs": [],
   "source": []
  }
 ],
 "metadata": {
  "kernelspec": {
   "display_name": "Python 3 (ipykernel)",
   "language": "python",
   "name": "python3"
  },
  "language_info": {
   "codemirror_mode": {
    "name": "ipython",
    "version": 3
   },
   "file_extension": ".py",
   "mimetype": "text/x-python",
   "name": "python",
   "nbconvert_exporter": "python",
   "pygments_lexer": "ipython3",
   "version": "3.10.8"
  }
 },
 "nbformat": 4,
 "nbformat_minor": 5
}
