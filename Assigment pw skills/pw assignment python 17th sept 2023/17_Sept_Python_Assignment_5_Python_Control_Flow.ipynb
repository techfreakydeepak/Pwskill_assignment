{
 "cells": [
  {
   "cell_type": "code",
   "execution_count": 2,
   "id": "95147905-afaa-40ad-90bb-6b39ec82ed32",
   "metadata": {},
   "outputs": [
    {
     "name": "stdout",
     "output_type": "stream",
     "text": [
      "[1, 2, 3, 4, 5, 6, 7, 8, 9, 10]\n"
     ]
    }
   ],
   "source": [
    "'''17_Sept_Python_Assignment_5_Python_Control_Flow'''\n",
    "\n",
    "\"Foor Loop\"\n",
    "#1.Write a Python program to print numbers from 1 to 10 using a for loop.\n",
    "l = []\n",
    "for i in range(1,11):\n",
    "    l.append(i)\n",
    "print(l)"
   ]
  },
  {
   "cell_type": "code",
   "execution_count": 2,
   "id": "65748f8b-a016-49b5-94d2-dfbcc27f5827",
   "metadata": {},
   "outputs": [
    {
     "name": "stdout",
     "output_type": "stream",
     "text": [
      "Output from for loop:- Apple\n",
      "Output from for loop:- Banana\n",
      "Output from for loop:- Orange\n",
      "Output from while loop:- 1\n",
      "Output from while loop:- 2\n",
      "Output from while loop:- 3\n",
      "Output from while loop:- 4\n",
      "Output from while loop:- 5\n"
     ]
    }
   ],
   "source": [
    "#2.Explain the difference between a for loop and a while loop in Python.\n",
    "'''\n",
    "\"for:-\"\n",
    "For loop is used to iterate over a sequence such as list, tuple or string or any other object which is iterable,\n",
    "consequently you know in advance the number of times you want to iterate.\n",
    "\"while:-\"\n",
    "While loop is used to repeat a certain block of code until the condition remains true, it continues iterating\n",
    "as long as the condition remain true. You manually put a condition to avoid an infinite loop. i.e'''\n",
    "#For loop\n",
    "fruits = [\"Apple\",\"Banana\",\"Orange\"]\n",
    "for fruit in fruits:\n",
    "    print(\"Output from for loop:-\",fruit)\n",
    "\n",
    "#While loop  \n",
    "count = 1\n",
    "while count <= 5:\n",
    "    print(\"Output from while loop:-\",count)\n",
    "    count += 1"
   ]
  },
  {
   "cell_type": "code",
   "execution_count": 5,
   "id": "d556e0d4-aca5-4672-9aca-83cc098bf847",
   "metadata": {},
   "outputs": [
    {
     "name": "stdout",
     "output_type": "stream",
     "text": [
      "Sum of numbers from 1 to 100:- 4950\n"
     ]
    }
   ],
   "source": [
    "#3.Write a Python program to calculate the sum of all numbers from 1 to 100 using a for loop.\n",
    "l = []\n",
    "for i in range(1,100):\n",
    "    l.append(i)\n",
    "print(\"Sum of numbers from 1 to 100:-\",sum(l))"
   ]
  },
  {
   "cell_type": "code",
   "execution_count": 6,
   "id": "a4242440-6afc-46cf-8abf-9feb9e66f45b",
   "metadata": {},
   "outputs": [
    {
     "name": "stdout",
     "output_type": "stream",
     "text": [
      "0\n",
      "1\n",
      "2\n",
      "3\n",
      "4\n",
      "5\n",
      "6\n",
      "7\n",
      "8\n",
      "9\n"
     ]
    }
   ],
   "source": [
    "#4.How do you iterate through a list using a for loop in Python?\n",
    "l = list(range(10))\n",
    "for i in l:\n",
    "    print(i)"
   ]
  },
  {
   "cell_type": "code",
   "execution_count": 17,
   "id": "8fc89070-1c20-4535-9ccb-94942ce0022f",
   "metadata": {},
   "outputs": [
    {
     "name": "stdout",
     "output_type": "stream",
     "text": [
      "Product of elements in list:- 1890\n"
     ]
    }
   ],
   "source": [
    "#5.Write a Python program to find the product of all elements in a list using a for loop.\n",
    "def product_list(l):\n",
    "    product = 1\n",
    "    for i in l:\n",
    "        product *= i\n",
    "    return product\n",
    "l_5 = [6,7,9,5]\n",
    "print(\"Product of elements in list:-\",product_list(l_5))"
   ]
  },
  {
   "cell_type": "code",
   "execution_count": 22,
   "id": "f3973df5-5bcd-4f81-a3e5-e14d0b6e5a98",
   "metadata": {},
   "outputs": [
    {
     "name": "stdout",
     "output_type": "stream",
     "text": [
      "[0, 2, 4, 6, 8, 10, 12, 14, 16, 18]\n"
     ]
    }
   ],
   "source": [
    "#6.Create a Python program that prints all even numbers from 1 to 20 using a for loop.\n",
    "l = []\n",
    "for i in range(20):\n",
    "    if i%2 == 0:\n",
    "        l.append(i)\n",
    "print(l)"
   ]
  },
  {
   "cell_type": "code",
   "execution_count": 25,
   "id": "7d84db9b-2611-45d3-9c5d-96c5de0fc02f",
   "metadata": {},
   "outputs": [
    {
     "name": "stdin",
     "output_type": "stream",
     "text": [
      "Enter the required number:- 5\n"
     ]
    },
    {
     "name": "stdout",
     "output_type": "stream",
     "text": [
      "Factorial of the given number is:- 120\n"
     ]
    }
   ],
   "source": [
    "#7.Write a Python program that calculates the factorial of a number using a for loop.\n",
    "def fact(n):\n",
    "    factorial = 1\n",
    "    for i in range(1, int(n)+1):\n",
    "        factorial *= i\n",
    "    return factorial\n",
    "n = int(input(\"Enter the required number:-\"))\n",
    "print(\"Factorial of the given number is:-\", fact(n))"
   ]
  },
  {
   "cell_type": "code",
   "execution_count": 26,
   "id": "3d33833a-e2ae-4c5b-816e-8b49eee5babf",
   "metadata": {},
   "outputs": [
    {
     "name": "stdin",
     "output_type": "stream",
     "text": [
      "Enter the string:- pwskills\n"
     ]
    },
    {
     "name": "stdout",
     "output_type": "stream",
     "text": [
      "['p', 'w', 's', 'k', 'i', 'l', 'l', 's']\n"
     ]
    }
   ],
   "source": [
    "#8.How can you iterate through the characters of a string using a for loop in Python?\n",
    "l8 = []\n",
    "string = input(\"Enter the string:-\")\n",
    "for i in string:\n",
    "    l8.append(i)\n",
    "print(l8)"
   ]
  },
  {
   "cell_type": "code",
   "execution_count": 32,
   "id": "c4ebfaaa-f8ba-46e9-9f6b-4a8c1b2c6250",
   "metadata": {},
   "outputs": [
    {
     "name": "stdout",
     "output_type": "stream",
     "text": [
      "Greatest of lst is:- 567\n"
     ]
    }
   ],
   "source": [
    "#9.Write a Python program to find the largest number in a list using a for loop.\n",
    "def greatest_of(lst):\n",
    "    largest_num = lst[0]\n",
    "    for num in lst:\n",
    "        if num > largest_num:\n",
    "            largest_num = num\n",
    "    return largest_num\n",
    "lst9 = [5,67,89,345,567]\n",
    "print(\"Greatest of lst is:-\",greatest_of(lst9))"
   ]
  },
  {
   "cell_type": "code",
   "execution_count": 34,
   "id": "e99596a3-c77a-4f41-8b24-93c9bf715515",
   "metadata": {},
   "outputs": [
    {
     "name": "stdin",
     "output_type": "stream",
     "text": [
      "Enter the required number:- 6\n"
     ]
    },
    {
     "name": "stdout",
     "output_type": "stream",
     "text": [
      "[0, 1, 1, 2, 3, 5]\n"
     ]
    }
   ],
   "source": [
    "#10.Create a Python program that prints the Fibonacci sequence up to a specified limit using a for loop.\n",
    "n = int(input(\"Enter the required number:-\"))\n",
    "def fib(n):\n",
    "    fib_list = [0,1]\n",
    "    \n",
    "    for i in range(2,n):\n",
    "        \n",
    "        fib_number = fib_list[i-1]+fib_list[i-2]\n",
    "        fib_list.append(fib_number)\n",
    "    return fib_list\n",
    "\n",
    "print(fib(n))"
   ]
  },
  {
   "cell_type": "code",
   "execution_count": 2,
   "id": "1c347d2c-0dcb-49cd-8631-2fe1f44d73ee",
   "metadata": {},
   "outputs": [
    {
     "name": "stdin",
     "output_type": "stream",
     "text": [
      "Enter the string:- Python is amazing.\n"
     ]
    },
    {
     "name": "stdout",
     "output_type": "stream",
     "text": [
      "Number of vowels:- 5\n"
     ]
    }
   ],
   "source": [
    "#11.Write a Python program to count the number of vowels in a given string using a for loop.\n",
    "def count_vowel(string):\n",
    "    vowels = ['a','e','i','o','u']\n",
    "    count = 0\n",
    "    \n",
    "    for char in string:\n",
    "        if char.lower() in vowels:\n",
    "            count += 1\n",
    "    return count\n",
    "string = input(\"Enter the string:-\")\n",
    "print(\"Number of vowels:-\", count_vowel(string))"
   ]
  },
  {
   "cell_type": "code",
   "execution_count": 12,
   "id": "cfac6436-c7ae-4e2e-87f2-8603cf155013",
   "metadata": {},
   "outputs": [
    {
     "name": "stdin",
     "output_type": "stream",
     "text": [
      "Enter the number:- 19\n"
     ]
    },
    {
     "name": "stdout",
     "output_type": "stream",
     "text": [
      "19 * 1 = 19\n",
      "19 * 2 = 38\n",
      "19 * 3 = 57\n",
      "19 * 4 = 76\n",
      "19 * 5 = 95\n",
      "19 * 6 = 114\n",
      "19 * 7 = 133\n",
      "19 * 8 = 152\n",
      "19 * 9 = 171\n",
      "19 * 10 = 190\n"
     ]
    }
   ],
   "source": [
    "#12.Create a Python program that generates a multiplication table for a given number using a for loop.\n",
    "n = int(input(\"Enter the number:-\"))\n",
    "for i in range(1,11):\n",
    "    table = i*n\n",
    "    print(f\"{n} * {i} = {table}\")"
   ]
  },
  {
   "cell_type": "code",
   "execution_count": 18,
   "id": "91bfde1e-dfb6-440e-918e-005551777741",
   "metadata": {},
   "outputs": [
    {
     "name": "stdout",
     "output_type": "stream",
     "text": [
      "Reversed of a gieven list:- [5, 4, 3, 2, 1]\n"
     ]
    }
   ],
   "source": [
    "#13.Write a Python program to reverse a list using a for loop.\n",
    "l_13 = [1,2,3,4,5]\n",
    "for i in l_13:\n",
    "    reversed_list = l_13[::-1]\n",
    "print(\"Reversed of a gieven list:-\",reversed_list)"
   ]
  },
  {
   "cell_type": "code",
   "execution_count": 23,
   "id": "a14859ea-4685-4ed4-b57e-bcd2ad644456",
   "metadata": {},
   "outputs": [
    {
     "name": "stdout",
     "output_type": "stream",
     "text": [
      "Common elements:- [2, 4, 6, 7, 8]\n"
     ]
    }
   ],
   "source": [
    "#14.Write a Python program to find the common elements between two lists using a for loop.\n",
    "list_14 = [1,2,3,4,5,6,7,8]\n",
    "l_14 = [2,4,6,7,8,9,10]\n",
    "common_element = []\n",
    "for i in list_14:\n",
    "    if i in l_14:\n",
    "        common_element.append(i)\n",
    "for j in l_14:\n",
    "    if j in list_14 and j not in common_element:\n",
    "        common_element.append(j)\n",
    "print(\"Common elements:-\", (common_element))"
   ]
  },
  {
   "cell_type": "code",
   "execution_count": 4,
   "id": "7dd602ec-2dca-4175-bef6-20c1c8e98f9c",
   "metadata": {},
   "outputs": [
    {
     "name": "stdout",
     "output_type": "stream",
     "text": [
      "Name :- govind\n",
      "Course :- Data Science\n",
      "Mobile no. :- 9589442129\n"
     ]
    }
   ],
   "source": [
    "#15.Explain how to use a for loop to iterate through the keys and values of a dictionary in Python.\n",
    "my_dict = {\"Name\":'govind',\"Course\":\"Data Science\",\"Mobile no.\":9589442129}\n",
    "for key,values in my_dict.items():\n",
    "    print(key,\":-\",values)"
   ]
  },
  {
   "cell_type": "code",
   "execution_count": 20,
   "id": "9ad8b0bc-b15b-4333-b356-c00ee347d66d",
   "metadata": {},
   "outputs": [
    {
     "name": "stdout",
     "output_type": "stream",
     "text": [
      "Greatest Common Divisor of given number is:- 35\n"
     ]
    }
   ],
   "source": [
    "#16.Write a Python program to find the GCD (Greatest Common Divisor) of two numbers using a for loop.\n",
    "GCD_list = []\n",
    "def GCD(a,b):\n",
    "    if a < b:\n",
    "        smaller = a\n",
    "        bigger = b\n",
    "    else:\n",
    "        smaller = b\n",
    "        bigger = a\n",
    "    for i in range(1,smaller+1):\n",
    "        if bigger%i == 0 and smaller%i == 0:\n",
    "            GCD_list.append(i)\n",
    "    return max(GCD_list)\n",
    "print(\"Greatest Common Divisor of given number is:-\",GCD(35,105))"
   ]
  },
  {
   "cell_type": "code",
   "execution_count": 27,
   "id": "e3301537-7b7e-491f-9ffd-eaeedb4dcaf0",
   "metadata": {},
   "outputs": [
    {
     "name": "stdin",
     "output_type": "stream",
     "text": [
      "Enter the string to check:- lol\n"
     ]
    },
    {
     "name": "stdout",
     "output_type": "stream",
     "text": [
      "Palindrome\n"
     ]
    }
   ],
   "source": [
    "#17.Create a Python program that checks if a string is a palindrome using a for loop.\n",
    "string = input(\"Enter the string to check:-\")\n",
    "for i in range(0,1):\n",
    "    if string == string[::-1]:\n",
    "        print(\"Palindrome\")\n",
    "    else:\n",
    "        print(\"Not a palindrome\")"
   ]
  },
  {
   "cell_type": "code",
   "execution_count": 32,
   "id": "8df117c5-f69e-49d9-a9e7-5763965f9f15",
   "metadata": {},
   "outputs": [
    {
     "name": "stdout",
     "output_type": "stream",
     "text": [
      "madam is a palindrome!\n"
     ]
    }
   ],
   "source": [
    "#Way2\n",
    "def is_palindrome(word):\n",
    "    for i in range(len(word)//2):\n",
    "        if word[i] != word[len(word)-i-1]:\n",
    "            return False\n",
    "    return True\n",
    "\n",
    "word = \"madam\"\n",
    "if is_palindrome(word):\n",
    "    print(f\"{word} is a palindrome!\")\n",
    "else:\n",
    "    print(f\"{word} is not a palindrome\")\n"
   ]
  },
  {
   "cell_type": "code",
   "execution_count": 35,
   "id": "440a8b33-dc0a-41ba-b933-1315fb2db2ce",
   "metadata": {},
   "outputs": [
    {
     "name": "stdout",
     "output_type": "stream",
     "text": [
      "List after removing duplicates:- [2, 3, 4, 5, 6, 7, 8, 9]\n"
     ]
    }
   ],
   "source": [
    "#18.Write a Python program to remove duplicates from a list using a for loop.\n",
    "list18 = [2,3,4,5,6,7,8,9,8,7,6,6,5,4,4,3]\n",
    "l18 = []\n",
    "for i in list18:\n",
    "    if i not in l18:\n",
    "        l18.append(i)\n",
    "print(\"List after removing duplicates:-\",l18)"
   ]
  },
  {
   "cell_type": "code",
   "execution_count": 36,
   "id": "129c524e-5d79-4e0a-8beb-75da79cbb339",
   "metadata": {},
   "outputs": [
    {
     "name": "stdin",
     "output_type": "stream",
     "text": [
      "Enter the sentence:- Python is amazing language.\n"
     ]
    },
    {
     "name": "stdout",
     "output_type": "stream",
     "text": [
      "Number of words in sentence:- 4\n"
     ]
    }
   ],
   "source": [
    "#19.Create a Python program that counts the number of words in a sentence using a for loop.\n",
    "sentence = input(\"Enter the sentence:-\")\n",
    "word_count = 0\n",
    "\n",
    "words = sentence.split()\n",
    "for word in words:\n",
    "    word_count += 1\n",
    "print(\"Number of words in sentence:-\",word_count)"
   ]
  },
  {
   "cell_type": "code",
   "execution_count": 43,
   "id": "5549143a-350d-4a41-89a5-2aab5ad2b87e",
   "metadata": {},
   "outputs": [
    {
     "name": "stdout",
     "output_type": "stream",
     "text": [
      "Sum of all odd number between 1 to 50:- 625\n"
     ]
    }
   ],
   "source": [
    "#20.Write a Python program to find the sum of all odd numbers from 1 to 50 using a for loop.\n",
    "odd_num = []\n",
    "for i in range(50):\n",
    "    if i%2 != 0:\n",
    "        odd_num.append(i)\n",
    "print(\"Sum of all odd number between 1 to 50:-\",sum(odd_num))"
   ]
  },
  {
   "cell_type": "code",
   "execution_count": 44,
   "id": "9a2100d6-5828-4a25-9545-c228166521ee",
   "metadata": {},
   "outputs": [
    {
     "name": "stdin",
     "output_type": "stream",
     "text": [
      "Enter a year:  2024\n"
     ]
    },
    {
     "name": "stdout",
     "output_type": "stream",
     "text": [
      "2024 is a leap year!\n"
     ]
    }
   ],
   "source": [
    "#21.Write a Python program that checks if a given year is a leap year using a for loop.\n",
    "year = int(input(\"Enter a year: \"))\n",
    "is_leap_year = False\n",
    "\n",
    "for i in range(4):\n",
    "    if (year + i) % 4 == 0:\n",
    "        if (year + i) % 100 != 0 or (year + i) % 400 == 0:\n",
    "            is_leap_year = True\n",
    "            break\n",
    "\n",
    "if is_leap_year:\n",
    "    print(year, \"is a leap year!\")\n",
    "else:\n",
    "    print(year, \"is not a leap year!\")"
   ]
  },
  {
   "cell_type": "code",
   "execution_count": 50,
   "id": "c9f5739a-a432-4043-9c92-a90a0e6bc75b",
   "metadata": {},
   "outputs": [
    {
     "name": "stdin",
     "output_type": "stream",
     "text": [
      "Enter the number:- 64\n"
     ]
    },
    {
     "name": "stdout",
     "output_type": "stream",
     "text": [
      "The square root of 64 is:- 8\n"
     ]
    }
   ],
   "source": [
    "#22.Create a Python program that calculates the square root of a number using a for loop.\n",
    "n = int(input(\"Enter the number:-\"))\n",
    "is_perfect_square = False\n",
    "\n",
    "for i in range(1,n+1):\n",
    "    if n == i * i:\n",
    "        is_perfect_square = True\n",
    "        print(f\"The square root of {n} is:- {i}\")\n",
    "        break\n",
    "if not is_perfect_square:\n",
    "    print(\"Given number is not a perfect square\")"
   ]
  },
  {
   "cell_type": "code",
   "execution_count": 4,
   "id": "4461dba2-c4f3-47b7-90c0-a1daa9a2e690",
   "metadata": {},
   "outputs": [
    {
     "name": "stdin",
     "output_type": "stream",
     "text": [
      "Enter the value of a:- 13\n",
      "Enter the value of b:- 17\n"
     ]
    },
    {
     "name": "stdout",
     "output_type": "stream",
     "text": [
      "The LCM of 3 and 4 is: 221\n"
     ]
    }
   ],
   "source": [
    "#23.Write a Python program to find the LCM (Least Common Multiple) of two numbers using a for loop.\n",
    "def LCM(a,b):\n",
    "    if a<b:\n",
    "        big = b\n",
    "    else:\n",
    "        big = a\n",
    "        \n",
    "    for i in range(big,a*b+1):\n",
    "        if i%a == 0 and i%b == 0:\n",
    "            return i\n",
    "    return None\n",
    "a = int(input(\"Enter the value of a:-\"))\n",
    "b = int(input(\"Enter the value of b:-\"))\n",
    "lcm_result = LCM(a, b)\n",
    "print(\"The LCM of 3 and 4 is:\", lcm_result)"
   ]
  },
  {
   "cell_type": "code",
   "execution_count": 1,
   "id": "106f2fcc-5df4-42ae-b342-a7e1ababfa30",
   "metadata": {},
   "outputs": [
    {
     "name": "stdin",
     "output_type": "stream",
     "text": [
      "Enter the number:- 6\n"
     ]
    },
    {
     "name": "stdout",
     "output_type": "stream",
     "text": [
      "Number is positive\n"
     ]
    }
   ],
   "source": [
    "'''Part-2.If else:'''\n",
    "\n",
    "#1.Write a Python program to check if a number is positive, negative, or zero using an if-else statement.\n",
    "input_number = int(input(\"Enter the number:-\"))\n",
    "if input_number < 0:\n",
    "    print(\"Number is negative\")\n",
    "elif input_number == 0:\n",
    "    print(\"Number is non-negative\")\n",
    "else:\n",
    "    print(\"Number is positive\")"
   ]
  },
  {
   "cell_type": "code",
   "execution_count": 2,
   "id": "652c745f-2ac5-4a08-b048-3d901be42e39",
   "metadata": {},
   "outputs": [
    {
     "name": "stdin",
     "output_type": "stream",
     "text": [
      "Enter the number:- 67\n"
     ]
    },
    {
     "name": "stdout",
     "output_type": "stream",
     "text": [
      "Given number is odd\n"
     ]
    }
   ],
   "source": [
    "#2.Create a Python program that checks if a given number is even or odd using an if-else statement.\n",
    "input_number = int(input(\"Enter the number:-\"))\n",
    "if input_number%2 == 0:\n",
    "    print(\"Given number is even\")\n",
    "else:\n",
    "    print(\"Given number is odd\")"
   ]
  },
  {
   "cell_type": "code",
   "execution_count": 4,
   "id": "8cd6fa35-5fa5-4b18-a818-869cebc5f326",
   "metadata": {},
   "outputs": [
    {
     "name": "stdout",
     "output_type": "stream",
     "text": [
      "x is greater than y\n"
     ]
    }
   ],
   "source": [
    "#3.How can you use nested if-else statements in Python, and provide an example?\n",
    "\"Nested if else statements allows you to add multiple levels of conditions. i.e.\"\n",
    "\n",
    "#Example:-\n",
    "x = 10\n",
    "y = 5\n",
    "\n",
    "if x > y:\n",
    "    print(\"x is greater than y\")\n",
    "else:\n",
    "    if x < y:\n",
    "        print(\"x is less than y\")\n",
    "    else:\n",
    "        print(\"x and y are equal\")"
   ]
  },
  {
   "cell_type": "code",
   "execution_count": 5,
   "id": "88282217-dfdb-46a6-8163-6555b1961bd9",
   "metadata": {},
   "outputs": [
    {
     "name": "stdout",
     "output_type": "stream",
     "text": [
      "Largest of 3 numbers is:- 54\n"
     ]
    }
   ],
   "source": [
    "#4.Write a Python program to determine the largest of three numbers using if-else.\n",
    "def find_larger(a,b,c):\n",
    "    if a>=b and b>=c and a>=c:\n",
    "        return a\n",
    "    elif a<=b and b<=c and a<=c:\n",
    "        return c\n",
    "    elif a>=b and b<=c:\n",
    "        return a\n",
    "    else:\n",
    "        return b\n",
    "print(\"Largest of 3 numbers is:-\", find_larger(23,40,54))"
   ]
  },
  {
   "cell_type": "code",
   "execution_count": 6,
   "id": "c5934b98-6a8b-4610-a1f7-ba82c55a6010",
   "metadata": {},
   "outputs": [
    {
     "data": {
      "text/plain": [
       "89"
      ]
     },
     "execution_count": 6,
     "metadata": {},
     "output_type": "execute_result"
    }
   ],
   "source": [
    "#5.Write a Python program that calculates the absolute value of a number using if-else.\n",
    "def absolute(x):\n",
    "    if x >= 0:\n",
    "        return x\n",
    "    else:\n",
    "        return -x\n",
    "absolute(-89)"
   ]
  },
  {
   "cell_type": "code",
   "execution_count": 7,
   "id": "b20fd82d-493b-4a47-9d58-043a5f2b3c69",
   "metadata": {},
   "outputs": [
    {
     "name": "stdin",
     "output_type": "stream",
     "text": [
      "enter the character:- u\n"
     ]
    },
    {
     "name": "stdout",
     "output_type": "stream",
     "text": [
      "Input character is Vowel\n"
     ]
    }
   ],
   "source": [
    "#6.Create a Python program that checks if a given character is a vowel or consonant using if-else.\n",
    "input_character = input(\"enter the character:-\")\n",
    "vowel = \"aeiou\"\n",
    "for char_lower in input_character:\n",
    "    char_lower = input_character.lower()\n",
    "\n",
    "if char_lower in vowel:\n",
    "    print(\"Input character is Vowel\")\n",
    "else:\n",
    "    print(\"Input character is Consonant\")"
   ]
  },
  {
   "cell_type": "code",
   "execution_count": 8,
   "id": "f19a7924-a9b5-46f7-a927-e6a3070daab6",
   "metadata": {},
   "outputs": [
    {
     "name": "stdin",
     "output_type": "stream",
     "text": [
      "Enter the age:- 45\n"
     ]
    },
    {
     "name": "stdout",
     "output_type": "stream",
     "text": [
      "Person is eligible to vote\n"
     ]
    }
   ],
   "source": [
    "#7.Write a Python program to determine if a user is eligible to vote based on their age using if-else.\n",
    "input_age = int(input(\"Enter the age:-\"))\n",
    "if input_age < 18:\n",
    "    print(\"Person is not eligible to vote\")\n",
    "\n",
    "else:\n",
    "    print(\"Person is eligible to vote\")"
   ]
  },
  {
   "cell_type": "code",
   "execution_count": 9,
   "id": "ca941971-204e-456b-a096-dcf89f2de639",
   "metadata": {},
   "outputs": [
    {
     "name": "stdin",
     "output_type": "stream",
     "text": [
      "Enter the purchase amount:- 7000\n"
     ]
    },
    {
     "name": "stdout",
     "output_type": "stream",
     "text": [
      "Discounted price: ₹ 6300.0\n"
     ]
    }
   ],
   "source": [
    "#8.Create a Python program that calculates the discount amount based on the purchase amount using if-else.\n",
    "purchase_amount = float(input(\"Enter the purchase amount:-\")) #Marked price\n",
    "\n",
    "if purchase_amount>=10000:\n",
    "    discount = purchase_amount*0.2\n",
    "    discounted_price = purchase_amount-discount\n",
    "elif purchase_amount>=5000:\n",
    "    discount = purchase_amount*0.1\n",
    "    discounted_price = purchase_amount-discount\n",
    "else:\n",
    "    discounted_price = purchase_amount\n",
    "\n",
    "print(\"Discounted price: ₹\", discounted_price)"
   ]
  },
  {
   "cell_type": "code",
   "execution_count": 11,
   "id": "46fa624c-3c0b-4ca3-8574-dc18625dc4fe",
   "metadata": {},
   "outputs": [
    {
     "name": "stdout",
     "output_type": "stream",
     "text": [
      "The number 50 is within the range of 5 and 100.\n"
     ]
    }
   ],
   "source": [
    "#9.Write a Python program to check if a number is within a specified range using if-else.\n",
    "def check_range(number, start, end):\n",
    "    if number >= start and number <= end:\n",
    "        print(f\"The number {number} is within the range of {start} and {end}.\")\n",
    "    else:\n",
    "        print(f\"The number {number} is not within the range of {start} and {end}.\")\n",
    "\n",
    "check_range(50, 5, 100)"
   ]
  },
  {
   "cell_type": "code",
   "execution_count": 12,
   "id": "e8313f2a-0c8b-40f5-a2b5-eef1224b5090",
   "metadata": {},
   "outputs": [
    {
     "name": "stdin",
     "output_type": "stream",
     "text": [
      "Enter the percentage:- 78\n"
     ]
    },
    {
     "name": "stdout",
     "output_type": "stream",
     "text": [
      "Grade is B\n"
     ]
    }
   ],
   "source": [
    "#10.Create a Python program that determines the grade of a student based on their score using if-else.\n",
    "def grading_system(n):\n",
    "    if n >= 90:\n",
    "        print(\"Grade is A+\")\n",
    "    elif 80<=n<90:\n",
    "        print(\"Grade is A\")\n",
    "    elif 60<=n<80:\n",
    "        print(\"Grade is B\")\n",
    "    elif 45<=n<60:\n",
    "        print(\"Grade is C\")\n",
    "    elif 35<=n<45:\n",
    "        print(\"Grade is D\")\n",
    "    else:\n",
    "        print(\"Grade is E\")\n",
    "n = int(input(\"Enter the percentage:-\"))\n",
    "grading_system(n)"
   ]
  },
  {
   "cell_type": "code",
   "execution_count": 17,
   "id": "6f710328-49f5-4ad9-8691-572b0d4c5755",
   "metadata": {},
   "outputs": [
    {
     "name": "stdin",
     "output_type": "stream",
     "text": [
      "Enter the string:- pwskills\n"
     ]
    },
    {
     "name": "stdout",
     "output_type": "stream",
     "text": [
      "String is not empty & length of string is 8\n"
     ]
    }
   ],
   "source": [
    "#11.Write a Python program to check if a string is empty or not using if-else.\n",
    "string = input(\"Enter the string:-\")\n",
    "if len(string) == 0:\n",
    "    print(\"String is empty\")\n",
    "else:\n",
    "    print(\"String is not empty & length of string is\", len(string))"
   ]
  },
  {
   "cell_type": "code",
   "execution_count": 18,
   "id": "b162b2e0-f769-41ed-9528-f78b7ba1e7e6",
   "metadata": {},
   "outputs": [
    {
     "name": "stdin",
     "output_type": "stream",
     "text": [
      "Side a:- 5\n",
      "Side b:- 7\n",
      "Side c:- 9\n"
     ]
    },
    {
     "name": "stdout",
     "output_type": "stream",
     "text": [
      "Triangle is scalene\n"
     ]
    }
   ],
   "source": [
    "#12.Create a Python program that identifies the type of a triangle based on input values using if-else.\n",
    "#(e.g., equilateral, isosceles, or scalene)\n",
    "def check_triangle(a,b,c):\n",
    "    if a < b+c and b < a+c and c < a+b:\n",
    "        if a == b == c :\n",
    "            print(\"Triangle is equilateral\")\n",
    "        elif a==b!=c or a==c!=b or b == c !=a:\n",
    "            print(\"Triangle is isosceles\")\n",
    "        else:\n",
    "            print(\"Triangle is scalene\")\n",
    "    else:\n",
    "        print(\"Given lengths are not suitable to form a traiangle\")\n",
    "a = int(input(\"Side a:-\"))\n",
    "b = int(input(\"Side b:-\"))\n",
    "c = int(input(\"Side c:-\"))\n",
    "check_triangle(a,b,c)"
   ]
  },
  {
   "cell_type": "code",
   "execution_count": 19,
   "id": "9bad7794-edee-4be8-8104-7287c28516af",
   "metadata": {},
   "outputs": [
    {
     "name": "stdin",
     "output_type": "stream",
     "text": [
      "Enter the day number:- 6\n"
     ]
    },
    {
     "name": "stdout",
     "output_type": "stream",
     "text": [
      "The day of the week is: Saturday\n"
     ]
    }
   ],
   "source": [
    "#13.Write a Python program to determine the day of the week based on a user-provided number using if-else.\n",
    "day_number = int(input(\"Enter the day number:-\"))\n",
    "\n",
    "if day_number == 1:\n",
    "    day_of_week = \"Monday\"\n",
    "else:\n",
    "    if day_number == 2:\n",
    "        day_of_week = \"Tuesday\"\n",
    "    else:\n",
    "        if day_number == 3:\n",
    "            day_of_week = \"Wednesday\"\n",
    "        else:\n",
    "            if day_number == 4:\n",
    "                day_of_week = \"Thursday\"\n",
    "            else:\n",
    "                if day_number == 5:\n",
    "                    day_of_week = \"Friday\"\n",
    "                else:\n",
    "                    if day_number == 6:\n",
    "                        day_of_week = \"Saturday\"\n",
    "                    else:\n",
    "                        if day_number == 7:\n",
    "                            day_of_week = \"Sunday\"\n",
    "                        else:\n",
    "                            day_of_week = \"Invalid day number\"\n",
    "\n",
    "print(\"The day of the week is:\", day_of_week)"
   ]
  },
  {
   "cell_type": "code",
   "execution_count": 24,
   "id": "bcac13e7-2913-430a-8db7-4a4909169e03",
   "metadata": {},
   "outputs": [
    {
     "name": "stdin",
     "output_type": "stream",
     "text": [
      "Enter a year to check:- 2400\n"
     ]
    },
    {
     "name": "stdout",
     "output_type": "stream",
     "text": [
      "Given year is leap year.\n"
     ]
    }
   ],
   "source": [
    "#14.Create a Python program that checks if a given year is a leap year using both if-else and a function.\n",
    "def is_leap_year(year):\n",
    "    if year%4==0:\n",
    "        if year%100 != 0:\n",
    "            print(\"Given year is leap year.\")\n",
    "        else:\n",
    "            if year%400 == 0:\n",
    "                print(\"Given year is leap year.\")\n",
    "            else:\n",
    "                print(\"Given year is not a leap year.\")\n",
    "    else:\n",
    "        print(\"Given year is not a leap year.\")\n",
    "year = int(input(\"Enter a year to check:-\"))\n",
    "is_leap_year(year)"
   ]
  },
  {
   "cell_type": "code",
   "execution_count": 26,
   "id": "83c8730d-80f9-4ae4-b3ed-aae0756af4c5",
   "metadata": {},
   "outputs": [
    {
     "ename": "AssertionError",
     "evalue": "Start should be less than or equal to end!",
     "output_type": "error",
     "traceback": [
      "\u001b[0;31m---------------------------------------------------------------------------\u001b[0m",
      "\u001b[0;31mAssertionError\u001b[0m                            Traceback (most recent call last)",
      "Cell \u001b[0;32mIn[26], line 18\u001b[0m\n\u001b[1;32m     15\u001b[0m         \u001b[38;5;28mprint\u001b[39m(\u001b[38;5;124mf\u001b[39m\u001b[38;5;124m\"\u001b[39m\u001b[38;5;124mThe number \u001b[39m\u001b[38;5;132;01m{\u001b[39;00mnumber\u001b[38;5;132;01m}\u001b[39;00m\u001b[38;5;124m is not within the range of \u001b[39m\u001b[38;5;132;01m{\u001b[39;00mstart\u001b[38;5;132;01m}\u001b[39;00m\u001b[38;5;124m and \u001b[39m\u001b[38;5;132;01m{\u001b[39;00mend\u001b[38;5;132;01m}\u001b[39;00m\u001b[38;5;124m.\u001b[39m\u001b[38;5;124m\"\u001b[39m)\n\u001b[1;32m     17\u001b[0m \u001b[38;5;66;03m# Example usage\u001b[39;00m\n\u001b[0;32m---> 18\u001b[0m \u001b[43mcheck_range\u001b[49m\u001b[43m(\u001b[49m\u001b[38;5;241;43m7\u001b[39;49m\u001b[43m,\u001b[49m\u001b[43m \u001b[49m\u001b[38;5;241;43m10\u001b[39;49m\u001b[43m,\u001b[49m\u001b[43m \u001b[49m\u001b[38;5;241;43m1\u001b[39;49m\u001b[43m)\u001b[49m\n",
      "Cell \u001b[0;32mIn[26], line 10\u001b[0m, in \u001b[0;36mcheck_range\u001b[0;34m(number, start, end)\u001b[0m\n\u001b[1;32m      9\u001b[0m \u001b[38;5;28;01mdef\u001b[39;00m \u001b[38;5;21mcheck_range\u001b[39m(number, start, end):\n\u001b[0;32m---> 10\u001b[0m     \u001b[38;5;28;01massert\u001b[39;00m start \u001b[38;5;241m<\u001b[39m\u001b[38;5;241m=\u001b[39m end, \u001b[38;5;124m\"\u001b[39m\u001b[38;5;124mStart should be less than or equal to end!\u001b[39m\u001b[38;5;124m\"\u001b[39m\n\u001b[1;32m     12\u001b[0m     \u001b[38;5;28;01mif\u001b[39;00m number \u001b[38;5;241m>\u001b[39m\u001b[38;5;241m=\u001b[39m start \u001b[38;5;129;01mand\u001b[39;00m number \u001b[38;5;241m<\u001b[39m\u001b[38;5;241m=\u001b[39m end:\n\u001b[1;32m     13\u001b[0m         \u001b[38;5;28mprint\u001b[39m(\u001b[38;5;124mf\u001b[39m\u001b[38;5;124m\"\u001b[39m\u001b[38;5;124mThe number \u001b[39m\u001b[38;5;132;01m{\u001b[39;00mnumber\u001b[38;5;132;01m}\u001b[39;00m\u001b[38;5;124m is within the range of \u001b[39m\u001b[38;5;132;01m{\u001b[39;00mstart\u001b[38;5;132;01m}\u001b[39;00m\u001b[38;5;124m and \u001b[39m\u001b[38;5;132;01m{\u001b[39;00mend\u001b[38;5;132;01m}\u001b[39;00m\u001b[38;5;124m.\u001b[39m\u001b[38;5;124m\"\u001b[39m)\n",
      "\u001b[0;31mAssertionError\u001b[0m: Start should be less than or equal to end!"
     ]
    }
   ],
   "source": [
    "#15.How do you use the \"assert\" statement in Python to add debugging checks within if-else blocks?\n",
    "'''\n",
    "assert condition, message:-\n",
    "The \"assert\" statement evaluates the given condition. \n",
    "If the condition is true, the program continues execution without any issues.\n",
    "However, if the condition is false, it raises an AssertionError with the specified message.\n",
    "Here's an example:\n",
    "'''\n",
    "def check_range(number, start, end):\n",
    "    assert start <= end, \"Start should be less than or equal to end!\"\n",
    "    \n",
    "    if number >= start and number <= end:\n",
    "        print(f\"The number {number} is within the range of {start} and {end}.\")\n",
    "    else:\n",
    "        print(f\"The number {number} is not within the range of {start} and {end}.\")\n",
    "\n",
    "# Example usage\n",
    "check_range(7, 10, 1)"
   ]
  },
  {
   "cell_type": "code",
   "execution_count": 29,
   "id": "9cd340f9-61f1-4adf-8389-c6dcd2a449aa",
   "metadata": {},
   "outputs": [
    {
     "name": "stdin",
     "output_type": "stream",
     "text": [
      "Enter the age:- 64\n"
     ]
    },
    {
     "name": "stdout",
     "output_type": "stream",
     "text": [
      "Congratulations! You are eligible for a senior citizen discount.\n"
     ]
    }
   ],
   "source": [
    "'''16.Create a Python program that determines the eligibility of a person for a senior citizen \n",
    "discount based on age using if-else.'''\n",
    "def check_senior_citizen(age):\n",
    "    if age >= 60:\n",
    "        print(\"Congratulations! You are eligible for a senior citizen discount.\")\n",
    "    else:\n",
    "        print(\"Sorry, you are not eligible for a senior citizen discount.\")\n",
    "\n",
    "age = int(input(\"Enter the age:-\"))\n",
    "check_senior_citizen(age)"
   ]
  },
  {
   "cell_type": "code",
   "execution_count": 30,
   "id": "d28f6a5e-bb23-4ee3-bc83-690bc3086361",
   "metadata": {},
   "outputs": [
    {
     "name": "stdin",
     "output_type": "stream",
     "text": [
      "Enter a character:  r\n"
     ]
    },
    {
     "name": "stdout",
     "output_type": "stream",
     "text": [
      "The character is Lowercase.\n"
     ]
    }
   ],
   "source": [
    "#17.Write a Python program to categorize a given character as uppercase, lowercase, or neither using if-else.\n",
    "character = input(\"Enter a character: \")\n",
    "\n",
    "if character.isupper():\n",
    "    print(\"The character is Uppercase.\")\n",
    "elif character.islower():\n",
    "    print(\"The character is Lowercase.\")\n",
    "else:\n",
    "    print(\"The character is neither of both.\")"
   ]
  },
  {
   "cell_type": "code",
   "execution_count": 31,
   "id": "51d0ad90-f091-4be2-98c7-faf092f594d0",
   "metadata": {},
   "outputs": [
    {
     "name": "stdin",
     "output_type": "stream",
     "text": [
      "Enter the coefficient of x^2:- 2\n",
      "Enter the coefficient of x:- 5\n",
      "Enter the constant term:- 3\n"
     ]
    },
    {
     "name": "stdout",
     "output_type": "stream",
     "text": [
      "Roots are: -1.0 and -1.5\n"
     ]
    }
   ],
   "source": [
    "#18.Write a Python program to determine the roots of a quadratic equation using if-else.\n",
    "a = float(input(\"Enter the coefficient of x^2:-\"))\n",
    "b = float(input(\"Enter the coefficient of x:-\"))\n",
    "c = float(input(\"Enter the constant term:-\"))\n",
    "\n",
    "d = (b**2)-(4*a*c)\n",
    "\n",
    "if d > 0:\n",
    "    root1 = (((-b)+(d**0.5))/(2*a))\n",
    "    root2 = (((-b)-(d**0.5))/(2*a))\n",
    "    print(\"Roots are: {0} and {1}\".format(root1, root2))\n",
    "elif d == 0:\n",
    "    root = (-b)/(2*a)\n",
    "    print(\"Root is: {0}\".format(root))\n",
    "else:\n",
    "    real_part = -b / (2*a)\n",
    "    imaginary_part = (-d) / (2*a)\n",
    "    root1 = complex(real_part, imaginary_part)\n",
    "    root2 = complex(real_part, -imaginary_part)\n",
    "    print(\"Roots are imaginary and distinct which are: {0} and {1}\".format(root1, root2))"
   ]
  },
  {
   "cell_type": "code",
   "execution_count": 32,
   "id": "2f539be6-d79c-4c1c-9840-6a565c978971",
   "metadata": {},
   "outputs": [
    {
     "name": "stdout",
     "output_type": "stream",
     "text": [
      "The year 2000 is a century year.\n"
     ]
    }
   ],
   "source": [
    "#19.Create a Python program that checks if a given year is a century year or not using if-else.\n",
    "def check_century_year(year):\n",
    "    if year % 100 == 0:\n",
    "        print(\"The year\", year, \"is a century year.\")\n",
    "    else:\n",
    "        print(\"The year\", year, \"is not a century year.\")\n",
    "\n",
    "#Example\n",
    "check_century_year(2000)"
   ]
  },
  {
   "cell_type": "code",
   "execution_count": 45,
   "id": "090870f6-34d7-42d5-8fe6-bf8cc117701f",
   "metadata": {},
   "outputs": [
    {
     "name": "stdin",
     "output_type": "stream",
     "text": [
      "Enter the number:- 784\n"
     ]
    },
    {
     "name": "stdout",
     "output_type": "stream",
     "text": [
      "The numbr is prefect square\n"
     ]
    }
   ],
   "source": [
    "#20.Write a Python program to determine if a given number is a perfect square using if-else.\n",
    "n = int(input(\"Enter the number:-\"))\n",
    "is_perfect_square = False\n",
    "\n",
    "for i in range(1,n+1):\n",
    "    if n == i * i:\n",
    "        is_perfect_square = True\n",
    "        print(\"The numbr is prefect square\")\n",
    "        break\n",
    "else:\n",
    "        print(\"Given number is not a perfect square\")"
   ]
  },
  {
   "cell_type": "code",
   "execution_count": 6,
   "id": "8984268a-8002-44c5-a146-990340490901",
   "metadata": {},
   "outputs": [
    {
     "name": "stdout",
     "output_type": "stream",
     "text": [
      "Continue effect:- [1, 3, 5, 7, 9]\n",
      "Break effect:- [1]\n"
     ]
    }
   ],
   "source": [
    "#21.Explain the purpose of the \"continue\" and \"break\" statements within if-else loops.\n",
    "'''\n",
    "Continue and Break:- In for loop, when we use continue, it implies the we skip the values where the given condition\n",
    "is not fulfilled. \"Break\" statement push you out of loop is certain conditions do not meet. It is a best way to come\n",
    "out of loop prematurely.\n",
    "'''\n",
    "#Examples:-\n",
    "l_continue = []\n",
    "l_break = []\n",
    "for i in range(10):\n",
    "    if i%2 != 0:\n",
    "        l_continue.append(i)\n",
    "        continue\n",
    "for j in range(10):\n",
    "    if j%2 != 0:\n",
    "        l_break.append(j)\n",
    "        break\n",
    "print(\"Continue effect:-\", l_continue)\n",
    "print(\"Break effect:-\" , l_break)"
   ]
  },
  {
   "cell_type": "code",
   "execution_count": 9,
   "id": "e211e455-e142-4584-9b44-cbedfb874f69",
   "metadata": {},
   "outputs": [
    {
     "name": "stdin",
     "output_type": "stream",
     "text": [
      "Enter person's BMI:- 34.5\n"
     ]
    },
    {
     "name": "stdout",
     "output_type": "stream",
     "text": [
      "Person is Obese\n"
     ]
    }
   ],
   "source": [
    "#22.Create a Python program that calculates the BMI (Body Mass Index) of a person based on their weight and height\n",
    "\"using if-else.\"\n",
    "BMI = float(input(\"Enter person's BMI:-\")) #Body Mass Index\n",
    "if 0 < BMI < 18.5:\n",
    "    print(\"Person is Underweight\")\n",
    "elif 18.5 < BMI < 24.9:\n",
    "    print(\"Person is Normal\")\n",
    "elif 24.9 < BMI < 29.9:\n",
    "    print(\"Person is Overerweight\")\n",
    "elif 29.9 < BMI < 39.9:\n",
    "    print(\"Person is Obese\")\n",
    "elif BMI > 40:\n",
    "    print(\"Person is severely obese\")\n",
    "else:\n",
    "    print(\"Please Enter the correct input\")"
   ]
  },
  {
   "cell_type": "code",
   "execution_count": 15,
   "id": "4204ec58-ceb6-49f7-af70-118b94388e7a",
   "metadata": {},
   "outputs": [
    {
     "name": "stdout",
     "output_type": "stream",
     "text": [
      "Required filtered numbers are:- [0, 2, 4, 6, 8, 10, 12, 14, 16, 18]\n"
     ]
    }
   ],
   "source": [
    "#23.How can you use the \"filter()\" function with if-else statements to filter elements from a list?\n",
    "list_23 = list(range(20))\n",
    "def is_even(n):\n",
    "    if n%2 == 0:\n",
    "        return True\n",
    "    else:\n",
    "        return False\n",
    "filtered_number = list(filter(is_even, list_23))\n",
    "print(\"Required filtered numbers are:-\", filtered_number)"
   ]
  },
  {
   "cell_type": "code",
   "execution_count": 22,
   "id": "c758be36-7436-4780-8ed9-f0f812f13994",
   "metadata": {},
   "outputs": [
    {
     "name": "stdin",
     "output_type": "stream",
     "text": [
      "Enter the number to check:- 67\n"
     ]
    },
    {
     "name": "stdout",
     "output_type": "stream",
     "text": [
      "The given number is:- Prime\n"
     ]
    }
   ],
   "source": [
    "#24.Write a Python program to determine if a given number is prime or not using if-else.\n",
    "def is_prime(n):\n",
    "    if n<2:\n",
    "        return \"Not prime\"\n",
    "    else:\n",
    "        for i in range(2,int(n**0.5)+1):\n",
    "            if n%i == 0:\n",
    "                return \"Not prime\"\n",
    "            else:\n",
    "                return \"Prime\"\n",
    "        return \"Prime\"\n",
    "n = int(input(\"Enter the number to check:-\"))\n",
    "print(\"The given number is:-\",is_prime(n))"
   ]
  },
  {
   "cell_type": "code",
   "execution_count": 4,
   "id": "0844a438-02b4-41d5-bfd4-fff699fe2e08",
   "metadata": {},
   "outputs": [
    {
     "name": "stdout",
     "output_type": "stream",
     "text": [
      "[1, 8, 27, 64, 125]\n"
     ]
    }
   ],
   "source": [
    "'''Map :-\n",
    "1.Explain the purpose of the `map()` function in Python and provide an example of how it can be\n",
    "used to apply a function to each element of an iterable.'''\n",
    "def cube(x):\n",
    "    return x**3\n",
    "\n",
    "numbers = [1, 2, 3, 4, 5]\n",
    "\n",
    "cubed_numbers = list(map(cube, numbers))\n",
    "\n",
    "print(cubed_numbers)"
   ]
  },
  {
   "cell_type": "code",
   "execution_count": 5,
   "id": "6be3b22b-2d6c-4824-882e-ef2ea1a33a4a",
   "metadata": {},
   "outputs": [
    {
     "name": "stdout",
     "output_type": "stream",
     "text": [
      "[1, 4, 9, 16, 25]\n"
     ]
    }
   ],
   "source": [
    "#2.Write a Python program that uses the `map()` function to square each element of a list of numbers.\n",
    "def square(x):\n",
    "    return x**2\n",
    "\n",
    "numbers = [1, 2, 3, 4, 5]\n",
    "\n",
    "squared_numbers = list(map(square, numbers))\n",
    "\n",
    "print(squared_numbers)"
   ]
  },
  {
   "cell_type": "code",
   "execution_count": null,
   "id": "15dfdfaa-9dc1-481c-a74c-499a64fa7c3f",
   "metadata": {},
   "outputs": [],
   "source": [
    "#3.How does the `map()` function differ from a list comprehension in Python, and when would you choose one over the other?\n",
    "'''\n",
    "In Python,\n",
    "the `map()` function and list comprehensions are both used to transform elements in a list. \n",
    "\n",
    "The `map()` function applies a given function to each element of a list and returns a new list\n",
    "with the transformed values.It takes two arguments: the function to apply and the list to apply it to. \n",
    "\n",
    "On the other hand, a list comprehension is a concise way to create a new list by applying an expression\n",
    "to each element of an existing list. It has a specific syntax using square brackets and can include conditions or nested loops.\n",
    "\n",
    "When choosing between `map()` and list comprehensions, it often comes down to personal preference and readability.\n",
    "Some people find list comprehensions more readable and expressive, especially for simple transformations.\n",
    "However, `map()` can be useful when working with complex functions or when you want to apply the same function\n",
    "to multiple lists.\n",
    "Ultimately, it's up to you to decide which approach fits your coding style and the specific requirements of your program.\n",
    "'''"
   ]
  },
  {
   "cell_type": "code",
   "execution_count": 13,
   "id": "e8f71b02-b0c0-4f0f-8193-96fe1d2b5d03",
   "metadata": {},
   "outputs": [
    {
     "name": "stdout",
     "output_type": "stream",
     "text": [
      "['GOVIND', 'PWSKILLS', 'SUDH', 'PYTHON']\n"
     ]
    }
   ],
   "source": [
    "#4.Create a Python program that uses the `map()` function to convert a list of names to uppercase.\n",
    "def upper_case(string):\n",
    "    return string.upper()\n",
    "name_list = [\"govind\",\"pwskills\",\"sudh\",\"python\"]\n",
    "\n",
    "upper_case = list(map(upper_case,name_list))\n",
    "print(upper_case)"
   ]
  },
  {
   "cell_type": "code",
   "execution_count": 20,
   "id": "ee4078c1-ffa6-44b9-8e4b-7413b5e39a7b",
   "metadata": {},
   "outputs": [
    {
     "name": "stdout",
     "output_type": "stream",
     "text": [
      "Length of strings:- [6, 8, 4, 6]\n"
     ]
    }
   ],
   "source": [
    "#5.Write a Python program that uses the `map()` function to calculate the length of each word in a list of strings.\n",
    "def length(string):\n",
    "    return len(string)\n",
    "\n",
    "string_list = [\"govind\",\"pwskills\",\"sudh\",\"python\"]\n",
    "\n",
    "length = list(map(length,string_list))\n",
    "print(\"Length of strings:-\",length)"
   ]
  },
  {
   "cell_type": "code",
   "execution_count": 21,
   "id": "1752d252-03c5-4900-bc53-380c04afdba8",
   "metadata": {},
   "outputs": [
    {
     "name": "stdout",
     "output_type": "stream",
     "text": [
      "[5, 7, 9]\n"
     ]
    }
   ],
   "source": [
    "#6.How can you use the `map()` function to apply a custom function to elements of multiple lists simultaneously in Python?\n",
    "numbers1 = [1, 2, 3]\n",
    "numbers2 = [4, 5, 6]\n",
    "\n",
    "#Custom function to add corresponding elements from both lists\n",
    "def add_numbers(x, y):\n",
    "    return x + y\n",
    "\n",
    "#Using map() to apply the custom function to elements of both lists\n",
    "result = list(map(add_numbers, numbers1, numbers2))\n",
    "\n",
    "#Printing the result\n",
    "print(result)"
   ]
  },
  {
   "cell_type": "code",
   "execution_count": 22,
   "id": "21f3912c-0121-4a87-a86d-a0f18d26f9af",
   "metadata": {},
   "outputs": [
    {
     "name": "stdout",
     "output_type": "stream",
     "text": [
      "[77.0, 86.0, 59.0, 50.0, 68.0]\n"
     ]
    }
   ],
   "source": [
    "#7.Create a Python program that uses `map()` to convert a list of temperatures from Celsius to Fahrenheit.\n",
    "\n",
    "#List of temperatures in Celsius\n",
    "celsius_temperatures = [25, 30, 15, 10, 20]\n",
    "\n",
    "#Function to convert Celsius to Fahrenheit\n",
    "def celsius_to_fahrenheit(celsius):\n",
    "    return (celsius * 9/5) + 32\n",
    "\n",
    "#Using map() to convert temperatures to Fahrenheit\n",
    "fahrenheit_temperatures = list(map(celsius_to_fahrenheit, celsius_temperatures))\n",
    "\n",
    "#Printing the Fahrenheit temperatures\n",
    "print(fahrenheit_temperatures)"
   ]
  },
  {
   "cell_type": "code",
   "execution_count": 23,
   "id": "c7434bdb-3083-4f4b-becd-5a85332ac38b",
   "metadata": {},
   "outputs": [
    {
     "name": "stdout",
     "output_type": "stream",
     "text": [
      "[3, 3, 2, 5, 1]\n"
     ]
    }
   ],
   "source": [
    "'''\n",
    "8.Write a Python program that uses the `map()` function to round each element of a list of floating-point\n",
    "numbers to the nearest integer.\n",
    "'''\n",
    "float_numbers = [3.14, 2.718, 1.618, 4.669, 0.577]\n",
    "\n",
    "def round_to_nearest_integer(number):\n",
    "    return round(number)\n",
    "\n",
    "rounded_numbers = list(map(round_to_nearest_integer, float_numbers))\n",
    "\n",
    "print(rounded_numbers)"
   ]
  },
  {
   "cell_type": "code",
   "execution_count": 25,
   "id": "83a5568c-bf77-45eb-8a37-46d363f0dfba",
   "metadata": {},
   "outputs": [
    {
     "name": "stdout",
     "output_type": "stream",
     "text": [
      "Result:- 15\n"
     ]
    }
   ],
   "source": [
    "'''\n",
    "Reduce :-\n",
    "1.What is the `reduce()` function in Python, and what module should you import to use it? Provide an\n",
    "example of its basic usage.\n",
    "'''\n",
    "#To use the `reduce()` function, you need to import the `functools` module.\n",
    "from functools import reduce\n",
    "\n",
    "numbers = [1, 2, 3, 4, 5]\n",
    "def add_numbers(x, y):\n",
    "    return x + y\n",
    "\n",
    "result = reduce(add_numbers, numbers)\n",
    "\n",
    "print(\"Result:-\",result)"
   ]
  },
  {
   "cell_type": "code",
   "execution_count": 28,
   "id": "8614a851-2d13-4960-888c-061de984638e",
   "metadata": {},
   "outputs": [
    {
     "name": "stdout",
     "output_type": "stream",
     "text": [
      "Product:- 120\n"
     ]
    }
   ],
   "source": [
    "#2.Write a Python program that uses the `reduce()` function to find the product of all elements in a list.\n",
    "from functools import reduce\n",
    "\n",
    "numbers = [1,2,3,4,5]\n",
    "def product(x,y):\n",
    "    return x * y\n",
    "\n",
    "result = reduce(product, numbers)\n",
    "print(\"Product:-\",result)"
   ]
  },
  {
   "cell_type": "code",
   "execution_count": 33,
   "id": "8dc217aa-615a-4506-a209-730456200870",
   "metadata": {},
   "outputs": [
    {
     "name": "stdout",
     "output_type": "stream",
     "text": [
      "12\n"
     ]
    }
   ],
   "source": [
    "#3.Create a Python program that uses `reduce()` to find the maximum element in a list of numbers.\n",
    "from functools import reduce\n",
    "\n",
    "numbers = [10, 5, 8, 12, 3]\n",
    "def find_maximum(x, y):\n",
    "    return max(x, y)\n",
    "\n",
    "maximum = reduce(find_maximum, numbers)\n",
    "\n",
    "print(maximum)"
   ]
  },
  {
   "cell_type": "code",
   "execution_count": 34,
   "id": "681c2a2a-4221-4762-a190-d84f9dd427d3",
   "metadata": {},
   "outputs": [
    {
     "name": "stdout",
     "output_type": "stream",
     "text": [
      "Helloworld!Iamhere\n"
     ]
    }
   ],
   "source": [
    "#4.How can you use the `reduce()` function to concatenate a list of strings into a single string?\n",
    "from functools import reduce\n",
    "\n",
    "strings = ['Hello', 'world', '!', 'I', 'am', 'here']\n",
    "\n",
    "def concatenate_strings(x, y):\n",
    "    return x + y\n",
    "\n",
    "concatenated_string = reduce(concatenate_strings, strings)\n",
    "print(concatenated_string)"
   ]
  },
  {
   "cell_type": "code",
   "execution_count": 35,
   "id": "a4d95d6c-16a3-42ff-85cc-01c743548846",
   "metadata": {},
   "outputs": [
    {
     "name": "stdin",
     "output_type": "stream",
     "text": [
      "Enter a number:  6\n"
     ]
    },
    {
     "name": "stdout",
     "output_type": "stream",
     "text": [
      "The factorial of 6 is: 720\n"
     ]
    }
   ],
   "source": [
    "#5.Write a Python program that calculates the factorial of a number using the `reduce()` function.\n",
    "from functools import reduce\n",
    "\n",
    "def calculate_factorial(n):\n",
    "    return reduce(lambda x, y: x * y, range(1, n+1))\n",
    "\n",
    "number = int(input(\"Enter a number: \"))\n",
    "\n",
    "factorial = calculate_factorial(number)\n",
    "\n",
    "print(f\"The factorial of {number} is: {factorial}\")"
   ]
  },
  {
   "cell_type": "code",
   "execution_count": 38,
   "id": "8ceab519-fe04-4f8b-9519-6a7707695eb8",
   "metadata": {},
   "outputs": [
    {
     "name": "stdout",
     "output_type": "stream",
     "text": [
      "Greatest Common Divisor:- 4\n"
     ]
    }
   ],
   "source": [
    "#6.Create a Python program that uses `reduce()` to find the GCD (Greatest Common Divisor) of a list of numbers.\n",
    "from functools import reduce\n",
    "from math import gcd\n",
    "\n",
    "number = [24, 48, 60, 80, 112]\n",
    "\n",
    "GCD = reduce(gcd, number)\n",
    "print(\"Greatest Common Divisor:-\",GCD)"
   ]
  },
  {
   "cell_type": "code",
   "execution_count": 39,
   "id": "bb249e12-4187-44f9-a4af-7c8816c55052",
   "metadata": {},
   "outputs": [
    {
     "name": "stdin",
     "output_type": "stream",
     "text": [
      "Enter a number:  987\n"
     ]
    },
    {
     "name": "stdout",
     "output_type": "stream",
     "text": [
      "The sum of digits of 987 is: 24\n"
     ]
    }
   ],
   "source": [
    "#7.Write a Python program that uses the `reduce()` function to find the sum of the digits of a given number.\n",
    "from functools import reduce\n",
    "\n",
    "def calculate_sum_of_digits(number):\n",
    "    return reduce(lambda x, y: int(x) + int(y), str(number))\n",
    "\n",
    "number = int(input(\"Enter a number: \"))\n",
    "sum_of_digits = calculate_sum_of_digits(number)\n",
    "\n",
    "print(f\"The sum of digits of {number} is: {sum_of_digits}\")"
   ]
  },
  {
   "cell_type": "code",
   "execution_count": 2,
   "id": "3df8573a-0dcb-4e64-b98c-317f0a9f0207",
   "metadata": {},
   "outputs": [
    {
     "name": "stdout",
     "output_type": "stream",
     "text": [
      "[1, 3, 5, 7, 9]\n"
     ]
    }
   ],
   "source": [
    "'''\n",
    "Filter :-\n",
    "1.Explain the purpose of the `filter()` function in Python and provide an example of how it can be\n",
    "used to filter elements from an iterable.\n",
    "'''\n",
    "#Filter:-\n",
    "'''The `filter()` function in Python is used to filter out elements from an iterable based on a specified condition.\n",
    "It takes two arguments: a function that defines the condition and an iterable (such as a list or tuple) that contains\n",
    "the elements to be filtered.i.e:-'''\n",
    "\n",
    "def is_odd(n):\n",
    "    return n%2 != 0\n",
    "numbers = list(range(10))\n",
    "filtered_number = list(filter(is_odd,numbers))\n",
    "\n",
    "print(filtered_number)"
   ]
  },
  {
   "cell_type": "code",
   "execution_count": 3,
   "id": "a174ed92-9ee7-41e8-9955-38d42623ae52",
   "metadata": {},
   "outputs": [
    {
     "name": "stdout",
     "output_type": "stream",
     "text": [
      "[0, 2, 4, 6, 8]\n"
     ]
    }
   ],
   "source": [
    "#2.Write a Python program that uses the `filter()` function to select even numbers from a list of integers.\n",
    "def is_even(n):\n",
    "    return n%2 == 0\n",
    "numbers = list(range(10))\n",
    "filtered_number = list(filter(is_even,numbers))\n",
    "\n",
    "print(filtered_number)"
   ]
  },
  {
   "cell_type": "code",
   "execution_count": 11,
   "id": "fc73cef5-9933-4355-8e52-5a2dce01eff2",
   "metadata": {},
   "outputs": [
    {
     "name": "stdin",
     "output_type": "stream",
     "text": [
      "Enter the letter:- P\n"
     ]
    },
    {
     "name": "stdout",
     "output_type": "stream",
     "text": [
      "['Pwskills', 'Pankaj']\n"
     ]
    }
   ],
   "source": [
    "'''\n",
    "3.Create a Python program that uses the `filter()` function to select names that start with a specific letter\n",
    "from a list of strings.\n",
    "'''\n",
    "names = [\"Pwskills\",\"Pankaj\",\"Govind\", \"Laptop\"]\n",
    "letter = input(\"Enter the letter:-\").upper()\n",
    "filtered_names = list(filter(lambda name : name.startswith(letter), names))\n",
    "print(filtered_names)"
   ]
  },
  {
   "cell_type": "code",
   "execution_count": 12,
   "id": "86c0e89c-5a0e-4345-8828-cfd6638427e3",
   "metadata": {},
   "outputs": [
    {
     "name": "stdout",
     "output_type": "stream",
     "text": [
      "[2, 3, 5, 7]\n"
     ]
    }
   ],
   "source": [
    "#4.Write a Python program that uses the `filter()` function to select prime numbers from a list of integers.\n",
    "numbers = [2, 3, 4, 5, 6, 7, 8, 9, 10]\n",
    "def is_prime(num):\n",
    "    if num < 2:\n",
    "        return False\n",
    "    for i in range(2, int(num**0.5) + 1):\n",
    "        if num % i == 0:\n",
    "            return False\n",
    "    return True\n",
    "\n",
    "prime_numbers = list(filter(is_prime, numbers))\n",
    "print(prime_numbers)"
   ]
  },
  {
   "cell_type": "code",
   "execution_count": 13,
   "id": "a84e6743-4ced-4d7b-8cc3-9848ed6330d3",
   "metadata": {},
   "outputs": [
    {
     "name": "stdout",
     "output_type": "stream",
     "text": [
      "[1, 'Hello', 3.14]\n"
     ]
    }
   ],
   "source": [
    "#5.How can you use the `filter()` function to remove None values from a list in Python?\n",
    "my_list = [1, None, \"Hello\", None, 3.14, None]\n",
    "\n",
    "filtered_list = list(filter(lambda x: x is not None, my_list))\n",
    "\n",
    "print(filtered_list)"
   ]
  },
  {
   "cell_type": "code",
   "execution_count": 14,
   "id": "0f70e61e-ca1d-4b28-b93f-403fa441fee8",
   "metadata": {},
   "outputs": [
    {
     "name": "stdout",
     "output_type": "stream",
     "text": [
      "['dragonfruit', 'elephant']\n"
     ]
    }
   ],
   "source": [
    "#6.Create a Python program that uses `filter()` to select words longer than a certain length from a list of strings.\n",
    "\n",
    "words = [\"apple\", \"banana\", \"carrot\", \"dragonfruit\", \"elephant\"]\n",
    "min_length = 6\n",
    "\n",
    "filtered_words = list(filter(lambda word: len(word) > min_length, words))\n",
    "print(filtered_words)"
   ]
  },
  {
   "cell_type": "code",
   "execution_count": 15,
   "id": "8394de3c-666c-4a05-b60f-0b0909255573",
   "metadata": {},
   "outputs": [
    {
     "name": "stdout",
     "output_type": "stream",
     "text": [
      "[25, 30]\n"
     ]
    }
   ],
   "source": [
    "'''\n",
    "7.Write a Python program that uses the `filter()` function to select elements greater than a specified\n",
    "threshold from a list of values.\n",
    "'''\n",
    "values = [10, 15, 20, 25, 30]\n",
    "threshold = 20\n",
    "\n",
    "filtered_values = list(filter(lambda x: x > threshold, values))\n",
    "print(filtered_values)"
   ]
  },
  {
   "cell_type": "code",
   "execution_count": null,
   "id": "f5f6074e-9730-4be7-885e-f4819da8e317",
   "metadata": {},
   "outputs": [],
   "source": [
    "'''\n",
    "Recursion:-\n",
    "1.Explain the concept of recursion in Python. How does it differ from iteration?\n",
    "'''\n",
    "'''Recursion in Python is when a function calls itself within its own definition. It's like a loop,\n",
    "but instead of using iteration, it uses self-reference. Recursion is useful when solving problems that can be\n",
    "broken down into smaller, similar subproblems.\n",
    "In contrast, iteration involves using loops (like for or while) to repeatedly execute a block of code\n",
    "until a certain condition is met. It's a more straightforward and explicit way of repeating a task.\n",
    "'''"
   ]
  },
  {
   "cell_type": "code",
   "execution_count": 6,
   "id": "1ccc5652-2bc4-4255-bd76-b28ec7bdc1a1",
   "metadata": {},
   "outputs": [
    {
     "name": "stdin",
     "output_type": "stream",
     "text": [
      "Enter the number:- 5\n"
     ]
    },
    {
     "name": "stdout",
     "output_type": "stream",
     "text": [
      "Factorial of the given number is:- 120\n"
     ]
    }
   ],
   "source": [
    "#2.Write a Python program to calculate the factorial of a number using recursion.\n",
    "def fact(n):\n",
    "    if n == 0:\n",
    "        return 1\n",
    "    else:\n",
    "        return n*fact(n-1)\n",
    "n = int(input(\"Enter the number:-\"))\n",
    "print(\"Factorial of the given number is:-\", fact(n))"
   ]
  },
  {
   "cell_type": "code",
   "execution_count": 10,
   "id": "341b27cf-294b-4ab5-976d-b2d9db74581e",
   "metadata": {},
   "outputs": [
    {
     "name": "stdin",
     "output_type": "stream",
     "text": [
      "Enter the number:- 10\n"
     ]
    },
    {
     "name": "stdout",
     "output_type": "stream",
     "text": [
      "The given fibonacci number:- 55\n"
     ]
    }
   ],
   "source": [
    "#3.Create a recursive Python function to find the nth Fibonacci number.\n",
    "def fib(n):\n",
    "    if n<=1:\n",
    "        return n\n",
    "    else:\n",
    "        return fib(n-1)+fib(n-2)\n",
    "n = int(input(\"Enter the number:-\"))\n",
    "print(\"The given fibonacci number:-\" , fib(n))"
   ]
  },
  {
   "cell_type": "code",
   "execution_count": 19,
   "id": "39256e12-1ed6-41db-872c-859eedb5f397",
   "metadata": {},
   "outputs": [
    {
     "name": "stdout",
     "output_type": "stream",
     "text": [
      "Sum of list:- 49\n"
     ]
    }
   ],
   "source": [
    "#4.Write a recursive Python function to calculate the sum of all elements in a list.\n",
    "list_4 = [5,6,7,8,9,3,11]\n",
    "def rec_sum(l):\n",
    "    if len(l) == 0:\n",
    "        return 0\n",
    "    else:\n",
    "        return l[0]+ rec_sum(l[1:])\n",
    "print(\"Sum of list:-\",rec_sum(list_4))"
   ]
  },
  {
   "cell_type": "code",
   "execution_count": null,
   "id": "75189b1e-2ea7-45db-8972-742b168fa554",
   "metadata": {},
   "outputs": [],
   "source": [
    "#5.How can you prevent a recursive function from running indefinitely, causing a stack overflow error?\n",
    "'''\n",
    "To prevent a recursive function from running indefinitely and causing a stack overflow error,\n",
    "you can use a technique called \"base case\" or \"stopping condition. \n",
    "In a recursive function, the base case is a condition that, when met, stops the function from making further recursive calls.\n",
    "It ensures that the function eventually reaches a terminating point.\n",
    "'''"
   ]
  },
  {
   "cell_type": "code",
   "execution_count": 20,
   "id": "b23018ad-4f89-4d25-8345-31bb57ae3407",
   "metadata": {},
   "outputs": [
    {
     "name": "stdout",
     "output_type": "stream",
     "text": [
      "The GCD of 36 and 48 is: 12\n"
     ]
    }
   ],
   "source": [
    "#6.Create a recursive Python function to find the greatest common divisor (GCD) of two numbers using the Euclidean algorithm.\n",
    "def gcd(a, b):\n",
    "    if b == 0:\n",
    "        return a\n",
    "    else:\n",
    "        return gcd(b, a % b)\n",
    "\n",
    "num1 = 36\n",
    "num2 = 48\n",
    "result = gcd(num1, num2)\n",
    "print(\"The GCD of\", num1, \"and\", num2, \"is:\", result)"
   ]
  },
  {
   "cell_type": "code",
   "execution_count": 22,
   "id": "f2559415-5daf-4b38-bee0-182a8421098d",
   "metadata": {},
   "outputs": [
    {
     "name": "stdout",
     "output_type": "stream",
     "text": [
      "!dlroW olleH\n"
     ]
    }
   ],
   "source": [
    "#7.Write a recursive Python function to reverse a string.\n",
    "def reverse_string(string):\n",
    "    if len(string) == 0:\n",
    "        return string\n",
    "    else:\n",
    "        return reverse_string(string[1:]) + string[0]\n",
    "\n",
    "text = \"Hello World!\"\n",
    "reversed_text = reverse_string(text)\n",
    "print(reversed_text)"
   ]
  },
  {
   "cell_type": "code",
   "execution_count": 24,
   "id": "fd06f5ac-9add-4ffc-87ac-6adc4228ca2d",
   "metadata": {},
   "outputs": [
    {
     "name": "stdout",
     "output_type": "stream",
     "text": [
      "125\n"
     ]
    }
   ],
   "source": [
    "#8.Create a recursive Python function to calculate the power of a number (x^n).\n",
    "def power(x, n):\n",
    "    if n == 0:\n",
    "        return 1\n",
    "    elif n > 0:\n",
    "        return x * power(x, n-1)\n",
    "    else:\n",
    "        return 1 / power(x, -n)\n",
    "\n",
    "base = 5\n",
    "exponent = 3\n",
    "result = power(base, exponent)\n",
    "print(result)"
   ]
  },
  {
   "cell_type": "code",
   "execution_count": 25,
   "id": "b0e7970f-b635-452a-8f9d-137b691b0702",
   "metadata": {},
   "outputs": [
    {
     "name": "stdout",
     "output_type": "stream",
     "text": [
      "['abc', 'acb', 'bac', 'bca', 'cab', 'cba']\n"
     ]
    }
   ],
   "source": [
    "#9.Write a recursive Python function to find all permutations of a given string.\n",
    "def permute_string(string):\n",
    "    if len(string) == 1:\n",
    "        return [string]\n",
    "\n",
    "    permutations = []\n",
    "    for i in range(len(string)):\n",
    "        char = string[i]\n",
    "        remaining_chars = string[:i] + string[i+1:]\n",
    "        for perm in permute_string(remaining_chars):\n",
    "            permutations.append(char + perm)\n",
    "\n",
    "    return permutations\n",
    "\n",
    "text = \"abc\"\n",
    "permutations = permute_string(text)\n",
    "print(permutations)"
   ]
  },
  {
   "cell_type": "code",
   "execution_count": 26,
   "id": "ac16ffa6-b726-47ac-850c-74b1b6b805a2",
   "metadata": {},
   "outputs": [
    {
     "name": "stdout",
     "output_type": "stream",
     "text": [
      "The string is a palindrome.\n"
     ]
    }
   ],
   "source": [
    "#10.Write a recursive Python function to check if a string is a palindrome.\n",
    "def is_palindrome(string):\n",
    "    if len(string) <= 1:\n",
    "        return True\n",
    "    if string[0] != string[-1]:\n",
    "        return False\n",
    "    return is_palindrome(string[1:-1])\n",
    "\n",
    "text = \"level\"\n",
    "if is_palindrome(text):\n",
    "    print(\"The string is a palindrome.\")\n",
    "else:\n",
    "    print(\"The string is not a palindrome.\")"
   ]
  },
  {
   "cell_type": "code",
   "execution_count": 27,
   "id": "9f77a84d-6698-4f25-a5ac-0f4277471820",
   "metadata": {},
   "outputs": [
    {
     "name": "stdout",
     "output_type": "stream",
     "text": [
      "[[], [1], [2], [1, 2], [3], [1, 3], [2, 3], [1, 2, 3]]\n"
     ]
    }
   ],
   "source": [
    "#11.Create a recursive Python function to generate all possible combinations of a list of elements.\n",
    "def generate_combinations(elements):\n",
    "    if len(elements) == 0:\n",
    "        return [[]]\n",
    "    else:\n",
    "        first = elements[0]\n",
    "        rest = elements[1:]\n",
    "        combinations = generate_combinations(rest)\n",
    "        new_combinations = []\n",
    "        for combination in combinations:\n",
    "            new_combinations.append(combination)\n",
    "            new_combinations.append([first] + combination)\n",
    "        return new_combinations\n",
    "\n",
    "elements = [1, 2, 3]\n",
    "combinations = generate_combinations(elements)\n",
    "print(combinations)"
   ]
  },
  {
   "cell_type": "code",
   "execution_count": null,
   "id": "8a84dd47-06a9-41a1-994f-d033aa9147d2",
   "metadata": {},
   "outputs": [],
   "source": [
    "'''Basics of Functions:\n",
    "1.What is a function in Python, and why is it used?\n",
    "\"Function:-\"\n",
    "In Python, a function is a block of reusable code that performs a specific task. It's like a mini-program within\n",
    "your larger program. Functions are used to break down complex tasks into smaller, more manageable pieces of code.\n",
    "Functions have a name and can take in inputs, called arguments or parameters, which are values passed into the function.\n",
    "The function then performs a series of operations on these inputs and can optionally return a value as output.\n",
    "'''"
   ]
  },
  {
   "cell_type": "code",
   "execution_count": 1,
   "id": "7d356675-071f-4f75-83dc-ae484a7c3fb6",
   "metadata": {},
   "outputs": [
    {
     "name": "stdout",
     "output_type": "stream",
     "text": [
      "7\n"
     ]
    }
   ],
   "source": [
    "#2.How do you define a function in Python? Provide an example.\n",
    "'''\n",
    "To define a function in Python, you use the `def` keyword followed by the function name,\n",
    "parentheses for any parameters, and a colon to indicate the start of the function block.\n",
    "'''\n",
    "#Example:-\n",
    "def add_numbers(a, b):\n",
    "    return a + b\n",
    "\n",
    "result = add_numbers(3, 4)\n",
    "print(result) "
   ]
  },
  {
   "cell_type": "code",
   "execution_count": 3,
   "id": "83eae921-a4e1-4309-b459-0c9d1b6a2348",
   "metadata": {},
   "outputs": [
    {
     "name": "stdout",
     "output_type": "stream",
     "text": [
      "12\n"
     ]
    }
   ],
   "source": [
    "#3.Explain the difference between a function definition and a function call.\n",
    "#Function definition\n",
    "def multiply(a, b):\n",
    "    result = a * b\n",
    "    return result\n",
    "\n",
    "#Function call\n",
    "product = multiply(3, 4)\n",
    "print(product)"
   ]
  },
  {
   "cell_type": "code",
   "execution_count": 4,
   "id": "95c13e8b-9a35-4dd2-85fa-2339aa28b88c",
   "metadata": {},
   "outputs": [
    {
     "data": {
      "text/plain": [
       "9"
      ]
     },
     "execution_count": 4,
     "metadata": {},
     "output_type": "execute_result"
    }
   ],
   "source": [
    "#4.Write a Python program that defines a function to calculate the sum of two numbers and then calls the function.\n",
    "#define\n",
    "def sum_of(a,b):\n",
    "    return a + b\n",
    "#call:\n",
    "sum_of(2,7)"
   ]
  },
  {
   "cell_type": "code",
   "execution_count": null,
   "id": "a5efd496-91b8-4100-b2ae-dca18fc9dd6d",
   "metadata": {},
   "outputs": [],
   "source": [
    "#5.What is a function signature, and what information does it typically include?\n",
    "'''\n",
    "A function signature is like a summary of a function, including its name, parameters, and return type.\n",
    "It helps you understand how to use the function. For example, the function signature for an \"add_numbers\"\n",
    "function that takes two integers as parameters and returns an integer would be: \"add_numbers(a: int, b: int) -> int\".\n",
    "'''"
   ]
  },
  {
   "cell_type": "code",
   "execution_count": 5,
   "id": "b58b9ee0-aa12-404f-844b-5e01549f7656",
   "metadata": {},
   "outputs": [
    {
     "name": "stdout",
     "output_type": "stream",
     "text": [
      "12\n"
     ]
    }
   ],
   "source": [
    "#6.Create a Python function that takes two arguments and returns their product.\n",
    "def multiply(a, b):\n",
    "    result = a * b\n",
    "    return result\n",
    "\n",
    "product = multiply(3, 4)\n",
    "print(product)"
   ]
  },
  {
   "cell_type": "code",
   "execution_count": 7,
   "id": "8f7e441e-c6e8-4263-9fe6-e2877ab0de8d",
   "metadata": {},
   "outputs": [
    {
     "name": "stdout",
     "output_type": "stream",
     "text": [
      "Hello, python!\n"
     ]
    }
   ],
   "source": [
    "'''Function Parameters and Arguments:\n",
    "1.Explain the concepts of formal parameters and actual arguments in Python functions.\n",
    "'''\n",
    "def greet(name): #\"name\" is formal parameter, which is also a place holder.\n",
    "    print(\"Hello, \" + name + \"!\")\n",
    "\n",
    "greet(\"python\") #Here \"Alice\" is actual arguement of function greet()."
   ]
  },
  {
   "cell_type": "code",
   "execution_count": 8,
   "id": "bc0f49dd-0924-4d36-9bfe-4cfb63e0fc07",
   "metadata": {},
   "outputs": [
    {
     "name": "stdout",
     "output_type": "stream",
     "text": [
      "Hello, friend!\n",
      "Hello, pwskills!\n"
     ]
    }
   ],
   "source": [
    "#2.Write a Python program that defines a function with default argument values.\n",
    "def greet(name=\"friend\"):\n",
    "    print(\"Hello, \" + name + \"!\")\n",
    "\n",
    "greet()  # Output: Hello, friend!\n",
    "greet(\"pwskills\")  # Output: Hello, pwskills!"
   ]
  },
  {
   "cell_type": "code",
   "execution_count": 10,
   "id": "39d05e13-44b1-49be-aa74-ad4d77772950",
   "metadata": {},
   "outputs": [
    {
     "name": "stdout",
     "output_type": "stream",
     "text": [
      "Hello, govind! You are 27 years old.\n"
     ]
    }
   ],
   "source": [
    "#3.How do you use keyword arguments in Python function calls? Provide an example.\n",
    "'''\n",
    "To use keyword arguments in Python function calls, you can explicitly specify the parameter names along\n",
    "with their corresponding values. This allows you to pass arguments to a function in any order, regardless of\n",
    "their position in the function definition.\n",
    "Here's an example:\n",
    "'''\n",
    "def greet(name, age):\n",
    "    print(\"Hello, \" + name + \"! You are \" + str(age) + \" years old.\")\n",
    "\n",
    "greet(name=\"govind\", age=27)"
   ]
  },
  {
   "cell_type": "code",
   "execution_count": 11,
   "id": "2fcff149-ca50-473b-8e90-6adb23906b6f",
   "metadata": {},
   "outputs": [
    {
     "name": "stdout",
     "output_type": "stream",
     "text": [
      "15\n"
     ]
    }
   ],
   "source": [
    "#4.Create a Python function that accepts a variable number of arguments and calculates their sum.\n",
    "def calculate_sum(*args):\n",
    "    total = sum(args)\n",
    "    return total\n",
    "\n",
    "result = calculate_sum(1, 2, 3, 4, 5)\n",
    "print(result)"
   ]
  },
  {
   "cell_type": "code",
   "execution_count": 12,
   "id": "357966d9-c203-40ec-99ce-9f400e7b7da2",
   "metadata": {},
   "outputs": [
    {
     "name": "stdout",
     "output_type": "stream",
     "text": [
      "1\n",
      "2\n",
      "3\n",
      "name Pwskills\n",
      "age 25\n"
     ]
    }
   ],
   "source": [
    "#5.What is the purpose of the `*args` and `**kwargs` syntax in function parameter lists?\n",
    "'''\n",
    "The `*args` syntax is used to pass a variable number of non-keyword arguments to a function. \n",
    "The `**kwargs` syntax is used to pass a variable number of keyword arguments to a function.\n",
    "'''\n",
    "def example_function(*args, **kwargs):\n",
    "    for arg in args:\n",
    "        print(arg)\n",
    "    for key, value in kwargs.items():\n",
    "        print(key, value)\n",
    "\n",
    "example_function(1, 2, 3, name=\"Pwskills\", age=25)"
   ]
  },
  {
   "cell_type": "code",
   "execution_count": 13,
   "id": "0382deb0-b9cf-4eb3-bbbd-0cae02cf2887",
   "metadata": {},
   "outputs": [
    {
     "name": "stdout",
     "output_type": "stream",
     "text": [
      "7\n"
     ]
    }
   ],
   "source": [
    "'''\n",
    "Return Values and Scoping:\n",
    "1.Describe the role of the `return` statement in Python functions and provide examples.\n",
    "\n",
    "The `return` statement is used to specify the value that a function should return when it is called.\n",
    "It allows a function to compute a result or perform some actions and then provide that result back to the code\n",
    "that called the function. Once a `return` statement is encountered in a function, the function immediately exits\n",
    "and returns the specified value.\n",
    "Here's an example to illustrate the usage of the `return` statement:\n",
    "'''\n",
    "\n",
    "def add_numbers(a, b):\n",
    "    result = a + b\n",
    "    return result\n",
    "\n",
    "sum = add_numbers(3, 4)\n",
    "print(sum) "
   ]
  },
  {
   "cell_type": "code",
   "execution_count": 15,
   "id": "df0576d3-879e-4f5b-9bce-dae36f09ccb3",
   "metadata": {},
   "outputs": [
    {
     "name": "stdout",
     "output_type": "stream",
     "text": [
      "10\n"
     ]
    },
    {
     "ename": "NameError",
     "evalue": "name 'x' is not defined",
     "output_type": "error",
     "traceback": [
      "\u001b[0;31m---------------------------------------------------------------------------\u001b[0m",
      "\u001b[0;31mNameError\u001b[0m                                 Traceback (most recent call last)",
      "Cell \u001b[0;32mIn[15], line 12\u001b[0m\n\u001b[1;32m      9\u001b[0m     \u001b[38;5;28mprint\u001b[39m(x)\n\u001b[1;32m     11\u001b[0m my_function()\n\u001b[0;32m---> 12\u001b[0m \u001b[38;5;28mprint\u001b[39m(\u001b[43mx\u001b[49m)  \u001b[38;5;66;03m#Error: NameError: name 'x' is not defined\u001b[39;00m\n\u001b[1;32m     13\u001b[0m \u001b[38;5;28mprint\u001b[39m(y)\n",
      "\u001b[0;31mNameError\u001b[0m: name 'x' is not defined"
     ]
    }
   ],
   "source": [
    "#2.Explain the concept of variable scope in Python, including local and global variables.\n",
    "'''\n",
    "There are local variables, which are only accessible within a function, and global variables,\n",
    "which can be accessed from anywhere in the program.\n",
    "'''\n",
    "y = 100 #Global variable\n",
    "def my_function():\n",
    "    x = 10  #Local variable\n",
    "    print(x)\n",
    "\n",
    "my_function()\n",
    "print(x)  #Error: NameError: name 'x' is not defined\n",
    "print(y)"
   ]
  },
  {
   "cell_type": "code",
   "execution_count": 16,
   "id": "3a71e203-e1b2-484d-a7fa-f9443da97bc5",
   "metadata": {},
   "outputs": [
    {
     "name": "stdout",
     "output_type": "stream",
     "text": [
      "Inside the function: 10\n",
      "Outside the function: 10\n"
     ]
    }
   ],
   "source": [
    "#3.Write a Python program that demonstrates the use of global variables within functions.\n",
    "# Define a global variable\n",
    "x = 10\n",
    "\n",
    "def my_function():\n",
    "    #Access the global variable inside the function\n",
    "    global x\n",
    "    print(\"Inside the function:\", x)\n",
    "\n",
    "#Call the function\n",
    "my_function()\n",
    "\n",
    "#Access the global variable outside the function\n",
    "print(\"Outside the function:\", x)"
   ]
  },
  {
   "cell_type": "code",
   "execution_count": 17,
   "id": "f7538ecb-072f-4902-9b9e-cfe0b283b4b3",
   "metadata": {},
   "outputs": [
    {
     "data": {
      "text/plain": [
       "120"
      ]
     },
     "execution_count": 17,
     "metadata": {},
     "output_type": "execute_result"
    }
   ],
   "source": [
    "#4.Create a Python function that calculates the factorial of a number and returns it.\n",
    "def fact(n):\n",
    "    if n==0:\n",
    "        return 1\n",
    "    else:\n",
    "        return n*fact(n-1)\n",
    "fact(5)    "
   ]
  },
  {
   "cell_type": "code",
   "execution_count": 18,
   "id": "34685e06-2ad4-4f8c-86c8-5c0ea992b570",
   "metadata": {},
   "outputs": [
    {
     "name": "stdout",
     "output_type": "stream",
     "text": [
      "10\n"
     ]
    }
   ],
   "source": [
    "#5.How can you access variables defined outside a function from within the function?\n",
    "x = 10  # Define a global variable\n",
    "\n",
    "def my_function():\n",
    "    global x  # Access the global variable\n",
    "    print(x)  # Print the value of the global variable\n",
    "\n",
    "my_function()  # Call the function"
   ]
  },
  {
   "cell_type": "code",
   "execution_count": null,
   "id": "44f62604-1cdb-4e72-ba1c-aa5d36575588",
   "metadata": {},
   "outputs": [],
   "source": [
    "'''Lambda Functions and Higher-Order Functions:\n",
    "1.What are lambda functions in Python, and when are they typically used?\n",
    "\n",
    "\"Lambda function:-\"\n",
    "Lambda functions in Python are anonymous functions that are defined without a name. They are typically used\n",
    "when we need a small, one-line function without the need for a formal function definition. Lambda functions are\n",
    "often used as arguments to higher-order functions like `map()`, `filter()`, and `reduce()`.\n",
    "They provide a concise and convenient way to define simple functions on the fly.\n",
    "'''\n"
   ]
  },
  {
   "cell_type": "code",
   "execution_count": 3,
   "id": "24fe26cd-2ec1-4514-b02f-de47d5b51d35",
   "metadata": {},
   "outputs": [
    {
     "name": "stdout",
     "output_type": "stream",
     "text": [
      "[(4, 1), (3, 2), (1, 5), (2, 9)]\n"
     ]
    }
   ],
   "source": [
    "#2.Write a Python program that uses lambda functions to sort a list of tuples based on the second element.\n",
    "my_list = [(1, 5), (3, 2), (2, 9), (4, 1)]\n",
    "sorted_list = sorted(my_list, key=lambda x: x[1])\n",
    "print(sorted_list)"
   ]
  },
  {
   "cell_type": "code",
   "execution_count": 4,
   "id": "88df94fa-fa2c-48ba-90bf-2640638c7150",
   "metadata": {},
   "outputs": [
    {
     "name": "stdout",
     "output_type": "stream",
     "text": [
      "7\n"
     ]
    }
   ],
   "source": [
    "#3.Explain the concept of higher-order functions in Python, and provide an example.\n",
    "'''Higher-order functions in Python are functions that can take other functions as arguments or return functions\n",
    "as their results. This means that functions can be treated as objects and manipulated just like any other data type.'''\n",
    "def apply_operation(operation, x, y):\n",
    "    return operation(x, y)\n",
    "\n",
    "def add(a, b):\n",
    "    return a + b\n",
    "\n",
    "result = apply_operation(add, 3, 4)\n",
    "print(result)"
   ]
  },
  {
   "cell_type": "code",
   "execution_count": 6,
   "id": "1cbe7f40-241f-45f4-bf6e-a744b271a243",
   "metadata": {},
   "outputs": [
    {
     "name": "stdout",
     "output_type": "stream",
     "text": [
      "[1, 4, 9, 16]\n"
     ]
    }
   ],
   "source": [
    "'''\n",
    "4.Create a Python function that takes a list of numbers and a function as arguments, applying the function to \n",
    "each element in the list.\n",
    "'''\n",
    "def apply_function_to_list(numbers, function):\n",
    "    result = []\n",
    "    for number in numbers:\n",
    "        result.append(function(number))\n",
    "    return result\n",
    "#Example\n",
    "def square(x):\n",
    "    return x ** 2\n",
    "\n",
    "numbers = [1, 2, 3, 4]\n",
    "result = apply_function_to_list(numbers, square)\n",
    "print(result)"
   ]
  },
  {
   "cell_type": "code",
   "execution_count": null,
   "id": "f43eb207-4345-4027-8324-5f128876b9d7",
   "metadata": {},
   "outputs": [],
   "source": [
    "'''\n",
    "Built-in Functions:\n",
    "1.Describe the role of built-in functions like `len()`, `max()`, and `min()` in Python.\n",
    ":-\n",
    "The `len()` function is used to determine the length or size of an object, such as a string, list, or tuple.\n",
    "The `max()` and `min()` functions are used to find the maximum and minimum values, respectively,\n",
    "from a sequence of values. \n",
    "'''"
   ]
  },
  {
   "cell_type": "code",
   "execution_count": 8,
   "id": "f9d751c1-8429-4c88-9f5a-07e0e61d911e",
   "metadata": {},
   "outputs": [
    {
     "name": "stdout",
     "output_type": "stream",
     "text": [
      "[4, 14, 16, 112, 68]\n"
     ]
    }
   ],
   "source": [
    "#2.Write a Python program that uses the `map()` function to apply a function to each element of a list.\n",
    "def double(number):\n",
    "    return number*2\n",
    "\n",
    "my_list = [2,7,8,56,34]\n",
    "doubled_num = list(map(double, my_list))\n",
    "print(doubled_num)                   "
   ]
  },
  {
   "cell_type": "code",
   "execution_count": null,
   "id": "cedc44b6-c837-448b-ab8b-744120c4cbce",
   "metadata": {},
   "outputs": [],
   "source": [
    "#3.How does the `filter()` function work in Python, and when would you use it?\n",
    "'''\n",
    "The `filter()` function in Python is used to create a new iterable by filtering out elements from an\n",
    "existing iterable based on a specified condition. It takes two arguments: a function and an iterable.\n",
    "The function is applied to each element in the iterable, and only the elements for which the function\n",
    "returns `True` are included in the resulting iterable.\n",
    "\n",
    "You would use the `filter()` function when you want to selectively include or exclude elements from an\n",
    "iterable based on a specific condition. It can be particularly useful when working with large datasets or\n",
    "when you need to perform complex filtering operations.\n",
    "'''"
   ]
  },
  {
   "cell_type": "code",
   "execution_count": 10,
   "id": "0fa9f7b6-56d6-40af-8a0a-addfa31a4150",
   "metadata": {},
   "outputs": [
    {
     "name": "stdout",
     "output_type": "stream",
     "text": [
      "40320\n"
     ]
    }
   ],
   "source": [
    "#4.Create a Python program that uses the `reduce()` function to find the product of all elements in a list.\n",
    "from functools import reduce\n",
    "my_list = [2,3,4,5,6,7,8]\n",
    "def product(x,y):\n",
    "    return x*y\n",
    "product_num = reduce(product, my_list)\n",
    "print(product_num)"
   ]
  },
  {
   "cell_type": "code",
   "execution_count": 12,
   "id": "2f6adac9-8bd7-4813-8618-92d4754ee64b",
   "metadata": {},
   "outputs": [
    {
     "name": "stdout",
     "output_type": "stream",
     "text": [
      "Help on function greet in module __main__:\n",
      "\n",
      "greet(name)\n",
      "    This function takes a name as input and prints a greeting message.\n",
      "    \n",
      "    Parameters:\n",
      "    name (str): The name of the person to greet.\n",
      "\n"
     ]
    }
   ],
   "source": [
    "'''\n",
    "Function Documentation and Best Practices:\n",
    "1.Explain the purpose of docstrings in Python functions and how to write them.\n",
    "'''\n",
    "'''\n",
    "Docstrings in Python functions serve as a way to document and provide information about the purpose,\n",
    "usage, and behavior of the function. They are enclosed in triple quotes (either single or double) and are placed\n",
    "as the first statement inside a function.\n",
    "'''\n",
    "def greet(name):\n",
    "    \"\"\"\n",
    "    This function takes a name as input and prints a greeting message.\n",
    "    \n",
    "    Parameters:\n",
    "    name (str): The name of the person to greet.\n",
    "    \"\"\"\n",
    "    print(f\"Hello, {name}!\")\n",
    "\n",
    "#You can access the docstring using the help() function:\n",
    "help(greet)"
   ]
  },
  {
   "cell_type": "code",
   "execution_count": null,
   "id": "a6bf2201-1a37-4581-8829-36fc265f375d",
   "metadata": {},
   "outputs": [],
   "source": [
    "#2.Describe some best practices for naming functions and variables in Python, including naming conventions and guidelines\n",
    "'''\n",
    "When it comes to naming functions and variables in Python, following certain naming conventions and guidelines\n",
    "can make your code more readable and maintainable. Here are some best practices:\n",
    "\n",
    "1.Use descriptive names: Choose names that accurately describe the purpose or functionality of the function or variable.\n",
    "This makes your code self-explanatory and easier to understand.\n",
    "\n",
    "2. Use lowercase letters and underscores: For function and variable names, it's common to use lowercase\n",
    "letters and underscores to separate words. For example, `calculate_average`, `user_age`, etc. \n",
    "This is known as the snake_case naming convention in Python.\n",
    "\n",
    "3. Be consistent: Maintain consistency in your naming style throughout your codebase. This makes it easier\n",
    "for others (and your future self) to understand and navigate the code.\n",
    "\n",
    "4. Avoid using reserved keywords: Make sure your function and variable names do not clash with Python's\n",
    "reserved keywords, such as `if`, `for`, `while`, etc.\n",
    "\n",
    "5. Use meaningful and concise names: Choose names that are meaningful and concise. Avoid using single-letter\n",
    "variable names (except for simple loop counters). Instead, opt for names that provide context and clarity.\n",
    "\n",
    "6. Follow PEP 8 guidelines: PEP 8 is the official style guide for Python code. It provides recommendations \n",
    "for naming conventions, indentation, line length, and more. Following PEP 8 guidelines\n",
    "can make your code more consistent and readable.\n",
    "\n",
    "7. Use noun phrases for functions: Functions typically perform actions or return values. \n",
    "Therefore, it's good practice to use noun phrases for function names. For example, `calculate_average`,\n",
    "`get_user_input`, etc.\n",
    "\n",
    "8. Use verb phrases for methods: Methods are functions that are associated with objects or classes.\n",
    "Use verb phrases to describe the action performed by the method. For example, `calculate_average`, `get_user_input`, etc.\n",
    "'''"
   ]
  }
 ],
 "metadata": {
  "kernelspec": {
   "display_name": "Python 3 (ipykernel)",
   "language": "python",
   "name": "python3"
  },
  "language_info": {
   "codemirror_mode": {
    "name": "ipython",
    "version": 3
   },
   "file_extension": ".py",
   "mimetype": "text/x-python",
   "name": "python",
   "nbconvert_exporter": "python",
   "pygments_lexer": "ipython3",
   "version": "3.10.8"
  }
 },
 "nbformat": 4,
 "nbformat_minor": 5
}
