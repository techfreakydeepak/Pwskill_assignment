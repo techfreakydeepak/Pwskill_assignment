{
 "cells": [
  {
   "cell_type": "code",
   "execution_count": 1,
   "id": "5c2292cc-aff5-46c8-a039-802abe7c4e08",
   "metadata": {},
   "outputs": [
    {
     "data": {
      "text/plain": [
       "'10th_Dec^23_Sorting_Array_1_Assignment_13'"
      ]
     },
     "execution_count": 1,
     "metadata": {},
     "output_type": "execute_result"
    }
   ],
   "source": [
    "'''10th_Dec^23_Sorting_Array_1_Assignment_13'''"
   ]
  },
  {
   "cell_type": "code",
   "execution_count": 2,
   "id": "e3cd5874-9136-4619-8f70-5234dd35dfee",
   "metadata": {},
   "outputs": [
    {
     "name": "stdout",
     "output_type": "stream",
     "text": [
      "The element Appearing maximum time is:2 with max frequency:5\n"
     ]
    }
   ],
   "source": [
    "\"Problem 1.Given an array of n numbers, give an algorithm which gives the element appearing maximum number of times?\"\n",
    "#1_Without Using sorting_Algorithm\n",
    "def find_max_frequency(Array):\n",
    "    frequency_map = {}\n",
    "    max_element = None\n",
    "    max_frequency = 0\n",
    "    \n",
    "    for i in Array:\n",
    "        if i in frequency_map:\n",
    "            frequency_map[i]+=1\n",
    "        else:\n",
    "            frequency_map[i]=1\n",
    "            \n",
    "        if frequency_map[i]>max_frequency:\n",
    "            max_element = i\n",
    "            max_frequency = frequency_map[i]\n",
    "    return max_element, max_frequency\n",
    "Array = [3,5,2,4,5,7,6,5,8,3,2,5,2,6,2,2]\n",
    "max_element, max_frequency = find_max_frequency(Array)\n",
    "print(f\"The element Appearing maximum time is:{max_element} with max frequency:{max_frequency}\")"
   ]
  },
  {
   "cell_type": "code",
   "execution_count": 3,
   "id": "b72df102-7066-4e5d-971e-d6ac76139aa8",
   "metadata": {},
   "outputs": [
    {
     "name": "stdout",
     "output_type": "stream",
     "text": [
      "Sorted Array:- [2, 2, 2, 2, 3, 3, 4, 4, 5, 5, 5, 5, 6, 6, 7, 8]\n",
      "The most frequent element in the array is: 2, with maximum frequency of: 4.\n"
     ]
    }
   ],
   "source": [
    "#2_Using Sorting Algorithm\n",
    "#First short the array using any of sorting algorithm:\n",
    "#As per the first problem, Using Bubble short\n",
    "Input_Array = [3,5,2,4,5,7,6,5,8,3,2,5,2,6,2,4]\n",
    "def BubbleSort(arr):\n",
    "    for i in range(len(arr)-1,0,-1):\n",
    "        isSorted = True\n",
    "        for j in range(i):\n",
    "            if(arr[j]>arr[j+1]):\n",
    "                isSorted = False\n",
    "                arr[j],arr[j+1]=arr[j+1],arr[j]\n",
    "        if isSorted:\n",
    "            print(\"Sorted Array:-\",arr)\n",
    "            break\n",
    "BubbleSort(Input_Array)\n",
    "def find_most_frequent_element(arr):\n",
    "    max_freq = 0\n",
    "    max_element = None\n",
    "    current_element = None\n",
    "    current_freq = 0\n",
    "    \n",
    "    for num in arr:\n",
    "        if num == current_element:\n",
    "            current_freq += 1\n",
    "        else:\n",
    "            current_element = num\n",
    "            current_freq = 1\n",
    "        \n",
    "        if current_freq > max_freq:\n",
    "            max_freq = current_freq\n",
    "            max_element = current_element\n",
    "    \n",
    "    return max_element,max_freq\n",
    "\n",
    "# Example usage\n",
    "max_element,max_freq = find_most_frequent_element(Input_Array)\n",
    "print(f\"The most frequent element in the array is: {max_element}, with maximum frequency of: {max_freq}.\")\n"
   ]
  },
  {
   "cell_type": "code",
   "execution_count": 4,
   "id": "199106f3-e9b7-4334-80c8-a8ec7126605e",
   "metadata": {},
   "outputs": [
    {
     "name": "stdout",
     "output_type": "stream",
     "text": [
      "Missing element in the Array will be:- 5\n"
     ]
    }
   ],
   "source": [
    "'''Problem 2 : We are given a list of n-1 integers and these integers are in the range of 1 to n . There are no\n",
    "duplicates in the list. One of the integers is missing in the list. Give an algorithm to find that element Ex:\n",
    "[1,2,4,6,3,7,8] 5 is the missing num.'''\n",
    "arr = [1,2,4,6,3,7,8]\n",
    "def sum_of_Arr(arr):\n",
    "    if len(arr)==1:\n",
    "        return arr[0]\n",
    "    return arr[0]+sum_of_Arr(arr[1:])\n",
    "#To find the missing element using formula n*(n-1)/2\n",
    "missing_element = int((((len(arr)+1)*(len(arr)+2)/2))-sum_of_Arr(arr))\n",
    "print(\"Missing element in the Array will be:-\",missing_element)"
   ]
  },
  {
   "cell_type": "code",
   "execution_count": 5,
   "id": "9c8d9a6d-6d71-46b9-9d23-2db718c733a6",
   "metadata": {},
   "outputs": [
    {
     "name": "stdout",
     "output_type": "stream",
     "text": [
      "[1, 2, 3, 4, 6, 7, 8]\n",
      "Missing element in the given Array is: 5\n"
     ]
    }
   ],
   "source": [
    "#Using Sorting algorithm:\n",
    "def BubbleSort(arr):\n",
    "    for i in range(len(arr)-1,0,-1):\n",
    "        isSorted = True\n",
    "        for j in range(i):\n",
    "            if arr[j]>arr[j+1]:\n",
    "                isSorted = False\n",
    "                arr[j],arr[j+1] = arr[j+1],arr[j]\n",
    "        if isSorted:\n",
    "            print(arr)\n",
    "            break\n",
    "def missing_element(arr):\n",
    "    for i in range(len(arr)):\n",
    "        if arr[i] != i+1:\n",
    "            return i+1\n",
    "    return arr[-1]+1\n",
    "Array = [1,2,4,6,3,7,8]\n",
    "BubbleSort(Array)\n",
    "print(\"Missing element in the given Array is:\",missing_element(Array))"
   ]
  },
  {
   "cell_type": "code",
   "execution_count": 6,
   "id": "725ad925-d5d2-4324-8c5e-10772dea83e6",
   "metadata": {},
   "outputs": [
    {
     "name": "stdout",
     "output_type": "stream",
     "text": [
      "Number with odd occurence is: 3\n"
     ]
    }
   ],
   "source": [
    "'''Problem 3 : Given an array of n positive numbers. All numbers occurs even number of times except 1 which\n",
    "occurs odd number of times. Find that number in O(n) time and O(1) space. Ex: [1,2,3,2,3,1,3]. 3 is repeats odd\n",
    "times.'''\n",
    "def finding_odd_occurrence(Array):\n",
    "    result = 0\n",
    "    for i in Array:\n",
    "        result ^= i\n",
    "    return result\n",
    "array = [1, 2, 3, 2, 3, 1,3]\n",
    "odd_occurrence = finding_odd_occurrence(array)\n",
    "print(\"Number with odd occurence is:\",odd_occurrence)"
   ]
  },
  {
   "cell_type": "code",
   "execution_count": 7,
   "id": "00d502e5-c1a8-4183-aeb5-952cac829e9a",
   "metadata": {},
   "outputs": [
    {
     "name": "stdout",
     "output_type": "stream",
     "text": [
      "Sorted Array: [2, 4, 6, 8, 10]\n",
      "Required number to get the sum as 18 are (8, 10)\n"
     ]
    }
   ],
   "source": [
    "'''Problem 4 : Given an array of n elements. Find two elements in the array such that their sum is equal to given\n",
    "element K.'''\n",
    "def BubbleSort(arr):\n",
    "    for i in range(len(arr)-1,0,-1):\n",
    "        isSorted = True\n",
    "        for j in range(i):\n",
    "            if arr[j]>arr[j+1]:\n",
    "                isSorted = False\n",
    "                arr[j],arr[j+1] = arr[j+1],arr[j]\n",
    "        if isSorted:\n",
    "            print(\"Sorted Array:\",arr)\n",
    "            break\n",
    "def find_two_elements(arr, K):\n",
    "    BubbleSort(arr)  #Sort the array in ascending order\n",
    "    left = 0\n",
    "    right = len(arr) - 1\n",
    "\n",
    "    while left < right:\n",
    "        current_sum = arr[left] + arr[right]\n",
    "\n",
    "        if current_sum == K:\n",
    "            return arr[left], arr[right]\n",
    "        elif current_sum < K:\n",
    "            left += 1\n",
    "        else:\n",
    "            right -= 1\n",
    "\n",
    "    return None\n",
    "\n",
    "array = [4, 2, 8, 6, 10]\n",
    "target_sum = 18\n",
    "result = find_two_elements(array, target_sum)\n",
    "print(f\"Required number to get the sum as {target_sum} are {result}\")"
   ]
  },
  {
   "cell_type": "code",
   "execution_count": 8,
   "id": "9c5ac5d6-fed0-465f-b900-b91067e72081",
   "metadata": {},
   "outputs": [
    {
     "name": "stdout",
     "output_type": "stream",
     "text": [
      "Closest Sum = 5 & Closest Pair = (-80, 85)\n"
     ]
    },
    {
     "data": {
      "text/plain": [
       "'Sorted_Array:[-80, -10, 1, 60, 70, 85]'"
      ]
     },
     "execution_count": 8,
     "metadata": {},
     "output_type": "execute_result"
    }
   ],
   "source": [
    "'''Problem 5 : Given an array of both positive and negative numbers, find two numbers such that their sum is\n",
    "closest to 0. Ex: [ 1 ,60 ,-10, 70, -80,85]. Ans : -80,85.'''\n",
    "def SelectionSort(arr):\n",
    "    for i in range(len(arr)):\n",
    "        min_i = i\n",
    "        for j in range(i+1,len(arr)):\n",
    "            if arr[j]<arr[min_i]:\n",
    "                arr[j],arr[min_i]=arr[min_i],arr[j]\n",
    "    return f\"Sorted_Array:{arr}\"\n",
    "def find_closest_pair(arr):\n",
    "    SelectionSort(arr) #Sort the array using Selection Sort Algorithm\n",
    "    left = 0\n",
    "    right = len(arr)-1\n",
    "    closest_sum = float(\"inf\")\n",
    "    \n",
    "    while left<right:\n",
    "        current_sum = arr[left]+arr[right]\n",
    "        \n",
    "        if abs(current_sum)<abs(closest_sum):\n",
    "            closest_sum = current_sum\n",
    "            closest_pair = (arr[left],arr[right])\n",
    "            \n",
    "        if closest_sum<0:\n",
    "            left +=1\n",
    "        else:\n",
    "            right -=1\n",
    "    return f\"Closest Sum = {closest_sum} & Closest Pair = {closest_pair}\"\n",
    "Array = [ 1 ,60 ,-10, 70, -80,85]\n",
    "print(find_closest_pair(Array))\n",
    "SelectionSort(Array)"
   ]
  },
  {
   "cell_type": "code",
   "execution_count": 9,
   "id": "a1c142d0-9c10-4fbb-8f6c-1ab8c23e3600",
   "metadata": {},
   "outputs": [
    {
     "name": "stdout",
     "output_type": "stream",
     "text": [
      "[1, 3, 5]\n"
     ]
    }
   ],
   "source": [
    "'''Problem 6 : Given an array of n elements . Find three elements such that their sum is equal to the given\n",
    "number.\n",
    "'''\n",
    "#Way-1\n",
    "#TL = O(n^3)\n",
    "#No Sorting is imvoleved,\n",
    "def find_three_elements(arr, target_sum):\n",
    "    n = len(arr)\n",
    "    \n",
    "    for i in range(n-2):\n",
    "        for j in range(i+1, n-1):\n",
    "            for k in range(j+1, n):\n",
    "                if arr[i] + arr[j] + arr[k] == target_sum:\n",
    "                    return [arr[i], arr[j], arr[k]]\n",
    "    \n",
    "    return []\n",
    "\n",
    "#Example usage\n",
    "arr = [1, 2, 3, 4,5]\n",
    "target_sum = 9\n",
    "result = find_three_elements(arr, target_sum)\n",
    "print(result)"
   ]
  },
  {
   "cell_type": "code",
   "execution_count": 10,
   "id": "c3d5bc8d-36fd-4789-9173-95f3a59d113d",
   "metadata": {},
   "outputs": [
    {
     "name": "stdout",
     "output_type": "stream",
     "text": [
      "Sorted_array = [12, 12, 13, 15, 17, 23, 30, 34, 45, 56, 76]\n",
      "Numbers are: [15, 30, 45]\n"
     ]
    }
   ],
   "source": [
    "#Optimized\n",
    "#TL = O(n^2)\n",
    "#Using selection Sort\n",
    "def SelectionSort(arr):\n",
    "    for i in range(len(arr)):\n",
    "        min_i = i\n",
    "        for j in range(i+1,len(arr)):\n",
    "            if arr[j]<arr[min_i]:\n",
    "                arr[j],arr[min_i]=arr[min_i],arr[j]\n",
    "    return f\"Sorted_array = {arr}\"\n",
    "\n",
    "def find_three_elements(arr, target_sum):\n",
    "    n = len(arr)\n",
    "    SelectionSort(arr)  #Sort the array in ascending order using SelectionSort\n",
    "    \n",
    "    for i in range(n-2):\n",
    "        left = i + 1\n",
    "        right = n - 1\n",
    "        \n",
    "        while left < right:\n",
    "            current_sum = arr[i] + arr[left] + arr[right]\n",
    "            \n",
    "            if current_sum == target_sum:\n",
    "                return [arr[i], arr[left], arr[right]]\n",
    "            elif current_sum < target_sum:\n",
    "                left += 1\n",
    "            else:\n",
    "                right -= 1\n",
    "    \n",
    "    return []\n",
    "\n",
    "#Example usage\n",
    "arr = [34,23,12,56,76,13,15,17,12,45,30]\n",
    "print(SelectionSort(arr))\n",
    "target_sum = 90\n",
    "result = find_three_elements(arr, target_sum)\n",
    "print(\"Numbers are:\",result)"
   ]
  },
  {
   "cell_type": "code",
   "execution_count": 11,
   "id": "6d356e5c-459a-4d67-8466-8b2da98e6969",
   "metadata": {},
   "outputs": [
    {
     "name": "stdout",
     "output_type": "stream",
     "text": [
      "Sorted Array: [1, 2, 3, 4, 5, 6, 8, 10]\n",
      "triplets are: 6, 8, 10\n"
     ]
    }
   ],
   "source": [
    "'''Problem 7: Given an array of n elements. Find three elements i, j, k in the array such that\n",
    "i * i + j * j = k*k.'''\n",
    "def SelectionSort(arr):\n",
    "    for i in range(len(arr)):\n",
    "        min_i = i\n",
    "        for j in range(i+1,len(arr)):\n",
    "            if arr[j]<arr[min_i]:\n",
    "                arr[j],arr[min_i]=arr[min_i],arr[j]\n",
    "    return arr\n",
    "def Triplets(arr):\n",
    "    SelectionSort(arr)\n",
    "    for k in range(len(arr)-1,1,-1):\n",
    "        i = 0\n",
    "        j = k-1\n",
    "        while i<j:\n",
    "            sum_of_squares = arr[i]*arr[i]+arr[j]*arr[j]\n",
    "            if sum_of_squares == arr[k]*arr[k]:\n",
    "                return arr[i],arr[j],arr[k]\n",
    "            elif sum_of_squares<arr[k]*arr[k]:\n",
    "                i +=1\n",
    "            else:\n",
    "                j -=1\n",
    "    return None\n",
    "Array =  [1,2, 6, 8, 3, 4, 5,10]\n",
    "triplets = Triplets(Array)\n",
    "print(\"Sorted Array:\",Array)\n",
    "if triplets:\n",
    "    print(f\"triplets are: {triplets[0]}, {triplets[1]}, {triplets[2]}\")\n",
    "else:\n",
    "    print(\"No such triplets are found\")"
   ]
  },
  {
   "cell_type": "code",
   "execution_count": 12,
   "id": "630a023f-de19-4c19-96fa-fdc441520b03",
   "metadata": {},
   "outputs": [
    {
     "name": "stdout",
     "output_type": "stream",
     "text": [
      "The majority element is: 2\n"
     ]
    }
   ],
   "source": [
    "'''Problem 8: An element is a majority if it appears more than n/2 times. Give an algorithm takes an array of n\n",
    "element as argument and identifies a majority (if it exists).\n",
    "'''\n",
    "def findMajority(arr):\n",
    "    majority = None\n",
    "    count = 0\n",
    "\n",
    "    #Find potential majority element\n",
    "    for num in arr:\n",
    "        if count == 0:\n",
    "            majority = num\n",
    "            count = 1\n",
    "        elif num == majority:\n",
    "            count += 1\n",
    "        else:\n",
    "            count -= 1\n",
    "\n",
    "    #Check if potential majority is the actual majority\n",
    "    count = 0\n",
    "    for num in arr:\n",
    "        if num == majority:\n",
    "            count += 1\n",
    "\n",
    "    if count > len(arr) // 2:\n",
    "        return majority\n",
    "    else:\n",
    "        return None\n",
    "\n",
    "arr = [2, 2, 2, 3, 3, 1, 2, 2, 2]\n",
    "majority = findMajority(arr)\n",
    "if majority:\n",
    "    print(f\"The majority element is: {majority}\")\n",
    "else:\n",
    "    print(\"No majority element found.\")"
   ]
  },
  {
   "cell_type": "code",
   "execution_count": 13,
   "id": "f6591ee8-1644-43e8-87b2-8153920ce618",
   "metadata": {},
   "outputs": [
    {
     "name": "stdout",
     "output_type": "stream",
     "text": [
      "The row with the maximum number of 0's is: 2\n"
     ]
    }
   ],
   "source": [
    "'''Problem 9 : Given n × n matrix, and in each row all 1’s are followed by 0’s. Find the row with the maximum\n",
    "number of 0’s.'''\n",
    "def findMaxZerosRow(matrix):\n",
    "    n = len(matrix)\n",
    "    max_zeros_row = 0\n",
    "    max_zeros_count = 0\n",
    "\n",
    "    for i in range(n):\n",
    "        zeros_count = matrix[i].count(0)\n",
    "        if zeros_count > max_zeros_count:\n",
    "            max_zeros_count = zeros_count\n",
    "            max_zeros_row = i\n",
    "\n",
    "    return max_zeros_row\n",
    "\n",
    "matrix = [\n",
    "    [1, 1, 1, 1, 0],\n",
    "    [1, 1, 0, 0, 0],\n",
    "    [1, 0, 0, 0, 0],\n",
    "    [1, 1, 1, 0, 0],\n",
    "    [1, 1, 1, 1, 0]\n",
    "]\n",
    "\n",
    "max_zeros_row = findMaxZerosRow(matrix)\n",
    "print(f\"The row with the maximum number of 0's is: {max_zeros_row}\")"
   ]
  },
  {
   "cell_type": "code",
   "execution_count": 14,
   "id": "cedbd6ab-5b35-44e0-a019-9db6354c2f17",
   "metadata": {},
   "outputs": [
    {
     "name": "stdout",
     "output_type": "stream",
     "text": [
      "Output: [0, 0, 0, 0, 0, 1, 1, 1, 1, 1, 2, 2]\n"
     ]
    }
   ],
   "source": [
    "'''Problem 10 : Sort an array of 0’s, 1’s and 2’s [or R’s, G’s and B’s]: Given an array A[] consisting of 0’s, 1’s and\n",
    "2’s, give an algorithm for sorting A[].The algorithm should put all 0’s first, then all 1’s and finally all 2’s at the\n",
    "end. Example Input = {0,1,1,0,1,2,1,2,0,0,0,1}, Output = {0,0,0,0,0,1,1,1,1,1,2,2}'''\n",
    "#Using selection Sort for it:\n",
    "def SelectionSort_Array(Array):\n",
    "    for i in range(len(Array)):\n",
    "        min_i = i\n",
    "        for j in range(i+1,len(Array)):\n",
    "            if Array[j]<Array[min_i]:\n",
    "                Array[j],Array[min_i]=Array[min_i],Array[j]\n",
    "    return Array\n",
    "Input = [0,1,1,0,1,2,1,2,0,0,0,1]\n",
    "Output = SelectionSort_Array(Input)\n",
    "print(\"Output:\", Output)"
   ]
  },
  {
   "cell_type": "code",
   "execution_count": null,
   "id": "8b1c54cb-141d-4fd3-865a-35c33bc03b47",
   "metadata": {},
   "outputs": [],
   "source": []
  }
 ],
 "metadata": {
  "kernelspec": {
   "display_name": "Python 3 (ipykernel)",
   "language": "python",
   "name": "python3"
  },
  "language_info": {
   "codemirror_mode": {
    "name": "ipython",
    "version": 3
   },
   "file_extension": ".py",
   "mimetype": "text/x-python",
   "name": "python",
   "nbconvert_exporter": "python",
   "pygments_lexer": "ipython3",
   "version": "3.10.8"
  }
 },
 "nbformat": 4,
 "nbformat_minor": 5
}
