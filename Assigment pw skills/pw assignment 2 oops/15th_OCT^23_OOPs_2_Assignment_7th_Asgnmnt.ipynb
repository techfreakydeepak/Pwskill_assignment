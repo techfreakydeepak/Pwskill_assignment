{
 "cells": [
  {
   "cell_type": "code",
   "execution_count": 3,
   "id": "70b61cae-5f7e-40ab-9ce4-3d4c994368a2",
   "metadata": {},
   "outputs": [],
   "source": [
    "'''15th_OCT^23_OOPs_2_Assignment_7th_Asgnmnt'''\n",
    "\n",
    "'''\n",
    "Constructor:\n",
    "1.What is a constructor in Python? Explain its purpose and usage.\n",
    "'''\n",
    "'''\n",
    "A constructor in Python is a special method that is automatically called when an object is created from a class.\n",
    "Its purpose is to initialize the object's attributes or perform any necessary setup tasks.\n",
    "To define a constructor in Python, you use the `__init__` method. This method takes the `self` parameter,\n",
    "which refers to the instance of the object being created, and any additional parameters you want to pass.\n",
    "Here's an example of a constructor in Python:\n",
    "'''\n",
    "class MyClass:\n",
    "    def __init__(self, parameter1, parameter2):\n",
    "        self.attribute1 = parameter1\n",
    "        self.attribute2 = parameter2\n",
    "        # Other initialization tasks...\n",
    "\n",
    "# Creating an object of MyClass\n",
    "my_object = MyClass(42, \"Hello\")"
   ]
  },
  {
   "cell_type": "code",
   "execution_count": 6,
   "id": "a52b8b43-6e6d-467d-825e-40e815298568",
   "metadata": {},
   "outputs": [
    {
     "data": {
      "text/plain": [
       "\"\\nTo summarize, a parameterless constructor doesn't take any parameters and is used for default initialization, \\nwhile a parameterized constructor takes one or more parameters and allows you to pass specific values during object\\ncreation.\\n\""
      ]
     },
     "execution_count": 6,
     "metadata": {},
     "output_type": "execute_result"
    }
   ],
   "source": [
    "#2.Differentiate between a parameterless constructor and a parameterized constructor in Python.\n",
    "'''\n",
    "A parameterless constructor, also known as a default constructor, is a constructor in Python that doesn't\n",
    "take any parameters. It is defined without any arguments in the `__init__` method. Its purpose is to initialize\n",
    "the object's attributes with default values or perform any necessary setup tasks without requiring any input from\n",
    "the user.\n",
    "Here's an example of a parameterless constructor:\n",
    "'''\n",
    "class Myclass:\n",
    "    def __init__(self):\n",
    "        self.attribute1 = \"Default value\"\n",
    "        self.attribute2 = 0\n",
    "        #Other initialization task...\n",
    "# Creating an object of Myclass using parameterless constructor.\n",
    "my_object = Myclass()  \n",
    "\n",
    "'''\n",
    "On the other hand, a parameterized constructor is a constructor that takes one or more parameters.\n",
    "It allows you to pass specific values when creating an object and use those values to initialize the object's\n",
    "attributes or perform setup tasks.\n",
    "Here's an example of a parameterized constructor:\n",
    "'''\n",
    "class Mybike:\n",
    "    def __init__(self,name, model, year):\n",
    "        self.name = name\n",
    "        self.model = model\n",
    "        self.year = year\n",
    "#Creating the object of Mybike using parameterized constructor.\n",
    "my_object = Mybike(\"pulser\",\"Ns200\",2019)\n",
    "\n",
    "'''\n",
    "To summarize, a parameterless constructor doesn't take any parameters and is used for default initialization, \n",
    "while a parameterized constructor takes one or more parameters and allows you to pass specific values during object\n",
    "creation.\n",
    "'''"
   ]
  },
  {
   "cell_type": "code",
   "execution_count": 4,
   "id": "d7be0a65-4cba-4acf-ad18-20d8cc7763fc",
   "metadata": {},
   "outputs": [],
   "source": [
    "#3.How do you define a constructor in a Python class? Provide an example.\n",
    "'''\n",
    "To define a constructor in a Python class, you use the `__init__` method. It is a special method that gets automatically\n",
    "called when you create an object of a class.\n",
    "Here's an example:\n",
    "'''\n",
    "class Myschool:\n",
    "    def __init__(self, Name, Num_of_Faculty, Num_of_Student):\n",
    "        self.Name = Name\n",
    "        self.Num_of_Faculty = Num_of_Faculty\n",
    "        self.Num_of_Student = Num_of_Student\n",
    "\n",
    "#Creating the object of Myschool\n",
    "My_object = Myschool(\"Govt.Model HSS\", 120, 1200)"
   ]
  },
  {
   "cell_type": "code",
   "execution_count": 6,
   "id": "fde9743f-10a6-4c65-8394-bccff56f490f",
   "metadata": {},
   "outputs": [
    {
     "name": "stdout",
     "output_type": "stream",
     "text": [
      "Pulser\n",
      "NS200\n",
      "2019\n"
     ]
    }
   ],
   "source": [
    "#4.Explain the `__init__` method in Python and its role in constructors.\n",
    "'''\n",
    "In Python, the `__init__` method is a special method that serves as the constructor for a class. It gets automatically\n",
    "called when you create an object of that class. The purpose of the `__init__` method is to initialize the attributes of\n",
    "the object with the values passed as arguments.\n",
    "When you define the `__init__` method in a class, it takes the `self` parameter as the first argument, followed by any\n",
    "other parameters you want to pass. The `self` parameter refers to the object being created.\n",
    "Inside the `__init__` method, you can assign values to the object's attributes using the `self.attribute_name = value` \n",
    "syntax. These attributes will then be available for use throughout the class.\n",
    "By using the `__init__` method, you can ensure that the object is properly initialized with the desired values when it is\n",
    "created.\n",
    "her's an example:-\n",
    "'''\n",
    "class Mybike:\n",
    "    def __init__(self, company, model, year):\n",
    "        self.company = company\n",
    "        self.model = model\n",
    "        self.year = year\n",
    "#Creating an object of Mybike using defined parameters:-\n",
    "Bike = Mybike(\"Pulser\", \"NS200\", 2019)\n",
    "print(Bike.company)\n",
    "print(Bike.model)\n",
    "print(Bike.year)"
   ]
  },
  {
   "cell_type": "code",
   "execution_count": 9,
   "id": "39a821b7-005c-4be7-9f9d-870a0f981bc2",
   "metadata": {},
   "outputs": [
    {
     "name": "stdout",
     "output_type": "stream",
     "text": [
      "Govind\n",
      "27\n"
     ]
    }
   ],
   "source": [
    "'''\n",
    "5.In a class named `Person`, create a constructor that initializes the `name` and `age` attributes. Provide an\n",
    "example of creating an object of this class.\n",
    "'''\n",
    "class Person:\n",
    "    def __init__(self,Name,Age):\n",
    "        self.Name = Name\n",
    "        self.Age = Age\n",
    "#Creating an object of the class Person:\n",
    "Obj = Person(\"Govind\", 27)\n",
    "print(Obj.Name)\n",
    "print(Obj.Age)"
   ]
  },
  {
   "cell_type": "code",
   "execution_count": 1,
   "id": "cff5c026-7d58-43f3-a691-98a9d24076d8",
   "metadata": {},
   "outputs": [
    {
     "name": "stdout",
     "output_type": "stream",
     "text": [
      "Driving the Tesla car\n"
     ]
    }
   ],
   "source": [
    "#6.How can you call a constructor explicitly in Python? Give an example.\n",
    "'''\n",
    "To call a constructor explicitly in Python, you can use the class name followed by parentheses.\n",
    "Here's an example:\n",
    "'''\n",
    "class Car:\n",
    "    def __init__(self, brand):\n",
    "        self.brand = brand\n",
    "\n",
    "    def drive(self):\n",
    "        print(\"Driving the\", self.brand, \"car\")\n",
    "\n",
    "# Calling the constructor explicitly\n",
    "my_car = Car(\"Tesla\")\n",
    "my_car.drive()"
   ]
  },
  {
   "cell_type": "code",
   "execution_count": 2,
   "id": "f692bbba-a76f-48c0-abad-a62703ac4c0c",
   "metadata": {},
   "outputs": [],
   "source": [
    "#7.What is the significance of the `self` parameter in Python constructors? Explain with an example.\n",
    "'''\n",
    "the `self` parameter in constructors is used to refer to the instance of the class itself. It allows you to access\n",
    "and modify the attributes and methods of that instance.\n",
    "For example, let's say we have a class called `Person` with a constructor that initializes the `name` attribute:\n",
    "'''\n",
    "class Person:\n",
    "    def __init__(self, name):\n",
    "        self.name = name"
   ]
  },
  {
   "cell_type": "code",
   "execution_count": 4,
   "id": "fe863c5e-2fb5-402e-acea-a1cf125788df",
   "metadata": {},
   "outputs": [
    {
     "data": {
      "text/plain": [
       "\"\\nHowever, keep in mind that if you need to initialize attributes or perform other setup tasks, it's recommended to define\\nyour own `__init__` method to ensure proper object initialization.\\n\""
      ]
     },
     "execution_count": 4,
     "metadata": {},
     "output_type": "execute_result"
    }
   ],
   "source": [
    "#8.Discuss the concept of default constructors in Python. When are they used?\n",
    "'''\n",
    "In Python, there is no concept of default constructors like in some other programming languages. \n",
    "In Python, the `__init__` method serves as the constructor for a class, and it is called automatically when\n",
    "an object of that class is created.\n",
    "However, if you don't define an `__init__` method in your class, Python provides a default constructor that doesn't\n",
    "do anything. This means that the object is still created, but it doesn't have any specific initialization logic.\n",
    "Default constructors can be used when you don't need to perform any additional setup or initialization for your\n",
    "objects. They are handy when you have a simple class with no specific attributes or methods that need to be set\n",
    "during object creation.\n",
    "For example, consider a class called `Person` without an `__init__` method:\n",
    "'''\n",
    "\n",
    "class Person:\n",
    "    pass\n",
    "\n",
    "'''\n",
    "In this case, you can still create instances of the `Person` class without any issues, even though there is no explicit\n",
    "constructor. The default constructor is automatically provided by Python.\n",
    "'''\n",
    "\n",
    "person = Person()\n",
    "\n",
    "'''\n",
    "However, keep in mind that if you need to initialize attributes or perform other setup tasks, it's recommended to define\n",
    "your own `__init__` method to ensure proper object initialization.\n",
    "'''"
   ]
  },
  {
   "cell_type": "code",
   "execution_count": 7,
   "id": "a70d278c-f11c-447c-8048-60a4fb540d31",
   "metadata": {},
   "outputs": [
    {
     "name": "stdout",
     "output_type": "stream",
     "text": [
      "Area of given Rectangle:- 600\n"
     ]
    }
   ],
   "source": [
    "'''\n",
    "9.Create a Python class called `Rectangle` with a constructor that initializes the `width` and `height`\n",
    "attributes. Provide a method to calculate the area of the rectangle.\n",
    "'''\n",
    "class Rectangle:\n",
    "    def __init__(self, width, height):\n",
    "        self.width = width\n",
    "        self.height = height\n",
    "    \n",
    "    def calculate_area(self):\n",
    "        return self.width*self.height\n",
    "rectangle = Rectangle(20, 30)\n",
    "print(\"Area of given Rectangle:-\",rectangle.calculate_area())"
   ]
  },
  {
   "cell_type": "code",
   "execution_count": 11,
   "id": "b8d9192d-5c7f-46cc-a075-8b7776fc3129",
   "metadata": {},
   "outputs": [
    {
     "name": "stdout",
     "output_type": "stream",
     "text": [
      "5\n",
      "5\n"
     ]
    },
    {
     "data": {
      "text/plain": [
       "'\\nIn this case, the `create_square` class method creates a square with a side length of 5, and the resulting `rectangle` \\nobject has both `width` and `length` set to 5.\\n'"
      ]
     },
     "execution_count": 11,
     "metadata": {},
     "output_type": "execute_result"
    }
   ],
   "source": [
    "#10.How can you have multiple constructors in a Python class? Explain with an example.\n",
    "'''\n",
    "In Python, you cannot have multiple constructors like in some other programming languages. However, you can achieve\n",
    "similar functionality by using class methods.\n",
    "Class methods are methods that are bound to the class rather than an instance of the class. You can define class methods\n",
    "using the `@classmethod` decorator. Class methods take the class itself as the first parameter, conventionally named\n",
    "`cls`, instead of the usual `self` parameter.\n",
    "Here's an example that demonstrates how to create multiple constructors using class methods in Python:\n",
    "'''\n",
    "\n",
    "class Rectangle:\n",
    "    def __init__(self, width, length):\n",
    "        self.width = width\n",
    "        self.length = length\n",
    "    \n",
    "    @classmethod\n",
    "    def create_square(cls, side_length):\n",
    "        return cls(side_length, side_length)\n",
    "\n",
    "'''\n",
    "In this example, the `Rectangle` class has a regular constructor `__init__` that takes `width` and `length`as parameters.\n",
    "It initializes the attributes accordingly.\n",
    "The `@classmethod` decorator is used to define another constructor called `create_square`. This class method takes \n",
    "`side_length` as a parameter and creates a square by calling the regular constructor with `side_length` for both\n",
    "`width` and `length`.\n",
    "To use the `create_square` constructor, you can call it directly on the class itself:\n",
    "'''\n",
    "\n",
    "rectangle = Rectangle.create_square(5)\n",
    "print(rectangle.width)\n",
    "print(rectangle.length)\n",
    "'''\n",
    "In this case, the `create_square` class method creates a square with a side length of 5, and the resulting `rectangle` \n",
    "object has both `width` and `length` set to 5.\n",
    "'''"
   ]
  },
  {
   "cell_type": "code",
   "execution_count": 1,
   "id": "fbad2038-ada1-4a82-8833-3c787523971f",
   "metadata": {},
   "outputs": [],
   "source": [
    "#11.What is method overloading, and how is it related to constructors in Python?\n",
    "'''\n",
    "Method overloading is a concept in programming where multiple methods with the same name but different parameters\n",
    "are defined within a class. Each method performs a different operation based on the number, types, or order of the\n",
    "parameters.\n",
    "In Python, method overloading is not directly supported like in some other languages. However, we can achieve similar\n",
    "functionality by using default parameter values or by using variable-length arguments.\n",
    "When it comes to constructors in Python, method overloading is not necessary because Python does not support multiple\n",
    "constructors like some other languages do. In Python, we typically use the `__init__` method as the constructor for a\n",
    "class. This method is automatically called when we create an object of that class.\n",
    "Instead of method overloading, we can use default parameter values in the `__init__` method to provide different\n",
    "ways of initializing objects. For example, we can define default values for certain parameters, so they become optional\n",
    "when creating objects. This allows us to create objects with different sets of parameters without needing multiple\n",
    "constructors.\n",
    "Here's an example:\n",
    "'''\n",
    "class Car:\n",
    "    def __init__(self, brand, speed=0):\n",
    "        self.brand = brand\n",
    "        self.speed = speed\n",
    "\n",
    "car1 = Car(\"Toyota\")\n",
    "car2 = Car(\"Honda\", 120)"
   ]
  },
  {
   "cell_type": "code",
   "execution_count": 8,
   "id": "d3fafe95-79cd-4a42-be51-97a6151cf5c9",
   "metadata": {},
   "outputs": [
    {
     "name": "stdout",
     "output_type": "stream",
     "text": [
      "Tiger makes a sound\n",
      "Tiger barks\n"
     ]
    }
   ],
   "source": [
    "#12.Explain the use of the `super()` function in Python constructors. Provide an example.\n",
    "'''\n",
    "The `super()` function in Python is used to call a method from a parent class within a subclass. It allows us to\n",
    "access and invoke the parent class's methods and constructors.\n",
    "In the context of constructors, we can use `super()` to call the parent class's constructor and inherit its attributes\n",
    "and behavior. This is useful when we want to add additional functionality to the subclass's constructor while still \n",
    "preserving the functionality of the parent class's constructor.\n",
    "Here's an example to illustrate the use of `super()` in constructors:\n",
    "'''\n",
    "class Animal:\n",
    "    def __init__(self, name):\n",
    "        self.name = name\n",
    "        \n",
    "    def speak(self):\n",
    "        print(f\"{self.name} makes a sound\")\n",
    "        \n",
    "class Dog(Animal):\n",
    "    def __init__(self,name,breed):\n",
    "        super().__init__(name)\n",
    "        self.breed = breed\n",
    "    \n",
    "    def speak(self):\n",
    "        super().speak()\n",
    "        print(f\"{self.name} barks\")\n",
    "        \n",
    "dog = Dog(\"Tiger\",\"German Shepherd\")\n",
    "dog.speak()"
   ]
  },
  {
   "cell_type": "code",
   "execution_count": 10,
   "id": "378bc14f-c22e-4870-9d52-0d75041b7759",
   "metadata": {},
   "outputs": [
    {
     "name": "stdout",
     "output_type": "stream",
     "text": [
      "Book Title:-Five points someone\n",
      "Book Author:-Chetan Bhagat\n",
      "Book Published year:-2005\n"
     ]
    }
   ],
   "source": [
    "'''\n",
    "13.Create a class called `Book` with a constructor that initializes the `title`, `author`, and `published_year`\n",
    "attributes. Provide a method to display book details.\n",
    "'''\n",
    "class Book:\n",
    "    def __init__(self, title, author, published_year):\n",
    "        self.title = title\n",
    "        self.author = author\n",
    "        self.published_year = published_year\n",
    "    def display_book_details(self):\n",
    "        print(f\"Book Title:-{self.title}\")\n",
    "        print(f\"Book Author:-{self.author}\")\n",
    "        print(f\"Book Published year:-{self.published_year}\")\n",
    "\n",
    "book = Book(\"Five points someone\", \"Chetan Bhagat\", 2005)\n",
    "book.display_book_details()        "
   ]
  },
  {
   "cell_type": "code",
   "execution_count": null,
   "id": "1c4d2edc-22ce-4e6f-b0aa-b889c3071840",
   "metadata": {},
   "outputs": [],
   "source": [
    "#14.Discuss the differences between constructors and regular methods in Python classes.\n",
    "'''\n",
    "Constructors and regular methods in Python classes serve different purposes.\n",
    "\n",
    "Constructors:\n",
    "- Constructors are special methods that are automatically called when an object of a class is created.\n",
    "- The constructor method in Python is named `__init__`.\n",
    "- The primary purpose of a constructor is to initialize the attributes of an object.\n",
    "- It is typically used to set the initial values of instance variables.\n",
    "- Constructors can take parameters to allow the user to provide initial values for the attributes.\n",
    "- The constructor is called only once when the object is created.\n",
    "\n",
    "Regular Methods:\n",
    "- Regular methods are defined within a class and are used to perform specific actions or operations on an object.\n",
    "- They can be called on an object after it has been created.\n",
    "- Regular methods can take parameters and perform computations or modify the object's state.\n",
    "- They can access and manipulate the object's attributes.\n",
    "- Regular methods can be called multiple times on the same object.\n",
    "\n",
    "In summary, constructors are used to initialize the attributes of an object when it is created, while regular methods\n",
    "are used to perform actions or operations on an already created object. Both constructors and regular methods play \n",
    "important roles in defining the behavior and functionality of a class.\n",
    "'''"
   ]
  },
  {
   "cell_type": "code",
   "execution_count": 11,
   "id": "c14046ae-6282-45dd-aca7-4c5d941c5417",
   "metadata": {},
   "outputs": [
    {
     "name": "stdout",
     "output_type": "stream",
     "text": [
      "pwskills\n",
      "sudhanshu\n"
     ]
    }
   ],
   "source": [
    "#15.Explain the role of the `self` parameter in instance variable initialization within a constructor.\n",
    "'''\n",
    "The `self` parameter in Python constructors allows us to refer to the specific instance of the class that is being\n",
    "created. It helps us initialize the instance variables of that particular object.\n",
    "\n",
    "Let's say we have a class called `Person` with an instance variable called `name`. We can use the `self` parameter to\n",
    "assign a value to the `name` variable within the constructor.\n",
    "Here's an example to illustrate this:\n",
    "'''\n",
    "class Person:\n",
    "    def __init__(self, name):\n",
    "        self.name = name\n",
    "\n",
    "person1 = Person(\"pwskills\")\n",
    "print(person1.name) \n",
    "\n",
    "person2 = Person(\"sudhanshu\")\n",
    "print(person2.name)\n"
   ]
  },
  {
   "cell_type": "code",
   "execution_count": 12,
   "id": "86931629-fd16-4089-9549-1ae9e3a06549",
   "metadata": {},
   "outputs": [
    {
     "name": "stdout",
     "output_type": "stream",
     "text": [
      "True\n"
     ]
    }
   ],
   "source": [
    "#16.How do you prevent a class from having multiple instances by using constructors in Python? Provide an example.\n",
    "'''\n",
    "To prevent a class from having multiple instances, you can use a design pattern called the Singleton pattern. \n",
    "The Singleton pattern ensures that only one instance of the class can be created.\n",
    "In Python, you can implement the Singleton pattern by overriding the `__new__` method of the class, rather than\n",
    "the `__init__` method. The `__new__` method is responsible for creating the instance of the class, while the `__init__`\n",
    "method initializes the instance.\n",
    "Here's an example of implementing a Singleton class in Python:\n",
    "'''\n",
    "class Singleton:\n",
    "    _instance = None\n",
    "\n",
    "    def __new__(cls):\n",
    "        if cls._instance is None:\n",
    "            cls._instance = super().__new__(cls)\n",
    "        return cls._instance\n",
    "\n",
    "singleton1 = Singleton()\n",
    "singleton2 = Singleton()\n",
    "\n",
    "print(singleton1 is singleton2)"
   ]
  },
  {
   "cell_type": "code",
   "execution_count": 18,
   "id": "c0bec73e-2ba3-4591-a96b-21142011ec25",
   "metadata": {},
   "outputs": [
    {
     "name": "stdout",
     "output_type": "stream",
     "text": [
      "['Math', 'Science', 'History']\n"
     ]
    }
   ],
   "source": [
    "'''\n",
    "17.Create a Python class called `Student` with a constructor that takes a list of subjects as a parameter and\n",
    "initializes the `subjects` attribute.\n",
    "'''\n",
    "class Student:\n",
    "    def __init__(self, subjects):\n",
    "        self.subjects = subjects\n",
    "        \n",
    "student1 = Student([\"Math\", \"Science\", \"History\"])\n",
    "print(student1.subjects)"
   ]
  },
  {
   "cell_type": "code",
   "execution_count": 19,
   "id": "2d7cba14-379e-4c28-9af8-8c52b59a4a9e",
   "metadata": {},
   "outputs": [
    {
     "name": "stdout",
     "output_type": "stream",
     "text": [
      "A Tesla car has been created.\n",
      "The Tesla car is being destroyed.\n"
     ]
    }
   ],
   "source": [
    "#18.What is the purpose of the `__del__` method in Python classes, and how does it relate to constructors?\n",
    "'''\n",
    "The `__del__` method in Python classes is the destructor method. It is used to define actions that should be performed \n",
    "when an object is about to be destroyed or garbage-collected. It's like a cleanup method.\n",
    "The `__del__` method is called automatically by Python when an object is being destroyed or going out of scope. It is\n",
    "the opposite of the constructor method `__init__`, which is called when an object is being created.\n",
    "Here's an example to illustrate the purpose of the `__del__` method:\n",
    "'''\n",
    "\n",
    "class Car:\n",
    "    def __init__(self, brand):\n",
    "        self.brand = brand\n",
    "        print(f\"A {self.brand} car has been created.\")\n",
    "    \n",
    "    def __del__(self):\n",
    "        print(f\"The {self.brand} car is being destroyed.\")\n",
    "\n",
    "#Creating an instance of the Car class\n",
    "my_car = Car(\"Tesla\")\n",
    "\n",
    "\n",
    "#Deleting the my_car object\n",
    "del my_car\n"
   ]
  },
  {
   "cell_type": "code",
   "execution_count": 20,
   "id": "0617e8c3-19d5-4f0f-a059-f7328298a547",
   "metadata": {},
   "outputs": [
    {
     "name": "stdout",
     "output_type": "stream",
     "text": [
      "Person John created.\n",
      "Student John with ID 12345 created.\n",
      "Person Jane created.\n",
      "Teacher Jane with ID 98765 created.\n"
     ]
    }
   ],
   "source": [
    "#19.Explain the use of constructor chaining in Python. Provide a practical example.\n",
    "'''\n",
    "Constructor chaining in Python refers to the process of calling one constructor from another constructor within\n",
    "the same class or between parent and child classes. It allows us to reuse code and initialize objects in a\n",
    "more efficient way.\n",
    "Here's a practical example to illustrate constructor chaining:\n",
    "'''\n",
    "class Person:\n",
    "    def __init__(self, name):\n",
    "        self.name = name\n",
    "        print(f\"Person {self.name} created.\")\n",
    "\n",
    "class Student(Person):\n",
    "    def __init__(self, name, student_id):\n",
    "        super().__init__(name)\n",
    "        self.student_id = student_id\n",
    "        print(f\"Student {self.name} with ID {self.student_id} created.\")\n",
    "\n",
    "class Teacher(Person):\n",
    "    def __init__(self, name, teacher_id):\n",
    "        super().__init__(name)\n",
    "        self.teacher_id = teacher_id\n",
    "        print(f\"Teacher {self.name} with ID {self.teacher_id} created.\")\n",
    "\n",
    "# Creating a Student object\n",
    "student = Student(\"John\", 12345)\n",
    "\n",
    "# Creating a Teacher object\n",
    "teacher = Teacher(\"Jane\", 98765)\n"
   ]
  },
  {
   "cell_type": "code",
   "execution_count": 22,
   "id": "2f512422-0dae-4403-8fa7-aafaffc043f7",
   "metadata": {},
   "outputs": [
    {
     "name": "stdout",
     "output_type": "stream",
     "text": [
      "Make:- Toyota\n",
      "Model:- Camry\n",
      "Year:- 2022\n"
     ]
    }
   ],
   "source": [
    "'''\n",
    "20.Create a Python class called `Car` with a default constructor that initializes the `make` and `model`\n",
    "attributes. Provide a method to display car information.\n",
    "'''\n",
    "class Car:\n",
    "    def __init__(self, make, model, year):\n",
    "        self.make = make\n",
    "        self.model = model\n",
    "        self.year = year\n",
    "    def display_info(self):\n",
    "        print(f\"Make:- {self.make}\")\n",
    "        print(f\"Model:- {self.model}\")\n",
    "        print(f\"Year:- {self.year}\")\n",
    "\n",
    "my_car = Car(\"Toyota\", \"Camry\", 2022)\n",
    "my_car.display_info()"
   ]
  },
  {
   "cell_type": "code",
   "execution_count": 4,
   "id": "694cbcf5-655a-4ce8-8f17-d73f852fbc94",
   "metadata": {},
   "outputs": [
    {
     "name": "stdout",
     "output_type": "stream",
     "text": [
      "Color:-  Blue\n",
      "Speed:-  60\n",
      "Brand:-  Mercedes\n",
      "This car is driving\n",
      "Beep, Beep\n"
     ]
    },
    {
     "data": {
      "text/plain": [
       "'    \\nOverall, inheritance is a powerful mechanism in object-oriented programming that promotes code reuse, modularity, and\\nflexibility. It allows you to create a hierarchy of classes, where derived classes inherit and extend the functionality\\nof base classes.\\n'"
      ]
     },
     "execution_count": 4,
     "metadata": {},
     "output_type": "execute_result"
    }
   ],
   "source": [
    "'''Inheritance:\n",
    "1.What is inheritance in Python? Explain its significance in object-oriented programming.\n",
    "'''\n",
    "'''\n",
    "In Python, inheritance is a concept in object-oriented programming that allows a class to inherit attributes and \n",
    "behaviors from another class. It's like a parent-child relationship, where the child class (also known as the derived\n",
    "class) inherits properties and methods from the parent class (also known as the base class).\n",
    "The significance of inheritance is that it promotes code reuse and helps organize code in a hierarchical manner. By \n",
    "defining a base class with common attributes and behaviors, you can create derived classes that inherit those \n",
    "characteristics. This avoids unnecessary duplication of code and allows you to build upon existing functionality.\n",
    "Inheritance also enables polymorphism, which means that objects of different derived classes can be treated as objects\n",
    "of the base class. This allows for more flexible and modular code, as you can write functions or methods that can accept\n",
    "objects of different derived classes as arguments.'''\n",
    "#For example, \n",
    "#Base class or parent class\n",
    "class vehicle:\n",
    "    def __init__(self,color,speed):\n",
    "        self.color = color\n",
    "        self.speed = speed\n",
    "        \n",
    "    def drive(self):\n",
    "        print(\"This car is driving\")\n",
    "#Child or derived class:\n",
    "class Car(vehicle):\n",
    "    def __init__(self,color,speed,brand):\n",
    "        super().__init__(color,speed)\n",
    "        self.brand = brand\n",
    "    \n",
    "    def honk(self):\n",
    "        print(\"Beep, Beep\")\n",
    "\n",
    "my_car = Car(\"Blue\",60,\"Mercedes\")\n",
    "print(\"Color:- \",my_car.color)\n",
    "print(\"Speed:- \",my_car.speed)\n",
    "print(\"Brand:- \",my_car.brand)\n",
    "my_car.drive()\n",
    "my_car.honk()\n",
    "    \n",
    "'''    \n",
    "Overall, inheritance is a powerful mechanism in object-oriented programming that promotes code reuse, modularity, and\n",
    "flexibility. It allows you to create a hierarchy of classes, where derived classes inherit and extend the functionality\n",
    "of base classes.\n",
    "'''"
   ]
  },
  {
   "cell_type": "code",
   "execution_count": 7,
   "id": "2d6971c2-91c0-45e7-b210-ff488c343b1b",
   "metadata": {},
   "outputs": [
    {
     "name": "stdout",
     "output_type": "stream",
     "text": [
      "Output from single inheritance:-\n",
      "The Animal is eating\n",
      "The dog is barking\n",
      "Output from Multiple inheritance:-\n",
      "The object can fly\n",
      "The object can swim\n",
      "The duck is quacking\n"
     ]
    }
   ],
   "source": [
    "#2.Differentiate between single inheritance and multiple inheritance in Python. Provide examples for each.\n",
    "'''Single Inheritance:\n",
    "In single inheritance, a class can inherit attributes and methods from only one base class. It follows a simple\n",
    "parent-child relationship.'''\n",
    "#Here's an example to illustrate single inheritance:\n",
    "class Animal:\n",
    "    def eat(self):\n",
    "        print(\"The Animal is eating\")\n",
    "\n",
    "class Dog(Animal):\n",
    "    def bark(self):\n",
    "        print(\"The dog is barking\")\n",
    "print(\"Output from single inheritance:-\")\n",
    "my_dog = Dog()\n",
    "my_dog.eat()\n",
    "my_dog.bark()\n",
    "\n",
    "'''Multiple Inheritance:\n",
    "In multiple inheritance, a class can inherit attributes and methods from multiple base classes. It allows a class to\n",
    "inherit from more than one parent class.'''\n",
    "#Here's an example to illustrate multiple inheritance:\n",
    "class flyable:\n",
    "    def fly(self):\n",
    "        print(\"The object can fly\")\n",
    "class swimmable:\n",
    "    def swim(self):\n",
    "        print(\"The object can swim\")\n",
    "class Duck(flyable,swimmable):\n",
    "    def quack(self):\n",
    "        print(\"The duck is quacking\")\n",
    "print(\"Output from Multiple inheritance:-\")\n",
    "duck = Duck()\n",
    "duck.fly()\n",
    "duck.swim()\n",
    "duck.quack()"
   ]
  },
  {
   "cell_type": "code",
   "execution_count": 10,
   "id": "11519b70-c85a-4eaa-b472-92d985a11919",
   "metadata": {},
   "outputs": [
    {
     "name": "stdout",
     "output_type": "stream",
     "text": [
      "Color:-  Blue\n",
      "Speed:-  60\n",
      "Brand:-  Mercedes\n",
      "This car is driven.\n"
     ]
    }
   ],
   "source": [
    "'''\n",
    "3.Create a Python class called `Vehicle` with attributes `color` and `speed`. Then, create a child class called\n",
    "`Car` that inherits from `Vehicle` and adds a `brand` attribute. Provide an example of creating a `Car` object.\n",
    "'''\n",
    "class Vehicle:\n",
    "    def __init__(self,color,speed):\n",
    "        self.color = color\n",
    "        self.speed = speed\n",
    "        \n",
    "    def drive(self):\n",
    "        print(\"This car is driven.\")\n",
    "#Child Class        \n",
    "class Car(Vehicle):\n",
    "    def __init__(self,color,speed,brand):\n",
    "        super().__init__(color,speed)\n",
    "        self.brand = brand\n",
    "    \n",
    "my_car = Car(\"Blue\",60,\"Mercedes\")\n",
    "print(\"Color:- \",my_car.color)\n",
    "print(\"Speed:- \",my_car.speed)\n",
    "print(\"Brand:- \",my_car.brand)\n",
    "my_car.drive()"
   ]
  },
  {
   "cell_type": "code",
   "execution_count": 12,
   "id": "305b9cfd-420c-4f2a-b14d-9c567e100c3a",
   "metadata": {},
   "outputs": [
    {
     "name": "stdout",
     "output_type": "stream",
     "text": [
      "Animal take foods of both vegeterian and non-vegeterian kind.\n",
      "Cow takes food of vegeterian type only.\n"
     ]
    },
    {
     "data": {
      "text/plain": [
       "'In this example, we have a superclass `Animal` with a method `food()` that prints a kind of food. The subclass `Cow`\\ninherits from `Animal` and overrides the `food()` method with its own implementation that prints \"Cow takes food of\\nvegeterian type only\".\\nWhen we call the `food()` method on the `animal` object, it uses the implementation from the `Animal` class. However,\\nwhen we call the `food()` method on the `cow` object, it uses the overridden implementation from the `Cow` class.\\nMethod overriding allows subclasses to provide specialized behavior while still retaining the common behavior defined\\nin the superclass. It is a powerful mechanism in object-oriented programming that promotes code reuse and flexibility.'"
      ]
     },
     "execution_count": 12,
     "metadata": {},
     "output_type": "execute_result"
    }
   ],
   "source": [
    "#4.Explain the concept of method overriding in inheritance. Provide a practical example.\n",
    "'''Method overriding occurs when a subclass defines a method with the same name as a method in its superclass. \n",
    "The method in the subclass overrides the implementation of the method in the superclass, allowing the subclass to\n",
    "provide its own implementation.'''\n",
    "#Here's a practical example to illustrate method overriding:\n",
    "class Animal:\n",
    "    def food(self):\n",
    "        print(\"Animal take foods of both vegeterian and non-vegeterian kind.\")\n",
    "class Cow(Animal):\n",
    "    def food(self):\n",
    "        print(\"Cow takes food of vegeterian type only.\")\n",
    "animal = Animal()\n",
    "cow = Cow()\n",
    "animal.food()\n",
    "cow.food()\n",
    "'''In this example, we have a superclass `Animal` with a method `food()` that prints a kind of food. The subclass `Cow`\n",
    "inherits from `Animal` and overrides the `food()` method with its own implementation that prints \"Cow takes food of\n",
    "vegeterian type only\".\n",
    "When we call the `food()` method on the `animal` object, it uses the implementation from the `Animal` class. However,\n",
    "when we call the `food()` method on the `cow` object, it uses the overridden implementation from the `Cow` class.\n",
    "Method overriding allows subclasses to provide specialized behavior while still retaining the common behavior defined\n",
    "in the superclass. It is a powerful mechanism in object-oriented programming that promotes code reuse and flexibility.'''\n"
   ]
  },
  {
   "cell_type": "code",
   "execution_count": 20,
   "id": "32845bb3-ea68-4c93-a38c-31189ac96eec",
   "metadata": {},
   "outputs": [
    {
     "name": "stdout",
     "output_type": "stream",
     "text": [
      "This is a parent class attribute.\n",
      "This is parent method\n"
     ]
    }
   ],
   "source": [
    "#5.How can you access the methods and attributes of a parent class from a child class in Python? Give an example.\n",
    "'''You can access the methods and attributes of a parent class from a child class by using the `super()` function. \n",
    "This allows you to call the parent class's methods and access its attributes within the child class.'''\n",
    "#Here's an example to illustrate this:\n",
    "class Parentclass:\n",
    "    def __init__(self):\n",
    "        self.parent_attribute = \"This is a parent class attribute.\"\n",
    "    def parent_method(self):\n",
    "        print(\"This is parent method\")\n",
    "class Childclass(Parentclass):\n",
    "    def __init__(self):\n",
    "        super().__init__()\n",
    "        self.child_attribute = \"This is child class attribute.\"\n",
    "    def child_method(self):\n",
    "        print(\"I am a child method\")\n",
    "            \n",
    "child = Childclass()\n",
    "print(child.parent_attribute)\n",
    "child.parent_method()"
   ]
  },
  {
   "cell_type": "code",
   "execution_count": 1,
   "id": "14863e1e-3f55-48d1-997a-c949383cbb30",
   "metadata": {},
   "outputs": [
    {
     "name": "stdout",
     "output_type": "stream",
     "text": [
      "I am a parent attribute.\n",
      "I am a parent method.\n"
     ]
    }
   ],
   "source": [
    "#6.Discuss the use of the `super()` function in Python inheritance. When and why is it used? Provide an example.\n",
    "'''\n",
    "you can access the methods and attributes of a parent class from a child class by using the `super()` function. This allows\n",
    "you to call the parent class's methods and access its attributes within the child class.\n",
    "'''\n",
    "#Here's an example to illustrate this:\n",
    "\n",
    "class ParentClass:\n",
    "    def __init__(self):\n",
    "        self.parent_attribute = \"I am a parent attribute.\"\n",
    "\n",
    "    def parent_method(self):\n",
    "        print(\"I am a parent method.\")\n",
    "\n",
    "class ChildClass(ParentClass):\n",
    "    def __init__(self):\n",
    "        super().__init__()  # Calling the parent class's constructor\n",
    "        self.child_attribute = \"I am a child attribute.\"\n",
    "\n",
    "    def child_method(self):\n",
    "        print(\"I am a child method.\")\n",
    "\n",
    "# Creating an instance of the child class\n",
    "child = ChildClass()\n",
    "\n",
    "# Accessing parent class's attribute and method\n",
    "print(child.parent_attribute)\n",
    "child.parent_method()"
   ]
  },
  {
   "cell_type": "code",
   "execution_count": 5,
   "id": "65fd3c5e-4c7e-4289-b490-ddec479953f4",
   "metadata": {},
   "outputs": [
    {
     "name": "stdout",
     "output_type": "stream",
     "text": [
      "Woof!\n",
      "Meow!\n"
     ]
    }
   ],
   "source": [
    "'''\n",
    "7.Create a Python class called `Animal` with a method `speak()`. Then, create child classes `Dog` and `Cat`\n",
    "that inherit from `Animal` and override the `speak()` method. Provide an example of using these classes.\n",
    "'''\n",
    "class Animal:\n",
    "    def speak(self):\n",
    "        pass\n",
    "class Dog(Animal):\n",
    "    def speak(self):\n",
    "        return \"Woof!\"\n",
    "class Cat(Animal):\n",
    "    def speak(self):\n",
    "        return \"Meow!\"\n",
    "dog = Dog()\n",
    "cat = Cat()\n",
    "\n",
    "print(dog.speak())\n",
    "print(cat.speak())"
   ]
  },
  {
   "cell_type": "code",
   "execution_count": 6,
   "id": "f98d8f5b-d6e6-4e6c-85e5-92e7ec96495b",
   "metadata": {},
   "outputs": [
    {
     "name": "stdout",
     "output_type": "stream",
     "text": [
      "True\n",
      "True\n",
      "True\n",
      "False\n"
     ]
    }
   ],
   "source": [
    "#8.Explain the role of the `isinstance()` function in Python and how it relates to inheritance.\n",
    "'''The `isinstance()` function in Python is used to check if an object belongs to a specific class or its subclasses. It\n",
    "helps us determine the type of an object and its relationship to other classes through inheritance.\n",
    "When we use `isinstance(object, class)`, it returns `True` if the `object` is an instance of the `class` or any of its \n",
    "subclasses. If the `object` is not an instance of the `class` or its subclasses, it returns `False`.'''\n",
    "#Here's an example to illustrate how `isinstance()` works with inheritance:\n",
    "class Herbivorus:\n",
    "    pass\n",
    "class Cow(Herbivorus):\n",
    "    pass\n",
    "class Deer(Herbivorus):\n",
    "    pass\n",
    "dog = Dog()\n",
    "cat = Cat()\n",
    "\n",
    "print(isinstance(dog, Animal))\n",
    "print(isinstance(cat, Animal))\n",
    "print(isinstance(dog, Dog))\n",
    "print(isinstance(cat, Dog))"
   ]
  },
  {
   "cell_type": "code",
   "execution_count": 7,
   "id": "a752d8c4-0acd-4f54-8b3c-3bd2f3d35800",
   "metadata": {},
   "outputs": [
    {
     "name": "stdout",
     "output_type": "stream",
     "text": [
      "True\n",
      "True\n",
      "False\n"
     ]
    }
   ],
   "source": [
    "#9.What is the purpose of the `issubclass()` function in Python? Provide an example.\n",
    "'''The `issubclass()` function is used to check if a class is a subclass of another class. It helps us determine the\n",
    "inheritance relationship between classes.\n",
    "When we use `issubclass(subclass, superclass)`, it returns `True` if the `subclass` is indeed a subclass of the \n",
    "`superclass`.\n",
    "If the `subclass` is not a subclass of the `superclass`, it returns `False`.'''\n",
    "#Here's an example to illustrate how `issubclass()` works:\n",
    "class vehicle:\n",
    "    pass\n",
    "class car(vehicle):\n",
    "    pass\n",
    "class bicycle(vehicle):\n",
    "    pass\n",
    "\n",
    "print(issubclass(car,vehicle))\n",
    "print(issubclass(bicycle,vehicle))\n",
    "print(issubclass(bicycle,car))"
   ]
  },
  {
   "cell_type": "code",
   "execution_count": 1,
   "id": "7b252cdb-974a-42c6-aa94-37f0e41fe5eb",
   "metadata": {},
   "outputs": [
    {
     "name": "stdout",
     "output_type": "stream",
     "text": [
      "Buddy\n",
      "Labrador\n"
     ]
    }
   ],
   "source": [
    "#10.Discuss the concept of constructor inheritance in Python. How are constructors inherited in child classes?\n",
    "'''\n",
    "Constructors are inherited by child classes through the process of constructor inheritance.When a child class is created,\n",
    "it automatically inherits the constructor of its parent class.This means that the child class can utilize the constructor\n",
    "of the parent class to initialize its own attributes. If the child class defines its own constructor, it can still choose\n",
    "to call the constructor of the parent class using the `super()` function. This allows the child class to inherit & extend\n",
    "the functionality of the parent class's constructor.'''\n",
    "#Here's an example:\n",
    "\n",
    "class Animal:\n",
    "    def __init__(self, name):\n",
    "        self.name = name\n",
    "\n",
    "class Dog(Animal):\n",
    "    def __init__(self, name, breed):\n",
    "        super().__init__(name)\n",
    "        self.breed = breed\n",
    "\n",
    "# Creating an instance of the Dog class\n",
    "my_dog = Dog(\"Buddy\", \"Labrador\")\n",
    "\n",
    "# Accessing attributes\n",
    "print(my_dog.name)\n",
    "print(my_dog.breed)"
   ]
  },
  {
   "cell_type": "code",
   "execution_count": 4,
   "id": "e705f40c-ce1e-480a-bc00-0442276b3d74",
   "metadata": {},
   "outputs": [
    {
     "name": "stdout",
     "output_type": "stream",
     "text": [
      "Area of circle:- 314.1592653589793\n",
      "Area of rectangle:- 140\n"
     ]
    }
   ],
   "source": [
    "'''11.Create a Python class called `Shape` with a method `area()` that calculates the area of a shape. Then,\n",
    "create child classes `Circle` and `Rectangle` that inherit from `Shape` and implement the `area()` method\n",
    "accordingly. Provide an example.'''\n",
    "import math\n",
    "class Shape:\n",
    "    def __init__(self):\n",
    "        pass\n",
    "class Circle(Shape):\n",
    "    def __init__(self,radius):\n",
    "        self.radius = radius\n",
    "    \n",
    "    def area(self):\n",
    "        return math.pi*self.radius**2\n",
    "class Rectangle(Shape):\n",
    "    def __init__(self,length,width):\n",
    "        self.length = length\n",
    "        self.width = width\n",
    "    def area(self):\n",
    "        return self.length*self.width\n",
    "\n",
    "circle = Circle(10)\n",
    "rectangle = Rectangle(10,14)\n",
    "\n",
    "print(\"Area of circle:-\", circle.area())\n",
    "print(\"Area of rectangle:-\",rectangle.area())"
   ]
  },
  {
   "cell_type": "code",
   "execution_count": 6,
   "id": "1e5c5801-aba8-4f35-a6fa-f70453de7524",
   "metadata": {},
   "outputs": [
    {
     "name": "stdout",
     "output_type": "stream",
     "text": [
      "78.53981633974483\n",
      "24\n"
     ]
    }
   ],
   "source": [
    "'''12.Explain the use of abstract base classes (ABCs) in Python and how they relate to inheritance. Provide an\n",
    "example using the `abc` module.'''\n",
    "'''\n",
    "Abstract Base Classes (ABCs) in Python are used to define abstract classes that cannot be instantiated directly. They \n",
    "serve as blueprints or templates for other classes to inherit from. ABCs allow you to define common methods & attributes\n",
    "that subclasses must implement, ensuring a consistent interface across multiple classes.\n",
    "The `abc` module in Python provides the necessary tools for working with ABCs. To create an ABC, you can inherit from the\n",
    "`ABC` class provided by the `abc` module. You can then use the `@abstractmethod` decorator to mark specific methods as \n",
    "abstract, which means they must be implemented by any concrete subclass.\n",
    "'''\n",
    "#Here's an example using the `abc` module to create an abstract class `Shape` with an abstract method `area()`:\n",
    "\n",
    "from abc import ABC, abstractmethod\n",
    "\n",
    "class Shape(ABC):\n",
    "    @abstractmethod\n",
    "    def area(self):\n",
    "        pass\n",
    "\n",
    "class Circle(Shape):\n",
    "    def __init__(self, radius):\n",
    "        self.radius = radius\n",
    "\n",
    "    def area(self):\n",
    "        return math.pi * self.radius ** 2\n",
    "\n",
    "class Rectangle(Shape):\n",
    "    def __init__(self, width, height):\n",
    "        self.width = width\n",
    "        self.height = height\n",
    "\n",
    "    def area(self):\n",
    "        return self.width * self.height\n",
    "\n",
    "#Creating instances of the Circle and Rectangle classes\n",
    "my_circle = Circle(5)\n",
    "my_rectangle = Rectangle(4, 6)\n",
    "\n",
    "#Calculating and printing the areas\n",
    "print(my_circle.area())\n",
    "print(my_rectangle.area())"
   ]
  },
  {
   "cell_type": "code",
   "execution_count": 16,
   "id": "7ebbd76b-4feb-40dc-808d-7207ab331a63",
   "metadata": {},
   "outputs": [
    {
     "name": "stdout",
     "output_type": "stream",
     "text": [
      "Hello\n",
      "Hello\n",
      "Hello\n",
      "Hello\n",
      "This is a public method\n",
      "This is a public method\n",
      "AttributeError: 'Child' object has no attribute '_Child__private_method'\n"
     ]
    }
   ],
   "source": [
    "'''13.How can you prevent a child class from modifying certain attributes or methods inherited from a parent\n",
    "class in Python?'''\n",
    "'''\n",
    "To prevent a child class from modifying certain attributes or methods inherited from a parent class, you can use the\n",
    "concept of encapsulation and access modifiers.\n",
    "You can achieve this by using the concept of name mangling. By prefixing an attribute or method name with double \n",
    "underscores (`__`), you make it \"private\" and prevent it from being easily accessed or modified by the child class.\n",
    "'''\n",
    "#Here's an example:\n",
    "\n",
    "class Parent:\n",
    "    def __init__(self):\n",
    "        self.__private_attribute = 42\n",
    "        self.public_attribute = \"Hello\"\n",
    "\n",
    "    def __private_method(self):\n",
    "        print(\"This is a private method\")\n",
    "\n",
    "    def public_method(self):\n",
    "        print(\"This is a public method\")\n",
    "\n",
    "class Child(Parent):\n",
    "    def __init__(self):\n",
    "        super().__init__()\n",
    "\n",
    "    def modify_attributes(self):\n",
    "        self.__private_attribute = 100  # This will not modify the parent's private attribute\n",
    "\n",
    "    def modify_methods(self):\n",
    "        self.__private_method()  # This will not access the parent's private method\n",
    "\n",
    "# Creating instances of the Parent and Child classes\n",
    "parent = Parent()\n",
    "child = Child()\n",
    "\n",
    "# Accessing and modifying attributes\n",
    "print(parent.public_attribute)\n",
    "print(child.public_attribute)\n",
    "child.modify_attributes()\n",
    "print(parent.public_attribute)\n",
    "print(child.public_attribute)\n",
    "\n",
    "# Calling methods\n",
    "parent.public_method()\n",
    "child.public_method()\n",
    "try:\n",
    "    child = Child()\n",
    "    child.modify_methods()  # This will raise an AttributeError\n",
    "#AttributeError: 'Child' object has no attribute '_Child__private_method'\n",
    "except AttributeError as e:\n",
    "    print(\"AttributeError:\", e)"
   ]
  },
  {
   "cell_type": "code",
   "execution_count": 27,
   "id": "db453544-f88b-4e15-b0c8-6acf5d23a62b",
   "metadata": {},
   "outputs": [
    {
     "name": "stdout",
     "output_type": "stream",
     "text": [
      "pwskills\n",
      "15000\n",
      "Govind\n",
      "10000\n",
      "Teacher\n"
     ]
    }
   ],
   "source": [
    "'''14.Create a Python class called `Employee` with attributes `name` and `salary`. Then, create a child class\n",
    "`Manager` that inherits from `Employee` and adds an attribute `department`. Provide an example.'''\n",
    "class Employee:\n",
    "    def __init__(self,name,salary):\n",
    "        self.name = name\n",
    "        self.salary = salary\n",
    "        \n",
    "class Manager(Employee):\n",
    "    def __init__(self,name, salary, department):\n",
    "        super().__init__(name,salary)\n",
    "        self.department = department\n",
    "#Creating an instance of the Employee class\n",
    "employee = Employee(\"pwskills\", 15000)\n",
    "#Creating an instance of the Manager class\n",
    "manager = Manager(\"Govind\", 10000, \"Teacher\")\n",
    "\n",
    "#Accessing attributes\n",
    "print(employee.name)\n",
    "print(employee.salary)\n",
    "print(manager.name)\n",
    "print(manager.salary)\n",
    "print(manager.department)"
   ]
  },
  {
   "cell_type": "code",
   "execution_count": 30,
   "id": "da4ddd8a-cc5b-4340-a111-961511f35874",
   "metadata": {},
   "outputs": [],
   "source": [
    "#15.Discuss the concept of method overloading in Python inheritance. How does it differ from method overriding?\n",
    "'''\n",
    "Method overloading and method overriding are two different concepts in inheritance.\n",
    "Method Overloading:\n",
    "Method overloading refers to the ability to define multiple methods with the same name but different parameters in a \n",
    "class.\n",
    "Method overloading is not supported directly like in some other programming languages. However, \n",
    "you can achieve similar functionality by using default parameter values or by using variable-length argument lists\n",
    "(*args or **kwargs).'''\n",
    "\n",
    "#For example, let's say we have a class called `MathOperations` with a method called `add`:\n",
    "\n",
    "\n",
    "class MathOperations:\n",
    "    def add(self, a, b):\n",
    "        return a + b\n",
    "\n",
    "#To achieve method overloading, you can define additional versions of the `add` method with different parameters:\n",
    "\n",
    "class MathOperations:\n",
    "    def add(self, a, b):\n",
    "        return a + b\n",
    "\n",
    "    def add(self, a, b, c):\n",
    "        return a + b + c\n",
    "'''Method Overriding:\n",
    "Method overriding occurs when a subclass provides its own implementation of a method that is already defined in its\n",
    "superclass. The method in the subclass must have the same name and parameters as the method in the superclass.'''\n",
    "#For example, let's say we have a superclass called `Animal` with a method called `make_sound`:\n",
    "\n",
    "class Animal:\n",
    "    def make_sound(self):\n",
    "        print(\"The animal makes a sound\")\n",
    "\n",
    "#Now, let's create a subclass called `Cat` that inherits from `Animal` and overrides the `make_sound` method:\n",
    "\n",
    "class Cat(Animal):\n",
    "    def make_sound(self):\n",
    "        print(\"The cat meows\")"
   ]
  },
  {
   "cell_type": "code",
   "execution_count": 2,
   "id": "c518c1ce-4746-48e0-ae73-99dee461807f",
   "metadata": {},
   "outputs": [],
   "source": [
    "#16.Explain the purpose of the `__init__()` method in Python inheritance and how it is utilized in child classes.\n",
    "'''\n",
    "The `__init__()` method is a special method that is automatically called when an object is created from a class. \n",
    "It is used to initialize the attributes of an object.\n",
    "In the context of inheritance, the `__init__()` method plays an important role in child classes. When a child class \n",
    "inherits from a parent class, it can override the `__init__()` method of the parent class to add its own unique \n",
    "initialization behavior. By defining an `__init__()` method in a child class, you can customize how the child class\n",
    "initializes its attributes while still maintaining the inheritance relationship with the parent class. This allows you\n",
    "to extend the functionality of the parent class and add additional attributes or behaviors specific to the child class.\n",
    "For example, let's say we have a parent class called `Person` with an `__init__()`method that initializes the `name` \n",
    "attribute:\n",
    "'''\n",
    "class Person:\n",
    "    def __init__(self, name):\n",
    "        self.name = name\n",
    "\n",
    "#let's create a child class called`Student`that inherits from`Person`& adds an additional attribute called `student_id`:\n",
    "\n",
    "class Student(Person):\n",
    "    def __init__(self, name, student_id):\n",
    "        super().__init__(name)\n",
    "        self.student_id = student_id"
   ]
  },
  {
   "cell_type": "code",
   "execution_count": 3,
   "id": "c7389f66-3fdd-4c5a-8e39-51518e0a345d",
   "metadata": {},
   "outputs": [
    {
     "name": "stdout",
     "output_type": "stream",
     "text": [
      "All bird can fly.\n",
      "Eagle can fly high.\n",
      "Bird can fly too!\n"
     ]
    }
   ],
   "source": [
    "'''17.Create a Python class called `Bird` with a method `fly()`. Then, create child classes `Eagle` and `Sparrow`\n",
    "that inherit from `Bird` and implement the `fly()` method differently. Provide an example of using these\n",
    "classes.'''\n",
    "class Bird:\n",
    "    def fly(self):\n",
    "        print(\"All bird can fly.\")\n",
    "class Eagle(Bird):\n",
    "    def fly(self):\n",
    "        print(\"Eagle can fly high.\")\n",
    "class Sparrow(Bird):\n",
    "    def fly(self):\n",
    "        print(\"Bird can fly too!\")\n",
    "bird = Bird()\n",
    "bird.fly()\n",
    "\n",
    "eagle = Eagle()\n",
    "eagle.fly()\n",
    "\n",
    "sparrow = Sparrow()\n",
    "sparrow.fly()"
   ]
  },
  {
   "cell_type": "code",
   "execution_count": 4,
   "id": "dfc58f98-6a31-43af-bc58-bd3121e466d8",
   "metadata": {},
   "outputs": [
    {
     "name": "stdout",
     "output_type": "stream",
     "text": [
      "Method from class B\n"
     ]
    },
    {
     "data": {
      "text/plain": [
       "'The output will be \"Method from class B\". This is because Python uses the C3 linearization algorithm to determine the \\nmethod resolution order. In this case, it follows the order `D`, `B`, `C`, `A`. Since `B` is the first class in the MRO \\nthat defines the `method()`, it is the one that gets called.\\nThis example demonstrates how Python resolves the diamond problem by using the C3 linearization algorithm to provide a \\nconsistent and unambiguous method resolution order.\\n'"
      ]
     },
     "execution_count": 4,
     "metadata": {},
     "output_type": "execute_result"
    }
   ],
   "source": [
    "#18.What is the \"diamond problem\" in multiple inheritance, and how does Python address it?\n",
    "'''\n",
    "The \"diamond problem\" is a term used to describe a situation in multiple inheritance where a class inherits from two or \n",
    "more classes that have a common base class. This can lead to ambiguity when calling methods or accessing attributes from\n",
    "the common base class.\n",
    "Python addresses the diamond problem by using a method resolution order (MRO) algorithm called C3 linearization. The MRO\n",
    "determines the order in which the base classes are searched for a method or attribute. It ensures that each method or \n",
    "attribute is only inherited once, even if multiple base classes share a common ancestor.\n",
    "In Python, the MRO is determined by the C3 linearization algorithm, which follows a specific set of rules to create a \n",
    "linear order of the base classes. This order is then used to resolve method and attribute lookups.\n",
    "By using the MRO and the C3 linearization algorithm, Python ensures that the diamond problem is avoided, and method \n",
    "resolution is consistent and unambiguous.\n",
    "'''\n",
    "#Let's say we have four classes: `A`,`B`,`C`, & `D`. Class `A` is the base class, and both `B` and `C` inherit from `A`. \n",
    "#Finally, class `D` inherits from both `B` and `C`.\n",
    "\n",
    "class A:\n",
    "    def method(self):\n",
    "        print(\"Method from class A\")\n",
    "\n",
    "class B(A):\n",
    "    def method(self):\n",
    "        print(\"Method from class B\")\n",
    "\n",
    "class C(A):\n",
    "    def method(self):\n",
    "        print(\"Method from class C\")\n",
    "\n",
    "class D(B, C):\n",
    "    pass\n",
    "\n",
    "#In this case, if we create an instance of class `D` and call the `method()`:\n",
    "\n",
    "d = D()\n",
    "d.method()\n",
    "'''The output will be \"Method from class B\". This is because Python uses the C3 linearization algorithm to determine the \n",
    "method resolution order. In this case, it follows the order `D`, `B`, `C`, `A`. Since `B` is the first class in the MRO \n",
    "that defines the `method()`, it is the one that gets called.\n",
    "This example demonstrates how Python resolves the diamond problem by using the C3 linearization algorithm to provide a \n",
    "consistent and unambiguous method resolution order.\n",
    "'''"
   ]
  },
  {
   "cell_type": "code",
   "execution_count": 6,
   "id": "ff31c8b6-199f-4428-8427-4d4cf4df5ba3",
   "metadata": {},
   "outputs": [
    {
     "name": "stdout",
     "output_type": "stream",
     "text": [
      "The animal is eating.\n",
      "The dog is barking.\n",
      "The engine is starting.\n"
     ]
    },
    {
     "data": {
      "text/plain": [
       "'\\nIn this example, `Car` has-a `Engine`. The `Car` class has an instance of the `Engine` class as a member variable. \\nWe can call the `start()` method on the `Car` object, which in turn calls the `start()` method of the `Engine` object.\\n'"
      ]
     },
     "execution_count": 6,
     "metadata": {},
     "output_type": "execute_result"
    }
   ],
   "source": [
    "#19.Discuss the concept of \"is-a\" and \"has-a\" relationships in inheritance, and provide examples of each.\n",
    "'''In inheritance, we often talk about \"is-a\" and \"has-a\" relationships to describe the connection between classes.\n",
    "An \"is-a\" relationship is used when one class is a specialized version of another class. It signifies that an object of\n",
    "the derived class is also an object of the base class. For example, if we have a class called `Animal` & a derived class\n",
    "called `Dog`, we can say that a `Dog` is-a `Animal`.'''\n",
    "#Here's an example:\n",
    "\n",
    "class Animal:\n",
    "    def eat(self):\n",
    "        print(\"The animal is eating.\")\n",
    "\n",
    "class Dog(Animal):\n",
    "    def bark(self):\n",
    "        print(\"The dog is barking.\")\n",
    "\n",
    "dog = Dog()\n",
    "dog.eat()  #This works because a Dog is-an Animal.\n",
    "dog.bark()\n",
    "\n",
    "'''\n",
    "On the other hand, a \"has-a\" relationship is used when one class contains an instance of another class as a member \n",
    "variable. It signifies that an object of one class has a reference to an object of another class.'''\n",
    "#Let's consider an example:\n",
    "\n",
    "class Car:\n",
    "    def __init__(self, engine):\n",
    "        self.engine = engine\n",
    "\n",
    "    def start(self):\n",
    "        self.engine.start()\n",
    "\n",
    "class Engine:\n",
    "    def start(self):\n",
    "        print(\"The engine is starting.\")\n",
    "\n",
    "engine = Engine()\n",
    "car = Car(engine)\n",
    "car.start()  #This works because a Car has-an Engine.\n",
    "\n",
    "'''\n",
    "In this example, `Car` has-a `Engine`. The `Car` class has an instance of the `Engine` class as a member variable. \n",
    "We can call the `start()` method on the `Car` object, which in turn calls the `start()` method of the `Engine` object.\n",
    "'''"
   ]
  },
  {
   "cell_type": "code",
   "execution_count": 14,
   "id": "30bb6bb6-3b76-4eaa-bfd4-b6f67b5074a6",
   "metadata": {},
   "outputs": [
    {
     "name": "stdout",
     "output_type": "stream",
     "text": [
      "Person's name:- Pwskills\n",
      "Person's age:- 10\n",
      "Student's name:- Govind\n",
      "Student's age:- 27\n",
      "Student's section:- A\n",
      "Professor's name:- Jayant\n",
      "Professor's age:- 45\n",
      "Professor's salary:- 50000\n"
     ]
    }
   ],
   "source": [
    "'''20.Create a Python class hierarchy for a university system. Start with a base class `Person` and create child\n",
    "classes `Student` and `Professor`, each with their own attributes and methods. Provide an example of using\n",
    "these classes in a university context.'''\n",
    "class Person:\n",
    "    def __init__(self, name, age):\n",
    "        self.name = name\n",
    "        self.age = age\n",
    "    def display_person(self):\n",
    "        print(\"Person's name:-\",self.name)\n",
    "        print(\"Person's age:-\",self.age)\n",
    "        \n",
    "class Student(Person):\n",
    "    def __init__(self, name, age, section):\n",
    "        super().__init__(name,age)\n",
    "        self.section = section\n",
    "    def display_student(self):\n",
    "        print(\"Student's name:-\",self.name)\n",
    "        print(\"Student's age:-\",self.age)\n",
    "        print(\"Student's section:-\",self.section)\n",
    "        \n",
    "class Professor(Person):\n",
    "    def __init__(self,name,age,salary):\n",
    "        super().__init__(name,age)\n",
    "        self.salary = salary\n",
    "\n",
    "    def display_professor(self):\n",
    "        print(\"Professor's name:-\",self.name)\n",
    "        print(\"Professor's age:-\",self.age)\n",
    "        print(\"Professor's salary:-\",self.salary)\n",
    "per = Person(\"Pwskills\",10)\n",
    "per.display_person()\n",
    "stu = Student(\"Govind\",27,\"A\")\n",
    "stu.display_student()\n",
    "prof = Professor(\"Jayant\",45,50000)\n",
    "prof.display_professor()"
   ]
  },
  {
   "cell_type": "code",
   "execution_count": 5,
   "id": "81207c56-897c-4239-bc77-fc3a19b52845",
   "metadata": {},
   "outputs": [
    {
     "data": {
      "text/plain": [
       "'In this example, we encapsulate the data (make, model, year) within the class. We use the `__init__` method as a \\nconstructor to initialize the object with the given values. The `get_make`, `get_model`, and `get_year` methods provide a\\nway to access the encapsulated data. This way, the internal details of the car object are hidden, and we can interact \\nwith it through these methods.'"
      ]
     },
     "execution_count": 5,
     "metadata": {},
     "output_type": "execute_result"
    }
   ],
   "source": [
    "'''Encapsulation:\n",
    "1.Explain the concept of encapsulation in Python. What is its role in object-oriented programming?\n",
    "'''\n",
    "'''Encapsulation is all about bundling data and methods together within a class. It helps in hiding the internal\n",
    "details of an object and provides a way to access and modify data through methods. It plays a crucial role in object-\n",
    "oriented programming by promoting data abstraction, data integrity, and code reusability. It allows for better \n",
    "organization and maintenance of code.'''\n",
    "#Here is an example:-\n",
    "class Car:\n",
    "    def __init__(self,make,model,year):\n",
    "        self.make = make\n",
    "        self.model = model\n",
    "        self.year = year\n",
    "        \n",
    "    def get_make(self):\n",
    "        return self.make\n",
    "    \n",
    "    def get_model(self):\n",
    "        return self.model\n",
    "    \n",
    "    def get_year(self):\n",
    "        return self.year\n",
    "'''In this example, we encapsulate the data (make, model, year) within the class. We use the `__init__` method as a \n",
    "constructor to initialize the object with the given values. The `get_make`, `get_model`, and `get_year` methods provide a\n",
    "way to access the encapsulated data. This way, the internal details of the car object are hidden, and we can interact \n",
    "with it through these methods.'''"
   ]
  },
  {
   "cell_type": "code",
   "execution_count": 6,
   "id": "08235c6a-614b-45f4-a2fb-f5bc1a05d90a",
   "metadata": {},
   "outputs": [
    {
     "data": {
      "text/plain": [
       "'In this example, we encapsulate the account details by using double underscores (`__`) before the variable names \\n(`account_number` and `balance`). This makes them private variables, which can only be accessed within the class itself.\\n\\nThe `__init__` method serves as the constructor, allowing us to initialize the account with an account number and initial\\nbalance. The `deposit` and `withdraw` methods provide ways to modify the balance, but they have access control in place \\nto ensure that the balance is updated correctly. The `get_balance` method allows us to retrieve the balance.\\n\\nBy encapsulating the account details and providing controlled access through methods, we can ensure that the account data\\nis protected and accessed in a secure and controlled manner.'"
      ]
     },
     "execution_count": 6,
     "metadata": {},
     "output_type": "execute_result"
    }
   ],
   "source": [
    "#2.Describe the key principles of encapsulation, including access control and data hiding.\n",
    "'''When it comes to encapsulation, there are key principles to keep in mind, such as access control and data hiding. \n",
    "Access control refers to the ability to control how and where data can be accessed or modified. It helps protect the \n",
    "integrity of the data and prevents unauthorized changes.\n",
    "\n",
    "Data hiding, on the other hand, is about hiding the internal details of an object and exposing only the necessary \n",
    "information through methods or interfaces. It allows for abstraction and prevents direct access to the underlying data, \n",
    "promoting a more secure and controlled way of interacting with objects.\n",
    "\n",
    "By combining access control and data hiding, encapsulation ensures that the internal state of an object is protected and\n",
    "can only be accessed or modified through designated methods or interfaces. This helps maintain the integrity of the \n",
    "object and promotes better code organization and maintenance.'''\n",
    "\n",
    "#Let me give you an example to illustrate encapsulation, access control, and data hiding.\n",
    "\n",
    "'''Imagine we have a class called \"BankAccount\" in Python. We want to encapsulate the account details, such as the \n",
    "account number and balance. Here's how it could look:\n",
    "'''\n",
    "class BankAccount:\n",
    "    def __init__(self, account_number, initial_balance):\n",
    "        self.__account_number = account_number\n",
    "        self.__balance = initial_balance\n",
    "\n",
    "    def deposit(self, amount):\n",
    "        self.__balance += amount\n",
    "\n",
    "    def withdraw(self, amount):\n",
    "        if amount <= self.__balance:\n",
    "            self.__balance -= amount\n",
    "        else:\n",
    "            print(\"Insufficient funds!\")\n",
    "\n",
    "    def get_balance(self):\n",
    "        return self.__balance\n",
    "\n",
    "'''In this example, we encapsulate the account details by using double underscores (`__`) before the variable names \n",
    "(`account_number` and `balance`). This makes them private variables, which can only be accessed within the class itself.\n",
    "\n",
    "The `__init__` method serves as the constructor, allowing us to initialize the account with an account number and initial\n",
    "balance. The `deposit` and `withdraw` methods provide ways to modify the balance, but they have access control in place \n",
    "to ensure that the balance is updated correctly. The `get_balance` method allows us to retrieve the balance.\n",
    "\n",
    "By encapsulating the account details and providing controlled access through methods, we can ensure that the account data\n",
    "is protected and accessed in a secure and controlled manner.'''"
   ]
  },
  {
   "cell_type": "code",
   "execution_count": 8,
   "id": "4cd6484a-b248-43b9-93a0-86f093da916b",
   "metadata": {},
   "outputs": [
    {
     "name": "stdout",
     "output_type": "stream",
     "text": [
      "Engine started.\n",
      "Car is driving.\n",
      "Car is accelerating.\n"
     ]
    },
    {
     "data": {
      "text/plain": [
       "'In this example, the variables `make` and `model` are marked as protected by using a single underscore prefix. This\\nindicates that they should not be accessed directly from outside the class, although it is still possible to do so. The \\nvariable `year` is marked as private by using double underscores, making it more restricted and inaccessible from outside\\nthe class.\\n\\nThe `start_engine` method is a public method that can be accessed from anywhere. The `__drive` method is a private method\\nindicated by the double underscores, and can only be accessed within the class itself.\\n\\nBy using access modifiers and naming conventions, we can achieve encapsulation in Python classes, controlling the \\naccessibility of class members and promoting data hiding.'"
      ]
     },
     "execution_count": 8,
     "metadata": {},
     "output_type": "execute_result"
    }
   ],
   "source": [
    "#3.How can you achieve encapsulation in Python classes? Provide an example.\n",
    "'''you can achieve encapsulation in classes by using access modifiers and naming conventions. Access modifiers are used \n",
    "to control the accessibility of class members, such as variables and methods. By convention, a single underscore (_) is \n",
    "used to indicate a protected member, and double underscores (__) are used to indicate a private member.'''\n",
    "\n",
    "#Here's an example to demonstrate encapsulation in Python:\n",
    "\n",
    "class Car:\n",
    "    def __init__(self, make, model, year):\n",
    "        self._make = make\n",
    "        self._model = model\n",
    "        self.__year = year\n",
    "\n",
    "    def start_engine(self):\n",
    "        print(\"Engine started.\")\n",
    "\n",
    "    def __drive(self):\n",
    "        print(\"Car is driving.\")\n",
    "\n",
    "    def accelerate(self):\n",
    "        self.__drive()\n",
    "        print(\"Car is accelerating.\")\n",
    "\n",
    "my_car = Car(\"Toyota\", \"Corolla\", 2022)\n",
    "my_car.start_engine()\n",
    "my_car.accelerate()\n",
    "'''In this example, the variables `make` and `model` are marked as protected by using a single underscore prefix. This\n",
    "indicates that they should not be accessed directly from outside the class, although it is still possible to do so. The \n",
    "variable `year` is marked as private by using double underscores, making it more restricted and inaccessible from outside\n",
    "the class.\n",
    "\n",
    "The `start_engine` method is a public method that can be accessed from anywhere. The `__drive` method is a private method\n",
    "indicated by the double underscores, and can only be accessed within the class itself.\n",
    "\n",
    "By using access modifiers and naming conventions, we can achieve encapsulation in Python classes, controlling the \n",
    "accessibility of class members and promoting data hiding.'''"
   ]
  },
  {
   "cell_type": "code",
   "execution_count": 9,
   "id": "59a12578-43f1-428f-b800-733231e59fb2",
   "metadata": {},
   "outputs": [
    {
     "data": {
      "text/plain": [
       "\"Access modifiers are used to control the accessibility of class members, such as variables and methods. Let's discuss \\nthe differences between public, private, and protected access modifiers:\\n\\n1.Public Access Modifier:\\n- Public members are accessible from anywhere, both inside and outside the class.\\n- By default, all members in a class are public unless specified otherwise.\\n- Public members can be accessed using the dot notation (`object.member`) outside the class.\\n\\n2.Private Access Modifier:\\n- Private members are intended to be accessed only within the class itself.\\n- Private members are denoted by using double underscores (`__`) as a prefix.\\n- Private members cannot be accessed directly from outside the class using the dot notation.\\n- However, they can still be accessed indirectly by using name mangling (`_ClassName__member`) outside the class.\\n\\n3.Protected Access Modifier:\\n- Protected members are intended to be accessed within the class and its subclasses.\\n- Protected members are denoted by using a single underscore (`_`) as a prefix.\\n- Protected members can be accessed from within the class, its subclasses, and even from outside the class (although it \\nis considered a convention not to do so).\\n\""
      ]
     },
     "execution_count": 9,
     "metadata": {},
     "output_type": "execute_result"
    }
   ],
   "source": [
    "#4.Discuss the difference between public, private, and protected access modifiers in Python.\n",
    "'''Access modifiers are used to control the accessibility of class members, such as variables and methods. Let's discuss \n",
    "the differences between public, private, and protected access modifiers:\n",
    "\n",
    "1.Public Access Modifier:\n",
    "- Public members are accessible from anywhere, both inside and outside the class.\n",
    "- By default, all members in a class are public unless specified otherwise.\n",
    "- Public members can be accessed using the dot notation (`object.member`) outside the class.\n",
    "\n",
    "2.Private Access Modifier:\n",
    "- Private members are intended to be accessed only within the class itself.\n",
    "- Private members are denoted by using double underscores (`__`) as a prefix.\n",
    "- Private members cannot be accessed directly from outside the class using the dot notation.\n",
    "- However, they can still be accessed indirectly by using name mangling (`_ClassName__member`) outside the class.\n",
    "\n",
    "3.Protected Access Modifier:\n",
    "- Protected members are intended to be accessed within the class and its subclasses.\n",
    "- Protected members are denoted by using a single underscore (`_`) as a prefix.\n",
    "- Protected members can be accessed from within the class, its subclasses, and even from outside the class (although it \n",
    "is considered a convention not to do so).\n",
    "'''"
   ]
  },
  {
   "cell_type": "code",
   "execution_count": 10,
   "id": "a524ed5a-aaff-425a-a93c-375e8a9ddfac",
   "metadata": {},
   "outputs": [
    {
     "name": "stdout",
     "output_type": "stream",
     "text": [
      "Mukesh\n",
      "Ramesh\n"
     ]
    }
   ],
   "source": [
    "#5.Create a Python class called`Person`with a private attribute`__name`.Provide methods to get & set the name attribute.\n",
    "class Person:\n",
    "    def __init__(self,name):\n",
    "        self.__name = name\n",
    "    \n",
    "    def get_name(self):\n",
    "        return self.__name\n",
    "    \n",
    "    def set_name(self,new_name):\n",
    "        self.__name = new_name\n",
    "\n",
    "person = Person(\"Mukesh\")\n",
    "print(person.get_name())\n",
    "person.set_name(\"Ramesh\")\n",
    "print(person.get_name())"
   ]
  },
  {
   "cell_type": "code",
   "execution_count": 11,
   "id": "a8288dad-15fa-483e-8472-86c6cefc63af",
   "metadata": {},
   "outputs": [
    {
     "name": "stdout",
     "output_type": "stream",
     "text": [
      "Govind\n",
      "Kumar\n"
     ]
    }
   ],
   "source": [
    "#6.Explain the purpose of getter and setter methods in encapsulation. Provide examples.\n",
    "'''\n",
    "Getter and setter methods are crucial in encapsulation. A getter method is used to read the value of an instance variable\n",
    "while a setter method is used to update the value of an instance variable.'''\n",
    "#Here's an example:\n",
    "class Person:\n",
    "    def __init__(self, name):\n",
    "        self._name = name\n",
    "\n",
    "    def get_name(self):\n",
    "        return self._name\n",
    "\n",
    "    def set_name(self, name):\n",
    "        self._name = name\n",
    "\n",
    "person = Person(\"Govind\")\n",
    "print(person.get_name())\n",
    "\n",
    "person.set_name(\"Kumar\")\n",
    "print(person.get_name())\n",
    "\n",
    "'''In this example, the `get_name()` method is used to read the value of the `name` variable, and the `set_name()` method\n",
    "is used to update the value of the `name` variable.\n",
    "And yes, in Python, we can explicitly call the constructor by passing arguments when creating an object of the class. \n",
    "For example:\n",
    "'''\n",
    "person = Person(\"Govind\")\n",
    "\n",
    "#Here, an object of the `Person` class is created, and the `__init__` method is called with the argument \"Govind\".\n"
   ]
  },
  {
   "cell_type": "code",
   "execution_count": 12,
   "id": "48967a26-6dd9-44a1-9e85-86e2c03369b8",
   "metadata": {},
   "outputs": [
    {
     "name": "stdout",
     "output_type": "stream",
     "text": [
      "Account_number:- 123456\n",
      "Balance:- 5000\n",
      "Name:- Govind\n",
      "Error: AttributeError: 'BankAccount' object has no attribute '__account_number'\n",
      "Error: AttributeError: 'BankAccount' object has no attribute '__balance'\n"
     ]
    },
    {
     "data": {
      "text/plain": [
       "'\\nIn this example, we have a `BankAccount` class with private instance variables `__account_number` and `__balance`. These \\nvariables are name-mangled to `_BankAccount__account_number` and `_BankAccount__balance`, respectively.\\n\\nAttempting to access these variables directly outside the class results in an `AttributeError`. To access the account \\nnumber and balance, we need to use the getter methods `get_account_number()` and `get_balance()`.'"
      ]
     },
     "execution_count": 12,
     "metadata": {},
     "output_type": "execute_result"
    }
   ],
   "source": [
    "#7.What is name mangling in Python, and how does it affect encapsulation?\n",
    "'''\n",
    "Name mangling in Python is a technique that modifies the name of an instance variable by adding a prefix of double \n",
    "underscores (`__`) to it. This modification is done to avoid accidental name clashes between different classes.\n",
    "When name mangling is applied to an instance variable, its name is transformed to `_ClassName__variable`. This makes the \n",
    "variable effectively private, as it becomes harder to access it directly from outside the class.\n",
    "Name mangling helps in encapsulation by providing a form of data hiding. It discourages direct access to instance \n",
    "variables from outside the class, promoting the use of getter and setter methods instead. This ensures that the internal \n",
    "implementation details of a class are hidden and can only be accessed or modified through the appropriate methods.\n",
    "'''\n",
    "#Here's an example to illustrate name mangling:\n",
    "\n",
    "class BankAccount:\n",
    "    def __init__(self,name,account_number,balance):\n",
    "        self.name = name\n",
    "        self.__account_number = account_number\n",
    "        self.__balance = balance\n",
    "        \n",
    "    def get_name(self):\n",
    "        return self.name\n",
    "    \n",
    "    def get_account_number(self):\n",
    "        return self.__account_number\n",
    "    \n",
    "    def get_balance(self):\n",
    "        return self.__balance\n",
    "    \n",
    "    def deposit(self,amount):\n",
    "        self.__balance += amount\n",
    "    \n",
    "    def withdraw(self,amount):\n",
    "        if amount<=self.__balance:\n",
    "            self.__balance -= amount\n",
    "        else:\n",
    "            print(\"Insufficient funds!\")\n",
    "account = BankAccount(\"Govind\",123456,5000)\n",
    "print(\"Account_number:-\",account.get_account_number())\n",
    "print(\"Balance:-\", account.get_balance())\n",
    "print(\"Name:-\",account.get_name())\n",
    "\n",
    "try:    \n",
    "    #Trying to access the instance variables directly\n",
    "    print(account.__account_number)\n",
    "except AttributeError as a:\n",
    "    print(\"Error: AttributeError:\",a)\n",
    "try:\n",
    "    print(account.__balance)\n",
    "except AttributeError as a:\n",
    "    print(\"Error: AttributeError:\",a)\n",
    "\n",
    "'''\n",
    "In this example, we have a `BankAccount` class with private instance variables `__account_number` and `__balance`. These \n",
    "variables are name-mangled to `_BankAccount__account_number` and `_BankAccount__balance`, respectively.\n",
    "\n",
    "Attempting to access these variables directly outside the class results in an `AttributeError`. To access the account \n",
    "number and balance, we need to use the getter methods `get_account_number()` and `get_balance()`.'''"
   ]
  },
  {
   "cell_type": "code",
   "execution_count": 30,
   "id": "0180f261-c9f7-49ed-9fea-2e66838b8984",
   "metadata": {},
   "outputs": [
    {
     "name": "stdout",
     "output_type": "stream",
     "text": [
      "₹4000 has been credited to your account! your current balance is ₹14000\n",
      "₹2200 has been debited to your account! your balance is ₹11800\n",
      "Account number:- 23456789\n",
      "Balance:-₹ 11800\n"
     ]
    }
   ],
   "source": [
    "'''8.Create a Python class called `BankAccount` with private attributes for the account balance (`__balance`)\n",
    "and account number (`__account_number`). Provide methods for depositing and withdrawing money.'''\n",
    "class BankAccount:\n",
    "    def __init__(self,account_number,balance):\n",
    "        self.__account_number = account_number\n",
    "        self.__balance = balance\n",
    "         \n",
    "    def get_account_number(self):\n",
    "        return self.__account_number\n",
    "    \n",
    "    def get_balance(self):\n",
    "        return self.__balance\n",
    "    \n",
    "    def deposit(self,amount):\n",
    "        self.__balance += amount\n",
    "        print(f\"₹{amount} has been credited to your account! your current balance is ₹{self.__balance}\")\n",
    "    \n",
    "    def withdraw(self,amount):\n",
    "        if amount<=self.__balance:\n",
    "            self.__balance -= amount\n",
    "            print(f\"₹{amount} has been debited to your account! your balance is ₹{self.__balance}\")\n",
    "        else:\n",
    "            print(\"Insufficient funds!\")\n",
    "            \n",
    "    def display_details(self):\n",
    "        print(\"Account number:-\",self.__account_number)\n",
    "        print(\"Balance:-₹\",self.__balance)\n",
    "Account = BankAccount(23456789, 10000)\n",
    "Account.deposit(4000)\n",
    "Account.withdraw(2200)\n",
    "Account.display_details()\n"
   ]
  },
  {
   "cell_type": "code",
   "execution_count": 13,
   "id": "e23dd976-06e8-4289-812c-dc6a56daf401",
   "metadata": {},
   "outputs": [
    {
     "data": {
      "text/plain": [
       "\"Encapsulation in terms of code maintainability provides several advantages. By encapsulating data and methods within a\\nclass, you can hide the internal implementation details and expose only the necessary interfaces to interact with the \\nclass.\\nThis helps in reducing code complexity and makes it easier to maintain and modify the code over time.\\n\\nWith encapsulation, you can ensure that the internal state of an object is accessed and modified only through defined \\nmethods.\\nThis provides a level of control and prevents direct manipulation of data from outside the class. This helps in \\nmaintaining data integrity and prevents accidental modification of data by other parts of the code.\\n\\nIn terms of security, encapsulation plays a crucial role. By hiding the internal implementation details of a class, you \\ncan protect sensitive data from unauthorized access. Only the methods that are exposed to interact with the class can \\naccess and modify the data, ensuring that the data remains secure.\\n\\nOverall, encapsulation promotes code maintainability by reducing complexity and provides security by controlling access \\nto data. It's an important principle in object-oriented programming that helps in building robust and secure software \\nsystems.\""
      ]
     },
     "execution_count": 13,
     "metadata": {},
     "output_type": "execute_result"
    }
   ],
   "source": [
    "#9.Discuss the advantages of encapsulation in terms of code maintainability and security.\n",
    "'''Encapsulation in terms of code maintainability provides several advantages. By encapsulating data and methods within a\n",
    "class, you can hide the internal implementation details and expose only the necessary interfaces to interact with the \n",
    "class.\n",
    "This helps in reducing code complexity and makes it easier to maintain and modify the code over time.\n",
    "\n",
    "With encapsulation, you can ensure that the internal state of an object is accessed and modified only through defined \n",
    "methods.\n",
    "This provides a level of control and prevents direct manipulation of data from outside the class. This helps in \n",
    "maintaining data integrity and prevents accidental modification of data by other parts of the code.\n",
    "\n",
    "In terms of security, encapsulation plays a crucial role. By hiding the internal implementation details of a class, you \n",
    "can protect sensitive data from unauthorized access. Only the methods that are exposed to interact with the class can \n",
    "access and modify the data, ensuring that the data remains secure.\n",
    "\n",
    "Overall, encapsulation promotes code maintainability by reducing complexity and provides security by controlling access \n",
    "to data. It's an important principle in object-oriented programming that helps in building robust and secure software \n",
    "systems.'''\n"
   ]
  },
  {
   "cell_type": "code",
   "execution_count": 14,
   "id": "f1402cde-8b02-4c39-aaf7-53c418f0f7a9",
   "metadata": {},
   "outputs": [
    {
     "name": "stdout",
     "output_type": "stream",
     "text": [
      "I'm private\n"
     ]
    },
    {
     "data": {
      "text/plain": [
       "\"In the example, the `__private_attr` attribute is a private attribute of the `MyClass` class. To access it from \\noutside the class, we use the modified name `obj._MyClass__private_attr`. This allows us to access the private attribute,\\nbut it's generally not recommended to do so, as it breaks encapsulation and can lead to unexpected behavior.\""
      ]
     },
     "execution_count": 14,
     "metadata": {},
     "output_type": "execute_result"
    }
   ],
   "source": [
    "#10.How can you access private attributes in Python? Provide an example demonstrating the use of name mangling.\n",
    "'''\n",
    "To access private attributes in Python, you can use a technique called name mangling. Name mangling is a mechanism that \n",
    "adds a prefix of double underscores (`__`) to the attribute name, making it harder to access directly from outside the \n",
    "class.\n",
    "Private attributes are not truly private, but their names are modified to prevent accidental access. The modified name \n",
    "includes the class name as a prefix, followed by the original attribute name. This modification is done by adding a \n",
    "single underscore (`_`) before the double underscore (`__`).'''\n",
    "#Here's an example demonstrating the use of name mangling:\n",
    "\n",
    "class MyClass:\n",
    "    def __init__(self):\n",
    "        self.__private_attr = \"I'm private\"\n",
    "\n",
    "obj = MyClass()\n",
    "\n",
    "# Accessing private attribute using name mangling\n",
    "print(obj._MyClass__private_attr)\n",
    "\n",
    "'''In the example, the `__private_attr` attribute is a private attribute of the `MyClass` class. To access it from \n",
    "outside the class, we use the modified name `obj._MyClass__private_attr`. This allows us to access the private attribute,\n",
    "but it's generally not recommended to do so, as it breaks encapsulation and can lead to unexpected behavior.'''"
   ]
  },
  {
   "cell_type": "code",
   "execution_count": 38,
   "id": "cb196e2e-9e44-4fb6-869d-fa618e6f2ff4",
   "metadata": {},
   "outputs": [
    {
     "name": "stdout",
     "output_type": "stream",
     "text": [
      "Name: Govind, Age: 27\n",
      "Student ID: S001\n",
      "Enrolled Courses:\n",
      "  - Mathematics\n",
      "\n",
      "\n",
      "Name: Mr.Kumar, Age: 35\n",
      "Employee ID: T001\n",
      "Courses Taught:\n",
      "  - Mathematics\n"
     ]
    }
   ],
   "source": [
    "'''11.Create a Python class hierarchy for a school system, including classes for students, teachers, and courses,\n",
    "and implement encapsulation principles to protect sensitive information.'''\n",
    "class Person:\n",
    "    def __init__(self, name, age):\n",
    "        self._name = name\n",
    "        self._age = age\n",
    "\n",
    "    def get_name(self):\n",
    "        return self._name\n",
    "\n",
    "    def get_age(self):\n",
    "        return self._age\n",
    "\n",
    "    def display_info(self):\n",
    "        print(f\"Name: {self._name}, Age: {self._age}\")\n",
    "\n",
    "\n",
    "class Student(Person):\n",
    "    def __init__(self, name, age, student_id):\n",
    "        super().__init__(name, age)\n",
    "        self._student_id = student_id\n",
    "        self._courses = []\n",
    "\n",
    "    def get_student_id(self):\n",
    "        return self._student_id\n",
    "\n",
    "    def enroll_course(self, course):\n",
    "        self._courses.append(course)\n",
    "\n",
    "    def display_info(self):\n",
    "        super().display_info()\n",
    "        print(f\"Student ID: {self._student_id}\")\n",
    "        if self._courses:\n",
    "            print(\"Enrolled Courses:\")\n",
    "            for course in self._courses:\n",
    "                print(f\"  - {course.get_course_name()}\")\n",
    "        else:\n",
    "            print(\"No enrolled courses yet.\")\n",
    "\n",
    "\n",
    "class Teacher(Person):\n",
    "    def __init__(self, name, age, teacher_id):\n",
    "        super().__init__(name, age)\n",
    "        self._teacher_id = teacher_id\n",
    "        self._courses_taught = []\n",
    "\n",
    "    def get_teacher_id(self):\n",
    "        return self._teacher_id\n",
    "\n",
    "    def assign_course(self, course):\n",
    "        self._courses_taught.append(course)\n",
    "\n",
    "    def display_info(self):\n",
    "        super().display_info()\n",
    "        print(f\"Employee ID: {self._teacher_id}\")\n",
    "        if self._courses_taught:\n",
    "            print(\"Courses Taught:\")\n",
    "            for course in self._courses_taught:\n",
    "                print(f\"  - {course.get_course_name()}\")\n",
    "        else:\n",
    "            print(\"Not currently teaching any courses.\")\n",
    "\n",
    "\n",
    "class Course:\n",
    "    def __init__(self, course_code, course_name):\n",
    "        self._course_code = course_code\n",
    "        self._course_name = course_name\n",
    "\n",
    "    def get_course_code(self):\n",
    "        return self._course_code\n",
    "\n",
    "    def get_course_name(self):\n",
    "        return self._course_name\n",
    "\n",
    "\n",
    "# Example usage:\n",
    "#Create instances of classes\n",
    "student1 = Student(\"Govind\", 27, \"S001\")\n",
    "teacher1 = Teacher(\"Mr.Kumar\", 35, \"T001\")\n",
    "math_course = Course(\"M101\", \"Mathematics\")\n",
    "\n",
    "#Enroll student in a course\n",
    "student1.enroll_course(math_course)\n",
    "\n",
    "#Assign teacher to a course\n",
    "teacher1.assign_course(math_course)\n",
    "#Display information\n",
    "student1.display_info()\n",
    "print(\"\\n\")\n",
    "teacher1.display_info()"
   ]
  },
  {
   "cell_type": "code",
   "execution_count": 39,
   "id": "353ef17d-72e2-4425-809e-08ac78db09f9",
   "metadata": {},
   "outputs": [
    {
     "name": "stdout",
     "output_type": "stream",
     "text": [
      "Govind\n"
     ]
    }
   ],
   "source": [
    "#12.Explain the concept of property decorators in Python and how they relate to encapsulation.\n",
    "'''\n",
    "Property decorators in Python are a way to define methods that allow us to access, set, or delete the value of a class\n",
    "attribute. They are used to encapsulate the access to class attributes, providing control over how they are accessed and \n",
    "modified.\n",
    "The `@property` decorator is used to define a getter method, which allows us to access the value of the attribute. It\n",
    "provides a way to access the attribute like a regular attribute, without the need for explicit method calls.\n",
    "'''\n",
    "#Here's an example:\n",
    "\n",
    "class Person:\n",
    "    def __init__(self, name):\n",
    "        self._name = name\n",
    "    \n",
    "    @property\n",
    "    def name(self):\n",
    "        return self._name\n",
    "\n",
    "person = Person(\"Govind\")\n",
    "print(person.name)"
   ]
  },
  {
   "cell_type": "code",
   "execution_count": 1,
   "id": "b571978a-082a-409a-b6c1-eeceeb512205",
   "metadata": {},
   "outputs": [
    {
     "data": {
      "text/plain": [
       "\"\\nIn this example, the `_account_number` and `_balance` attributes are prefixed with an underscore, indicating that they \\nare intended to be private. This means that they should not be accessed directly from outside the class. Instead, we\\nprovide public methods like `deposit`, `withdraw`, and `get_balance` to interact with the account.\\nBy hiding the internal attributes, we can ensure that the account number and balance are accessed and modified only\\nthrough the defined methods. This allows us to enforce any necessary checks or validations, such as ensuring sufficient \\nfunds before a withdrawal.\\nOverall, data hiding helps to maintain the integrity of an object's data, prevents unauthorized access, and allows for \\nbetter control and encapsulation of the class's behavior.\\n\""
      ]
     },
     "execution_count": 1,
     "metadata": {},
     "output_type": "execute_result"
    }
   ],
   "source": [
    "#13.What is data hiding, and why is it important in encapsulation? Provide examples.\n",
    "'''Data hiding, also known as information hiding, is a concept in object-oriented programming that refers to the practice\n",
    "of hiding the internal details and implementation of a class from the outside world. It is an important aspect of\n",
    "encapsulation, which aims to protect the integrity of an object's data and prevent direct access to its internal state.\n",
    "By hiding the internal data of a class, we can control how it is accessed and modified. This allows us to enforce certain\n",
    "rules and constraints, ensuring that the data remains consistent and valid.'''\n",
    "\n",
    "#For example, consider a `BankAccount` class:\n",
    "\n",
    "class BankAccount:\n",
    "    def __init__(self, account_number, balance):\n",
    "        self._account_number = account_number\n",
    "        self._balance = balance\n",
    "\n",
    "    def deposit(self, amount):\n",
    "        self._balance += amount\n",
    "\n",
    "    def withdraw(self, amount):\n",
    "        if self._balance >= amount:\n",
    "            self._balance -= amount\n",
    "        else:\n",
    "            print(\"Insufficient funds.\")\n",
    "\n",
    "    def get_balance(self):\n",
    "        return self._balance\n",
    "'''\n",
    "In this example, the `_account_number` and `_balance` attributes are prefixed with an underscore, indicating that they \n",
    "are intended to be private. This means that they should not be accessed directly from outside the class. Instead, we\n",
    "provide public methods like `deposit`, `withdraw`, and `get_balance` to interact with the account.\n",
    "By hiding the internal attributes, we can ensure that the account number and balance are accessed and modified only\n",
    "through the defined methods. This allows us to enforce any necessary checks or validations, such as ensuring sufficient \n",
    "funds before a withdrawal.\n",
    "Overall, data hiding helps to maintain the integrity of an object's data, prevents unauthorized access, and allows for \n",
    "better control and encapsulation of the class's behavior.\n",
    "'''"
   ]
  },
  {
   "cell_type": "code",
   "execution_count": 12,
   "id": "45220e5a-f147-4b1b-9a62-2f5e2d9e0ef6",
   "metadata": {},
   "outputs": [
    {
     "name": "stdout",
     "output_type": "stream",
     "text": [
      "Salary:- 25000\n",
      "Employee_ID:- E101\n",
      "Bonus:- 2500.0\n"
     ]
    }
   ],
   "source": [
    "'''14.Create a Python class called `Employee` with private attributes for salary (`__salary`) and employee ID\n",
    "(`__employee_id`). Provide a method to calculate yearly bonuses.'''\n",
    "class Employee:\n",
    "    def __init__(self,salary,employee_id):\n",
    "        self.__salary = salary\n",
    "        self.__employee_id = employee_id\n",
    "        \n",
    "    def calculate_bonus(self):\n",
    "        bonus_percent = 0.1\n",
    "        yearly_bonuses = self.__salary*bonus_percent\n",
    "        return yearly_bonuses \n",
    "    \n",
    "    def display_details(self):\n",
    "        print(\"Salary:-\",self.__salary)\n",
    "        print(\"Employee_ID:-\",self.__employee_id)\n",
    "        print(\"Bonus:-\", self.calculate_bonus())\n",
    "\n",
    "employee = Employee(25000, \"E101\")\n",
    "employee.display_details()"
   ]
  },
  {
   "cell_type": "code",
   "execution_count": null,
   "id": "1facdc49-6e9a-412f-985f-311af5630493",
   "metadata": {},
   "outputs": [],
   "source": [
    "'''15.Discuss the use of accessors and mutators in encapsulation. How do they help maintain control over\n",
    "attribute access?'''\n",
    "'''\n",
    "Accessors and mutators, also known as getters and setters, play an important role in encapsulation and maintaining \n",
    "control over attribute access. Accessors provide a way to retrieve the value of a private attribute, while mutators allow\n",
    "us to modify the value of a private attribute.\n",
    "\n",
    "By using accessors and mutators, we can control how the attributes of an object are accessed and modified. This helps \n",
    "ensure that the object's internal state remains consistent and that any necessary validation or logic is applied before\n",
    "allowing changes to the attribute.\n",
    "\n",
    "Accessors provide a layer of abstraction by hiding the internal representation of the attribute and only exposing a \n",
    "read-only view of it. This allows us to enforce constraints, such as returning a calculated value or validating the \n",
    "attribute before returning it.\n",
    "\n",
    "Mutators, on the other hand, provide a controlled way to modify the attribute by encapsulating any necessary logic or \n",
    "validation within the setter method. This helps maintain data integrity and prevents invalid or inconsistent states.\n",
    "\n",
    "Overall, accessors and mutators help maintain control over attribute access by encapsulating the internal state of an\n",
    "object and providing a controlled interface for interacting with it. They allow us to enforce constraints, apply \n",
    "validation, and ensure consistent behavior when accessing or modifying attributes.\n",
    "'''"
   ]
  },
  {
   "cell_type": "code",
   "execution_count": null,
   "id": "0dfaad24-ada3-4a25-908d-64dde1a356cd",
   "metadata": {},
   "outputs": [],
   "source": [
    "#16.What are the potential drawbacks or disadvantages of using encapsulation in Python?\n",
    "'''\n",
    "Encapsulation in Python provides numerous benefits, such as data protection, code organization, and maintainability.\n",
    "However, there are a few potential drawbacks or disadvantages to consider:\n",
    "\n",
    "1.Increased complexity: Encapsulation can introduce additional layers of abstraction, which may make the code more \n",
    "complex and harder to understand, especially for beginners or those unfamiliar with the codebase.\n",
    "\n",
    "2.Access limitations: By encapsulating attributes and methods, access to them is restricted. While this is often\n",
    "desirable for maintaining data integrity, it can also limit flexibility and make it more challenging to modify or extend\n",
    "the code.\n",
    "\n",
    "3.Performance impact: In some cases, encapsulation can introduce a slight performance overhead due to the additional \n",
    "method calls involved. However, the impact is generally negligible and outweighed by the benefits of encapsulation.\n",
    "\n",
    "4. Trade-off between encapsulation and ease of use: Encapsulation can sometimes require more effort to access or modify\n",
    "encapsulated attributes or methods. This trade-off between encapsulation and ease of use should be considered when \n",
    "designing the code.\n",
    "\n",
    "Despite these potential drawbacks, the advantages of encapsulation typically outweigh the disadvantages. It helps in \n",
    "creating more robust, maintainable, and secure code.\n",
    "'''"
   ]
  },
  {
   "cell_type": "code",
   "execution_count": 15,
   "id": "9b162de1-2c40-4568-9412-f86d7cf601be",
   "metadata": {},
   "outputs": [
    {
     "name": "stdout",
     "output_type": "stream",
     "text": [
      "The book 'Harry Potter and the Philosopher's Stone' by J.K. Rowling has been borrowed.\n",
      "The book 'Harry Potter and the Philosopher's Stone' by J.K. Rowling' has been returned.\n"
     ]
    }
   ],
   "source": [
    "'''17.Create a Python class for a library system that encapsulates book information, including titles, authors,\n",
    "and availability status.'''\n",
    "class Book:\n",
    "    def __init__(self, title, author):\n",
    "        self.title = title\n",
    "        self.author = author\n",
    "        self.available = True\n",
    "\n",
    "    def borrow(self):\n",
    "        if self.available:\n",
    "            self.available = False\n",
    "            print(f\"The book '{self.title}' by {self.author} has been borrowed.\")\n",
    "        else:\n",
    "            print(f\"Sorry, the book '{self.title}' by {self.author} is currently not available.\")\n",
    "\n",
    "    def return_book(self):\n",
    "        if not self.available:\n",
    "            self.available = True\n",
    "            print(f\"The book '{self.title}' by {self.author}' has been returned.\")\n",
    "        else:\n",
    "            print(f\"The book '{self.title}' by {self.author}' is already available.\")\n",
    "\n",
    "# Example usage:\n",
    "book1 = Book(\"Harry Potter and the Philosopher's Stone\", \"J.K. Rowling\")\n",
    "book1.borrow()\n",
    "book1.return_book()"
   ]
  },
  {
   "cell_type": "code",
   "execution_count": 16,
   "id": "593bf14b-7c47-4832-9a6b-89330e071e2c",
   "metadata": {},
   "outputs": [
    {
     "name": "stdout",
     "output_type": "stream",
     "text": [
      "Engine started!\n",
      "Driving...\n"
     ]
    }
   ],
   "source": [
    "#18.Explain how encapsulation enhances code reusability and modularity in Python programs.\n",
    "'''\n",
    "Encapsulation in Python enhances code reusability and modularity by promoting the concept of data hiding and \n",
    "abstraction. By encapsulating data and methods within a class, we can control access to them and hide the implementation\n",
    "details. This allows us to reuse the class in different parts of the program without worrying about the internal \n",
    "workings. Additionally, encapsulation helps in maintaining modularity, as changes made to the internal implementation of\n",
    "a class do not affect other parts of the program that use the class. This promotes code organization and makes it easier\n",
    "to maintain and update the codebase.\n",
    "\n",
    "Imagine we have a class called \"Car\" that encapsulates the properties and behaviors of a car. The internal details of\n",
    "the car, such as the engine, transmission, and fuel system, are hidden from the outside world. We expose only the \n",
    "necessary methods like \"start_engine()\" and \"drive()\" to interact with the car.\n",
    "'''\n",
    "#Here's an example:\n",
    "\n",
    "class Car:\n",
    "    def __init__(self, make, model):\n",
    "        self.make = make\n",
    "        self.model = model\n",
    "        self.engine_status = \"off\"\n",
    "\n",
    "    def start_engine(self):\n",
    "        self.engine_status = \"on\"\n",
    "        print(\"Engine started!\")\n",
    "\n",
    "    def drive(self):\n",
    "        if self.engine_status == \"on\":\n",
    "            print(\"Driving...\")\n",
    "        else:\n",
    "            print(\"Please start the engine first.\")\n",
    "\n",
    "#Creating an instance of the Car class\n",
    "my_car = Car(\"Toyota\", \"Camry\")\n",
    "\n",
    "#Using the encapsulated methods\n",
    "my_car.start_engine()\n",
    "my_car.drive()"
   ]
  },
  {
   "cell_type": "code",
   "execution_count": 17,
   "id": "cc0f5c85-86fd-4d91-a7c3-c1e9e52f9730",
   "metadata": {},
   "outputs": [
    {
     "data": {
      "text/plain": [
       "'In encapsulation, information hiding refers to the practice of hiding the internal details and complexities of a\\nclass or module from the outside world. It allows us to expose only the necessary information and functionality to the\\nexternal components, while keeping the implementation details hidden.\\n\\nInformation hiding is essential in software development for several reasons:\\n1. **Abstraction:** It helps in creating a simplified and high-level view of an object or module, allowing users to\\ninteract with it without needing to understand its internal workings. This promotes code readability and maintainability.\\n2. **Modularity:** By hiding the implementation details, changes made to the internal structure of a class or module do \\nnot affect the external components that use it. This promotes modularity, making it easier to update or replace the\\ninternal implementation without impacting the rest of the codebase.\\n3. **Security:** Information hiding helps protect sensitive data and prevents unauthorized access to critical parts of \\nthe code. By controlling access through well-defined interfaces, we can ensure that only authorized users can interact \\nwith the exposed functionality.\\n4. **Code Reusability:** By hiding the implementation details, encapsulation allows us to reuse classes or modules in\\ndifferent parts of the program without worrying about the internal complexities. This promotes code reusability and \\nsaves development time.\\n\\nOverall, information hiding in encapsulation provides a way to manage complexity, improve code organization, and create\\nmore robust and maintainable software systems'"
      ]
     },
     "execution_count": 17,
     "metadata": {},
     "output_type": "execute_result"
    }
   ],
   "source": [
    "#19.Describe the concept of information hiding in encapsulation. Why is it essential in software development?\n",
    "'''In encapsulation, information hiding refers to the practice of hiding the internal details and complexities of a\n",
    "class or module from the outside world. It allows us to expose only the necessary information and functionality to the\n",
    "external components, while keeping the implementation details hidden.\n",
    "\n",
    "Information hiding is essential in software development for several reasons:\n",
    "1. **Abstraction:** It helps in creating a simplified and high-level view of an object or module, allowing users to\n",
    "interact with it without needing to understand its internal workings. This promotes code readability and maintainability.\n",
    "2. **Modularity:** By hiding the implementation details, changes made to the internal structure of a class or module do \n",
    "not affect the external components that use it. This promotes modularity, making it easier to update or replace the\n",
    "internal implementation without impacting the rest of the codebase.\n",
    "3. **Security:** Information hiding helps protect sensitive data and prevents unauthorized access to critical parts of \n",
    "the code. By controlling access through well-defined interfaces, we can ensure that only authorized users can interact \n",
    "with the exposed functionality.\n",
    "4. **Code Reusability:** By hiding the implementation details, encapsulation allows us to reuse classes or modules in\n",
    "different parts of the program without worrying about the internal complexities. This promotes code reusability and \n",
    "saves development time.\n",
    "\n",
    "Overall, information hiding in encapsulation provides a way to manage complexity, improve code organization, and create\n",
    "more robust and maintainable software systems'''"
   ]
  },
  {
   "cell_type": "code",
   "execution_count": 19,
   "id": "90ed3b36-2149-4b09-bc0f-cc4d85f83cb6",
   "metadata": {},
   "outputs": [
    {
     "name": "stdout",
     "output_type": "stream",
     "text": [
      "Govind kumar\n",
      "123 Main St\n",
      "govind@example.com\n",
      "Contact information updated!\n",
      "newemail@example.com\n"
     ]
    }
   ],
   "source": [
    "'''20.Create a Python class called `Customer` with private attributes for customer details like name, address,\n",
    "and contact information. Implement encapsulation to ensure data integrity and security.'''\n",
    "\n",
    "class Customer:\n",
    "    def __init__(self, name, address, contact_info):\n",
    "        self.__name = name\n",
    "        self.__address = address\n",
    "        self.__contact_info = contact_info\n",
    "\n",
    "    def get_name(self):\n",
    "        return self.__name\n",
    "\n",
    "    def get_address(self):\n",
    "        return self.__address\n",
    "\n",
    "    def get_contact_info(self):\n",
    "        return self.__contact_info\n",
    "\n",
    "    def update_contact_info(self, new_contact_info):\n",
    "        self.__contact_info = new_contact_info\n",
    "        print(\"Contact information updated!\")\n",
    "\n",
    "#Creating an instance of the Customer class\n",
    "customer = Customer(\"Govind kumar\", \"123 Main St\", \"govind@example.com\")\n",
    "\n",
    "#Accessing the private attributes using getter methods\n",
    "print(customer.get_name())\n",
    "print(customer.get_address())\n",
    "print(customer.get_contact_info())\n",
    "\n",
    "#Updating the contact information using the update_contact_info method\n",
    "customer.update_contact_info(\"newemail@example.com\")\n",
    "print(customer.get_contact_info())"
   ]
  },
  {
   "cell_type": "code",
   "execution_count": 1,
   "id": "164df8e9-0bf3-4525-83bd-a3683d0ad420",
   "metadata": {},
   "outputs": [
    {
     "name": "stdout",
     "output_type": "stream",
     "text": [
      "Woof!\n",
      "Meow!\n"
     ]
    },
    {
     "data": {
      "text/plain": [
       "'\\nEven though we\\'re calling the same method \"make_sound\", the output is different based on the type of the object. This is\\npolymorphism in action!\\n'"
      ]
     },
     "execution_count": 1,
     "metadata": {},
     "output_type": "execute_result"
    }
   ],
   "source": [
    "'''Polymorphism:\n",
    "1.What is polymorphism in Python? Explain how it is related to object-oriented programming.\n",
    "'''\n",
    "'''Polymorphism in Python refers to the ability of objects to take on different forms. In object-oriented programming,\n",
    "polymorphism allows objects of different classes to be treated as objects of a common superclass. This means that you\n",
    "can use a single interface to represent different types of objects. It promotes code reusability and flexibility in your\n",
    "programs.\n",
    "Let's say we have a superclass called Animal, and two subclasses called Dog and Cat. Both Dog and Cat inherit from the \n",
    "Animal class. Now, each subclass has its own implementation of a method called \"make_sound\". \n",
    "In the Animal class, the \"make_sound\" method is defined as a generic sound like \"Roar!\". However, in the Dog subclass,\n",
    "the \"make_sound\" method is implemented as \"Woof!\", and in the Cat subclass, it is implemented as \"Meow!\".\n",
    "'''\n",
    "#Here's how it works:\n",
    "class Animal:\n",
    "    def make_sound(self):\n",
    "        print(\"Roar!\")\n",
    "\n",
    "class Dog(Animal):\n",
    "    def make_sound(self):\n",
    "        print(\"Woof!\")\n",
    "\n",
    "class Cat(Animal):\n",
    "    def make_sound(self):\n",
    "        print(\"Meow!\")\n",
    "\n",
    "#Polymorphism\n",
    "animals = [Dog(), Cat()]\n",
    "\n",
    "for animal in animals:\n",
    "    animal.make_sound()\n",
    "'''\n",
    "Even though we're calling the same method \"make_sound\", the output is different based on the type of the object. This is\n",
    "polymorphism in action!\n",
    "'''"
   ]
  },
  {
   "cell_type": "code",
   "execution_count": 6,
   "id": "f0edf073-0790-4a9a-bcbb-41b9cd80a628",
   "metadata": {},
   "outputs": [
    {
     "name": "stdout",
     "output_type": "stream",
     "text": [
      "5\n",
      "9\n",
      "Woof!\n",
      "Meow!\n"
     ]
    },
    {
     "data": {
      "text/plain": [
       "'To summarize:\\n- Compile-time polymorphism: Method overloading, determined by the compiler at compile-time based on the number and types\\nof arguments.\\n- Runtime polymorphism: Method overriding, determined at runtime based on the actual type of the object.\\n\\nBoth compile-time and runtime polymorphism are important concepts in object-oriented programming, and Python supports runtime\\npolymorphism through method overriding.\\n'"
      ]
     },
     "execution_count": 6,
     "metadata": {},
     "output_type": "execute_result"
    }
   ],
   "source": [
    "#2.Describe the difference between compile-time polymorphism and runtime polymorphism in Python.\n",
    "'''\n",
    "The difference between compile-time polymorphism and runtime polymorphism lies in the way method calls are resolved.\n",
    "\n",
    "Compile-time polymorphism, also known as static polymorphism, is achieved through method overloading. Method overloading\n",
    "allows us to define multiple methods with the same name but different parameters. The compiler determines which method to\n",
    "call based on the number and types of arguments provided during the method call. The decision is made at compile-time.\n",
    "'''\n",
    "#Here is an example:-\n",
    "class MathUtils:\n",
    "    def add(self, *args):\n",
    "        total = 0\n",
    "        for num in args:\n",
    "            total += num\n",
    "        return total\n",
    "# Method overloading in action\n",
    "math = MathUtils()\n",
    "print(math.add(2, 3))\n",
    "print(math.add(2, 3, 4))\n",
    "\n",
    "'''\n",
    "On the other hand, runtime polymorphism, also known as dynamic polymorphism, is achieved through method overriding.\n",
    "Method overriding occurs when a subclass provides its own implementation of a method that is already defined in its \n",
    "superclass. The decision of which method to call is made at runtime, based on the actual type of the object.\n",
    "'''\n",
    "#Here is an example:\n",
    "class Animal:\n",
    "    def make_sound(self):\n",
    "        print(\"Generic animal sound\")\n",
    "\n",
    "class Dog(Animal):\n",
    "    def make_sound(self):\n",
    "        print(\"Woof!\")\n",
    "\n",
    "class Cat(Animal):\n",
    "    def make_sound(self):\n",
    "        print(\"Meow!\")\n",
    "\n",
    "#Method overriding in action\n",
    "dog = Dog()\n",
    "dog.make_sound()\n",
    "\n",
    "cat = Cat()\n",
    "cat.make_sound()\n",
    "\n",
    "'''To summarize:\n",
    "- Compile-time polymorphism: Method overloading, determined by the compiler at compile-time based on the number and types\n",
    "of arguments.\n",
    "- Runtime polymorphism: Method overriding, determined at runtime based on the actual type of the object.\n",
    "\n",
    "Both compile-time and runtime polymorphism are important concepts in object-oriented programming, and Python supports \n",
    "runtime polymorphism through method overriding.\n",
    "'''"
   ]
  },
  {
   "cell_type": "code",
   "execution_count": 16,
   "id": "9519dce0-435e-4beb-8ab2-2716900c3aae",
   "metadata": {},
   "outputs": [
    {
     "name": "stdout",
     "output_type": "stream",
     "text": [
      "Area of Circle:- 314.1592653589793\n",
      "Area of Square:- 100\n",
      "Area of Triangle:- 86.60254037844386\n"
     ]
    }
   ],
   "source": [
    "'''\n",
    "3.Create a Python class hierarchy for shapes (e.g., circle, square, triangle) and demonstrate polymorphism\n",
    "through a common method, such as `calculate_area()`.\n",
    "'''\n",
    "import math\n",
    "class Shape:\n",
    "    def Area(self):\n",
    "        return \"Area\"\n",
    "\n",
    "class Circle(Shape):\n",
    "    def Area(self, radius):\n",
    "        self.radius = radius\n",
    "        print(\"Area of Circle:-\", math.pi*self.radius**2)\n",
    "\n",
    "class Square(Shape):\n",
    "    def Area(self,side):\n",
    "        self.side = side\n",
    "        print(\"Area of Square:-\", self.side**2)\n",
    "\n",
    "class Triangle(Shape):\n",
    "    def Area(self, side):\n",
    "        self.side = side\n",
    "        print(\"Area of Triangle:-\", (math.sqrt(3)/2)*self.side**2)\n",
    "\n",
    "\n",
    "#Polymorphism in Action:-\n",
    "Areas = [Circle(),Square(),Triangle()]\n",
    "\n",
    "for area in Areas:\n",
    "    area.Area(10)\n"
   ]
  },
  {
   "cell_type": "code",
   "execution_count": 17,
   "id": "47cadd2c-3719-4bb1-bae6-85b897f85951",
   "metadata": {},
   "outputs": [
    {
     "name": "stdout",
     "output_type": "stream",
     "text": [
      "The animal makes a sound.\n",
      "The dog barks.\n",
      "The cat meows.\n"
     ]
    },
    {
     "data": {
      "text/plain": [
       "'\\nIn this example, we have a base class called `Animal` with a method called `make_sound`. The `Dog` and `Cat` classes\\nare subclasses of `Animal`, and they override the `make_sound` method with their own implementations.\\n'"
      ]
     },
     "execution_count": 17,
     "metadata": {},
     "output_type": "execute_result"
    }
   ],
   "source": [
    "#4.Explain the concept of method overriding in polymorphism. Provide an example.\n",
    "'''\n",
    "Method overriding is a concept in object-oriented programming where a subclass provides its own implementation of a\n",
    "method that is already defined in its superclass. This allows the subclass to provide a specialized version of the\n",
    "method that is specific to its own needs, while still maintaining the same method signature as the superclass.\n",
    "'''\n",
    "#Here's an example to illustrate method overriding:\n",
    "\n",
    "class Animal:\n",
    "    def make_sound(self):\n",
    "        print(\"The animal makes a sound.\")\n",
    "\n",
    "class Dog(Animal):\n",
    "    def make_sound(self):\n",
    "        print(\"The dog barks.\")\n",
    "\n",
    "class Cat(Animal):\n",
    "    def make_sound(self):\n",
    "        print(\"The cat meows.\")\n",
    "\n",
    "# Polymorphism in action\n",
    "animal1 = Animal()\n",
    "animal1.make_sound()\n",
    "\n",
    "animal2 = Dog()\n",
    "animal2.make_sound()\n",
    "\n",
    "animal3 = Cat()\n",
    "animal3.make_sound()\n",
    "'''\n",
    "In this example, we have a base class called `Animal` with a method called `make_sound`. The `Dog` and `Cat` classes\n",
    "are subclasses of `Animal`, and they override the `make_sound` method with their own implementations.\n",
    "'''"
   ]
  },
  {
   "cell_type": "code",
   "execution_count": 21,
   "id": "367f85e5-743d-4460-9dc1-2a772548275d",
   "metadata": {},
   "outputs": [
    {
     "name": "stdout",
     "output_type": "stream",
     "text": [
      "The dog barks.\n",
      "The cat meows.\n",
      "TypeError: Calculator.add() missing 1 required positional argument: 'c'\n",
      "9\n"
     ]
    }
   ],
   "source": [
    "#5.How is polymorphism different from method overloading in Python? Provide examples for both.\n",
    "'''\n",
    "Polymorphism and method overloading are both concepts in object-oriented programming, but they differ in how they \n",
    "achieve flexibility in method calls.\n",
    "Polymorphism allows objects of different classes to be treated as objects of a common superclass. This means that a\n",
    "method can be defined in the superclass and overridden in the subclasses to provide different implementations. When a\n",
    "method is called on an object, the appropriate implementation based on the object's actual type is executed.'''\n",
    "#Here's an example:\n",
    "\n",
    "class Animal:\n",
    "    def make_sound(self):\n",
    "        pass\n",
    "\n",
    "class Dog(Animal):\n",
    "    def make_sound(self):\n",
    "        print(\"The dog barks.\")\n",
    "\n",
    "class Cat(Animal):\n",
    "    def make_sound(self):\n",
    "        print(\"The cat meows.\")\n",
    "\n",
    "# Polymorphism in action\n",
    "animal1 = Animal()\n",
    "animal1.make_sound()\n",
    "\n",
    "animal2 = Dog()\n",
    "animal2.make_sound()\n",
    "\n",
    "animal3 = Cat()\n",
    "animal3.make_sound()\n",
    "\n",
    "'''On the other hand, method overloading is the ability to define multiple methods with the same name but different\n",
    "parameters in a class. This allows the same method name to be used for different behaviors based on the number or types\n",
    "of arguments passed. However, method overloading is not directly supported in Python. Instead, we can achieve similar\n",
    "functionality by using default parameter values or using variable-length arguments.'''\n",
    "#Here's an example:\n",
    "\n",
    "class Calculator:\n",
    "    def add(self, a, b):\n",
    "        return a + b\n",
    "\n",
    "    def add(self, a, b, c):\n",
    "        return a + b + c\n",
    "\n",
    "#Method overloading in action\n",
    "calc = Calculator()\n",
    "try:\n",
    "    print(calc.add(2, 3))\n",
    "except TypeError as t:\n",
    "    print(\"TypeError:\",t)\n",
    "print(calc.add(2, 3, 4))"
   ]
  },
  {
   "cell_type": "code",
   "execution_count": 23,
   "id": "e7f036da-b425-46df-a524-22748d5fddab",
   "metadata": {},
   "outputs": [
    {
     "name": "stdout",
     "output_type": "stream",
     "text": [
      "Animal Roar!\n",
      "Dog barks!\n",
      "Cats meow\n",
      "Birds chirps\n"
     ]
    }
   ],
   "source": [
    "'''\n",
    "6.Create a Python class called `Animal` with a method `speak()`. Then, create child classes like `Dog`, `Cat`,\n",
    "and `Bird`, each with their own `speak()` method. Demonstrate polymorphism by calling the `speak()` method\n",
    "on objects of different subclasses.\n",
    "'''\n",
    "class Animal:\n",
    "    def speak(self):\n",
    "        print(\"Animal Roar!\")\n",
    "\n",
    "class Dog(Animal):\n",
    "    def speak(self):\n",
    "        print(\"Dog barks!\")\n",
    "\n",
    "class Cat(Animal):\n",
    "    def speak(self):\n",
    "        print(\"Cats meow\")\n",
    "        \n",
    "class Bird(Animal):\n",
    "    def speak(self):\n",
    "        print(\"Birds chirps\")\n",
    "\n",
    "#Polymorphism in action:\n",
    "animal = Animal()\n",
    "animal.speak()\n",
    "\n",
    "dog = Dog()\n",
    "dog.speak()\n",
    "\n",
    "cat = Cat()\n",
    "cat.speak()\n",
    "\n",
    "bird = Bird()\n",
    "bird.speak()"
   ]
  },
  {
   "cell_type": "code",
   "execution_count": 25,
   "id": "695c9bde-1f64-4f2a-9394-4f2c6d29ce1a",
   "metadata": {},
   "outputs": [
    {
     "name": "stdout",
     "output_type": "stream",
     "text": [
      "Dog barks!\n",
      "Cats meow\n",
      "Birds chirp\n"
     ]
    },
    {
     "data": {
      "text/plain": [
       "'\\nIn this example, the `Animal` class is defined as an abstract base class using the `ABC` metaclass. The `speak()`\\nmethod is declared as an abstract method using the `@abstractmethod` decorator. The `Dog`, `Cat`, and `Bird` classes\\ninherit from the `Animal` class and provide their own implementations of the `speak()` method.\\n\\nBy using the `abc` module and defining abstract methods, we ensure that all subclasses of the `Animal` class must\\nimplement the `speak()` method. This enforces the common interface and allows for polymorphic behavior when calling\\nthe `speak()` method on objects of different subclasses.\\n'"
      ]
     },
     "execution_count": 25,
     "metadata": {},
     "output_type": "execute_result"
    }
   ],
   "source": [
    "'''7.Discuss the use of abstract methods and classes in achieving polymorphism in Python. Provide an example\n",
    "using the `abc` module.'''\n",
    "\n",
    "'''\n",
    "Abstract methods and classes play a crucial role in achieving polymorphism in Python. They allow us to define a \n",
    "common interface or contract that must be implemented by the subclasses. The `abc` module in Python provides a way\n",
    "to define abstract classes and abstract methods.\n",
    "To use the `abc` module for achieving polymorphism, you can create an abstract base class (ABC) and define abstract\n",
    "methods within it. An abstract method is a method that is declared in the base class but does not have an implementation.\n",
    "Subclasses of the abstract base class must provide an implementation for these abstract methods.'''\n",
    "\n",
    "#Here's an example using the `abc` module to achieve polymorphism:\n",
    "\n",
    "from abc import ABC, abstractmethod\n",
    "\n",
    "class Animal(ABC):\n",
    "    @abstractmethod\n",
    "    def speak(self):\n",
    "        pass\n",
    "\n",
    "class Dog(Animal):\n",
    "    def speak(self):\n",
    "        print(\"Dog barks!\")\n",
    "\n",
    "class Cat(Animal):\n",
    "    def speak(self):\n",
    "        print(\"Cats meow\")\n",
    "\n",
    "class Bird(Animal):\n",
    "    def speak(self):\n",
    "        print(\"Birds chirp\")\n",
    "\n",
    "# Polymorphism in action:\n",
    "dog = Dog()\n",
    "dog.speak()\n",
    "\n",
    "cat = Cat()\n",
    "cat.speak()\n",
    "\n",
    "bird = Bird()\n",
    "bird.speak()\n",
    "'''\n",
    "In this example, the `Animal` class is defined as an abstract base class using the `ABC` metaclass. The `speak()`\n",
    "method is declared as an abstract method using the `@abstractmethod` decorator. The `Dog`, `Cat`, and `Bird` classes\n",
    "inherit from the `Animal` class and provide their own implementations of the `speak()` method.\n",
    "\n",
    "By using the `abc` module and defining abstract methods, we ensure that all subclasses of the `Animal` class must\n",
    "implement the `speak()` method. This enforces the common interface and allows for polymorphic behavior when calling\n",
    "the `speak()` method on objects of different subclasses.\n",
    "'''"
   ]
  },
  {
   "cell_type": "code",
   "execution_count": 26,
   "id": "2ee253f0-e07f-44b7-8262-c634828e3455",
   "metadata": {},
   "outputs": [
    {
     "name": "stdout",
     "output_type": "stream",
     "text": [
      "The car engine starts.\n",
      "You start pedaling on the bicycle.\n",
      "The boat's engine roars to life.\n"
     ]
    }
   ],
   "source": [
    "'''8.Create a Python class hierarchy for a vehicle system (e.g., car, bicycle, boat) and implement a\n",
    "polymorphic `start()` method that prints a message specific to each vehicle type.'''\n",
    "class Vehicle:\n",
    "    def start(self):\n",
    "        pass\n",
    "\n",
    "class Car(Vehicle):\n",
    "    def start(self):\n",
    "        print(\"The car engine starts.\")\n",
    "\n",
    "class Bicycle(Vehicle):\n",
    "    def start(self):\n",
    "        print(\"You start pedaling on the bicycle.\")\n",
    "\n",
    "class Boat(Vehicle):\n",
    "    def start(self):\n",
    "        print(\"The boat's engine roars to life.\")\n",
    "\n",
    "#Polymorphism in action:\n",
    "car = Car()\n",
    "car.start()\n",
    "\n",
    "bicycle = Bicycle()\n",
    "bicycle.start()\n",
    "\n",
    "boat = Boat()\n",
    "boat.start()"
   ]
  },
  {
   "cell_type": "code",
   "execution_count": 27,
   "id": "d244f4a9-7764-4a00-a012-bf396c06e218",
   "metadata": {},
   "outputs": [
    {
     "data": {
      "text/plain": [
       "'`isinstance()` and `issubclass()` are built-in functions in Python that are used to check the type relationships\\nbetween objects and classes, respectively. They play a significant role in polymorphism by allowing us to determine if\\nan object is an instance of a particular class or if a class is a subclass of another class.\\n\\nThe `isinstance()` function takes two arguments: an object and a class (or a tuple of classes). It returns `True` if\\nthe object is an instance of the specified class (or any of the classes in the tuple), and `False` otherwise. This\\nfunction is commonly used to check if an object can be treated as a particular type, enabling us to write code that \\ncan handle different types of objects in a polymorphic manner.\\n\\nThe `issubclass()` function, on the other hand, takes two arguments: a class and a class (or a tuple of classes). It\\nreturns `True` if the first class is a subclass of the second class (or any of the classes in the tuple), and `False` \\notherwise. This function allows us to check the inheritance relationships between classes, which is essential in \\npolymorphism as it allows us to write code that can work with objects of different subclasses interchangeably.\\n\\nBy using `isinstance()` and `issubclass()`, we can dynamically determine the type relationships between objects and \\nclasses at runtime. This flexibility enables us to write more flexible and reusable code that can handle different\\ntypes of objects in a polymorphic manner, promoting code modularity and extensibility.\\n'"
      ]
     },
     "execution_count": 27,
     "metadata": {},
     "output_type": "execute_result"
    }
   ],
   "source": [
    "#9.Explain the significance of the `isinstance()` and `issubclass()` functions in Python polymorphism.\n",
    "'''`isinstance()` and `issubclass()` are built-in functions in Python that are used to check the type relationships\n",
    "between objects and classes, respectively. They play a significant role in polymorphism by allowing us to determine if\n",
    "an object is an instance of a particular class or if a class is a subclass of another class.\n",
    "\n",
    "The `isinstance()` function takes two arguments: an object and a class (or a tuple of classes). It returns `True` if\n",
    "the object is an instance of the specified class (or any of the classes in the tuple), and `False` otherwise. This\n",
    "function is commonly used to check if an object can be treated as a particular type, enabling us to write code that \n",
    "can handle different types of objects in a polymorphic manner.\n",
    "\n",
    "The `issubclass()` function, on the other hand, takes two arguments: a class and a class (or a tuple of classes). It\n",
    "returns `True` if the first class is a subclass of the second class (or any of the classes in the tuple), and `False` \n",
    "otherwise. This function allows us to check the inheritance relationships between classes, which is essential in \n",
    "polymorphism as it allows us to write code that can work with objects of different subclasses interchangeably.\n",
    "\n",
    "By using `isinstance()` and `issubclass()`, we can dynamically determine the type relationships between objects and \n",
    "classes at runtime. This flexibility enables us to write more flexible and reusable code that can handle different\n",
    "types of objects in a polymorphic manner, promoting code modularity and extensibility.\n",
    "'''\n"
   ]
  },
  {
   "cell_type": "code",
   "execution_count": 29,
   "id": "4933d172-600d-41e3-badd-b7843fab5a65",
   "metadata": {},
   "outputs": [
    {
     "name": "stdout",
     "output_type": "stream",
     "text": [
      "20\n",
      "28.26\n"
     ]
    },
    {
     "data": {
      "text/plain": [
       "'\\nIn this example, the `Shape` class is an abstract base class that defines an abstract method `area()`. The \\n`@abstractmethod` decorator is used to indicate that the `area()` method must be implemented in any subclass of `Shape`.\\nThe `Rectangle` and `Circle` classes are subclasses of `Shape` and provide their own implementation of the `area()` \\nmethod.\\nBy using the `@abstractmethod` decorator, we ensure that all subclasses of `Shape` must implement the `area()` method,\\nallowing us to treat objects of different shapes interchangeably when calling the `area()` method.\\n'"
      ]
     },
     "execution_count": 29,
     "metadata": {},
     "output_type": "execute_result"
    }
   ],
   "source": [
    "#10.What is the role of the `@abstractmethod` decorator in achieving polymorphism in Python? Provide an example.\n",
    "'''\n",
    "The `@abstractmethod` decorator is used in Python to define abstract methods in abstract base classes. Abstract methods\n",
    "are methods that have no implementation in the base class but must be implemented in the subclasses. This plays a \n",
    "crucial role in achieving polymorphism by ensuring that all subclasses provide their own implementation of the abstract\n",
    "method, allowing them to be used interchangeably.\n",
    "'''\n",
    "#Here's an example to illustrate the use of the `@abstractmethod` decorator in achieving polymorphism:\n",
    "from abc import ABC, abstractmethod\n",
    "\n",
    "class Shape(ABC):\n",
    "    @abstractmethod\n",
    "    def area(self):\n",
    "        pass\n",
    "\n",
    "class Rectangle(Shape):\n",
    "    def __init__(self, length, width):\n",
    "        self.length = length\n",
    "        self.width = width\n",
    "\n",
    "    def area(self):\n",
    "        return self.length * self.width\n",
    "\n",
    "class Circle(Shape):\n",
    "    def __init__(self, radius):\n",
    "        self.radius = radius\n",
    "\n",
    "    def area(self):\n",
    "        return 3.14 * self.radius ** 2\n",
    "\n",
    "#Create objects of different shapes\n",
    "rectangle = Rectangle(4, 5)\n",
    "circle = Circle(3)\n",
    "\n",
    "#Call the area method on different shapes\n",
    "print(rectangle.area())\n",
    "print(circle.area())\n",
    "'''\n",
    "In this example, the `Shape` class is an abstract base class that defines an abstract method `area()`. The \n",
    "`@abstractmethod` decorator is used to indicate that the `area()` method must be implemented in any subclass of `Shape`.\n",
    "The `Rectangle` and `Circle` classes are subclasses of `Shape` and provide their own implementation of the `area()` \n",
    "method.\n",
    "By using the `@abstractmethod` decorator, we ensure that all subclasses of `Shape` must implement the `area()` method,\n",
    "allowing us to treat objects of different shapes interchangeably when calling the `area()` method.\n",
    "'''"
   ]
  },
  {
   "cell_type": "code",
   "execution_count": 1,
   "id": "86313fe7-9fac-4ca7-9a8b-7c00b3d8348e",
   "metadata": {},
   "outputs": [
    {
     "name": "stdout",
     "output_type": "stream",
     "text": [
      "Area of the circle: 78.5\n",
      "Area of the rectangle: 24\n",
      "Area of the triangle: 12.0\n"
     ]
    }
   ],
   "source": [
    "'''11.Create a Python class called `Shape` with a polymorphic method `area()` that calculates the area of\n",
    "different shapes (e.g., circle, rectangle, triangle).'''\n",
    "class Shape:\n",
    "    def area(self):\n",
    "        pass\n",
    "\n",
    "class Circle(Shape):\n",
    "    def __init__(self, radius):\n",
    "        self.radius = radius\n",
    "    \n",
    "    def area(self):\n",
    "        return 3.14 * self.radius * self.radius\n",
    "\n",
    "class Rectangle(Shape):\n",
    "    def __init__(self, length, width):\n",
    "        self.length = length\n",
    "        self.width = width\n",
    "    \n",
    "    def area(self):\n",
    "        return self.length * self.width\n",
    "\n",
    "class Triangle(Shape):\n",
    "    def __init__(self, base, height):\n",
    "        self.base = base\n",
    "        self.height = height\n",
    "    \n",
    "    def area(self):\n",
    "        return 0.5 * self.base * self.height\n",
    "\n",
    "# Example usage:\n",
    "circle = Circle(5)\n",
    "circle_area = circle.area()\n",
    "print(\"Area of the circle:\", circle_area)\n",
    "\n",
    "rectangle = Rectangle(4, 6)\n",
    "rectangle_area = rectangle.area()\n",
    "print(\"Area of the rectangle:\", rectangle_area)\n",
    "\n",
    "triangle = Triangle(3, 8)\n",
    "triangle_area = triangle.area()\n",
    "print(\"Area of the triangle:\", triangle_area)"
   ]
  },
  {
   "cell_type": "code",
   "execution_count": null,
   "id": "eace1b08-4d97-4e29-9447-e2ac5eedfee8",
   "metadata": {},
   "outputs": [],
   "source": [
    "#12.Discuss the benefits of polymorphism in terms of code reusability and flexibility in Python programs.\n",
    "'''Polymorphism in Python brings several benefits in terms of code reusability and flexibility. \n",
    "\n",
    "Firstly, polymorphism allows you to write code that can work with objects of different classes, as long as they share a\n",
    "common interface or base class. This means that you can write generic code that can be reused across different objects and\n",
    "classes, reducing code duplication.\n",
    "\n",
    "Secondly, polymorphism enables you to extend and modify your code easily. By defining new classes that inherit from a common\n",
    "base class, you can add new functionality without modifying existing code. This promotes code flexibility and makes it easier\n",
    "to adapt your program to changing requirements.\n",
    "\n",
    "Additionally, polymorphism enhances code readability and maintainability. When you have multiple classes that share a common\n",
    "interface, it becomes easier to understand and navigate the codebase. Polymorphic code also allows for easier testing and \n",
    "debugging, as you can write generic tests that can be applied to multiple classes.\n",
    "\n",
    "In summary, polymorphism in Python promotes code reusability, flexibility, readability, and maintainability, making your\n",
    "programs more efficient and adaptable to different scenarios.'''"
   ]
  },
  {
   "cell_type": "code",
   "execution_count": 1,
   "id": "ba900f32-b002-4927-861f-374eeb35170f",
   "metadata": {},
   "outputs": [
    {
     "name": "stdout",
     "output_type": "stream",
     "text": [
      "The animal makes a sound.\n",
      "The dog barks.\n"
     ]
    },
    {
     "data": {
      "text/plain": [
       "'In this example, the `make_sound()` method in the `Dog` class uses `super()` to call the `make_sound()` method from the\\n`Animal` class. This allows us to reuse the functionality of the parent class while adding additional behavior specific to\\nthe subclass.'"
      ]
     },
     "execution_count": 1,
     "metadata": {},
     "output_type": "execute_result"
    }
   ],
   "source": [
    "#13.Explain the use of the `super()` function in Python polymorphism.How does it help call methods of parent classes?\n",
    "'''\n",
    "The `super()` function in Python is used to call methods from the parent class in a subclass. It helps with method overriding\n",
    "and polymorphism. By using `super()`, you can access and invoke the methods of the parent class without explicitly naming the\n",
    "parent class. It's a convenient way to reuse and extend the functionality of the parent class in the subclass.\n",
    "\n",
    "Let's say we have a parent class called `Animal` with a method called `make_sound()`. We also have a subclass called `Dog`\n",
    "that inherits from the `Animal` class and overrides the `make_sound()` method.\n",
    "'''\n",
    "#Here's how you can use `super()` to call the `make_sound()` method from the parent class in the subclass:\n",
    "\n",
    "class Animal:\n",
    "    def make_sound(self):\n",
    "        print(\"The animal makes a sound.\")\n",
    "\n",
    "class Dog(Animal):\n",
    "    def make_sound(self):\n",
    "        super().make_sound()\n",
    "        print(\"The dog barks.\")\n",
    "\n",
    "dog = Dog()\n",
    "dog.make_sound()\n",
    "\n",
    "'''In this example, the `make_sound()` method in the `Dog` class uses `super()` to call the `make_sound()` method from the\n",
    "`Animal` class. This allows us to reuse the functionality of the parent class while adding additional behavior specific to\n",
    "the subclass.'''\n"
   ]
  },
  {
   "cell_type": "code",
   "execution_count": 3,
   "id": "28aacb44-6863-4d2d-af6d-30ee390c04ca",
   "metadata": {},
   "outputs": [
    {
     "name": "stdout",
     "output_type": "stream",
     "text": [
      "The given amount is withdrawn from your Saving Account!\n",
      "The given amount is withdrawn from your Checking Account!\n",
      "The given amount is withdrawn from your Credit Card Account!\n"
     ]
    }
   ],
   "source": [
    "'''14.Create a Python class hierarchy for a banking system with various account types (e.g., savings, checking,\n",
    "credit card) and demonstrate polymorphism by implementing a common `withdraw()` method.'''\n",
    "\n",
    "class BankAccount:\n",
    "    def withdraw(self):\n",
    "        pass\n",
    "\n",
    "class SavingAccount(BankAccount):\n",
    "    def withdraw(self):\n",
    "        print(\"The given amount is withdrawn from your Saving Account!\")\n",
    "\n",
    "class CheckingAccount(BankAccount):\n",
    "    def withdraw(self):\n",
    "        print(\"The given amount is withdrawn from your Checking Account!\")\n",
    "        \n",
    "class CreditCardAccount(BankAccount):\n",
    "    def withdraw(self):\n",
    "        print(\"The given amount is withdrawn from your Credit Card Account!\")\n",
    "    \n",
    "savings = SavingAccount()\n",
    "checkings = CheckingAccount()\n",
    "credits = CreditCardAccount()\n",
    "\n",
    "savings.withdraw()\n",
    "checkings.withdraw()\n",
    "credits.withdraw()"
   ]
  },
  {
   "cell_type": "code",
   "execution_count": 11,
   "id": "2af913bb-481c-4136-8f8d-a85eda6b7885",
   "metadata": {},
   "outputs": [
    {
     "name": "stdout",
     "output_type": "stream",
     "text": [
      "6 8\n",
      "6 9\n"
     ]
    },
    {
     "data": {
      "text/plain": [
       "'\\nIn this case, the `__mul__` method is called when we use the `*` operator with a `Vector` object and a scalar value.\\n\\nBy overloading operators like `+` and `*`, we can make our custom objects behave like built-in types and enable polymorphism,\\nallowing different objects to\\n'"
      ]
     },
     "execution_count": 11,
     "metadata": {},
     "output_type": "execute_result"
    }
   ],
   "source": [
    "'''15.Describe the concept of operator overloading in Python and how it relates to polymorphism.\n",
    "Provide examples using operators like `+` and `*`.'''\n",
    "'''\n",
    "Operator overloading in Python allows us to define how operators like `+` and `*` behave for our own custom classes. It's\n",
    "a way to make operators work differently depending on the objects they are applied to.\n",
    "\n",
    "Operator overloading is closely related to polymorphism because it allows different objects to respond to the same operator\n",
    "in different ways. This is achieved by defining special methods in our class that correspond to the operator we want to \n",
    "overload.\n",
    "\n",
    "Let's take the `+` operator as an example. We can define the `__add__()` method in our class to specify how the `+` operator\n",
    "should behave for objects of that class.'''\n",
    "#Here's an example:\n",
    "\n",
    "class Vector:\n",
    "    def __init__(self, x, y):\n",
    "        self.x = x\n",
    "        self.y = y\n",
    "\n",
    "    def __add__(self, other):\n",
    "        if isinstance(other, Vector):\n",
    "            return Vector(self.x + other.x, self.y + other.y)\n",
    "        else:\n",
    "            raise TypeError(\"Unsupported operand type for +\")\n",
    "\n",
    "v1 = Vector(2, 3)\n",
    "v2 = Vector(4, 5)\n",
    "v3 = v1 + v2\n",
    "\n",
    "print(v3.x, v3.y)\n",
    "\n",
    "'''In this example, when we use the `+` operator between two `Vector` objects, the `__add__` method is called and performs the\n",
    "vector addition operation.'''\n",
    "\n",
    "#Similarly, we can overload the `*` operator to perform scalar multiplication on a `Vector` object:\n",
    "\n",
    "class Vector:\n",
    "    def __init__(self, x, y):\n",
    "        self.x = x\n",
    "        self.y = y\n",
    "\n",
    "    def __mul__(self, scalar):\n",
    "        if isinstance(scalar, (int, float)):\n",
    "            return Vector(self.x * scalar, self.y * scalar)\n",
    "        else:\n",
    "            raise TypeError(\"Unsupported operand type for *\")\n",
    "\n",
    "v = Vector(2, 3)\n",
    "result = v * 3\n",
    "\n",
    "print(result.x, result.y) \n",
    "\n",
    "'''\n",
    "In this case, the `__mul__` method is called when we use the `*` operator with a `Vector` object and a scalar value.\n",
    "\n",
    "By overloading operators like `+` and `*`, we can make our custom objects behave like built-in types and enable polymorphism,\n",
    "allowing different objects to\n",
    "'''\n"
   ]
  },
  {
   "cell_type": "code",
   "execution_count": 12,
   "id": "2555c10d-2957-42c9-aa37-9761439066cb",
   "metadata": {},
   "outputs": [
    {
     "name": "stdout",
     "output_type": "stream",
     "text": [
      "Animal makes a sound.\n",
      "Dog barks.\n",
      "Cat meows.\n"
     ]
    }
   ],
   "source": [
    "#16.What is dynamic polymorphism, and how is it achieved in Python?\n",
    "'''\n",
    "Dynamic polymorphism, also known as runtime polymorphism, is a feature of object-oriented programming that allows objects of\n",
    "different classes to be treated as objects of a common superclass. It enables the same method name to be used across different\n",
    "objects, and the specific implementation of the method is determined at runtime based on the actual type of the object.\n",
    "\n",
    "Dynamic polymorphism is achieved through method overriding. Method overriding occurs when a subclass provides a\n",
    "different implementation of a method that is already defined in its superclass. When an overridden method is called on an \n",
    "object, the implementation of the method in the subclass is executed instead of the implementation in the superclass.\n",
    "'''\n",
    "#Here's an example to illustrate dynamic polymorphism in Python:\n",
    "\n",
    "class Animal:\n",
    "    def make_sound(self):\n",
    "        print(\"Animal makes a sound.\")\n",
    "\n",
    "class Dog(Animal):\n",
    "    def make_sound(self):\n",
    "        print(\"Dog barks.\")\n",
    "\n",
    "class Cat(Animal):\n",
    "    def make_sound(self):\n",
    "        print(\"Cat meows.\")\n",
    "\n",
    "#Create instances of different classes\n",
    "animal = Animal()\n",
    "dog = Dog()\n",
    "cat = Cat()\n",
    "\n",
    "#Call the make_sound() method on each object\n",
    "animal.make_sound()  \n",
    "dog.make_sound()     \n",
    "cat.make_sound()     "
   ]
  },
  {
   "cell_type": "code",
   "execution_count": 4,
   "id": "da81cd81-9e14-45a1-a8c2-8acd05235ff8",
   "metadata": {},
   "outputs": [
    {
     "name": "stdout",
     "output_type": "stream",
     "text": [
      "This is salary for Manager.\n",
      "This is salary for Developer.\n",
      "This is salary for Designer.\n"
     ]
    }
   ],
   "source": [
    "'''17.Create a Python class hierarchy for employees in a company (e.g., manager, developer, designer) and\n",
    "implement polymorphism through a common `calculate_salary()` method.'''\n",
    "class Employee:\n",
    "    def calculate_salary(self):\n",
    "        pass\n",
    "\n",
    "class Manager(Employee):\n",
    "    def calculate_salary(self):\n",
    "        print(\"This is salary for Manager.\")\n",
    "        \n",
    "class Developer(Employee):\n",
    "    def calculate_salary(self):\n",
    "        print(\"This is salary for Developer.\")\n",
    "\n",
    "class Designer(Employee):\n",
    "    def calculate_salary(self):\n",
    "        print(\"This is salary for Designer.\")\n",
    "        \n",
    "emp = Employee\n",
    "mr = Manager()\n",
    "Dr = Developer()\n",
    "Des = Designer()\n",
    "\n",
    "mr.calculate_salary()\n",
    "Dr.calculate_salary()\n",
    "Des.calculate_salary()"
   ]
  },
  {
   "cell_type": "code",
   "execution_count": 13,
   "id": "5e11d072-20ca-4c34-949e-1504c288696d",
   "metadata": {},
   "outputs": [
    {
     "name": "stdout",
     "output_type": "stream",
     "text": [
      "5\n",
      "3\n"
     ]
    }
   ],
   "source": [
    "#18.Discuss the concept of function pointers and how they can be used to achieve polymorphism in Python.\n",
    "'''In Python, the concept of function pointers is not directly available like in some other programming languages. However,\n",
    "we can achieve similar functionality using higher-order functions and the ability to pass functions as arguments to other\n",
    "functions.\n",
    "\n",
    "In Python, functions are first-class citizens, which means we can treat them like any other object. We can assign functions\n",
    "to variables, pass them as arguments to other functions, and even return them from other functions. This flexibility allows\n",
    "us to achieve polymorphism by dynamically selecting and executing different functions based on the specific context or\n",
    "requirements.\n",
    "'''\n",
    "#Here's an example to demonstrate how we can achieve polymorphism using function arguments in Python:\n",
    "\n",
    "def add(a, b):\n",
    "    return a + b\n",
    "\n",
    "def subtract(a, b):\n",
    "    return a - b\n",
    "\n",
    "def calculate(operation, a, b):\n",
    "    return operation(a, b)\n",
    "\n",
    "result1 = calculate(add, 3, 2)\n",
    "result2 = calculate(subtract, 5, 2)\n",
    "\n",
    "print(result1)\n",
    "print(result2)"
   ]
  },
  {
   "cell_type": "code",
   "execution_count": 14,
   "id": "8866f404-739c-41b4-91a5-1b43d7a72ea2",
   "metadata": {},
   "outputs": [
    {
     "data": {
      "text/plain": [
       "'\\nInterfaces and abstract classes are both used in object-oriented programming to achieve polymorphism, but they have some\\ndifferences in terms of their implementation and usage.\\n\\nAn interface in Python is a collection of method signatures (functions without implementation) that a class can choose to\\nimplement. It defines a contract that specifies what methods a class must have, but it does not provide any implementation\\ndetails. By implementing an interface, a class promises to provide the specified methods. Interfaces allow us to achieve\\npolymorphism by defining a common set of methods that different classes can implement according to their specific needs.\\n\\nOn the other hand, an abstract class in Python is a class that cannot be instantiated and serves as a blueprint for other \\nclasses. It can contain both method signatures (like an interface) and implemented methods. Abstract classes can provide \\ndefault implementations for some methods and leave others as abstract (without implementation). Subclasses of an abstract \\nclass must implement the abstract methods defined in the abstract class. Abstract classes allow us to achieve polymorphism\\nby providing a common base class that other classes can inherit from and override its methods.\\n\\nIn terms of comparisons, here are some key points:\\n\\n1. Implementation: Interfaces only define method signatures, while abstract classes can have both method signatures and \\nimplemented methods.\\n\\n2. Multiple Inheritance: A class can implement multiple interfaces, but it can only inherit from one abstract class. This\\nallows for more flexibility in terms of reusing code when using interfaces.\\n\\n3. Method Implementation: Interfaces do not provide any default implementation for methods, while abstract classes can provide\\ndefault implementations for some methods.\\n\\n4. Purpose: Interfaces are used to define a contract that specifies what methods a class must have, while abstract classes are\\nused to provide a common base class with some default behavior that subclasses can inherit and override.\\n\\nIn summary, interfaces and abstract classes both play a role in achieving polymorphism. Interfaces define a contract that\\nclasses must implement, while abstract classes provide a base class with some default behavior. The choice between using \\ninterfaces or abstract classes depends on the specific requirements and design of the program.\\n'"
      ]
     },
     "execution_count": 14,
     "metadata": {},
     "output_type": "execute_result"
    }
   ],
   "source": [
    "#19.Explain the role of interfaces and abstract classes in polymorphism, drawing comparisons between them.\n",
    "'''\n",
    "Interfaces and abstract classes are both used in object-oriented programming to achieve polymorphism, but they have some\n",
    "differences in terms of their implementation and usage.\n",
    "\n",
    "An interface in Python is a collection of method signatures (functions without implementation) that a class can choose to\n",
    "implement. It defines a contract that specifies what methods a class must have, but it does not provide any implementation\n",
    "details. By implementing an interface, a class promises to provide the specified methods. Interfaces allow us to achieve\n",
    "polymorphism by defining a common set of methods that different classes can implement according to their specific needs.\n",
    "\n",
    "On the other hand, an abstract class in Python is a class that cannot be instantiated and serves as a blueprint for other \n",
    "classes. It can contain both method signatures (like an interface) and implemented methods. Abstract classes can provide \n",
    "default implementations for some methods and leave others as abstract (without implementation). Subclasses of an abstract \n",
    "class must implement the abstract methods defined in the abstract class. Abstract classes allow us to achieve polymorphism\n",
    "by providing a common base class that other classes can inherit from and override its methods.\n",
    "\n",
    "In terms of comparisons, here are some key points:\n",
    "\n",
    "1. Implementation: Interfaces only define method signatures, while abstract classes can have both method signatures and \n",
    "implemented methods.\n",
    "\n",
    "2. Multiple Inheritance: A class can implement multiple interfaces, but it can only inherit from one abstract class. This\n",
    "allows for more flexibility in terms of reusing code when using interfaces.\n",
    "\n",
    "3. Method Implementation: Interfaces do not provide any default implementation for methods, while abstract classes can provide\n",
    "default implementations for some methods.\n",
    "\n",
    "4. Purpose: Interfaces are used to define a contract that specifies what methods a class must have, while abstract classes are\n",
    "used to provide a common base class with some default behavior that subclasses can inherit and override.\n",
    "\n",
    "In summary, interfaces and abstract classes both play a role in achieving polymorphism. Interfaces define a contract that\n",
    "classes must implement, while abstract classes provide a base class with some default behavior. The choice between using \n",
    "interfaces or abstract classes depends on the specific requirements and design of the program.\n",
    "'''\n"
   ]
  },
  {
   "cell_type": "code",
   "execution_count": 5,
   "id": "cb3d9cf7-b3e6-4e5b-960a-d9d5a946c25a",
   "metadata": {},
   "outputs": [
    {
     "name": "stdout",
     "output_type": "stream",
     "text": [
      "Mammals are eating.\n",
      "Mammals are sleeping.\n",
      "Mammals make sounds.\n",
      "Birds are eating.\n",
      "Birds are sleeping.\n",
      "Birds are Chirping.\n",
      "Reptiles are eating.\n",
      "Reptiles are sleeping.\n",
      "Reptiles make sounds.\n"
     ]
    }
   ],
   "source": [
    "'''20.Create a Python class for a zoo simulation, demonstrating polymorphism with different animal types (e.g.,\n",
    "mammals, birds, reptiles) and their behavior (e.g., eating, sleeping, making sounds).'''\n",
    "class Zoo_simulation:\n",
    "    def behaviour(self):\n",
    "        pass\n",
    "\n",
    "class Mammals(Zoo_simulation):\n",
    "    def eating(self):\n",
    "        print(\"Mammals are eating.\")\n",
    "        \n",
    "    def sleeping(self):\n",
    "        print(\"Mammals are sleeping.\")\n",
    "    \n",
    "    def making_sound(self):\n",
    "        print(\"Mammals make sounds.\")\n",
    "        \n",
    "class Birds(Zoo_simulation):\n",
    "    def eating(self):\n",
    "        print(\"Birds are eating.\")\n",
    "        \n",
    "    def sleeping(self):\n",
    "        print(\"Birds are sleeping.\")\n",
    "    \n",
    "    def making_sound(self):\n",
    "        print(\"Birds are Chirping.\")\n",
    "        \n",
    "class Reptiles(Zoo_simulation):\n",
    "    def eating(self):\n",
    "        print(\"Reptiles are eating.\")\n",
    "        \n",
    "    def sleeping(self):\n",
    "        print(\"Reptiles are sleeping.\")\n",
    "    \n",
    "    def making_sound(self):\n",
    "        print(\"Reptiles make sounds.\")\n",
    "zoo = Zoo_simulation()\n",
    "mammal = Mammals()\n",
    "bird = Birds()\n",
    "reptile = Reptiles()\n",
    "\n",
    "mammal.eating()\n",
    "mammal.sleeping()\n",
    "mammal.making_sound()\n",
    "\n",
    "bird.eating()\n",
    "bird.sleeping()\n",
    "bird.making_sound()\n",
    "\n",
    "reptile.eating()\n",
    "reptile.sleeping()\n",
    "reptile.making_sound()\n"
   ]
  },
  {
   "cell_type": "code",
   "execution_count": 3,
   "id": "34d6fdf5-5e4f-4901-9c8a-34b5d6f69192",
   "metadata": {},
   "outputs": [
    {
     "data": {
      "text/plain": [
       "'Abstraction in Python is a concept in object-oriented programming that allows you to create classes and objects that \\nrepresent real-world entities or concepts. It involves hiding the complex implementation details of an object and exposing\\nonly the essential features or behaviors that are relevant to the user.\\n\\nIn other words, abstraction helps you focus on the essential characteristics of an object and ignore the unnecessary details.\\nIt allows you to create a simplified and more manageable representation of a real-world object.\\n\\nAbstraction is closely related to object-oriented programming because it is one of the fundamental principles of the paradigm.\\nIn object-oriented programming, you define classes to represent objects, and those classes encapsulate both data (attributes)\\nand behavior (methods). By using abstraction, you can define abstract classes or interfaces that provide a common set of \\nmethods that subclasses must implement. This allows you to create a hierarchy of classes with varying levels of abstraction,\\nwhere the higher-level classes provide a more generalized view of the objects, while the lower-level classes provide more \\nspecific implementations.\\n\\nBy using abstraction, you can create modular and reusable code, enhance code maintainability, and improve code readability. \\nIt also helps in achieving code reusability and flexibility.\\n'"
      ]
     },
     "execution_count": 3,
     "metadata": {},
     "output_type": "execute_result"
    }
   ],
   "source": [
    "'''Abstraction:\n",
    "1.What is abstraction in Python, and how does it relate to object-oriented programming?\n",
    "'''\n",
    "'''Abstraction in Python is a concept in object-oriented programming that allows you to create classes and objects that \n",
    "represent real-world entities or concepts. It involves hiding the complex implementation details of an object and exposing\n",
    "only the essential features or behaviors that are relevant to the user.\n",
    "\n",
    "In other words, abstraction helps you focus on the essential characteristics of an object and ignore the unnecessary details.\n",
    "It allows you to create a simplified and more manageable representation of a real-world object.\n",
    "\n",
    "Abstraction is closely related to object-oriented programming because it is one of the fundamental principles of the paradigm.\n",
    "In object-oriented programming, you define classes to represent objects, and those classes encapsulate both data (attributes)\n",
    "and behavior (methods). By using abstraction, you can define abstract classes or interfaces that provide a common set of \n",
    "methods that subclasses must implement. This allows you to create a hierarchy of classes with varying levels of abstraction,\n",
    "where the higher-level classes provide a more generalized view of the objects, while the lower-level classes provide more \n",
    "specific implementations.\n",
    "\n",
    "By using abstraction, you can create modular and reusable code, enhance code maintainability, and improve code readability. \n",
    "It also helps in achieving code reusability and flexibility.\n",
    "'''"
   ]
  },
  {
   "cell_type": "code",
   "execution_count": null,
   "id": "86ac1301-1597-48bb-a458-7102d4a590f9",
   "metadata": {},
   "outputs": [],
   "source": [
    "#2.Describe the benefits of abstraction in terms of code organization and complexity reduction.\n",
    "'''\n",
    "Abstraction offers several benefits when it comes to code organization and reducing complexity. \n",
    "Let me explain:\n",
    "\n",
    "1.Code Organization: Abstraction helps in organizing code by providing a clear separation between the essential features of \n",
    "an object and the underlying implementation details. By hiding the complexity, you can focus on the high-level structure of\n",
    "your code, making it easier to understand and maintain. It also promotes modularity, allowing you to break down your code into\n",
    "smaller, manageable components that can be developed and tested independently.\n",
    "\n",
    "2.Complexity Reduction: Abstraction simplifies the code by removing unnecessary details and exposing only the essential\n",
    "features. This reduces the cognitive load on developers, making it easier to comprehend and work with the codebase. It also\n",
    "helps in managing the complexity of larger projects by providing a higher-level view of the system, allowing you to reason \n",
    "about the interactions between different components without getting lost in the implementation details.\n",
    "\n",
    "3.Code Reusability: Abstraction promotes code reusability by providing a generalized interface or base class that can be\n",
    "extended or implemented by multiple subclasses. This allows you to define common behaviors or attributes once and reuse them\n",
    "across different parts of your codebase. By reusing code, you can save development time, reduce duplication, and ensure\n",
    "consistency in your code.\n",
    "\n",
    "4.Maintenance and Scalability: With abstraction, you can easily maintain and update your codebase. By encapsulating \n",
    "implementation details, you can make changes to the underlying code without affecting the higher-level components that rely\n",
    "on it. This makes it easier to fix bugs, add new features, or adapt your code to changing requirements. Additionally, \n",
    "abstraction provides a foundation for scalability, allowing you to extend your codebase by adding new subclasses or \n",
    "implementing new interfaces without disrupting the existing code.\n",
    "\n",
    "Overall, abstraction improves code organization, reduces complexity, promotes code reusability, and enhances code \n",
    "maintainability and scalability. It is a powerful tool in object-oriented programming that helps in creating robust and \n",
    "flexible systems.\n",
    "'''"
   ]
  },
  {
   "cell_type": "code",
   "execution_count": 10,
   "id": "df6abd86-2bac-4255-8b2e-969641eef667",
   "metadata": {},
   "outputs": [
    {
     "name": "stdout",
     "output_type": "stream",
     "text": [
      "Area of rectangle:- 20\n",
      "Area of Circle:- 28.26\n"
     ]
    }
   ],
   "source": [
    "'''3.Create a Python class called `Shape` with an abstract method `calculate_area()`. Then, create child\n",
    "classes (e.g., `Circle`, `Rectangle`) that implement the `calculate_area()` method. Provide an example of\n",
    "using these classes.'''\n",
    "from abc import ABC, abstractmethod\n",
    "\n",
    "class Shape(ABC):\n",
    "    @abstractmethod\n",
    "    def calculate_area(self):\n",
    "        pass\n",
    "\n",
    "class Rectangle(Shape):\n",
    "    def __init__(self, length, width):\n",
    "        self.length = length\n",
    "        self.width = width\n",
    "\n",
    "    def calculate_area(self):\n",
    "        return self.length * self.width\n",
    "\n",
    "class Circle(Shape):\n",
    "    def __init__(self, radius):\n",
    "        self.radius = radius\n",
    "\n",
    "    def calculate_area(self):\n",
    "        return 3.14 * self.radius ** 2\n",
    "\n",
    "#Create objects of different shapes\n",
    "rectangle = Rectangle(4, 5)\n",
    "circle = Circle(3)\n",
    "\n",
    "#Call the area method on different shapes\n",
    "print(\"Area of rectangle:-\",rectangle.calculate_area())\n",
    "print(\"Area of Circle:-\",circle.calculate_area())"
   ]
  },
  {
   "cell_type": "code",
   "execution_count": 3,
   "id": "e3cf2ab8-ae0b-490c-8f22-a9a1ca04e272",
   "metadata": {},
   "outputs": [
    {
     "name": "stdout",
     "output_type": "stream",
     "text": [
      "Woof!\n",
      "Meow!\n"
     ]
    }
   ],
   "source": [
    "#4.Explain the concept of abstract classes in Python and how they are defined using the `abc` module. Provide an example.\n",
    "'''In Python, abstract classes are classes that cannot be instantiated directly and are meant to serve as a blueprint for\n",
    "other classes. They define common methods and attributes that subclasses can inherit and implement.\n",
    "\n",
    "To define an abstract class in Python, you can make use of the `abc` module, which stands for \"Abstract Base Classes\". This\n",
    "module provides the `ABC` class as a base class for defining abstract classes, and the `abstractmethod` decorator to mark \n",
    "methods as abstract.'''\n",
    "\n",
    "#Here's an example of how to define an abstract class using the `abc` module:\n",
    "\n",
    "from abc import ABC, abstractmethod\n",
    "\n",
    "class Animal(ABC):\n",
    "    @abstractmethod\n",
    "    def make_sound(self):\n",
    "        pass\n",
    "\n",
    "class Dog(Animal):\n",
    "    def make_sound(self):\n",
    "        return \"Woof!\"\n",
    "\n",
    "class Cat(Animal):\n",
    "    def make_sound(self):\n",
    "        return \"Meow!\"\n",
    "\n",
    "#Trying to instantiate an abstract class will raise an error\n",
    "#animal = Animal()\n",
    "\n",
    "dog = Dog()\n",
    "print(dog.make_sound())\n",
    "\n",
    "cat = Cat()\n",
    "print(cat.make_sound()) "
   ]
  },
  {
   "cell_type": "code",
   "execution_count": null,
   "id": "1ee8c4e7-c61b-49b4-9086-3af568df7a15",
   "metadata": {},
   "outputs": [],
   "source": [
    "#5.How do abstract classes differ from regular classes in Python? Discuss their use cases.\n",
    "'''Abstract classes in Python differ from regular classes in that they cannot be instantiated directly. They are meant to \n",
    "serve as a blueprint for other classes to inherit from. Abstract classes define common methods and attributes that subclasses\n",
    "must implement.\n",
    "\n",
    "The main use case for abstract classes is to provide a common interface or structure for a group of related classes. They\n",
    "allow you to define a set of methods that must be implemented by the subclasses, ensuring consistency and enforcing certain \n",
    "behaviors across multiple classes.\n",
    "\n",
    "By using abstract classes, you can create a hierarchy of classes where the abstract class defines the common behavior and the\n",
    "subclasses provide the specific implementation. This helps in organizing and maintaining code, as well as promoting code\n",
    "reusability.\n",
    "\n",
    "Here are some common use cases for abstract classes:\n",
    "\n",
    "1.Creating interfaces: Abstract classes can be used to define interfaces in Python. By defining a set of abstract methods,\n",
    "you can enforce that any class implementing the interface must provide the required functionality.\n",
    "\n",
    "2.Defining common behavior: Abstract classes can define common methods and attributes that are shared by multiple subclasses.\n",
    "This allows you to avoid duplicating code and ensures consistency across the subclasses.\n",
    "\n",
    "3.Frameworks and libraries: Abstract classes are often used in frameworks and libraries to provide a base class that users \n",
    "can inherit from and customize. The abstract class defines the core functionality, while the subclasses provide the specific\n",
    "implementation based on the user's needs.\n",
    "\n",
    "Overall, abstract classes are a powerful tool in Python that allow you to define common behavior and structure for a group of\n",
    "related classes. They promote code reusability, maintainability, and enforce consistency in your codebase.\n",
    "'''\n"
   ]
  },
  {
   "cell_type": "code",
   "execution_count": 4,
   "id": "da9271c1-1dfe-4b29-9ebb-5fa43b76e116",
   "metadata": {},
   "outputs": [
    {
     "name": "stdout",
     "output_type": "stream",
     "text": [
      "Deposited 1000 into the account.\n",
      "Withdrew 500 from the account.\n",
      "Current balance: 500\n"
     ]
    }
   ],
   "source": [
    "'''6.Create a Python class for a bank account and demonstrate abstraction by hiding the account balance and\n",
    "providing methods to deposit and withdraw funds.'''\n",
    "class BankAccount:\n",
    "    def __init__(self):\n",
    "        self._balance = 0\n",
    "\n",
    "    def deposit(self, amount):\n",
    "        self._balance += amount\n",
    "        print(f\"Deposited {amount} into the account.\")\n",
    "\n",
    "    def withdraw(self, amount):\n",
    "        if self._balance >= amount:\n",
    "            self._balance -= amount\n",
    "            print(f\"Withdrew {amount} from the account.\")\n",
    "        else:\n",
    "            print(\"Insufficient funds.\")\n",
    "\n",
    "    def get_balance(self):\n",
    "        print(f\"Current balance: {self._balance}\")\n",
    "\n",
    "# Example usage:\n",
    "account = BankAccount()\n",
    "account.deposit(1000)\n",
    "account.withdraw(500)\n",
    "account.get_balance()"
   ]
  },
  {
   "cell_type": "code",
   "execution_count": 5,
   "id": "3efde73c-0e00-49a9-b95b-087711c68430",
   "metadata": {},
   "outputs": [
    {
     "data": {
      "text/plain": [
       "'In this example, the `PaymentGateway` class is an abstract class that defines two abstract methods: `process_payment()` and\\n`refund_payment()`. Any class that inherits from `PaymentGateway` must implement these methods.\\n\\nThe `PayPal` and `Stripe` classes are concrete implementations of the `PaymentGateway` interface. They provide the specific\\nimplementation for the abstract methods defined in the interface.\\n\\nBy defining an interface class using an abstract class and requiring subclasses to implement specific methods, we achieve \\nabstraction. The interface class defines a common set of methods that guarantee certain behavior, while the implementing\\nclasses provide the specific implementation of those methods.'"
      ]
     },
     "execution_count": 5,
     "metadata": {},
     "output_type": "execute_result"
    }
   ],
   "source": [
    "#7.Discuss the concept of interface classes in Python and their role in achieving abstraction.\n",
    "'''In Python, interface classes are not explicitly defined like in some other programming languages such as Java. However,\n",
    "the concept of interfaces can still be achieved through the use of abstract classes or by following certain conventions.\n",
    "\n",
    "Interface classes play a crucial role in achieving abstraction by providing a common set of methods that implementing classes\n",
    "must adhere to. They define a contract or a blueprint for classes that inherit from them, ensuring that those classes provide\n",
    "the required functionality.\n",
    "\n",
    "To create an interface-like behavior in Python, you can use abstract classes from the `abc` module. Abstract classes can \n",
    "define abstract methods, which are methods without an implementation. Any class that inherits from an abstract class must\n",
    "implement all the abstract methods defined by the abstract class.'''\n",
    "\n",
    "#Here's an example of how you can create an interface-like behavior using an abstract class:\n",
    "\n",
    "from abc import ABC, abstractmethod\n",
    "\n",
    "class PaymentGateway(ABC):\n",
    "    @abstractmethod\n",
    "    def process_payment(self, amount):\n",
    "        pass\n",
    "\n",
    "    @abstractmethod\n",
    "    def refund_payment(self, amount):\n",
    "        pass\n",
    "\n",
    "class PayPal(PaymentGateway):\n",
    "    def process_payment(self, amount):\n",
    "        print(f\"Processing payment of {amount} via PayPal.\")\n",
    "\n",
    "    def refund_payment(self, amount):\n",
    "        print(f\"Refunding payment of {amount} via PayPal.\")\n",
    "\n",
    "class Stripe(PaymentGateway):\n",
    "    def process_payment(self, amount):\n",
    "        print(f\"Processing payment of {amount} via Stripe.\")\n",
    "\n",
    "    def refund_payment(self, amount):\n",
    "        print(f\"Refunding payment of {amount} via Stripe.\")\n",
    "\n",
    "'''In this example, the `PaymentGateway` class is an abstract class that defines two abstract methods: `process_payment()` and\n",
    "`refund_payment()`. Any class that inherits from `PaymentGateway` must implement these methods.\n",
    "\n",
    "The `PayPal` and `Stripe` classes are concrete implementations of the `PaymentGateway` interface. They provide the specific\n",
    "implementation for the abstract methods defined in the interface.\n",
    "\n",
    "By defining an interface class using an abstract class and requiring subclasses to implement specific methods, we achieve \n",
    "abstraction. The interface class defines a common set of methods that guarantee certain behavior, while the implementing\n",
    "classes provide the specific implementation of those methods.'''"
   ]
  },
  {
   "cell_type": "code",
   "execution_count": 1,
   "id": "39933bcd-8e31-457a-ac67-3bb3b2513bba",
   "metadata": {},
   "outputs": [],
   "source": [
    "'''8.Create a Python class hierarchy for animals and implement abstraction by defining common methods\n",
    "(e.g., `eat()`, `sleep()`) in an abstract base class.'''\n",
    "\n",
    "from abc import ABC, abstractmethod\n",
    "\n",
    "class Animal(ABC):\n",
    "    def __init__(self, name):\n",
    "        self.name = name\n",
    "\n",
    "    @abstractmethod\n",
    "    def eat(self):\n",
    "        pass\n",
    "\n",
    "    @abstractmethod\n",
    "    def sleep(self):\n",
    "        pass\n",
    "\n",
    "class Dog(Animal):\n",
    "    def eat(self):\n",
    "        print(f\"{self.name} is eating.\")\n",
    "\n",
    "    def sleep(self):\n",
    "        print(f\"{self.name} is sleeping.\")\n",
    "\n",
    "class Cat(Animal):\n",
    "    def eat(self):\n",
    "        print(f\"{self.name} is eating.\")\n",
    "\n",
    "    def sleep(self):\n",
    "        print(f\"{self.name} is sleeping.\")\n",
    "\n",
    "class Lion(Animal):\n",
    "    def eat(self):\n",
    "        print(f\"{self.name} is eating.\")\n",
    "\n",
    "    def sleep(self):\n",
    "        print(f\"{self.name} is sleeping.\")"
   ]
  },
  {
   "cell_type": "code",
   "execution_count": 7,
   "id": "ca69bfe6-aac1-436e-83d5-9d28c6d7953c",
   "metadata": {},
   "outputs": [
    {
     "name": "stdout",
     "output_type": "stream",
     "text": [
      "Toyota\n",
      "Camry\n",
      "Blue\n"
     ]
    }
   ],
   "source": [
    "#9.Explain the significance of encapsulation in achieving abstraction. Provide examples.\n",
    "'''Encapsulation is an important concept in achieving abstraction in object-oriented programming. It involves bundling data\n",
    "and methods together within a class, and controlling access to them through the use of access modifiers such as public,\n",
    "private, and protected.\n",
    "\n",
    "By encapsulating data and methods, we can hide the internal details of a class and provide a clean and simplified interface\n",
    "for interacting with it. This allows us to achieve abstraction, as we can focus on the essential behaviors and properties of\n",
    "an object without worrying about the implementation details.\n",
    "\n",
    "For example, let's say we have a class called `Car` that represents a car object. We can encapsulate the car's properties,\n",
    "such as its brand, model, and color, as private variables within the class. We can then provide public methods, such as\n",
    "`get_brand()`, `get_model()`, and `get_color()`, to access these properties. By encapsulating the data and providing\n",
    "controlled access through methods, we can abstract away the internal implementation details of the car class and only expose\n",
    "the necessary information to the outside world.'''\n",
    "\n",
    "#Here's an example:\n",
    "\n",
    "class Car:\n",
    "    def __init__(self, brand, model, color):\n",
    "        self.__brand = brand\n",
    "        self.__model = model\n",
    "        self.__color = color\n",
    "\n",
    "    def get_brand(self):\n",
    "        return self.__brand\n",
    "\n",
    "    def get_model(self):\n",
    "        return self.__model\n",
    "\n",
    "    def get_color(self):\n",
    "        return self.__color\n",
    "\n",
    "car = Car(\"Toyota\", \"Camry\", \"Blue\")\n",
    "print(car.get_brand())\n",
    "print(car.get_model())\n",
    "print(car.get_color())"
   ]
  },
  {
   "cell_type": "code",
   "execution_count": 10,
   "id": "e71bf9bc-ecec-4ada-99a0-ea85db7f8d34",
   "metadata": {},
   "outputs": [
    {
     "name": "stdout",
     "output_type": "stream",
     "text": [
      "Area of Rectangle:- 15\n",
      "Perimeter of Rectangle:- 16\n",
      "Area of Circle:- 153.86\n",
      "Perimeter of Circle:- 43.96\n"
     ]
    }
   ],
   "source": [
    "#10.What is the purpose of abstract methods, and how do they enforce abstraction in Python classes?\n",
    "'''Abstract methods in Python classes serve the purpose of defining a method in an abstract base class (ABC) without providing\n",
    "an implementation. These methods act as placeholders or blueprints for the derived classes to implement.\n",
    "\n",
    "The use of abstract methods enforces abstraction in Python classes by ensuring that derived classes provide their own\n",
    "implementation for these methods. This helps in achieving a higher level of abstraction and promotes a consistent interface \n",
    "across different subclasses.\n",
    "\n",
    "To define an abstract method in Python, we need to make use of the `abc` module, which stands for \"Abstract Base Classes.\"\n",
    "This module provides the `ABC` class and the `abstractmethod` decorator.'''\n",
    "\n",
    "#Here's an example to illustrate the concept:\n",
    "\n",
    "from abc import ABC, abstractmethod\n",
    "\n",
    "class Shape(ABC):\n",
    "    @abstractmethod\n",
    "    def area(self):\n",
    "        pass\n",
    "\n",
    "    @abstractmethod\n",
    "    def perimeter(self):\n",
    "        pass\n",
    "\n",
    "class Rectangle(Shape):\n",
    "    def __init__(self, length, width):\n",
    "        self.length = length\n",
    "        self.width = width\n",
    "\n",
    "    def area(self):\n",
    "        return self.length * self.width\n",
    "\n",
    "    def perimeter(self):\n",
    "        return 2 * (self.length + self.width)\n",
    "\n",
    "class Circle(Shape):\n",
    "    def __init__(self, radius):\n",
    "        self.radius = radius\n",
    "\n",
    "    def area(self):\n",
    "        return 3.14 * self.radius * self.radius\n",
    "\n",
    "    def perimeter(self):\n",
    "        return 2 * 3.14 * self.radius\n",
    "\n",
    "rectangle = Rectangle(5, 3)\n",
    "circle = Circle(7)\n",
    "\n",
    "print(\"Area of Rectangle:-\",rectangle.area())\n",
    "print(\"Perimeter of Rectangle:-\",rectangle.perimeter())\n",
    "print(\"Area of Circle:-\",circle.area())\n",
    "print(\"Perimeter of Circle:-\",circle.perimeter())"
   ]
  },
  {
   "cell_type": "code",
   "execution_count": 8,
   "id": "b3d26783-7c53-453f-a146-1fdb155a96b2",
   "metadata": {},
   "outputs": [
    {
     "name": "stdout",
     "output_type": "stream",
     "text": [
      "Mercedes has started.\n",
      "Mercedes has stopped.\n",
      "Pulser has started.\n",
      "Pulser has stopped.\n"
     ]
    }
   ],
   "source": [
    "'''11.Create a Python class for a vehicle system and demonstrate abstraction by defining common methods\n",
    "(e.g., `start()`, `stop()`) in an abstract base class.'''\n",
    "from abc import ABC, abstractmethod\n",
    "class vehicle:\n",
    "    def __init__(self,name):\n",
    "        self.name = name\n",
    "        \n",
    "    @abstractmethod\n",
    "    def start(self):\n",
    "        pass\n",
    "    \n",
    "    @abstractmethod\n",
    "    def stop(self):\n",
    "        pass\n",
    "\n",
    "class Car(vehicle):\n",
    "    def start(self):\n",
    "        print(f\"{self.name} has started.\")\n",
    "    \n",
    "    def stop(self):\n",
    "        print(f\"{self.name} has stopped.\")\n",
    "        \n",
    "class Bike(vehicle):\n",
    "    def start(self):\n",
    "        print(f\"{self.name} has started.\")\n",
    "    \n",
    "    def stop(self):\n",
    "        print(f\"{self.name} has stopped.\")\n",
    "\n",
    "car = Car(\"Mercedes\")\n",
    "car.start()\n",
    "car.stop()\n",
    "\n",
    "bike = Bike(\"Pulser\")\n",
    "bike.start()\n",
    "bike.stop()"
   ]
  },
  {
   "cell_type": "code",
   "execution_count": 9,
   "id": "219293f0-b75c-4d45-91a1-56b48daa79da",
   "metadata": {},
   "outputs": [
    {
     "name": "stdout",
     "output_type": "stream",
     "text": [
      "20\n",
      "28.259999999999998\n"
     ]
    }
   ],
   "source": [
    "#12.Describe the use of abstract properties in Python and how they can be employed in abstract classes.\n",
    "'''Abstract properties in Python are used to define properties in abstract classes that must be implemented by their \n",
    "subclasses. They allow us to enforce a certain structure or behavior for properties across different subclasses.\n",
    "\n",
    "To employ abstract properties in abstract classes, we can make use of the `@property` decorator in combination with the\n",
    "`@abstractmethod` decorator. By decorating a method with `@property`, we define it as an abstract property. This means that\n",
    "any subclass inheriting from the abstract class must provide an implementation for that property.'''\n",
    "\n",
    "#Here's an example:\n",
    "\n",
    "from abc import ABC, abstractmethod\n",
    "\n",
    "class Shape(ABC):\n",
    "    @property\n",
    "    @abstractmethod\n",
    "    def area(self):\n",
    "        pass\n",
    "\n",
    "class Rectangle(Shape):\n",
    "    def __init__(self, width, height):\n",
    "        self.width = width\n",
    "        self.height = height\n",
    "    \n",
    "    @property\n",
    "    def area(self):\n",
    "        return self.width * self.height\n",
    "\n",
    "class Circle(Shape):\n",
    "    def __init__(self, radius):\n",
    "        self.radius = radius\n",
    "    \n",
    "    @property\n",
    "    def area(self):\n",
    "        return 3.14 * self.radius * self.radius\n",
    "\n",
    "rect = Rectangle(4, 5)\n",
    "print(rect.area)\n",
    "\n",
    "circle = Circle(3)\n",
    "print(circle.area) "
   ]
  },
  {
   "cell_type": "code",
   "execution_count": 10,
   "id": "a1a49864-d9a7-4549-a4d5-fe5347aa31eb",
   "metadata": {},
   "outputs": [
    {
     "name": "stdout",
     "output_type": "stream",
     "text": [
      "8000\n",
      "6000\n",
      "5000\n"
     ]
    }
   ],
   "source": [
    "'''13.Create a Python class hierarchy for employees in a company (e.g., manager, developer, designer) and\n",
    "implement abstraction by defining a common `get_salary()` method.'''\n",
    "from abc import ABC, abstractmethod\n",
    "\n",
    "class Employee(ABC):\n",
    "    def __init__(self, name, employee_id):\n",
    "        self.name = name\n",
    "        self.employee_id = employee_id\n",
    "    \n",
    "    @abstractmethod\n",
    "    def get_salary(self):\n",
    "        pass\n",
    "\n",
    "class Manager(Employee):\n",
    "    def __init__(self, name, employee_id, department):\n",
    "        super().__init__(name, employee_id)\n",
    "        self.department = department\n",
    "    \n",
    "    def get_salary(self):\n",
    "        return 8000\n",
    "\n",
    "class Developer(Employee):\n",
    "    def __init__(self, name, employee_id, programming_language):\n",
    "        super().__init__(name, employee_id)\n",
    "        self.programming_language = programming_language\n",
    "    \n",
    "    def get_salary(self):\n",
    "        return 6000\n",
    "\n",
    "class Designer(Employee):\n",
    "    def __init__(self, name, employee_id, design_tool):\n",
    "        super().__init__(name, employee_id)\n",
    "        self.design_tool = design_tool\n",
    "    \n",
    "    def get_salary(self):\n",
    "        return 5000\n",
    "\n",
    "# Example usage\n",
    "manager = Manager(\"pwskills\", \"M001\", \"Marketing\")\n",
    "print(manager.get_salary())\n",
    "\n",
    "developer = Developer(\"Govind\", \"D001\", \"Python\")\n",
    "print(developer.get_salary())\n",
    "\n",
    "designer = Designer(\"Kumar\", \"D002\", \"Photoshop\")\n",
    "print(designer.get_salary())"
   ]
  },
  {
   "cell_type": "code",
   "execution_count": 16,
   "id": "e305023b-4271-4a9a-889f-8dbc4377ff44",
   "metadata": {},
   "outputs": [
    {
     "name": "stdout",
     "output_type": "stream",
     "text": [
      "50\n",
      "Can't instantiate abstract class Shape with abstract method area\n"
     ]
    }
   ],
   "source": [
    "#14.Discuss the differences between abstract classes and concrete classes in Python, including their instantiation.\n",
    "'''In Python, an abstract class is a class that cannot be instantiated on its own. It serves as a blueprint for other classes\n",
    "and defines common attributes and methods that its subclasses must implement. Abstract classes are created using the `abc`\n",
    "module and the `@abstractmethod` decorator. They are typically used to define common behavior and enforce certain methods \n",
    "to be implemented by the subclasses.\n",
    "\n",
    "On the other hand, a concrete class is a class that can be instantiated directly. It can be used to create objects and has \n",
    "all the attributes and methods defined within it. Concrete classes can inherit from abstract classes or other concrete \n",
    "classes, and they can override or extend the behavior defined in their parent classes.\n",
    "\n",
    "When it comes to instantiation, abstract classes cannot be instantiated directly. They are meant to be subclassed and provide\n",
    "a common interface for their subclasses. The subclasses of an abstract class must implement all the abstract methods defined\n",
    "in the abstract class before they can be instantiated.\n",
    "\n",
    "In contrast, concrete classes can be instantiated directly using the class name followed by parentheses. They can be used to\n",
    "create objects and access their attributes and methods without any additional steps.\n",
    "'''\n",
    "#Here's a simple example to illustrate the difference:\n",
    "\n",
    "from abc import ABC, abstractmethod\n",
    "\n",
    "# Abstract class\n",
    "class Shape(ABC):\n",
    "    @abstractmethod\n",
    "    def area(self):\n",
    "        pass\n",
    "\n",
    "# Concrete class\n",
    "class Rectangle(Shape):\n",
    "    def __init__(self, width, height):\n",
    "        self.width = width\n",
    "        self.height = height\n",
    "    \n",
    "    def area(self):\n",
    "        return self.width * self.height\n",
    "\n",
    "# Instantiating a concrete class\n",
    "rectangle = Rectangle(5, 10)\n",
    "print(rectangle.area())  # Output: 50\n",
    "try:\n",
    "    # Trying to instantiate an abstract class (raises TypeError)\n",
    "    shape = Shape()\n",
    "except TypeError as T:\n",
    "    print(T)"
   ]
  },
  {
   "cell_type": "code",
   "execution_count": 18,
   "id": "c1ceb3db-d182-4d5b-968f-5c53df748426",
   "metadata": {},
   "outputs": [
    {
     "name": "stdout",
     "output_type": "stream",
     "text": [
      "30\n",
      "False\n"
     ]
    },
    {
     "data": {
      "text/plain": [
       "'In this example, we have defined a `Stack` class as an ADT. It has methods for pushing items onto the stack, popping items\\nfrom the stack, and checking if the stack is empty. The users of the `Stack` class can interact with the stack using these \\nmethods, without needing to know that the stack is implemented using a list.\\n\\nBy using ADTs, we can achieve abstraction in our code. We can hide the implementation details and provide a high-level \\ninterface for interacting with the data structures. This makes our code more modular, easier to understand, and allows for\\nbetter code reuse.\\n'"
      ]
     },
     "execution_count": 18,
     "metadata": {},
     "output_type": "execute_result"
    }
   ],
   "source": [
    "#15.Explain the concept of abstract data types (ADTs) and their role in achieving abstraction in Python.\n",
    "'''Abstract Data Types (ADTs) are a way to achieve abstraction in Python and other programming languages. They allow us to \n",
    "define a data structure along with the operations that can be performed on it, without specifying the implementation details.\n",
    "\n",
    "The main idea behind ADTs is to provide a high-level description of the data and its behavior, without getting into the \n",
    "specifics of how it is actually implemented. This allows us to focus on the functionality and use of the data structure,\n",
    "rather than the internal workings.\n",
    "\n",
    "In Python, we can create ADTs using classes. We define the attributes and methods that make up the ADT, without specifying\n",
    "how they are implemented. This allows us to create a clean and modular design, where the implementation details can be hidden\n",
    "from the users of the ADT.\n",
    "\n",
    "For example, let's say we want to create an ADT for a stack. We can define a class called `Stack` with methods like `push()`,\n",
    "`pop()`, and `isEmpty()`. The users of the `Stack` class can use these methods to interact with the stack, without needing to\n",
    "know how the stack is actually implemented under the hood.\n",
    "'''\n",
    "#Here's a simple example:\n",
    "\n",
    "class Stack:\n",
    "    def __init__(self):\n",
    "        self.stack = []\n",
    "    \n",
    "    def push(self, item):\n",
    "        self.stack.append(item)\n",
    "    \n",
    "    def pop(self):\n",
    "        if not self.isEmpty():\n",
    "            return self.stack.pop()\n",
    "    \n",
    "    def isEmpty(self):\n",
    "        return len(self.stack) == 0\n",
    "\n",
    "# Using the Stack ADT\n",
    "my_stack = Stack()\n",
    "my_stack.push(10)\n",
    "my_stack.push(20)\n",
    "my_stack.push(30)\n",
    "print(my_stack.pop())\n",
    "print(my_stack.isEmpty())\n",
    "'''In this example, we have defined a `Stack` class as an ADT. It has methods for pushing items onto the stack, popping items\n",
    "from the stack, and checking if the stack is empty. The users of the `Stack` class can interact with the stack using these \n",
    "methods, without needing to know that the stack is implemented using a list.\n",
    "\n",
    "By using ADTs, we can achieve abstraction in our code. We can hide the implementation details and provide a high-level \n",
    "interface for interacting with the data structures. This makes our code more modular, easier to understand, and allows for\n",
    "better code reuse.\n",
    "'''"
   ]
  },
  {
   "cell_type": "code",
   "execution_count": 19,
   "id": "f5ba364b-8462-4167-a97e-fb70b8cfdbb0",
   "metadata": {},
   "outputs": [
    {
     "name": "stdout",
     "output_type": "stream",
     "text": [
      "Desktop is powering on...\n",
      "Laptop is shutting down...\n"
     ]
    }
   ],
   "source": [
    "'''16.Create a Python class for a computer system, demonstrating abstraction by defining common methods\n",
    "(e.g., `power_on()`, `shutdown()`) in an abstract base class.'''\n",
    "from abc import ABC, abstractmethod\n",
    "\n",
    "class ComputerSystem(ABC):\n",
    "    @abstractmethod\n",
    "    def power_on(self):\n",
    "        pass\n",
    "    \n",
    "    @abstractmethod\n",
    "    def shutdown(self):\n",
    "        pass\n",
    "\n",
    "class Desktop(ComputerSystem):\n",
    "    def power_on(self):\n",
    "        print(\"Desktop is powering on...\")\n",
    "    \n",
    "    def shutdown(self):\n",
    "        print(\"Desktop is shutting down...\")\n",
    "\n",
    "class Laptop(ComputerSystem):\n",
    "    def power_on(self):\n",
    "        print(\"Laptop is powering on...\")\n",
    "    \n",
    "    def shutdown(self):\n",
    "        print(\"Laptop is shutting down...\")\n",
    "\n",
    "# Creating instances of the classes\n",
    "my_desktop = Desktop()\n",
    "my_laptop = Laptop()\n",
    "\n",
    "# Using the common methods\n",
    "my_desktop.power_on()\n",
    "my_laptop.shutdown()"
   ]
  },
  {
   "cell_type": "code",
   "execution_count": 20,
   "id": "fdce534c-4cba-43fb-92d6-8e6b85e4d655",
   "metadata": {},
   "outputs": [
    {
     "data": {
      "text/plain": [
       "\"Abstraction plays a crucial role in large-scale software development projects. It offers several benefits that contribute\\nto the efficiency and maintainability of the codebase. Here are some key advantages of using abstraction:\\n\\n1. Encapsulation: Abstraction allows you to encapsulate complex functionality within abstract classes or interfaces. This\\nhelps in hiding the internal implementation details and exposing only the essential methods and properties. It promotes\\nmodularity and reduces code dependencies, making it easier to maintain and update the codebase.\\n\\n2. Code Reusability: By using abstraction, you can define common interfaces and abstract classes that can be reused across\\ndifferent modules or components of the software. This promotes code reusability, as you can inherit from these abstract\\nclasses and implement specific functionality as needed. It saves development time and effort by avoiding redundant code and\\nencourages a more modular and scalable code structure.\\n\\n3. Flexibility and Extensibility: Abstraction allows you to design software in a way that is flexible and extensible. By\\ndefining abstract classes or interfaces, you can provide a contract for how different components should interact and\\ncommunicate. This enables you to introduce new implementations or extend existing functionality without affecting the overall\\nsystem. It promotes loose coupling and reduces the impact of changes, making the software more adaptable to evolving\\nrequirements.\\n\\n4. Testability: Abstraction enhances the testability of software. By abstracting complex logic into separate components, you\\ncan isolate and test them individually. This improves the overall testability of the system, as you can write focused unit \\ntests for each component without worrying about the dependencies. It also enables the use of mocking and stubbing techniques\\nto simulate different scenarios during testing.\\n\\n5. Team Collaboration: Abstraction promotes better collaboration among team members in large-scale software projects. By\\ndefining clear interfaces and contracts, different team members can work independently on their respective components without\\ninterfering with each other's work. It allows for parallel development and easier integration of different modules, leading to\\nmore efficient teamwork.\\n\\nOverall, abstraction is a powerful concept in large-scale software development that improves code maintainability, promotes\\ncode reusability, enhances flexibility and extensibility, facilitates testing, and enables effective team collaboration. It\\nhelps in building robust and scalable software systems that can adapt to changing requirements over time.\\n\""
      ]
     },
     "execution_count": 20,
     "metadata": {},
     "output_type": "execute_result"
    }
   ],
   "source": [
    "#17.Discuss the benefits of using abstraction in large-scale software development projects.\n",
    "'''Abstraction plays a crucial role in large-scale software development projects. It offers several benefits that contribute\n",
    "to the efficiency and maintainability of the codebase. Here are some key advantages of using abstraction:\n",
    "\n",
    "1. Encapsulation: Abstraction allows you to encapsulate complex functionality within abstract classes or interfaces. This\n",
    "helps in hiding the internal implementation details and exposing only the essential methods and properties. It promotes\n",
    "modularity and reduces code dependencies, making it easier to maintain and update the codebase.\n",
    "\n",
    "2. Code Reusability: By using abstraction, you can define common interfaces and abstract classes that can be reused across\n",
    "different modules or components of the software. This promotes code reusability, as you can inherit from these abstract\n",
    "classes and implement specific functionality as needed. It saves development time and effort by avoiding redundant code and\n",
    "encourages a more modular and scalable code structure.\n",
    "\n",
    "3. Flexibility and Extensibility: Abstraction allows you to design software in a way that is flexible and extensible. By\n",
    "defining abstract classes or interfaces, you can provide a contract for how different components should interact and\n",
    "communicate. This enables you to introduce new implementations or extend existing functionality without affecting the overall\n",
    "system. It promotes loose coupling and reduces the impact of changes, making the software more adaptable to evolving\n",
    "requirements.\n",
    "\n",
    "4. Testability: Abstraction enhances the testability of software. By abstracting complex logic into separate components, you\n",
    "can isolate and test them individually. This improves the overall testability of the system, as you can write focused unit \n",
    "tests for each component without worrying about the dependencies. It also enables the use of mocking and stubbing techniques\n",
    "to simulate different scenarios during testing.\n",
    "\n",
    "5. Team Collaboration: Abstraction promotes better collaboration among team members in large-scale software projects. By\n",
    "defining clear interfaces and contracts, different team members can work independently on their respective components without\n",
    "interfering with each other's work. It allows for parallel development and easier integration of different modules, leading to\n",
    "more efficient teamwork.\n",
    "\n",
    "Overall, abstraction is a powerful concept in large-scale software development that improves code maintainability, promotes\n",
    "code reusability, enhances flexibility and extensibility, facilitates testing, and enables effective team collaboration. It\n",
    "helps in building robust and scalable software systems that can adapt to changing requirements over time.\n",
    "'''"
   ]
  },
  {
   "cell_type": "code",
   "execution_count": 21,
   "id": "6642e1af-06d4-407b-88b3-09d6bd9efc1f",
   "metadata": {},
   "outputs": [
    {
     "data": {
      "text/plain": [
       "'Abstraction in Python enhances code reusability and modularity by providing a way to define abstract classes and \\ninterfaces. These abstract entities act as blueprints for creating concrete implementations. Let me break down how abstraction\\nachieves these benefits:\\n\\n1.Code Reusability: Abstraction allows you to define abstract classes or interfaces that can be inherited by multiple \\nconcrete classes. This enables you to reuse common functionality and behavior across different parts of your codebase. By\\nleveraging inheritance, you can create new classes that inherit the properties and methods of the abstract class, reducing\\ncode duplication and promoting reusability.\\n\\n2.Modularity: Abstraction helps in creating modular code by encapsulating related functionality within abstract classes or\\ninterfaces. By defining abstract classes, you can establish a contract that specifies the methods or properties that concrete\\nclasses must implement. This separation of concerns allows you to isolate different parts of your code, making it easier to\\nunderstand, maintain, and update. It also promotes loose coupling between modules, as they can interact through abstract \\ninterfaces rather than directly depending on each other.\\n\\nBy using abstraction in Python, you can design your code in a way that promotes code reusability and modularity. You can\\ncreate abstract classes that define the common structure and behavior, and then derive concrete classes from them to implement\\nspecific functionality. This approach allows you to build flexible and scalable software systems that can adapt to changing\\nrequirements and facilitate collaborative development.'"
      ]
     },
     "execution_count": 21,
     "metadata": {},
     "output_type": "execute_result"
    }
   ],
   "source": [
    "#18.Explain how abstraction enhances code reusability and modularity in Python programs.\n",
    "'''Abstraction in Python enhances code reusability and modularity by providing a way to define abstract classes and \n",
    "interfaces. These abstract entities act as blueprints for creating concrete implementations. Let me break down how abstraction\n",
    "achieves these benefits:\n",
    "\n",
    "1.Code Reusability: Abstraction allows you to define abstract classes or interfaces that can be inherited by multiple \n",
    "concrete classes. This enables you to reuse common functionality and behavior across different parts of your codebase. By\n",
    "leveraging inheritance, you can create new classes that inherit the properties and methods of the abstract class, reducing\n",
    "code duplication and promoting reusability.\n",
    "\n",
    "2.Modularity: Abstraction helps in creating modular code by encapsulating related functionality within abstract classes or\n",
    "interfaces. By defining abstract classes, you can establish a contract that specifies the methods or properties that concrete\n",
    "classes must implement. This separation of concerns allows you to isolate different parts of your code, making it easier to\n",
    "understand, maintain, and update. It also promotes loose coupling between modules, as they can interact through abstract \n",
    "interfaces rather than directly depending on each other.\n",
    "\n",
    "By using abstraction in Python, you can design your code in a way that promotes code reusability and modularity. You can\n",
    "create abstract classes that define the common structure and behavior, and then derive concrete classes from them to implement\n",
    "specific functionality. This approach allows you to build flexible and scalable software systems that can adapt to changing\n",
    "requirements and facilitate collaborative development.'''"
   ]
  },
  {
   "cell_type": "code",
   "execution_count": 22,
   "id": "41a118dd-7d9c-4b35-819f-f3727f213b10",
   "metadata": {},
   "outputs": [
    {
     "name": "stdout",
     "output_type": "stream",
     "text": [
      "Added book: Harry Potter\n",
      "Borrowed book: Harry Potter\n"
     ]
    }
   ],
   "source": [
    "'''19.Create a Python class for a library system, implementing abstraction by defining common methods (e.g.,\n",
    "`add_book()`, `borrow_book()`) in an abstract base class.'''\n",
    "from abc import ABC, abstractmethod\n",
    "\n",
    "class Library(ABC):\n",
    "    def __init__(self):\n",
    "        self.books = []\n",
    "\n",
    "    @abstractmethod\n",
    "    def add_book(self, book):\n",
    "        pass\n",
    "\n",
    "    @abstractmethod\n",
    "    def borrow_book(self, book):\n",
    "        pass\n",
    "\n",
    "class MyLibrary(Library):\n",
    "    def add_book(self, book):\n",
    "        self.books.append(book)\n",
    "        print(f\"Added book: {book}\")\n",
    "\n",
    "    def borrow_book(self, book):\n",
    "        if book in self.books:\n",
    "            self.books.remove(book)\n",
    "            print(f\"Borrowed book: {book}\")\n",
    "        else:\n",
    "            print(f\"Book not available: {book}\")\n",
    "\n",
    "# Example usage\n",
    "my_library = MyLibrary()\n",
    "my_library.add_book(\"Harry Potter\")\n",
    "my_library.borrow_book(\"Harry Potter\")"
   ]
  },
  {
   "cell_type": "code",
   "execution_count": 23,
   "id": "2828fedc-bb40-4c88-a145-7f0ffdcf7694",
   "metadata": {},
   "outputs": [
    {
     "data": {
      "text/plain": [
       "'Method abstraction in Python refers to the process of hiding the implementation details of a method and only exposing the\\nessential functionality to the user. It allows the user to interact with the method without needing to know how it is \\nimplemented internally.\\n\\nIn Python, method abstraction is often achieved through the use of abstract base classes and abstract methods. An abstract\\nbase class is a class that cannot be instantiated and serves as a blueprint for other classes. It defines a set of common \\nmethods, some of which may be marked as abstract using the `@abstractmethod` decorator. An abstract method is a method that\\ndoes not have an implementation in the abstract base class but must be implemented in any concrete class derived from it.\\n\\nMethod abstraction is closely related to polymorphism in Python. Polymorphism allows objects of different classes to be used\\ninterchangeably, as long as they share a common interface. Abstract base classes and abstract methods provide a way to define\\nthis common interface. By defining abstract methods in an abstract base class, we can ensure that any class derived from it\\nmust implement those methods. This enables polymorphic behavior, where different classes can have different implementations of\\nthe same method but can still be used in a consistent way.\\n\\nBy utilizing method abstraction and polymorphism together, we can write code that is more flexible, extensible, and easier to\\nmaintain. It allows us to write generic code that can work with different implementations of the same method, without needing\\nto know the specific details of each implementation.'"
      ]
     },
     "execution_count": 23,
     "metadata": {},
     "output_type": "execute_result"
    }
   ],
   "source": [
    "#20.Describe the concept of method abstraction in Python and how it relates to polymorphism.\n",
    "'''Method abstraction in Python refers to the process of hiding the implementation details of a method and only exposing the\n",
    "essential functionality to the user. It allows the user to interact with the method without needing to know how it is \n",
    "implemented internally.\n",
    "\n",
    "In Python, method abstraction is often achieved through the use of abstract base classes and abstract methods. An abstract\n",
    "base class is a class that cannot be instantiated and serves as a blueprint for other classes. It defines a set of common \n",
    "methods, some of which may be marked as abstract using the `@abstractmethod` decorator. An abstract method is a method that\n",
    "does not have an implementation in the abstract base class but must be implemented in any concrete class derived from it.\n",
    "\n",
    "Method abstraction is closely related to polymorphism in Python. Polymorphism allows objects of different classes to be used\n",
    "interchangeably, as long as they share a common interface. Abstract base classes and abstract methods provide a way to define\n",
    "this common interface. By defining abstract methods in an abstract base class, we can ensure that any class derived from it\n",
    "must implement those methods. This enables polymorphic behavior, where different classes can have different implementations of\n",
    "the same method but can still be used in a consistent way.\n",
    "\n",
    "By utilizing method abstraction and polymorphism together, we can write code that is more flexible, extensible, and easier to\n",
    "maintain. It allows us to write generic code that can work with different implementations of the same method, without needing\n",
    "to know the specific details of each implementation.'''"
   ]
  },
  {
   "cell_type": "code",
   "execution_count": 3,
   "id": "9ad06489-4c1b-4eae-95f3-3b1a97185953",
   "metadata": {},
   "outputs": [
    {
     "name": "stdout",
     "output_type": "stream",
     "text": [
      "The Mahindra Jeep with 200 horsepower engine is starting.\n"
     ]
    }
   ],
   "source": [
    "'''Composition:\n",
    "1.Explain the concept of composition in Python and how it is used to build complex objects from simpler ones.\n",
    "'''\n",
    "'''In Python, composition is a concept that allows you to build complex objects by combining simpler ones. It is a way to \n",
    "create relationships between objects where one object contains another object as a part of its state.\n",
    "\n",
    "Composition is often used when you want to create a \"has-a\" relationship between classes. For example, let's say you have a\n",
    "`Car` class and a `Engine` class. Instead of inheriting the `Engine` class into the `Car` class (which would be inheritance), \n",
    "you can use composition to make the `Car` class have an instance of the `Engine` class as one of its attributes.\n",
    "'''\n",
    "#Here's an example to illustrate this:\n",
    "\n",
    "class Engine:\n",
    "    def __init__(self, horsepower):\n",
    "        self.horsepower = horsepower\n",
    "\n",
    "class Car:\n",
    "    def __init__(self, make, model, engine):\n",
    "        self.make = make\n",
    "        self.model = model\n",
    "        self.engine = engine\n",
    "\n",
    "    def start(self):\n",
    "        print(f\"The {self.make} {self.model} with {self.engine.horsepower} horsepower engine is starting.\")\n",
    "\n",
    "engine = Engine(200)\n",
    "car = Car(\"Mahindra\", \"Jeep\", engine)\n",
    "car.start()"
   ]
  },
  {
   "cell_type": "code",
   "execution_count": 1,
   "id": "7484dcbd-6290-4a04-9145-400148668fc0",
   "metadata": {},
   "outputs": [
    {
     "data": {
      "text/plain": [
       "'In object-oriented programming, both composition and inheritance are ways to establish relationships between classes.\\nHowever, they differ in how they achieve this and the nature of the relationship.\\n\\nComposition is a relationship where one class contains another class as a part of its state. It is often referred to as a\\n\"has-a\" relationship. The containing class has an instance of the contained class as one of its attributes. This allows for\\ngreater flexibility and modularity, as the contained class can be changed or replaced without affecting the containing class.\\nComposition is typically used when the relationship between classes is not a strict hierarchy or when you want to combine \\nmultiple classes to create a more complex object.\\n\\nOn the other hand, inheritance is a relationship where one class derives properties and behaviors from another class. It is\\noften referred to as an \"is-a\" relationship. The derived class (subclass) inherits the attributes and methods of the base \\nclass (superclass) and can add or modify them as needed. Inheritance establishes a hierarchical relationship, where subclasses\\nspecialize or extend the functionality of the base class. It is useful when you want to create a specialized version of an \\nexisting class or when you want to define a common interface for a group of related classes.\\n\\nIn summary, composition focuses on combining objects to create more complex ones, while inheritance focuses on creating \\nspecialized versions of existing classes. Both composition and inheritance have their own use cases and can be powerful\\ntools in object-oriented programming.\\n'"
      ]
     },
     "execution_count": 1,
     "metadata": {},
     "output_type": "execute_result"
    }
   ],
   "source": [
    "#2.Describe the difference between composition and inheritance in object-oriented programming.\n",
    "'''In object-oriented programming, both composition and inheritance are ways to establish relationships between classes.\n",
    "However, they differ in how they achieve this and the nature of the relationship.\n",
    "\n",
    "Composition is a relationship where one class contains another class as a part of its state. It is often referred to as a\n",
    "\"has-a\" relationship. The containing class has an instance of the contained class as one of its attributes. This allows for\n",
    "greater flexibility and modularity, as the contained class can be changed or replaced without affecting the containing class.\n",
    "Composition is typically used when the relationship between classes is not a strict hierarchy or when you want to combine \n",
    "multiple classes to create a more complex object.\n",
    "\n",
    "On the other hand, inheritance is a relationship where one class derives properties and behaviors from another class. It is\n",
    "often referred to as an \"is-a\" relationship. The derived class (subclass) inherits the attributes and methods of the base \n",
    "class (superclass) and can add or modify them as needed. Inheritance establishes a hierarchical relationship, where subclasses\n",
    "specialize or extend the functionality of the base class. It is useful when you want to create a specialized version of an \n",
    "existing class or when you want to define a common interface for a group of related classes.\n",
    "\n",
    "In summary, composition focuses on combining objects to create more complex ones, while inheritance focuses on creating \n",
    "specialized versions of existing classes. Both composition and inheritance have their own use cases and can be powerful\n",
    "tools in object-oriented programming.\n",
    "'''"
   ]
  },
  {
   "cell_type": "code",
   "execution_count": 2,
   "id": "71aaac51-9037-4fe0-bc46-53056228807a",
   "metadata": {},
   "outputs": [
    {
     "name": "stdout",
     "output_type": "stream",
     "text": [
      "The book 'Harry Potter and the Philosopher's Stone' was written by J.K. Rowling.\n"
     ]
    }
   ],
   "source": [
    "'''3.Create a Python class called `Author` with attributes for name and birthdate. Then, create a `Book` class\n",
    "that contains an instance of `Author` as a composition. Provide an example of creating a `Book` object.'''\n",
    "class Author:\n",
    "    def __init__(self, name, birthdate):\n",
    "        self.name = name\n",
    "        self.birthdate = birthdate\n",
    "\n",
    "class Book:\n",
    "    def __init__(self, title, author):\n",
    "        self.title = title\n",
    "        self.author = author\n",
    "\n",
    "    def get_info(self):\n",
    "        return f\"The book '{self.title}' was written by {self.author.name}.\"\n",
    "\n",
    "# Creating an Author object\n",
    "author = Author(\"J.K. Rowling\", \"July 31, 1965\")\n",
    "\n",
    "# Creating a Book object with the Author as a composition\n",
    "book = Book(\"Harry Potter and the Philosopher's Stone\", author)\n",
    "\n",
    "# Accessing the book's information\n",
    "print(book.get_info())"
   ]
  },
  {
   "cell_type": "code",
   "execution_count": 3,
   "id": "3d8bc6f7-dac3-4a70-8d93-6dd937b8d832",
   "metadata": {},
   "outputs": [
    {
     "data": {
      "text/plain": [
       "\"When it comes to code flexibility and reusability, composition offers several benefits over inheritance in Python.\\n1. Greater Flexibility: Composition allows for greater flexibility in designing and modifying class relationships. With\\ncomposition, you can easily change or replace the composed object without affecting the containing class. This flexibility\\nis particularly useful when you want to combine multiple classes or when the relationship between classes is not a strict\\nhierarchy.\\n\\n2. Loose Coupling: Composition promotes loose coupling between classes. The containing class only needs to know about the\\ninterface of the composed object, not its implementation details. This reduces dependencies and makes the code more modular,\\nmaking it easier to maintain and test.\\n\\n3. Code Reusability: Composition promotes code reusability by allowing you to reuse existing classes without the limitations\\nof inheritance. You can compose multiple objects together to create more complex and specialized objects. This enables you to\\nbuild a variety of combinations and configurations by reusing smaller, well-defined components.\\n\\n4. Encapsulation: Composition supports encapsulation by allowing you to control access to the composed object's methods and \\nattributes. You can expose only the necessary functionality through the containing class, hiding the implementation details of\\nthe composed object. This helps maintain a clear separation of concerns and improves code organization.\\n\\n5. Avoiding the Fragile Base Class Problem: Inheritance can lead to the fragile base class problem, where changes in the base\\nclass can have unintended consequences on derived classes. Composition avoids this problem by not relying on the inheritance \\nhierarchy. Changes in the composed object do not affect the containing class, providing more stability and robustness to your\\ncode.\\n\\nOverall, composition provides a more flexible, modular, and reusable approach to building class relationships in Python. It\\nallows you to create complex objects by combining smaller components, promotes loose coupling, and avoids the limitations and\\npitfalls of inheritance.\""
      ]
     },
     "execution_count": 3,
     "metadata": {},
     "output_type": "execute_result"
    }
   ],
   "source": [
    "'''4.Discuss the benefits of using composition over inheritance in Python, especially in terms of code flexibility\n",
    "and reusability.'''\n",
    "'''When it comes to code flexibility and reusability, composition offers several benefits over inheritance in Python.\n",
    "1. Greater Flexibility: Composition allows for greater flexibility in designing and modifying class relationships. With\n",
    "composition, you can easily change or replace the composed object without affecting the containing class. This flexibility\n",
    "is particularly useful when you want to combine multiple classes or when the relationship between classes is not a strict\n",
    "hierarchy.\n",
    "\n",
    "2. Loose Coupling: Composition promotes loose coupling between classes. The containing class only needs to know about the\n",
    "interface of the composed object, not its implementation details. This reduces dependencies and makes the code more modular,\n",
    "making it easier to maintain and test.\n",
    "\n",
    "3. Code Reusability: Composition promotes code reusability by allowing you to reuse existing classes without the limitations\n",
    "of inheritance. You can compose multiple objects together to create more complex and specialized objects. This enables you to\n",
    "build a variety of combinations and configurations by reusing smaller, well-defined components.\n",
    "\n",
    "4. Encapsulation: Composition supports encapsulation by allowing you to control access to the composed object's methods and \n",
    "attributes. You can expose only the necessary functionality through the containing class, hiding the implementation details of\n",
    "the composed object. This helps maintain a clear separation of concerns and improves code organization.\n",
    "\n",
    "5. Avoiding the Fragile Base Class Problem: Inheritance can lead to the fragile base class problem, where changes in the base\n",
    "class can have unintended consequences on derived classes. Composition avoids this problem by not relying on the inheritance \n",
    "hierarchy. Changes in the composed object do not affect the containing class, providing more stability and robustness to your\n",
    "code.\n",
    "\n",
    "Overall, composition provides a more flexible, modular, and reusable approach to building class relationships in Python. It\n",
    "allows you to create complex objects by combining smaller components, promotes loose coupling, and avoids the limitations and\n",
    "pitfalls of inheritance.'''"
   ]
  },
  {
   "cell_type": "code",
   "execution_count": 4,
   "id": "34515138-484a-418c-99d6-703bd108a851",
   "metadata": {},
   "outputs": [
    {
     "name": "stdout",
     "output_type": "stream",
     "text": [
      "Engine started.\n",
      "Name: Govind Kumar\n",
      "Address: 123 Main St, City, State\n"
     ]
    },
    {
     "data": {
      "text/plain": [
       "'In this example, the `Person` class is composed of a `Name` object and an `Address` object. By using composition, we can \\ncreate a `Person` object with all the necessary information encapsulated within its attributes.'"
      ]
     },
     "execution_count": 4,
     "metadata": {},
     "output_type": "execute_result"
    }
   ],
   "source": [
    "'''5.How can you implement composition in Python classes? Provide examples of using composition to create\n",
    "complex objects.'''\n",
    "'''\n",
    "To implement composition in Python classes, you can create a class that contains instances of other classes as attributes. \n",
    "This allows you to combine smaller components to create complex objects.\n",
    "\n",
    "For example, let's say we have a `Car` class and a `Engine` class. We can use composition to create a `Car` object that has \n",
    "an `Engine` object:\n",
    "'''\n",
    "class Engine:\n",
    "    def start(self):\n",
    "        print(\"Engine started.\")\n",
    "\n",
    "class Car:\n",
    "    def __init__(self):\n",
    "        self.engine = Engine()  # Composition: Car has an Engine object\n",
    "\n",
    "    def start_engine(self):\n",
    "        self.engine.start()\n",
    "\n",
    "car = Car()\n",
    "car.start_engine()\n",
    "\n",
    "'''In this example, the `Car` class has an attribute called `engine`, which is an instance of the `Engine` class. This is\n",
    "composition because the `Car` class is composed of an `Engine` object.'''\n",
    "\n",
    "'''By using composition, we can create complex objects by combining smaller components. For instance, let's create a `Person`\n",
    "class that has a `Name` object and an `Address` object:'''\n",
    "\n",
    "class Name:\n",
    "    def __init__(self, first_name, last_name):\n",
    "        self.first_name = first_name\n",
    "        self.last_name = last_name\n",
    "\n",
    "class Address:\n",
    "    def __init__(self, street, city, state):\n",
    "        self.street = street\n",
    "        self.city = city\n",
    "        self.state = state\n",
    "\n",
    "class Person:\n",
    "    def __init__(self, name, address):\n",
    "        self.name = name\n",
    "        self.address = address\n",
    "\n",
    "    def get_info(self):\n",
    "        return f\"Name: {self.name.first_name} {self.name.last_name}\\nAddress: {self.address.street}, {self.address.city}, {self.address.state}\"\n",
    "\n",
    "name = Name(\"Govind\", \"Kumar\")\n",
    "address = Address(\"123 Main St\", \"City\", \"State\")\n",
    "person = Person(name, address)\n",
    "print(person.get_info())\n",
    "\n",
    "'''In this example, the `Person` class is composed of a `Name` object and an `Address` object. By using composition, we can \n",
    "create a `Person` object with all the necessary information encapsulated within its attributes.'''\n"
   ]
  },
  {
   "cell_type": "code",
   "execution_count": 5,
   "id": "d65ff5e8-b043-4169-8bfa-eeb111effa84",
   "metadata": {},
   "outputs": [
    {
     "name": "stdout",
     "output_type": "stream",
     "text": [
      "Now playing: Song 1 by Artist 1\n",
      "Now playing: Song 1 by Artist 1\n",
      "Now playing: Song 1 by Artist 1\n"
     ]
    }
   ],
   "source": [
    "#6.Create a Python class hierarchy for a music player system, using composition to represent playlists and songs.\n",
    "class Song:\n",
    "    def __init__(self, title, artist, duration):\n",
    "        self.title = title\n",
    "        self.artist = artist\n",
    "        self.duration = duration\n",
    "\n",
    "    def play(self):\n",
    "        print(f\"Now playing: {self.title} by {self.artist}\")\n",
    "\n",
    "song1 = Song(\"Song 1\", \"Artist 1\", \"3:45\")\n",
    "print(song1.play())\n",
    "\n",
    "'''Next, let's create a `Playlist` class that represents a collection of songs. The `Playlist` class will have an attribute\n",
    "called `songs`, which will be a list of `Song` objects. We can also add methods to add songs to the playlist and play all\n",
    "the songs in the playlist. '''\n",
    "#Here's an example:\n",
    "\n",
    "class Playlist:\n",
    "    def __init__(self):\n",
    "        self.songs = []\n",
    "\n",
    "    def add_song(self, song):\n",
    "        self.songs.append(song)\n",
    "\n",
    "    def play_all(self):\n",
    "        for song in self.songs:\n",
    "            song.play()\n",
    "\n",
    "playlist = Playlist()\n",
    "playlist.add_song(song1)\n",
    "playlist.play_all()\n",
    "\n",
    "'''In this example, we created a `Playlist` object and added `song1` to it. Then, we called the `play_all()` method, which\n",
    "plays all the songs in the playlist.\n",
    "\n",
    "By using composition, we can create a music player system by combining `Song` and `Playlist` objects. For example, we can \n",
    "create a `MusicPlayer` class that has a `Playlist` object as an attribute. We can then add methods to add songs to the \n",
    "playlist and control the playback.'''\n",
    "#Here's a simplified example:\n",
    "\n",
    "class MusicPlayer:\n",
    "    def __init__(self):\n",
    "        self.playlist = Playlist()\n",
    "\n",
    "    def add_song_to_playlist(self, song):\n",
    "        self.playlist.add_song(song)\n",
    "\n",
    "    def play_playlist(self):\n",
    "        self.playlist.play_all()\n",
    "\n",
    "music_player = MusicPlayer()\n",
    "music_player.add_song_to_playlist(song1)\n",
    "music_player.play_playlist()"
   ]
  },
  {
   "cell_type": "code",
   "execution_count": null,
   "id": "9233da17-b7eb-48c5-a22b-22083ac301ca",
   "metadata": {},
   "outputs": [],
   "source": [
    "#7.Explain the concept of \"has-a\" relationships in composition and how it helps design software systems.\n",
    "'''In object-oriented programming, composition is a way to create complex objects by combining simpler objects. The \"has-a\"\n",
    "relationship is a type of composition where one object contains another object as a part of its own structure. \n",
    "\n",
    "For example, let's say we have an `Author` class with attributes for name and birthdate. We can then create a `Book` class\n",
    "that contains an instance of the `Author` class as a composition. This means that a `Book` object \"has-a\" relationship with\n",
    "an `Author` object.\n",
    "\n",
    "By using composition and the \"has-a\" relationship, we can create more flexible and reusable software systems. It allows us to\n",
    "break down complex systems into smaller, more manageable parts, making our code easier to understand and maintain. Plus, it\n",
    "promotes code reusability, as we can reuse existing classes in different contexts.'''\n"
   ]
  },
  {
   "cell_type": "code",
   "execution_count": 1,
   "id": "9d88742f-ae51-4067-b85d-860e0a1376a5",
   "metadata": {},
   "outputs": [],
   "source": [
    "'''8.Create a Python class for a computer system, using composition to represent components like CPU, RAM,\n",
    "and storage devices.'''\n",
    "class ComputerSystem:\n",
    "    def __init__(self, cpu, ram, storage):\n",
    "        self.cpu = cpu\n",
    "        self.ram = ram\n",
    "        self.storage = storage\n",
    "\n",
    "class CPU:\n",
    "    def __init__(self, model, speed):\n",
    "        self.model = model\n",
    "        self.speed = speed\n",
    "\n",
    "class RAM:\n",
    "    def __init__(self, capacity):\n",
    "        self.capacity = capacity\n",
    "\n",
    "class StorageDevice:\n",
    "    def __init__(self, type, capacity):\n",
    "        self.type = type\n",
    "        self.capacity = capacity"
   ]
  },
  {
   "cell_type": "code",
   "execution_count": 14,
   "id": "9397807c-7e37-4db6-8c94-abff58d988bf",
   "metadata": {},
   "outputs": [
    {
     "name": "stdout",
     "output_type": "stream",
     "text": [
      "J.K. Rowling\n"
     ]
    },
    {
     "data": {
      "text/plain": [
       "'By using delegation, we can break down complex systems into smaller, more manageable parts. This promotes code reusability, \\nas the delegated objects can be reused in different contexts. It also allows for easier maintenance and updates, as changes\\nmade to the delegated objects do not affect the overall functionality of the main object.\\n'"
      ]
     },
     "execution_count": 14,
     "metadata": {},
     "output_type": "execute_result"
    }
   ],
   "source": [
    "#9.Describe the concept of \"delegation\" in composition and how it simplifies the design of complex systems.\n",
    "'''\n",
    "In composition, delegation is a design pattern where an object delegates certain responsibilities to another object.\n",
    "Instead of implementing all the functionality itself, an object delegates some tasks to another object that specializes in \n",
    "those tasks. This allows for better code organization, modularity, and flexibility in complex systems.\n",
    "\n",
    "Delegation simplifies the design of complex systems by promoting code reuse and separation of concerns. It allows objects to \n",
    "focus on their primary responsibilities while delegating specific tasks to other objects. This helps in keeping the codebase\n",
    "modular, maintainable, and easier to understand.\n",
    "'''\n",
    "#Here's an example of how you can create a `Book` object using delegation:\n",
    "\n",
    "class Author:\n",
    "    def __init__(self, name, birthdate):\n",
    "        self.name = name\n",
    "        self.birthdate = birthdate\n",
    "\n",
    "class Book:\n",
    "    def __init__(self, title, author):\n",
    "        self.title = title\n",
    "        self.author = author\n",
    "\n",
    "# Creating an Author object\n",
    "author = Author(\"J.K. Rowling\", \"July 31, 1965\")\n",
    "\n",
    "# Creating a Book object and passing the Author object as a parameter\n",
    "book = Book(\"Harry Potter and the Philosopher's Stone\", author)\n",
    "print(book.author.name)\n",
    "\n",
    "'''By using delegation, we can break down complex systems into smaller, more manageable parts. This promotes code reusability, \n",
    "as the delegated objects can be reused in different contexts. It also allows for easier maintenance and updates, as changes\n",
    "made to the delegated objects do not affect the overall functionality of the main object.\n",
    "'''"
   ]
  },
  {
   "cell_type": "code",
   "execution_count": 16,
   "id": "e1d56fc6-17fe-40c5-9abf-6ca7058f8109",
   "metadata": {},
   "outputs": [],
   "source": [
    "'''10.Create a Python class for a car, using composition to represent components like the engine, wheels, and\n",
    "transmission.'''\n",
    "class Car:\n",
    "    def __init__(self, engine, wheels, transmission):\n",
    "        self.engine = engine\n",
    "        self.wheels = wheels\n",
    "        self.transmission = transmission\n",
    "        \n",
    "class Engine:\n",
    "    def __init__(self,fuel_type,model):\n",
    "        self.fuel_type = fuel_type\n",
    "        self.model = model\n",
    "        \n",
    "class Wheel:\n",
    "    def __init__(self, brand,size):\n",
    "        self.brand = brand\n",
    "        self.size = size\n",
    "class Transmission:\n",
    "    def __init__(self,transmission):\n",
    "        self.transmission = transmission\n",
    "# Creating engine object\n",
    "engine = Engine(\"Petrol\", \"V6\")\n",
    "\n",
    "# Creating wheel objects\n",
    "wheels = [Wheel(\"Brand1\", 17), Wheel(\"Brand2\", 17), Wheel(\"Brand3\", 17), Wheel(\"Brand4\", 17)]\n",
    "\n",
    "# Creating transmission object\n",
    "transmission = Transmission(\"Automatic\")\n",
    "\n",
    "# Creating car object and passing the engine, wheels, and transmission objects as parameters\n",
    "car = Car(engine, wheels, transmission)"
   ]
  },
  {
   "cell_type": "code",
   "execution_count": 18,
   "id": "55272210-a42b-4e83-a7bd-b9a488d30e8d",
   "metadata": {},
   "outputs": [
    {
     "data": {
      "text/plain": [
       "'In this example, the attributes `_engine`, `_wheels`, and `_transmission` are marked as private using a single leading\\nunderscore. This convention signals to other developers that these attributes should not be accessed directly.\\n\\nBy encapsulating the details of the composed objects, you maintain abstraction and hide the internal implementation details.\\nOther code that interacts with the `Car` class can only access the public methods and attributes, such as `start()` and\\n`stop()`, without needing to know the specific details of the engine, wheels, and transmission.\\n\\nThis approach allows you to change the internal implementation of the composed objects without affecting the code that uses\\nthe `Car` class, promoting code maintainability and flexibility.'"
      ]
     },
     "execution_count": 18,
     "metadata": {},
     "output_type": "execute_result"
    }
   ],
   "source": [
    "'''11.How can you encapsulate and hide the details of composed objects in Python classes to maintain\n",
    "abstraction?'''\n",
    "'''To encapsulate and hide the details of composed objects in Python classes, you can use private attributes and methods. By\n",
    "convention, in Python, we can use a single leading underscore (_) to indicate that an attribute or method should be treated as\n",
    "private.'''\n",
    "\n",
    "#Here's an example of how you can achieve encapsulation and abstraction in your `Car` class:\n",
    "\n",
    "class Car:\n",
    "    def __init__(self, engine, wheels, transmission):\n",
    "        self._engine = engine\n",
    "        self._wheels = wheels\n",
    "        self._transmission = transmission\n",
    "        \n",
    "    def start(self):\n",
    "        self._engine.start()\n",
    "        # Additional code to start the car\n",
    "        \n",
    "    def stop(self):\n",
    "        self._engine.stop()\n",
    "        # Additional code to stop the car\n",
    "        \n",
    "    # Other public methods and attributes here...\n",
    "\n",
    "'''In this example, the attributes `_engine`, `_wheels`, and `_transmission` are marked as private using a single leading\n",
    "underscore. This convention signals to other developers that these attributes should not be accessed directly.\n",
    "\n",
    "By encapsulating the details of the composed objects, you maintain abstraction and hide the internal implementation details.\n",
    "Other code that interacts with the `Car` class can only access the public methods and attributes, such as `start()` and\n",
    "`stop()`, without needing to know the specific details of the engine, wheels, and transmission.\n",
    "\n",
    "This approach allows you to change the internal implementation of the composed objects without affecting the code that uses\n",
    "the `Car` class, promoting code maintainability and flexibility.'''"
   ]
  },
  {
   "cell_type": "code",
   "execution_count": 19,
   "id": "30f3406b-bb65-44ad-a09c-304347c10f52",
   "metadata": {},
   "outputs": [],
   "source": [
    "'''12.Create a Python class for a university course, using composition to represent students, instructors, and\n",
    "course materials.'''\n",
    "class Course:\n",
    "    def __init__(self, course_name, instructor, students, course_materials):\n",
    "        self.course_name = course_name\n",
    "        self.instructor = instructor\n",
    "        self.students = students\n",
    "        self.course_materials = course_materials\n",
    "\n",
    "class Student:\n",
    "    def __init__(self, student_name, student_id):\n",
    "        self.student_name = student_name\n",
    "        self.student_id = student_id\n",
    "\n",
    "class Instructor:\n",
    "    def __init__(self, instructor_name, instructor_id):\n",
    "        self.instructor_name = instructor_name\n",
    "        self.instructor_id = instructor_id\n",
    "\n",
    "class CourseMaterial:\n",
    "    def __init__(self, material_name):\n",
    "        self.material_name = material_name\n",
    "\n",
    "# Creating instructor object\n",
    "instructor = Instructor(\"Pwskills\", \"123456\")\n",
    "\n",
    "# Creating student objects\n",
    "student1 = Student(\"Govind\", \"001\")\n",
    "student2 = Student(\"Kumar\", \"002\")\n",
    "\n",
    "# Creating course material objects\n",
    "material1 = CourseMaterial(\"Lecture slides\")\n",
    "material2 = CourseMaterial(\"Textbook\")\n",
    "\n",
    "# Creating course object and passing the instructor, students, and course materials as parameters\n",
    "course = Course(\"Introduction to Python\", instructor, [student1, student2], [material1, material2])\n"
   ]
  },
  {
   "cell_type": "code",
   "execution_count": 20,
   "id": "e124ffa1-e852-4733-8bdd-2405ed00b0ff",
   "metadata": {},
   "outputs": [
    {
     "data": {
      "text/plain": [
       "\" Composition, like any design pattern, has its challenges and drawbacks. One challenge is that it can increase the\\ncomplexity of the code. When you use composition, you need to carefully manage the relationships between objects and ensure\\nthat they are properly connected.\\n\\nAnother challenge is the potential for tight coupling between objects. Tight coupling means that the objects are highly\\ndependent on each other, making it difficult to modify or replace one object without affecting others. This can make the\\ncode less flexible and harder to maintain.\\n\\nTo mitigate these challenges, it's important to carefully design the relationships between objects and consider the future\\nneeds of the system. By using proper encapsulation and abstraction, you can reduce the coupling between objects and make the\\ncode more modular and flexible.\\n\\nOverall, composition is a powerful tool for building complex systems, but it requires careful consideration and planning to\\navoid potential drawbacks. It's important to strike a balance between code complexity and maintainability when using\\ncomposition in your designs.\\n\""
      ]
     },
     "execution_count": 20,
     "metadata": {},
     "output_type": "execute_result"
    }
   ],
   "source": [
    "'''13.Discuss the challenges and drawbacks of composition, such as increased complexity and potential for\n",
    "tight coupling between objects.'''\n",
    "''' Composition, like any design pattern, has its challenges and drawbacks. One challenge is that it can increase the\n",
    "complexity of the code. When you use composition, you need to carefully manage the relationships between objects and ensure\n",
    "that they are properly connected.\n",
    "\n",
    "Another challenge is the potential for tight coupling between objects. Tight coupling means that the objects are highly\n",
    "dependent on each other, making it difficult to modify or replace one object without affecting others. This can make the\n",
    "code less flexible and harder to maintain.\n",
    "\n",
    "To mitigate these challenges, it's important to carefully design the relationships between objects and consider the future\n",
    "needs of the system. By using proper encapsulation and abstraction, you can reduce the coupling between objects and make the\n",
    "code more modular and flexible.\n",
    "\n",
    "Overall, composition is a powerful tool for building complex systems, but it requires careful consideration and planning to\n",
    "avoid potential drawbacks. It's important to strike a balance between code complexity and maintainability when using\n",
    "composition in your designs.\n",
    "'''"
   ]
  },
  {
   "cell_type": "code",
   "execution_count": 21,
   "id": "73ecd2ea-c32e-4b98-9e70-34edbc6876de",
   "metadata": {},
   "outputs": [],
   "source": [
    "'''14.Create a Python class hierarchy for a restaurant system, using composition to represent menus, dishes,\n",
    "and ingredients.'''\n",
    "class Ingredient:\n",
    "    def __init__(self, name, quantity):\n",
    "        self.name = name\n",
    "        self.quantity = quantity\n",
    "\n",
    "class Dish:\n",
    "    def __init__(self, name, ingredients):\n",
    "        self.name = name\n",
    "        self.ingredients = ingredients\n",
    "\n",
    "class Menu:\n",
    "    def __init__(self, name, dishes):\n",
    "        self.name = name\n",
    "        self.dishes = dishes\n",
    "\n",
    "class Restaurant:\n",
    "    def __init__(self, name, menus):\n",
    "        self.name = name\n",
    "        self.menus = menus"
   ]
  },
  {
   "cell_type": "code",
   "execution_count": 22,
   "id": "7d131389-4298-448e-8d64-e0f148b22ecb",
   "metadata": {},
   "outputs": [
    {
     "data": {
      "text/plain": [
       "'Composition is a design principle in object-oriented programming where objects are combined to form more complex \\nstructures. It allows you to create relationships between objects by assembling them together, rather than inheriting behavior\\nfrom a single parent class.\\n\\nOne of the key benefits of composition is improved code maintainability. When you use composition, you can create smaller,\\nmore focused classes that have clear responsibilities. This makes it easier to understand and modify the code because each \\nclass has a specific purpose and can be worked on independently. If you need to make changes or add new features, you can do\\nso without affecting other parts of the codebase.\\n\\nComposition also promotes modularity in Python programs. By breaking down complex systems into smaller, reusable components,\\nyou can create a more flexible and extensible codebase. You can easily swap out one component with another as long as they\\nadhere to the same interface. This makes it easier to adapt and evolve your code over time.\\n\\nIn summary, composition enhances code maintainability and modularity by promoting smaller, focused classes with clear \\nresponsibilities and enabling the reuse and interchangeability of components. It helps create a more flexible and maintainable\\ncodebase.'"
      ]
     },
     "execution_count": 22,
     "metadata": {},
     "output_type": "execute_result"
    }
   ],
   "source": [
    "#15.Explain how composition enhances code maintainability and modularity in Python programs.\n",
    "'''Composition is a design principle in object-oriented programming where objects are combined to form more complex \n",
    "structures. It allows you to create relationships between objects by assembling them together, rather than inheriting behavior\n",
    "from a single parent class.\n",
    "\n",
    "One of the key benefits of composition is improved code maintainability. When you use composition, you can create smaller,\n",
    "more focused classes that have clear responsibilities. This makes it easier to understand and modify the code because each \n",
    "class has a specific purpose and can be worked on independently. If you need to make changes or add new features, you can do\n",
    "so without affecting other parts of the codebase.\n",
    "\n",
    "Composition also promotes modularity in Python programs. By breaking down complex systems into smaller, reusable components,\n",
    "you can create a more flexible and extensible codebase. You can easily swap out one component with another as long as they\n",
    "adhere to the same interface. This makes it easier to adapt and evolve your code over time.\n",
    "\n",
    "In summary, composition enhances code maintainability and modularity by promoting smaller, focused classes with clear \n",
    "responsibilities and enabling the reuse and interchangeability of components. It helps create a more flexible and maintainable\n",
    "codebase.'''"
   ]
  },
  {
   "cell_type": "code",
   "execution_count": 23,
   "id": "94b5247c-55ff-447c-997b-67f371c68bd0",
   "metadata": {},
   "outputs": [],
   "source": [
    "'''16.Create a Python class for a computer game character, using composition to represent attributes like\n",
    "weapons, armor, and inventory.'''\n",
    "class Weapon:\n",
    "    def __init__(self, name, damage):\n",
    "        self.name = name\n",
    "        self.damage = damage\n",
    "\n",
    "class Armor:\n",
    "    def __init__(self, name, defense):\n",
    "        self.name = name\n",
    "        self.defense = defense\n",
    "\n",
    "class Inventory:\n",
    "    def __init__(self, items):\n",
    "        self.items = items\n",
    "\n",
    "class Character:\n",
    "    def __init__(self, name, weapon, armor, inventory):\n",
    "        self.name = name\n",
    "        self.weapon = weapon\n",
    "        self.armor = armor\n",
    "        self.inventory = inventory"
   ]
  },
  {
   "cell_type": "code",
   "execution_count": 24,
   "id": "5d4a6a81-2e38-4497-874b-7138546610ac",
   "metadata": {},
   "outputs": [
    {
     "name": "stdout",
     "output_type": "stream",
     "text": [
      "University 1 Students:\n",
      "Govind\n",
      "University 2 Students:\n",
      "Kumar\n"
     ]
    },
    {
     "data": {
      "text/plain": [
       "\"    \\nTo illustrate this, let's consider an example. Suppose we have a `University` class and a `Student` class. In simple \\ncomposition, a `University` object would contain a `Student` object, and the `Student` object would not exist without the\\n`University` object. However, in aggregation, a `University` object can have multiple `Student` objects, and these `Student` \\nobjects can exist independently outside of the `University` object.\\n\\nThe key difference between aggregation and simple composition is the level of independence of the contained object. With\\naggregation, the contained object can be shared among multiple containing objects or exist on its own, while with simple\\ncomposition, the contained object is tightly coupled and cannot exist independently.\\n\""
      ]
     },
     "execution_count": 24,
     "metadata": {},
     "output_type": "execute_result"
    }
   ],
   "source": [
    "#17.Describe the concept of \"aggregation\" in composition and how it differs from simple composition.\n",
    "'''In the context of composition, \"aggregation\" refers to a specific type of relationship between objects. It is a form of \n",
    "composition where one object contains another object, but the contained object can exist independently outside of the \n",
    "containing object.\n",
    "\n",
    "In simple composition, the contained object is tightly coupled with the containing object, meaning it cannot exist without the\n",
    "containing object. However, in aggregation, the contained object has its own lifecycle and can exist independently.\n",
    "'''\n",
    "\n",
    "class University:\n",
    "    def __init__(self, name):\n",
    "        self.name = name\n",
    "        self.students = []\n",
    "\n",
    "    def add_student(self, student):\n",
    "        self.students.append(student)\n",
    "\n",
    "class Student:\n",
    "    def __init__(self, name, id):\n",
    "        self.name = name\n",
    "        self.id = id\n",
    "\n",
    "# Simple Composition Example\n",
    "university = University(\"RGPV University\")\n",
    "student = Student(\"Govind\", 12345)\n",
    "university.add_student(student)\n",
    "\n",
    "# Aggregation Example\n",
    "university2 = University(\"RKDF University\")\n",
    "student2 = Student(\"Kumar\", 67890)\n",
    "university2.add_student(student2)\n",
    "\n",
    "# Accessing Students\n",
    "print(\"University 1 Students:\")\n",
    "for student in university.students:\n",
    "    print(student.name)\n",
    "\n",
    "print(\"University 2 Students:\")\n",
    "for student in university2.students:\n",
    "    print(student.name)\n",
    "'''    \n",
    "To illustrate this, let's consider an example. Suppose we have a `University` class and a `Student` class. In simple \n",
    "composition, a `University` object would contain a `Student` object, and the `Student` object would not exist without the\n",
    "`University` object. However, in aggregation, a `University` object can have multiple `Student` objects, and these `Student` \n",
    "objects can exist independently outside of the `University` object.\n",
    "\n",
    "The key difference between aggregation and simple composition is the level of independence of the contained object. With\n",
    "aggregation, the contained object can be shared among multiple containing objects or exist on its own, while with simple\n",
    "composition, the contained object is tightly coupled and cannot exist independently.\n",
    "'''"
   ]
  },
  {
   "cell_type": "code",
   "execution_count": 25,
   "id": "aaea41f0-75de-4435-b648-1050c4d7f52a",
   "metadata": {},
   "outputs": [],
   "source": [
    "#18.Create a Python class for a house, using composition to represent rooms, furniture, and appliances.\n",
    "class House:\n",
    "    def __init__(self):\n",
    "        self.rooms = []\n",
    "\n",
    "    def add_room(self, room):\n",
    "        self.rooms.append(room)\n",
    "\n",
    "class Room:\n",
    "    def __init__(self, name):\n",
    "        self.name = name\n",
    "        self.furniture = []\n",
    "        self.appliances = []\n",
    "\n",
    "    def add_furniture(self, furniture):\n",
    "        self.furniture.append(furniture)\n",
    "\n",
    "    def add_appliance(self, appliance):\n",
    "        self.appliances.append(appliance)\n",
    "\n",
    "class Furniture:\n",
    "    def __init__(self, name):\n",
    "        self.name = name\n",
    "\n",
    "class Appliance:\n",
    "    def __init__(self, name):\n",
    "        self.name = name\n",
    "\n",
    "# Creating a House object\n",
    "my_house = House()\n",
    "\n",
    "# Creating Room objects\n",
    "living_room = Room(\"Living Room\")\n",
    "kitchen = Room(\"Kitchen\")\n",
    "\n",
    "# Creating Furniture objects\n",
    "couch = Furniture(\"Couch\")\n",
    "table = Furniture(\"Table\")\n",
    "\n",
    "# Creating Appliance objects\n",
    "tv = Appliance(\"TV\")\n",
    "fridge = Appliance(\"Fridge\")\n",
    "\n",
    "# Adding furniture and appliances to the rooms\n",
    "living_room.add_furniture(couch)\n",
    "living_room.add_furniture(table)\n",
    "kitchen.add_appliance(fridge)\n",
    "\n",
    "# Adding rooms to the house\n",
    "my_house.add_room(living_room)\n",
    "my_house.add_room(kitchen)"
   ]
  },
  {
   "cell_type": "code",
   "execution_count": null,
   "id": "edb02fb6-89a5-4baf-a57e-80a9f62563bb",
   "metadata": {},
   "outputs": [],
   "source": [
    "'''19.How can you achieve flexibility in composed objects by allowing them to be replaced or modified\n",
    "dynamically at runtime?'''\n",
    "'''To achieve flexibility in composed objects by allowing them to be replaced or modified dynamically at runtime, you can use\n",
    "the concept of dependency injection. \n",
    "\n",
    "Dependency injection is a design pattern where the dependencies of an object are provided externally rather than being created\n",
    "internally. This allows for greater flexibility and modularity in your code.\n",
    "\n",
    "In the context of composed objects, you can pass different instances of the composed objects as dependencies to the main \n",
    "object. This way, you can easily replace or modify the composed objects without modifying the main object itself.\n",
    "\n",
    "For example, let's say you have a `House` class that composes different `Room` objects. Instead of creating the `Room` objects\n",
    "inside the `House` class, you can pass them as dependencies during the initialization of the `House` object. This allows you\n",
    "to replace or modify the `Room` objects dynamically.\n",
    "Here's an example:'''\n",
    "\n",
    "class House:\n",
    "    def __init__(self, living_room, kitchen):\n",
    "        self.living_room = living_room\n",
    "        self.kitchen = kitchen\n",
    "\n",
    "    def replace_living_room(self, new_living_room):\n",
    "        self.living_room = new_living_room\n",
    "\n",
    "    def modify_kitchen(self, new_kitchen):\n",
    "        self.kitchen = new_kitchen\n",
    "\n",
    "class Room:\n",
    "    def __init__(self, name):\n",
    "        self.name = name\n",
    "\n",
    "# Creating Room objects\n",
    "old_living_room = Room(\"Old Living Room\")\n",
    "old_kitchen = Room(\"Old Kitchen\")\n",
    "new_living_room = Room(\"New Living Room\")\n",
    "new_kitchen = Room(\"New Kitchen\")\n",
    "\n",
    "# Creating House object with initial rooms\n",
    "my_house = House(old_living_room, old_kitchen)\n",
    "\n",
    "# Replacing the living room dynamically\n",
    "my_house.replace_living_room(new_living_room)\n",
    "\n",
    "# Modifying the kitchen dynamically\n",
    "my_house.modify_kitchen(new_kitchen)\n",
    "\n",
    "'''In this example, we have a `House` class that takes `living_room` and `kitchen` as dependencies during initialization. The\n",
    "`replace_living_room` method allows you to replace the living room dynamically by passing a new `Room` object. Similarly, the\n",
    "`modify_kitchen` method allows you to modify the kitchen by passing a new `Room` object.\n",
    "\n",
    "By using dependency injection and providing the composed objects as external dependencies, you can achieve flexibility in \n",
    "replacing or modifying the composed objects at runtime.'''"
   ]
  },
  {
   "cell_type": "code",
   "execution_count": 27,
   "id": "63f4e883-126d-4cef-9158-a85a2173245f",
   "metadata": {},
   "outputs": [
    {
     "name": "stdout",
     "output_type": "stream",
     "text": [
      "Hello, everyone\n",
      "Nice post!\n",
      "Hello, everyone\n"
     ]
    }
   ],
   "source": [
    "#20.Create a Python class for a social media application, using composition to represent users, posts, and comments.\n",
    "class User:\n",
    "    def __init__(self, name):\n",
    "        self.name = name\n",
    "        self.posts = []\n",
    "        self.comments = []\n",
    "\n",
    "    def create_post(self, content):\n",
    "        post = Post(content, self)\n",
    "        self.posts.append(post)\n",
    "        return post\n",
    "\n",
    "    def create_comment(self, content, post):\n",
    "        comment = Comment(content, self, post)\n",
    "        self.comments.append(comment)\n",
    "        return comment\n",
    "\n",
    "class Post:\n",
    "    def __init__(self, content, author):\n",
    "        self.content = content\n",
    "        self.author = author\n",
    "        self.comments = []\n",
    "\n",
    "    def add_comment(self, comment):\n",
    "        self.comments.append(comment)\n",
    "\n",
    "class Comment:\n",
    "    def __init__(self, content, author, post):\n",
    "        self.content = content\n",
    "        self.author = author\n",
    "        self.post = post\n",
    "\n",
    "# Example usage:\n",
    "user1 = User(\"Govind\")\n",
    "user2 = User(\"Kumar\")\n",
    "\n",
    "post1 = user1.create_post(\"Hello, everyone\")\n",
    "comment1 = user2.create_comment(\"Nice post!\", post1)\n",
    "\n",
    "print(post1.content)\n",
    "print(comment1.content)\n",
    "print(comment1.post.content)"
   ]
  },
  {
   "cell_type": "code",
   "execution_count": null,
   "id": "bd5ea90e-ceb3-4902-b1f6-d6b41f1f8066",
   "metadata": {},
   "outputs": [],
   "source": []
  }
 ],
 "metadata": {
  "kernelspec": {
   "display_name": "Python 3 (ipykernel)",
   "language": "python",
   "name": "python3"
  },
  "language_info": {
   "codemirror_mode": {
    "name": "ipython",
    "version": 3
   },
   "file_extension": ".py",
   "mimetype": "text/x-python",
   "name": "python",
   "nbconvert_exporter": "python",
   "pygments_lexer": "ipython3",
   "version": "3.10.8"
  }
 },
 "nbformat": 4,
 "nbformat_minor": 5
}
