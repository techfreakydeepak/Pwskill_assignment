{
 "cells": [
  {
   "cell_type": "code",
   "execution_count": null,
   "id": "e516c573-a138-4de0-b4cc-fa70e8213d2f",
   "metadata": {},
   "outputs": [],
   "source": [
    "'''5th_NOV^23_Recursion_Asgnmnt_11th'''"
   ]
  },
  {
   "cell_type": "code",
   "execution_count": 4,
   "id": "2316c790-28db-4390-be2b-a488c9aa7933",
   "metadata": {},
   "outputs": [
    {
     "name": "stdout",
     "output_type": "stream",
     "text": [
      "Move disc 1 from rod A to rod C\n",
      "Move disc 2 from rod A to rod B\n",
      "Move disc 1 from rod C to rod B\n",
      "Move disc 3 from rod A to rod C\n",
      "Move disc 1 from rod B to rod A\n",
      "Move disc 2 from rod B to rod C\n",
      "Move disc 1 from rod A to rod C\n"
     ]
    }
   ],
   "source": [
    "'''\n",
    "Q.1.Can you explain the logic and working of the Tower of Hanoi algorithm by writing a Python program?\n",
    "How does the recursion work, and how are the movements of disks between rods accomplished?\n",
    "'''\n",
    "def Tower_of_Hanoi(n, from_rod, to_rod, aux_rod):\n",
    "    #Base Condition:-\n",
    "    if n==0:\n",
    "        return\n",
    "    #Recursive call to move\n",
    "    Tower_of_Hanoi(n-1, from_rod, aux_rod, to_rod) #Shift the coins from \"from rod to auxillary rod\"\n",
    "    print(\"Move disc\", n, \"from rod\", from_rod, \"to rod\", to_rod)\n",
    "    Tower_of_Hanoi(n-1, aux_rod, to_rod, from_rod) #Finally shift all the coins from \"Auxillary rod to to_rod\"\n",
    "\n",
    "#Driver code\n",
    "N = 3\n",
    "Tower_of_Hanoi(N, \"A\", \"C\", \"B\")"
   ]
  },
  {
   "cell_type": "code",
   "execution_count": 7,
   "id": "920b30f6-0006-4558-b446-f5890ba8015f",
   "metadata": {},
   "outputs": [
    {
     "name": "stdout",
     "output_type": "stream",
     "text": [
      "The minimum number of operations required to convert 'horse' to 'ros' is 3.\n"
     ]
    }
   ],
   "source": [
    "'''Q.2 Given two strings word1 and word2, return the minimum number of operations required to convert word1\n",
    "to word2.\n",
    "Example 1:\n",
    "Input: word1 = \"horse\", word2 = \"ros\"\n",
    "Output: 3\n",
    "Explanation:\n",
    "horse -> rorse (replace 'h' with 'r')\n",
    "rorse -> rose (remove 'r')\n",
    "rose -> ros (remove 'e')\n",
    "'''\n",
    "def minDistance(word1, word2):\n",
    "    if len(word1) == 0:\n",
    "        return len(word2)\n",
    "    if len(word2) == 0:\n",
    "        return len(word1)\n",
    "    \n",
    "    if word1[-1] == word2[-1]:\n",
    "        return minDistance(word1[:-1], word2[:-1])\n",
    "    else:\n",
    "        replace = minDistance(word1[:-1], word2[:-1])\n",
    "        delete = minDistance(word1[:-1], word2)\n",
    "        insert = minDistance(word1, word2[:-1])\n",
    "        \n",
    "        return 1 + min(replace, delete, insert)\n",
    "\n",
    "word1 = \"horse\"\n",
    "word2 = \"ros\"\n",
    "min_ops = minDistance(word1, word2)\n",
    "print(\"The minimum number of operations required to convert '{}' to '{}' is {}.\".format(word1, word2, min_ops))"
   ]
  },
  {
   "cell_type": "code",
   "execution_count": 8,
   "id": "f1342366-5622-464c-bb1c-09bbdccf20a6",
   "metadata": {},
   "outputs": [
    {
     "name": "stdout",
     "output_type": "stream",
     "text": [
      "The minimum number of operations required to convert 'Intention' to 'Execution' is 5.\n"
     ]
    }
   ],
   "source": [
    "'''Example 2:\n",
    "Input: word1 = \"intention\", word2 = \"execution\"\n",
    "Output: 5\n",
    "Explanation:\n",
    "intention -> inention (remove 't')\n",
    "inention -> enention (replace 'i' with 'e')\n",
    "enention -> exention (replace 'n' with 'x')\n",
    "exention -> exection (replace 'n' with 'c')\n",
    "exection -> execution (insert 'u')'''\n",
    "def minDistance(word1, word2):\n",
    "    if len(word1) == 0:\n",
    "        return len(word2)\n",
    "    if len(word2) == 0:\n",
    "        return len(word1)\n",
    "    \n",
    "    if word1[-1] == word2[-1]:\n",
    "        return minDistance(word1[:-1], word2[:-1])\n",
    "    else:\n",
    "        replace = minDistance(word1[:-1], word2[:-1])\n",
    "        delete = minDistance(word1[:-1], word2)\n",
    "        insert = minDistance(word1, word2[:-1])\n",
    "        \n",
    "        return 1 + min(replace, delete, insert)\n",
    "\n",
    "word1 = \"Intention\"\n",
    "word2 = \"Execution\"\n",
    "min_ops = minDistance(word1, word2)\n",
    "print(\"The minimum number of operations required to convert '{}' to '{}' is {}.\".format(word1, word2, min_ops))"
   ]
  },
  {
   "cell_type": "code",
   "execution_count": 3,
   "id": "08a9b7bc-99f4-4c5b-9c64-0e57421b46ac",
   "metadata": {},
   "outputs": [
    {
     "name": "stdout",
     "output_type": "stream",
     "text": [
      "Maximum of the Given Array:- 22\n"
     ]
    }
   ],
   "source": [
    "'''Q.3.Print the max value of the array [13, 1, -3, 22, 5].'''\n",
    "def max_in_Arr(Array):\n",
    "    #If array has only one element, Return it as Maximum\n",
    "    if len(Array)==1:\n",
    "        return Array[0]\n",
    "    \n",
    "    #Divide the array in two arrays\n",
    "    mid = len(Array)//2\n",
    "    left_arr = Array[:mid]\n",
    "    right_arr = Array[mid:]\n",
    "    \n",
    "    #recursive call for finding max of left and right array\n",
    "    max_in_left = max_in_Arr(left_arr)\n",
    "    max_in_right = max_in_Arr(right_arr)\n",
    "    \n",
    "    #return the max of both left and right hence find max of the array\n",
    "    return max(max_in_left, max_in_right)\n",
    "Array = [13, 1, -3, 22, 5]\n",
    "print(\"Maximum of the Given Array:-\",max_in_Arr(Array))"
   ]
  },
  {
   "cell_type": "code",
   "execution_count": 4,
   "id": "1cc5d650-e73b-4be3-b210-05365ad40ad0",
   "metadata": {},
   "outputs": [
    {
     "data": {
      "text/plain": [
       "120"
      ]
     },
     "execution_count": 4,
     "metadata": {},
     "output_type": "execute_result"
    }
   ],
   "source": [
    "'''Q.4.Find the sum of the values of the array [92, 23, 15, -20, 10].'''\n",
    "def sum_of_array(Array):\n",
    "    #if array has only one element, return sum as single element\n",
    "    if len(Array) == 1:\n",
    "        return Array[0]\n",
    "    \n",
    "    else:\n",
    "        return Array[0]+sum_of_array(Array[1:]) #Use recursion to find sum\n",
    "Array = [92, 23, 15, -20, 10]\n",
    "sum_of_array(Array)"
   ]
  },
  {
   "cell_type": "code",
   "execution_count": 8,
   "id": "72cd7231-54fb-4621-afa0-a1ffa7516dbb",
   "metadata": {},
   "outputs": [
    {
     "name": "stdout",
     "output_type": "stream",
     "text": [
      "Output1:  Yes\n",
      "Output2:  No\n"
     ]
    }
   ],
   "source": [
    "'''Q.5 Given a number n. Print if it is an armstrong number or not.An armstrong number is a number if the sum\n",
    "of every digit in that number raised to the power of total digits in that number is equal to the number.\n",
    "Example : 153 = 1^3 + 5^3 + 3^3 = 1 + 125 + 27 = 153 hence 153 is an armstrong number. (Easy)\n",
    "Input1 : 153\n",
    "Output1 : Yes\n",
    "Input 2 : 134\n",
    "Output2 : No'''\n",
    "def is_armstrong_number(n):\n",
    "    #Convert the number to a string to count the digits\n",
    "    num_str = str(n)    \n",
    "    #Calculate the total number of digits\n",
    "    num_digits = len(num_str)    \n",
    "    #Calculate the sum of each digit raised to the power of the total number of digits\n",
    "    digit_sum = sum(int(digit) ** num_digits for digit in num_str)\n",
    "    \n",
    "    #Check if the sum is equal to the original number\n",
    "    if digit_sum == n:\n",
    "        return \"Yes\"\n",
    "    else:\n",
    "        return \"No\"\n",
    "\n",
    "# Test the function with the given inputs\n",
    "input1 = 153\n",
    "output1 = is_armstrong_number(input1)\n",
    "input2 = 134\n",
    "output2 = is_armstrong_number(input2)\n",
    "print(\"Output1: \", output1)\n",
    "print(\"Output2: \", output2)"
   ]
  },
  {
   "cell_type": "code",
   "execution_count": null,
   "id": "3fff1ee3-386a-48ea-a6d3-f93acbcf23d7",
   "metadata": {},
   "outputs": [],
   "source": []
  }
 ],
 "metadata": {
  "kernelspec": {
   "display_name": "Python 3 (ipykernel)",
   "language": "python",
   "name": "python3"
  },
  "language_info": {
   "codemirror_mode": {
    "name": "ipython",
    "version": 3
   },
   "file_extension": ".py",
   "mimetype": "text/x-python",
   "name": "python",
   "nbconvert_exporter": "python",
   "pygments_lexer": "ipython3",
   "version": "3.10.8"
  }
 },
 "nbformat": 4,
 "nbformat_minor": 5
}
