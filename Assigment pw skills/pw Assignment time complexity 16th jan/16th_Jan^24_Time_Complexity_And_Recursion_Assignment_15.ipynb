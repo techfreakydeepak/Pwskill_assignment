{
 "cells": [
  {
   "cell_type": "code",
   "execution_count": 1,
   "id": "b72df102-7066-4e5d-971e-d6ac76139aa8",
   "metadata": {},
   "outputs": [
    {
     "data": {
      "text/plain": [
       "'24th_Jan^24_Time_Complexity_Assignment_15'"
      ]
     },
     "execution_count": 1,
     "metadata": {},
     "output_type": "execute_result"
    }
   ],
   "source": [
    "'''24th_Jan^24_Time_Complexity_Assignment_15'''"
   ]
  },
  {
   "cell_type": "code",
   "execution_count": 3,
   "id": "732e8676-8068-48bf-870e-bbb98fe87f07",
   "metadata": {},
   "outputs": [
    {
     "data": {
      "text/plain": [
       "'The time complexity of quicksort can vary depending on the input and pivot selection. It can be O(n log n) in the best\\nand average cases, and O(n^2) in the worst case.'"
      ]
     },
     "execution_count": 3,
     "metadata": {},
     "output_type": "execute_result"
    }
   ],
   "source": [
    "#Problem 1 :\n",
    "def quicksort(arr):\n",
    "    if len(arr) <= 1:\n",
    "        return arr\n",
    "    pivot = arr[len(arr) // 2]\n",
    "    left = [x for x in arr if x < pivot]\n",
    "    middle = [x for x in arr if x == pivot]\n",
    "\n",
    "    right = [x for x in arr if x > pivot]\n",
    "    return quicksort(left) + middle + quicksort(right)\n",
    "'''The time complexity of quicksort can vary depending on the input and pivot selection. It can be O(n log n) in the best\n",
    "and average cases, and O(n^2) in the worst case.'''"
   ]
  },
  {
   "cell_type": "code",
   "execution_count": 4,
   "id": "c7c9bc7a-f93e-4f82-b113-49c5cf2ecb02",
   "metadata": {},
   "outputs": [
    {
     "data": {
      "text/plain": [
       "\"The time complexity of the `nested_loop_example(matrix)` function is O(n^2) for the worst-case scenario.\\nIn the best-case scenario, where the number of rows is represented by 'n' and the number of columns is represented by\\n'm', the time complexity is O(m * n).\""
      ]
     },
     "execution_count": 4,
     "metadata": {},
     "output_type": "execute_result"
    }
   ],
   "source": [
    "#Problem 2 :\n",
    "def nested_loop_example(matrix):\n",
    "    rows, cols = len(matrix), len(matrix[0])\n",
    "    total = 0\n",
    "    for i in range(rows):\n",
    "        for j in range(cols):\n",
    "            total += matrix[i][j]\n",
    "        return total\n",
    "'''The time complexity of the `nested_loop_example(matrix)` function is O(n^2) for the worst-case scenario.\n",
    "In the best-case scenario, where the number of rows is represented by 'n' and the number of columns is represented by\n",
    "'m', the time complexity is O(m * n).'''"
   ]
  },
  {
   "cell_type": "code",
   "execution_count": 5,
   "id": "59d62bf0-0354-421a-9506-94da2895ae3b",
   "metadata": {},
   "outputs": [
    {
     "data": {
      "text/plain": [
       "'The time complexity for the \"example_function(arr)\" depends on the length of arr or size of input more precisely...\\nhence, the function having O(n) as time complexity in worst case senario.'"
      ]
     },
     "execution_count": 5,
     "metadata": {},
     "output_type": "execute_result"
    }
   ],
   "source": [
    "#Problem 3 :\n",
    "def example_function(arr):\n",
    "    result = 0\n",
    "    for element in arr:\n",
    "        result += element\n",
    "    return result\n",
    "\"\"\"The time complexity for the \"example_function(arr)\" depends on the length of arr or size of input more precisely...\n",
    "hence, the function having O(n) as time complexity in worst case senario.\"\"\""
   ]
  },
  {
   "cell_type": "code",
   "execution_count": 6,
   "id": "5b714625-162e-4acd-bbcd-92ecd0d8832c",
   "metadata": {},
   "outputs": [
    {
     "data": {
      "text/plain": [
       "'The time complexity for the \"longest_increasingly_subsequence(nums)\" is O(n^2) due to two (nested) for loops in worst\\ncase senario which resulted in quadratice time complexity...hence, the function is having O(n^2) as time complexity.'"
      ]
     },
     "execution_count": 6,
     "metadata": {},
     "output_type": "execute_result"
    }
   ],
   "source": [
    "#Problem 4 :\n",
    "def longest_increasing_subsequence(nums):\n",
    "    n = len(nums)\n",
    "    lis = [1] * n\n",
    "    for i in range(1, n):\n",
    "        for j in range(0, i):\n",
    "            if nums[i] > nums[j] and lis[i] < lis[j] + 1:\n",
    "                lis[i] = lis[j] + 1\n",
    "        return max(lis)\n",
    "'''The time complexity for the \"longest_increasingly_subsequence(nums)\" is O(n^2) due to two (nested) for loops in worst\n",
    "case senario which resulted in quadratice time complexity...hence, the function is having O(n^2) as time complexity.'''"
   ]
  },
  {
   "cell_type": "code",
   "execution_count": 7,
   "id": "35cce7cb-a252-4848-a460-8e3b833b4e2a",
   "metadata": {},
   "outputs": [
    {
     "name": "stdout",
     "output_type": "stream",
     "text": [
      "88\n"
     ]
    },
    {
     "data": {
      "text/plain": [
       "' The time complexity of the `mysterious_function(arr)` is indeed O(n^2) in the worst-case scenario. The nested for\\nloops contribute to the quadratic time complexity.'"
      ]
     },
     "execution_count": 7,
     "metadata": {},
     "output_type": "execute_result"
    }
   ],
   "source": [
    "#Problem 5\n",
    "\n",
    "def mysterious_function(arr):\n",
    "    n = len(arr)\n",
    "    result = 0\n",
    "    for i in range(n):\n",
    "        for j in range(i, n):\n",
    "            result += arr[i] * arr[j]\n",
    "        return result\n",
    "arr=list(range(2,10))\n",
    "print(mysterious_function(arr))\n",
    "''' The time complexity of the `mysterious_function(arr)` is indeed O(n^2) in the worst-case scenario. The nested for\n",
    "loops contribute to the quadratic time complexity.'''"
   ]
  },
  {
   "cell_type": "code",
   "execution_count": 8,
   "id": "4b6bcf74-325b-4c54-b810-3b5f262cf5a1",
   "metadata": {},
   "outputs": [],
   "source": [
    "#Solve the following problems on recursion"
   ]
  },
  {
   "cell_type": "code",
   "execution_count": 9,
   "id": "cea3e91d-bc10-44e0-9433-8a98d4ead2b2",
   "metadata": {},
   "outputs": [
    {
     "name": "stdout",
     "output_type": "stream",
     "text": [
      "sum_of_digit(123) -> 6\n"
     ]
    }
   ],
   "source": [
    "'''Problem 6 : Sum of Digits\n",
    "Write a recursive function to calculate the sum of digits of a given positive integer.\n",
    "sum_of_digits(123) -> 6'''\n",
    "def sum_of_digit(n):\n",
    "    if n<=9:\n",
    "        return n\n",
    "    else:\n",
    "        return (n%10)+sum_of_digit(n//10)\n",
    "print(f\"sum_of_digit(123) -> {sum_of_digit(123)}\")"
   ]
  },
  {
   "cell_type": "code",
   "execution_count": 14,
   "id": "61064e49-efcb-49fb-9913-ebbff2889e7c",
   "metadata": {},
   "outputs": [
    {
     "name": "stdout",
     "output_type": "stream",
     "text": [
      "fibonacci_series(6) -> [0, 1, 1, 2, 3, 5]\n"
     ]
    }
   ],
   "source": [
    "'''Problem 7: Fibonacci Series\n",
    "Write a recursive function to generate the first n numbers of the Fibonacci series.\n",
    "fibonacci_series(6) -> [0, 1, 1, 2, 3, 5]'''\n",
    "#program a function to check for fibonacci number\n",
    "def fib(n):\n",
    "    if n<=1:\n",
    "        return n\n",
    "    else:\n",
    "        return fib(n-1)+fib(n-2)\n",
    "#Programme to append create series\n",
    "def fibonacci_series(n):\n",
    "    series=[]\n",
    "    for i in range(n):\n",
    "        series.append(fib(i))\n",
    "    return series\n",
    "print(f\"fibonacci_series(6) -> {fibonacci_series(6)}\")"
   ]
  },
  {
   "cell_type": "code",
   "execution_count": 4,
   "id": "80717af6-d594-4dd2-ba80-e685a6d80edd",
   "metadata": {},
   "outputs": [
    {
     "name": "stdout",
     "output_type": "stream",
     "text": [
      "subset_sum([3, 34, 4, 12, 5, 2],9) -> True\n"
     ]
    }
   ],
   "source": [
    "\"\"\"Problem 8 : Subset Sum\n",
    "Given a set of positive integers and a target sum, write a recursive function to determine if there exists a subset\n",
    "of the integers that adds up to the target sum.\n",
    "subset_sum([3, 34, 4, 12, 5, 2], 9) -> True\"\"\"\n",
    "def subset_sum(numbers, target_sum):\n",
    "    if target_sum == 0:\n",
    "        return True\n",
    "    if not numbers or target_sum < 0:\n",
    "        return False\n",
    "    return subset_sum(numbers[1:], target_sum - numbers[0]) or subset_sum(numbers[1:], target_sum)\n",
    "\n",
    "print(f\"subset_sum([3, 34, 4, 12, 5, 2],9) -> {subset_sum([3, 34, 4, 12, 5, 2],9)}\")"
   ]
  },
  {
   "cell_type": "code",
   "execution_count": 7,
   "id": "93daec71-a4b1-43b9-afe3-5230314eea57",
   "metadata": {},
   "outputs": [
    {
     "name": "stdout",
     "output_type": "stream",
     "text": [
      "True\n"
     ]
    }
   ],
   "source": [
    "'''Problem 9: Word Break\n",
    "Given a non-empty string and a dictionary of words, write a recursive function to determine if the string can be\n",
    "segmented into a space-separated sequence of dictionary words.\n",
    "word_break(\"leetcode\", [\"leet\", \"code\"]) -> True'''\n",
    "def Word_Break(s,word_dict):\n",
    "    if s in word_dict:\n",
    "        return True\n",
    "    \n",
    "    for i in range(1,len(s)):\n",
    "        suffix=s[i:]\n",
    "        prefix=s[:i]\n",
    "        if prefix in word_dict and Word_Break(suffix,word_dict):\n",
    "            return True\n",
    "    return False\n",
    "string = \"leetcode\"\n",
    "dictionary = [\"leet\", \"code\"]\n",
    "result = Word_Break(string, dictionary)\n",
    "print(result)\n"
   ]
  },
  {
   "cell_type": "code",
   "execution_count": 9,
   "id": "16cb36bb-5cfa-4c1f-ba36-d9784c26e05d",
   "metadata": {},
   "outputs": [
    {
     "name": "stdout",
     "output_type": "stream",
     "text": [
      ". Q . . \n",
      ". . . Q \n",
      "Q . . . \n",
      ". . Q . \n",
      "\n",
      ". . Q . \n",
      "Q . . . \n",
      ". . . Q \n",
      ". Q . . \n",
      "\n"
     ]
    }
   ],
   "source": [
    "'''Problem 10 : N-Queens\n",
    "Implement a recursive function to solve the N-Queens problem, where you have to place N queens on an N×N\n",
    "chessboard in such a way that no two queens threaten each other.\n",
    "n_queens(4)\n",
    "[\n",
    "[\".Q..\",\n",
    "\n",
    "\"...Q\",\n",
    "\n",
    "\"Q...\",\n",
    "\n",
    "\"..Q.\"],\n",
    "    \n",
    "[\"..Q.\",\n",
    "\n",
    "\"Q...\",\n",
    "\n",
    "\"...Q\",\n",
    "\n",
    "\".Q..\"]\n",
    "]\n",
    "'''\n",
    "def solve_n_queens(n):\n",
    "    def is_valid(board, row, col):\n",
    "        # Check if placing a queen at (row, col) is valid\n",
    "        for i in range(row):\n",
    "            if board[i] == col or board[i] - col == i - row or board[i] - col == row - i:\n",
    "                return False\n",
    "        return True\n",
    "\n",
    "    def backtrack(board, row):\n",
    "        if row == n:\n",
    "            #All rows have been filled, add the board configuration to the solutions\n",
    "            solutions.append(board[:])\n",
    "            return\n",
    "\n",
    "        for col in range(n):\n",
    "            if is_valid(board, row, col):\n",
    "                board[row] = col\n",
    "                backtrack(board, row + 1)\n",
    "                board[row] = -1\n",
    "\n",
    "    #Initialize the board\n",
    "    board = [-1] * n\n",
    "    solutions = []\n",
    "\n",
    "    # Start the backtracking from the first row\n",
    "    backtrack(board, 0)\n",
    "\n",
    "    return solutions\n",
    "\n",
    "n = 4\n",
    "solutions = solve_n_queens(n)\n",
    "for solution in solutions:\n",
    "    for row in solution:\n",
    "        line = \"\"\n",
    "        for col in range(n):\n",
    "            if col == row:\n",
    "                line += \"Q \"\n",
    "            else:\n",
    "                line += \". \"\n",
    "        print(line)\n",
    "    print()"
   ]
  },
  {
   "cell_type": "code",
   "execution_count": null,
   "id": "b43ec5cf-69fb-4c67-9bd1-a20de311c339",
   "metadata": {},
   "outputs": [],
   "source": []
  }
 ],
 "metadata": {
  "kernelspec": {
   "display_name": "Python 3 (ipykernel)",
   "language": "python",
   "name": "python3"
  },
  "language_info": {
   "codemirror_mode": {
    "name": "ipython",
    "version": 3
   },
   "file_extension": ".py",
   "mimetype": "text/x-python",
   "name": "python",
   "nbconvert_exporter": "python",
   "pygments_lexer": "ipython3",
   "version": "3.10.8"
  }
 },
 "nbformat": 4,
 "nbformat_minor": 5
}
