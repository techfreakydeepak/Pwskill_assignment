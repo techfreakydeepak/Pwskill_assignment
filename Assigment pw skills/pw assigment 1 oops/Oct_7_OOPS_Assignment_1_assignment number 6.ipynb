{
 "cells": [
  {
   "cell_type": "code",
   "execution_count": 4,
   "id": "fd4e23a2-6812-4e1c-8777-6c5e8e9733bb",
   "metadata": {},
   "outputs": [
    {
     "name": "stdout",
     "output_type": "stream",
     "text": [
      "4600\n"
     ]
    }
   ],
   "source": [
    "'''\n",
    "Assignment 6\n",
    "\n",
    "Problem 1:Bank Account Create a class representing a bank account with attributes like account number,\n",
    "account holder name, and balance. Implement methods to deposit and withdraw money from the account.\n",
    "'''\n",
    "class BankAccount:\n",
    "    def create_account(self, account_number, account_holder_name, initial_balance):\n",
    "        self.account_number = account_number\n",
    "        self.account_holder_name = account_holder_name\n",
    "        self.balance = initial_balance\n",
    "        \n",
    "    def deposite(self,amount):\n",
    "        self.balance += amount\n",
    "        \n",
    "    def withdraw(self, amount):\n",
    "        if amount <= self.balance:\n",
    "            self.balance -= amount\n",
    "        else:\n",
    "            print(\"Insufficient balance!\")\n",
    "\n",
    "account = BankAccount()\n",
    "account.create_account(\"1234567\",\"Govind\",1000)\n",
    "account.deposite(9000)\n",
    "account.withdraw(5400)\n",
    "print(account.balance)"
   ]
  },
  {
   "cell_type": "code",
   "execution_count": 10,
   "id": "9f4f3c0f-f9ba-4136-9a81-84ff339efc50",
   "metadata": {},
   "outputs": [
    {
     "name": "stdout",
     "output_type": "stream",
     "text": [
      "Employee_ID:  1234\n",
      "Name:  Govind\n",
      "Salary:  12000\n",
      "Yearly bonus:  1200.0\n"
     ]
    }
   ],
   "source": [
    "'''Problem 2:Employee Management Create a class representing an employee with attributes like employee ID, name,\n",
    "and salary. Implement methods to calculate the yearly bonus and display employee details.'''\n",
    "class Employee:\n",
    "    def create_employee(self, employee_Id, Name, Salary):\n",
    "        self.employee_Id = employee_Id\n",
    "        self.Name = Name\n",
    "        self.Salary = Salary\n",
    "    \n",
    "    def calculate_bonus(self):\n",
    "        bonus_percentage = 0.1\n",
    "        yearly_bonus = self.Salary*bonus_percentage\n",
    "        return yearly_bonus\n",
    "    \n",
    "    def show_employee_details(self):\n",
    "        print(\"Employee_ID: \", self.employee_Id)\n",
    "        print(\"Name: \", self.Name)\n",
    "        print(\"Salary: \", self.Salary)\n",
    "employee = Employee()\n",
    "employee.create_employee(\"1234\", \"Govind\", 12000)\n",
    "employee.show_employee_details()\n",
    "bonus = employee.calculate_bonus()\n",
    "print(\"Yearly bonus: \", bonus)"
   ]
  },
  {
   "cell_type": "code",
   "execution_count": 11,
   "id": "729ccfa7-cb9f-45c2-a97e-cfe51181cca0",
   "metadata": {},
   "outputs": [
    {
     "name": "stdout",
     "output_type": "stream",
     "text": [
      "Here are the vehicles available for rent: \n",
      "Car\n",
      "Bike\n",
      "Scooter\n",
      "You successfully rented the Car! Enjoy your ride!\n",
      "You successfully rented the Bike! Enjoy your ride!\n",
      "Sorry! The Motorcycle is not available for rent.\n",
      "Here are the vehicles available for rent: \n",
      "Scooter\n",
      "Thanks for returning the Car, It's available for rent again.\n",
      "Here are the vehicles available for rent: \n",
      "Scooter\n",
      "Car\n"
     ]
    }
   ],
   "source": [
    "'''Problem 3:Vehicle Rental Create a class representing a vehicle rental system. Implement methods to rent a vehicle,\n",
    "return a vehicle, and display available vehicles.'''\n",
    "class VehicleRentalSystem:\n",
    "    def __init__(self):\n",
    "        self.available_vehicles = []\n",
    "\n",
    "    def rent_vehicle(self, vehicle):\n",
    "        if vehicle in self.available_vehicles:\n",
    "            self.available_vehicles.remove(vehicle)\n",
    "            print(\"You successfully rented the\", vehicle + \"! Enjoy your ride!\")\n",
    "        else:\n",
    "            print(\"Sorry! The\", vehicle, \"is not available for rent.\")\n",
    "\n",
    "    def return_vehicle(self, vehicle):\n",
    "        self.available_vehicles.append(vehicle)\n",
    "        print(\"Thanks for returning the\", vehicle + \", It's available for rent again.\")\n",
    "\n",
    "    def display_available_vehicles(self):\n",
    "        if self.available_vehicles:\n",
    "            print(\"Here are the vehicles available for rent: \")\n",
    "            for vehicle in self.available_vehicles:\n",
    "                print(vehicle)\n",
    "        else:\n",
    "            print(\"Sorry, bro! There are no vehicles available for rent at the moment.\")\n",
    "\n",
    "rental_system = VehicleRentalSystem()\n",
    "rental_system.available_vehicles = [\"Car\", \"Bike\", \"Scooter\"]\n",
    "\n",
    "rental_system.display_available_vehicles()\n",
    "\n",
    "rental_system.rent_vehicle(\"Car\")\n",
    "rental_system.rent_vehicle(\"Bike\")\n",
    "rental_system.rent_vehicle(\"Motorcycle\")\n",
    "\n",
    "rental_system.display_available_vehicles()\n",
    "\n",
    "rental_system.return_vehicle(\"Car\")\n",
    "\n",
    "rental_system.display_available_vehicles()"
   ]
  },
  {
   "cell_type": "code",
   "execution_count": 14,
   "id": "22ff787e-8d14-44cb-8284-2a5c6e8f7316",
   "metadata": {},
   "outputs": [
    {
     "name": "stdout",
     "output_type": "stream",
     "text": [
      "Here are the books available to borrow:\n",
      "Science\n",
      "Mathematics\n",
      "Fiction\n",
      "Comics\n",
      "you have successfully borrowed the Science! Enjoy reading.\n",
      "you have successfully borrowed the Mathematics! Enjoy reading.\n",
      "Sorry! the Social  is not available for borrowing.\n",
      "Here are the books available to borrow:\n",
      "Fiction\n",
      "Comics\n"
     ]
    }
   ],
   "source": [
    "'''\n",
    "Problem 4:Library Catalog Create classes representing a library and a book. Implement methods to add books to the\n",
    "library, borrow books, and display available books.\n",
    "'''\n",
    "class Library:\n",
    "    def __init__(self):\n",
    "        self.available_books = []\n",
    "    \n",
    "    def borrow_book(self, book):\n",
    "        if book in self.available_books:\n",
    "            self.available_books.remove(book)\n",
    "            print(\"you have successfully borrowed the\", book+ \"! Enjoy reading.\")\n",
    "        else:\n",
    "            print(\"Sorry! the\", book, \" is not available for borrowing.\")\n",
    "        \n",
    "    def display_available_books(self):\n",
    "        if self.available_books:\n",
    "            print(\"Here are the books available to borrow:\")\n",
    "            for book in self.available_books:\n",
    "                print(book)\n",
    "        else:\n",
    "            print(\"Sorry! There are no books available to borrow at the moment.\")\n",
    "library = Library()\n",
    "library.available_books = [\"Science\",\"Mathematics\",\"Fiction\",\"Comics\"]\n",
    "\n",
    "library.display_available_books()\n",
    "\n",
    "library.borrow_book(\"Science\")\n",
    "library.borrow_book(\"Mathematics\")\n",
    "library.borrow_book(\"Social\")\n",
    "\n",
    "library.display_available_books()"
   ]
  },
  {
   "cell_type": "code",
   "execution_count": 16,
   "id": "f18dc3f1-3f86-4bec-be49-b4671fdf7aef",
   "metadata": {},
   "outputs": [
    {
     "name": "stdout",
     "output_type": "stream",
     "text": [
      "Available products:\n",
      "Name: Apple, Price: 0.5, Quantity: 10\n",
      "Name: Banana, Price: 0.3, Quantity: 15\n",
      "Name: Orange, Price: 0.4, Quantity: 20\n",
      "Available products:\n",
      "Name: Apple, Price: 0.5, Quantity: 10\n",
      "Name: Banana, Price: 0.3, Quantity: 20\n",
      "Name: Orange, Price: 0.4, Quantity: 20\n"
     ]
    }
   ],
   "source": [
    "'''\n",
    "Problem 5:Product Inventory Create classes representing a product and an inventory system. Implement methods to add\n",
    "products to the inventory, update product quantity, and display available products.\n",
    "'''\n",
    "class Product:\n",
    "    def __init__(self, name, price, quantity):\n",
    "        self.name = name\n",
    "        self.price = price\n",
    "        self.quantity = quantity\n",
    "\n",
    "class Inventory:\n",
    "    def __init__(self):\n",
    "        self.products = []\n",
    "    \n",
    "    def add_product(self, product):\n",
    "        self.products.append(product)\n",
    "    \n",
    "    def update_quantity(self, product_name, new_quantity):\n",
    "        for product in self.products:\n",
    "            if product.name == product_name:\n",
    "                product.quantity = new_quantity\n",
    "                break\n",
    "    \n",
    "    def display_available_products(self):\n",
    "        if self.products:\n",
    "            print(\"Available products:\")\n",
    "            for product in self.products:\n",
    "                print(f\"Name: {product.name}, Price: {product.price}, Quantity: {product.quantity}\")\n",
    "        else:\n",
    "            print(\"No products available in the inventory.\")\n",
    "\n",
    "inventory = Inventory()\n",
    "\n",
    "product1 = Product(\"Apple\", 0.5, 10)\n",
    "product2 = Product(\"Banana\", 0.3, 15)\n",
    "product3 = Product(\"Orange\", 0.4, 20)\n",
    "\n",
    "inventory.add_product(product1)\n",
    "inventory.add_product(product2)\n",
    "inventory.add_product(product3)\n",
    "\n",
    "inventory.display_available_products()\n",
    "\n",
    "inventory.update_quantity(\"Banana\", 20)\n",
    "\n",
    "inventory.display_available_products()"
   ]
  },
  {
   "cell_type": "code",
   "execution_count": 3,
   "id": "57595d04-3e0c-4b50-948b-72b86b7bcbb0",
   "metadata": {},
   "outputs": [
    {
     "name": "stdout",
     "output_type": "stream",
     "text": [
      "Area: 20\n",
      "Perimeter: 18\n"
     ]
    }
   ],
   "source": [
    "'''\n",
    "Problem 6:Shape Calculation Create a class representing a shape with attributes like length, width, and height.\n",
    "Implement methods to calculate the area and perimeter of the shape.\n",
    "'''\n",
    "class shape:\n",
    "    def __init__(self, length, width, height):\n",
    "        self.length = length\n",
    "        self.width = width\n",
    "        self.height = height\n",
    "    \n",
    "    def calculate_area(self):\n",
    "        area = self.length*self.width #Assuming it's a 2D shape\n",
    "        return area\n",
    "    \n",
    "    def calculate_perimeter(self):\n",
    "        perimeter = 2*(self.length+self.width) #Assuming it's a 2D shape\n",
    "        return perimeter\n",
    "    \n",
    "rectangle = shape(4,5,0)\n",
    "area = rectangle.calculate_area()\n",
    "perimeter = rectangle.calculate_perimeter()\n",
    "\n",
    "print(\"Area:\", area)\n",
    "print(\"Perimeter:\", perimeter)"
   ]
  },
  {
   "cell_type": "code",
   "execution_count": 6,
   "id": "6613568c-1211-4585-ba5a-62838d63acee",
   "metadata": {},
   "outputs": [
    {
     "name": "stdout",
     "output_type": "stream",
     "text": [
      "Student ID: 12345\n",
      "Name of student: Govind\n",
      "Grades: [72, 78, 96, 84, 89, 94]\n",
      "Average grade: 85.5\n"
     ]
    }
   ],
   "source": [
    "'''Problem 7:Student Management Create a class representing a student with attributes like student ID, name, and grades.\n",
    "Implement methods to calculate the average grade and display student details.'''\n",
    "class Student:\n",
    "    def __init__(self, student_Id, name, grades):\n",
    "        self.student_Id = student_Id\n",
    "        self.name = name\n",
    "        self.grades = grades\n",
    "    def average_grade(self):\n",
    "        avg_grades = sum(self.grades)/len(self.grades)\n",
    "        return avg_grades\n",
    "    def display_details(self):\n",
    "        print(\"Student ID:\", self.student_Id)\n",
    "        print(\"Name of student:\", self.name)\n",
    "        print(\"Grades:\", self.grades)\n",
    "        \n",
    "student = Student(12345, \"Govind\", [72,78,96,84,89,94])\n",
    "average_grade = student.average_grade()\n",
    "student.display_details()\n",
    "\n",
    "print(\"Average grade:\", average_grade)"
   ]
  },
  {
   "cell_type": "code",
   "execution_count": 1,
   "id": "2abb25a7-dfe6-471f-ad91-ca897701787a",
   "metadata": {},
   "outputs": [
    {
     "name": "stdout",
     "output_type": "stream",
     "text": [
      "Email sent successfully!\n",
      "Sender: sender@example.com\n",
      "Recipient: recipient@example.com\n",
      "Subject: Hello!\n"
     ]
    }
   ],
   "source": [
    "'''Problem 8: Email Management Create a class representing an email with attributes like sender, recipient, and subject.\n",
    "Implement methods to send an email and display email details.'''\n",
    "class Email:\n",
    "    def __init__(self, sender, recipient, subject):\n",
    "        self.sender = sender\n",
    "        self.recipient = recipient\n",
    "        self.subject = subject\n",
    "    \n",
    "    def send_email(self):\n",
    "        # Code to send the email\n",
    "        print(\"Email sent successfully!\")\n",
    "    \n",
    "    def display_details(self):\n",
    "        print(\"Sender:\", self.sender)\n",
    "        print(\"Recipient:\", self.recipient)\n",
    "        print(\"Subject:\", self.subject)\n",
    "\n",
    "# Example usage:\n",
    "email1 = Email(\"sender@example.com\", \"recipient@example.com\", \"Hello!\")\n",
    "email1.send_email()\n",
    "email1.display_details()\n",
    "    "
   ]
  },
  {
   "cell_type": "code",
   "execution_count": 2,
   "id": "da690927-6bfc-4e4d-9bb7-fa2c0a9e5615",
   "metadata": {},
   "outputs": [
    {
     "name": "stdout",
     "output_type": "stream",
     "text": [
      "Just had a great day at the beach!\n",
      "Trying out a new recipe for dinner.\n",
      "Excited for the weekend getaway!\n",
      "Posts matching the keyword:\n",
      "Just had a great day at the beach!\n"
     ]
    }
   ],
   "source": [
    "'''\n",
    "Problem 9:Social Media Profile Create a class representing a social media profile with attributes like username and\n",
    "posts. Implement methods to add posts, display posts, and search for posts by keyword.\n",
    "'''\n",
    "class SocialMediaProfile:\n",
    "    def __init__(self, username):\n",
    "        self.username = username\n",
    "        self.posts = []\n",
    "    \n",
    "    def add_post(self, post):\n",
    "        self.posts.append(post)\n",
    "    \n",
    "    def display_posts(self):\n",
    "        if len(self.posts) == 0:\n",
    "            print(\"No posts to display.\")\n",
    "        else:\n",
    "            for post in self.posts:\n",
    "                print(post)\n",
    "    \n",
    "    def search_posts(self, keyword):\n",
    "        matching_posts = []\n",
    "        for post in self.posts:\n",
    "            if keyword.lower() in post.lower():\n",
    "                matching_posts.append(post)\n",
    "        \n",
    "        if len(matching_posts) == 0:\n",
    "            print(\"No posts found matching the keyword.\")\n",
    "        else:\n",
    "            print(\"Posts matching the keyword:\")\n",
    "            for post in matching_posts:\n",
    "                print(post)\n",
    "\n",
    "# Example usage:\n",
    "profile = SocialMediaProfile(\"my_username\")\n",
    "profile.add_post(\"Just had a great day at the beach!\")\n",
    "profile.add_post(\"Trying out a new recipe for dinner.\")\n",
    "profile.add_post(\"Excited for the weekend getaway!\")\n",
    "profile.display_posts()\n",
    "profile.search_posts(\"beach\")\n"
   ]
  },
  {
   "cell_type": "code",
   "execution_count": 3,
   "id": "8fcdeb38-66ca-47ce-b0e0-2eb262c677ce",
   "metadata": {},
   "outputs": [
    {
     "name": "stdout",
     "output_type": "stream",
     "text": [
      "Pending tasks:\n",
      "1. Finish homework (Due date: 2023-12-28)\n",
      "2. Call friend (Due date: 2023-12-30)\n"
     ]
    }
   ],
   "source": [
    "'''\n",
    "Problem 10:ToDo List Create a class representing a ToDo list with attributes like tasks and due dates. Implement methods\n",
    "to add tasks, mark tasks as completed, and display pending tasks.\n",
    "'''\n",
    "class ToDoList:\n",
    "    def __init__(self):\n",
    "        self.tasks = []\n",
    "    \n",
    "    def add_task(self, task, due_date):\n",
    "        self.tasks.append({\"task\": task, \"due_date\": due_date, \"completed\": False})\n",
    "    \n",
    "    def mark_task_as_completed(self, task_index):\n",
    "        if task_index >= 0 and task_index < len(self.tasks):\n",
    "            self.tasks[task_index][\"completed\"] = True\n",
    "    \n",
    "    def display_pending_tasks(self):\n",
    "        pending_tasks = [task for task in self.tasks if not task[\"completed\"]]\n",
    "        \n",
    "        if len(pending_tasks) == 0:\n",
    "            print(\"No pending tasks.\")\n",
    "        else:\n",
    "            print(\"Pending tasks:\")\n",
    "            for index, task in enumerate(pending_tasks):\n",
    "                print(f\"{index+1}. {task['task']} (Due date: {task['due_date']})\")\n",
    "\n",
    "# Example usage:\n",
    "todo_list = ToDoList()\n",
    "todo_list.add_task(\"Finish homework\", \"2023-12-28\")\n",
    "todo_list.add_task(\"Buy groceries\", \"2023-12-27\")\n",
    "todo_list.add_task(\"Call friend\", \"2023-12-30\")\n",
    "todo_list.mark_task_as_completed(1)\n",
    "todo_list.display_pending_tasks()\n"
   ]
  },
  {
   "cell_type": "code",
   "execution_count": null,
   "id": "7ffdc15e-b4f4-4c07-9e72-9ed27b03de24",
   "metadata": {},
   "outputs": [],
   "source": []
  }
 ],
 "metadata": {
  "kernelspec": {
   "display_name": "Python 3 (ipykernel)",
   "language": "python",
   "name": "python3"
  },
  "language_info": {
   "codemirror_mode": {
    "name": "ipython",
    "version": 3
   },
   "file_extension": ".py",
   "mimetype": "text/x-python",
   "name": "python",
   "nbconvert_exporter": "python",
   "pygments_lexer": "ipython3",
   "version": "3.10.8"
  }
 },
 "nbformat": 4,
 "nbformat_minor": 5
}
