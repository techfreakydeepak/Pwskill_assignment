{
 "cells": [
  {
   "cell_type": "markdown",
   "id": "3fc7b6c2-8fef-494f-ae00-fe80c3afd44a",
   "metadata": {},
   "source": [
    "Que.1.Find the value of T(2) for the recurrence relation T(n) = 3T(n-1) + 12n, given that T(0)=5.\n",
    "Solution:\n",
    "Given:- T(0) = 5\n",
    "T(n) = 3T(n-1)+12n\n",
    "take n = 1\n",
    "T(1) = 3T(1-1) + 12*1 = 3T(0)+12\n",
    "T(1) = 3*5+12 = 15+12\n",
    "T(1) = 27 #(Equation_1)\n",
    "\n",
    "Now for T(2), Taking n = 2 both side\n",
    "T(2) = 3T(2-1)+12*2\n",
    "T(2) = 3T(1)+24 \n",
    "from equation_1 putting value T(1) = 27\n",
    "T(2) = 3*27+24 = 81+24\n",
    "\n",
    "T(2) = 105 Ans.\n",
    "Hence the value for T(2) will be 105."
   ]
  },
  {
   "cell_type": "markdown",
   "id": "b9adc680-b1b9-4d12-bc93-9b0e39f8d6d6",
   "metadata": {},
   "source": [
    "2. Given a recurrence relation, solve it using the substitition method:\n",
    "a. T(n) = T(n-1) + c\n",
    "b. T(n) = 2T(n/2) + n\n",
    "c. T(n) = 2T(n/2) + c\n",
    "d. T(n) = T(n/2) + c"
   ]
  },
  {
   "cell_type": "markdown",
   "id": "4212296e-13f0-4a04-a195-99d344d01798",
   "metadata": {},
   "source": [
    "Solution 2(a). T(n) = T(n-1) + .\n",
    "T(n) = T(n-1)+c\n",
    "T(1) = T(1-1)+c\n",
    "T(1) = T(0)+c #Equation_1\n",
    "\n",
    "T(2) = T(2-1)+c\n",
    "T(2) = T(1)+c\n",
    "From equation_1 putting the value of T(1)\n",
    "T(2) = T(0)+2c #Equation_2\n",
    "\n",
    "T(3) = T(3-1)+c\n",
    "T(3) = T(2)+c\n",
    "From equation_2 putting the value of T(2)\n",
    "T(3) = T(0)+2c+c\n",
    "T(3) = T(0)+3c\n",
    "We can observe a pattern here. Each time we increase n by 1, the time complexity increases by c. So,\n",
    "we can generalize the equation as:\n",
    "T(n) = T(0) + nc\n",
    "\n",
    "Here, T(0) represents the base case or initial time complexity, and nc represents the increase in time complexity for\n",
    "each additional step.\n",
    "In terms of complexity, we can say that the time complexity of this function is linear, represented as O(n). This means\n",
    "that the time taken by the function increases linearly with the input size.\n",
    "So, T(n) = T(0) + nc, and the time complexity is O(n)."
   ]
  },
  {
   "cell_type": "markdown",
   "id": "5058d046-b322-495c-9989-ae537642cbb7",
   "metadata": {
    "tags": []
   },
   "source": [
    "## Question 2(b)\n",
    "### Answer\n",
    "\n",
    "The equation $T(n) = 2T(n/2) + n$ is given as equation (1).\n",
    "\n",
    "Substituting $n$ with $n/2$, we get $T(n/2) = 2T(n/4) + n/2$, which is equation (2).\n",
    "\n",
    "Substituting $n$ with $n/4$, we get $T(n/4) = 2T(n/8) + n/4$, which is equation (3).\n",
    "\n",
    "Using equation (2) in equation (1), we get $T(n) = 2[2T(n/4) + n] + n$.\n",
    "\n",
    "The equation $2 \\cdot 2T(n/4) + 2n = 2^2 T(n/2^2) + 2n$ is given as equation (4).\n",
    "\n",
    "Using equation (3) in equation (4), we get:\n",
    "\n",
    "$T(n) = 2^2 [2T(n/8) + n/4] + 2n = 2^3 T(n/2^3) + 3n$, which is equation (5).\n",
    "\n",
    "From equations (4) and (5), we can figure out a pattern:\n",
    "\n",
    "$2^2 T(n/2^2) + 2n$\n",
    "\n",
    "$2^3 T(n/2^3) + 3n$\n",
    "\n",
    "The equation $2^4 T(n/2^4) + 4n$ is given.\n",
    "\n",
    "For $k$ times, we get $2^k T(n/2^k) + kn$, which is equation (6).\n",
    "\n",
    "Here the base case is $T(n)=1$ if $n=1$, so for $k: T(1) = 1$.\n",
    "\n",
    "So $n/2^k = 1$, which is equation (7).\n",
    "\n",
    "This implies $n = 2^k$, which is equation (8).\n",
    "\n",
    "Taking log base 2 on both sides, we get $\\log_2 n = k \\log_2 2$.\n",
    "\n",
    "So, $\\log_2 n = k$.\n",
    "\n",
    "Now working with equation (6), we get $2^k T(1) + kn$.\n",
    "\n",
    "The equation simplifies as follows:\n",
    "\n",
    "$$\n",
    "= 2^k \\cdot T(1) + kn\n",
    "$$\n",
    "\n",
    "This further simplifies to:\n",
    "\n",
    "$$\n",
    "= 2^k \\cdot 1 + n \\cdot log_2n\n",
    "$$\n",
    "\n",
    "Therefore, the time complexity is:\n",
    "\n",
    "$$\n",
    "= n + n \\cdot log_2n\n",
    "$$\n",
    "\n",
    "This makes the complexity:\n",
    "$$\n",
    "O(nlog_2n) (Ans)\n",
    "$$"
   ]
  },
  {
   "cell_type": "markdown",
   "id": "b2f4d206-3d34-45d3-a106-b4bccb049156",
   "metadata": {},
   "source": [
    "2(c). T(n) = 2T(n/2) + c\n",
    "Let's make it in two parts:-\n",
    "for 2T(n/2) the complexity is O(logn) as discussed previously,\n",
    "and for c it O(n).\n",
    "So, the final complexity will be:-\n",
    "T(n) = 2T(n/2)+c will be:\n",
    "     = O(logn)+O(n) hence the final complexity will be as O(n)."
   ]
  },
  {
   "cell_type": "markdown",
   "id": "5770cf67-ad4f-4c73-86c8-ad21459449a9",
   "metadata": {},
   "source": [
    "### 2(d):\n",
    "## Answer:\n",
    "The equation is $T(n) = T(n/2) + c$.\n",
    "\n",
    "Substituting $n$ with $n/2$.\n",
    "\n",
    "The equation is $T(n/2) = T(n/4) + c$, which is equation (2).\n",
    "\n",
    "Substituting $n$ with $n/4$, we get $T(n/4) = T(n/8) + c$, which is equation (3).\n",
    "\n",
    "Using equation (2) in equation (1), we get $T(n) = T(n/4) + c = T(n/2^2) + c$.\n",
    "\n",
    "Using equation (3) in equation (2), we get $T(n) = T(n/8) + c = T(n/2^3) + c$\n",
    "\n",
    "doing it K times, $T(n/2^k)+c$\n",
    "\n",
    "the base case is $n/2^k = 1$ which simplifies to $n = 2^k$ and then to $log_2n = k$ after taking log on both sides\n",
    "\n",
    "Now $T(1)+c$ i.e. $O(n)$\n"
   ]
  },
  {
   "cell_type": "markdown",
   "id": "0fa75e47-0642-419e-89be-f562feccc2ab",
   "metadata": {},
   "source": [
    "3. Given a recurrence relation, solve it using the recursive tree approach:\n",
    "a. T(n) = 2T(n-1) +1\n",
    "b. T(n) = 2T(n/2) + n"
   ]
  },
  {
   "cell_type": "markdown",
   "id": "a8c114fe-e098-4e10-ae80-f03e4da15631",
   "metadata": {},
   "source": [
    "## Question 3(a): \n",
    "$T(n)=2T(n-1)+1$, using the recursive tree approach to solve it, the base case $T(n)=1$\n",
    "### Answer:\n",
    "\n",
    "tree starts from $T(n)$ at the top and branches into two nodes $T(n-1)$ each, and this pattern continues down the tree. Each level of the tree is associated with a number and an approximation of power of two on the right side. For instance, the first level has `1 ≈ 2^0`, second level has `2 ≈ 2^1`, and so on. The nodes are connected with lines indicating the recursive nature of the function or algorithm.\n",
    "\n",
    "Adding for all the steps, we get:\n",
    "\n",
    "$1 + 2 + 2^2 + 2^3 + ... + 2^k = 2^{k+1} - 1$\n",
    "\n",
    "To reach the base case, we have:\n",
    "\n",
    "$n - k = 0$\n",
    "\n",
    "So, $n = k$\n",
    "\n",
    "Using the above in equation (2).\n",
    "\n",
    "= $2^{(n+1)} -1$\n",
    "\n",
    "ie. $O(2^n)$ (ans)\n"
   ]
  },
  {
   "cell_type": "markdown",
   "id": "99017fc3-ae59-4f45-9a5d-2557cbff3c7f",
   "metadata": {},
   "source": [
    "## Question 3(b):\n",
    "\n",
    "$T(n) = 2T(n/2)+n$ where the base case is $T(1)=1$\n",
    "### Answer:\n",
    "\n",
    "\n",
    "\n",
    "For the base case $n/2k = 1 \\rightarrow n = 2^k$, we get $\\log_2 n = k$.\n",
    "\n",
    "So combining all the costs, we get:\n",
    "\n",
    "$K \\cdot c \\cdot n = \\log_2n \\cdot c \\cdot n \\approx n \\log_2n$\n",
    "\n",
    "Therefore, the time complexity is $O(n \\log n)$ (Ans).\n"
   ]
  },
  {
   "cell_type": "code",
   "execution_count": null,
   "id": "a69def27-4fb1-4a78-a88f-7058823c9b3d",
   "metadata": {},
   "outputs": [],
   "source": []
  }
 ],
 "metadata": {
  "kernelspec": {
   "display_name": "Python 3 (ipykernel)",
   "language": "python",
   "name": "python3"
  },
  "language_info": {
   "codemirror_mode": {
    "name": "ipython",
    "version": 3
   },
   "file_extension": ".py",
   "mimetype": "text/x-python",
   "name": "python",
   "nbconvert_exporter": "python",
   "pygments_lexer": "ipython3",
   "version": "3.10.8"
  }
 },
 "nbformat": 4,
 "nbformat_minor": 5
}
